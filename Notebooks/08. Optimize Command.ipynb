{
 "cells": [
  {
   "cell_type": "markdown",
   "metadata": {
    "application/vnd.databricks.v1+cell": {
     "cellMetadata": {},
     "inputWidgets": {},
     "nuid": "fd01cf50-d27f-4a09-bbe7-779b160987d8",
     "showTitle": false,
     "tableResultSettingsMap": {},
     "title": ""
    }
   },
   "source": [
    "# Introduction"
   ]
  },
  {
   "cell_type": "markdown",
   "metadata": {
    "application/vnd.databricks.v1+cell": {
     "cellMetadata": {
      "byteLimit": 2048000,
      "rowLimit": 10000
     },
     "inputWidgets": {},
     "nuid": "ab8cce8d-f39f-4115-9258-be306cfaca66",
     "showTitle": false,
     "tableResultSettingsMap": {},
     "title": ""
    }
   },
   "source": [
    "> The OPTIMIZE command in Data lakehouse platform is used to compact small files in Delta Lake / Table into fewer, large files"
   ]
  },
  {
   "cell_type": "markdown",
   "metadata": {
    "application/vnd.databricks.v1+cell": {
     "cellMetadata": {},
     "inputWidgets": {},
     "nuid": "e0829afd-c9df-4be4-ba81-aea8e500ec40",
     "showTitle": false,
     "tableResultSettingsMap": {},
     "title": ""
    }
   },
   "source": [
    "# Prerequisites"
   ]
  },
  {
   "cell_type": "markdown",
   "metadata": {
    "application/vnd.databricks.v1+cell": {
     "cellMetadata": {},
     "inputWidgets": {},
     "nuid": "b448cd0c-a359-42c9-833d-a112f430dcaa",
     "showTitle": false,
     "tableResultSettingsMap": {},
     "title": ""
    }
   },
   "source": [
    "## Create Catalog, Schema and Table"
   ]
  },
  {
   "cell_type": "code",
   "execution_count": 0,
   "metadata": {
    "application/vnd.databricks.v1+cell": {
     "cellMetadata": {
      "byteLimit": 2048000,
      "rowLimit": 10000
     },
     "inputWidgets": {},
     "nuid": "758ea320-8d85-4aac-b52e-62d72b29e53c",
     "showTitle": false,
     "tableResultSettingsMap": {},
     "title": ""
    }
   },
   "outputs": [
    {
     "output_type": "stream",
     "name": "stdout",
     "output_type": "stream",
     "text": [
      "Out[3]: True"
     ]
    }
   ],
   "source": [
    "dbutils.fs.rm(\"dbfs:/user/hive/warehouse/quickstart_schema.db/users\",True)"
   ]
  },
  {
   "cell_type": "code",
   "execution_count": 0,
   "metadata": {
    "application/vnd.databricks.v1+cell": {
     "cellMetadata": {
      "byteLimit": 2048000,
      "implicitDf": true,
      "rowLimit": 10000
     },
     "inputWidgets": {},
     "nuid": "52534820-4c19-4f93-b3e2-1866037abca3",
     "showTitle": false,
     "tableResultSettingsMap": {},
     "title": ""
    }
   },
   "outputs": [
    {
     "output_type": "display_data",
     "data": {
      "text/html": [
       "<style scoped>\n",
       "  .table-result-container {\n",
       "    max-height: 300px;\n",
       "    overflow: auto;\n",
       "  }\n",
       "  table, th, td {\n",
       "    border: 1px solid black;\n",
       "    border-collapse: collapse;\n",
       "  }\n",
       "  th, td {\n",
       "    padding: 5px;\n",
       "  }\n",
       "  th {\n",
       "    text-align: left;\n",
       "  }\n",
       "</style><div class='table-result-container'><table class='table-result'><thead style='background-color: white'><tr><th>col_name</th><th>data_type</th><th>comment</th></tr></thead><tbody><tr><td>id</td><td>int</td><td>null</td></tr><tr><td>name</td><td>string</td><td>null</td></tr><tr><td>dob</td><td>date</td><td>null</td></tr><tr><td>email</td><td>string</td><td>null</td></tr><tr><td>gender</td><td>string</td><td>null</td></tr><tr><td>country</td><td>string</td><td>null</td></tr><tr><td>region</td><td>string</td><td>null</td></tr><tr><td>city</td><td>string</td><td>null</td></tr><tr><td>asset</td><td>int</td><td>null</td></tr><tr><td>marital_status</td><td>string</td><td>null</td></tr><tr><td># Partition Information</td><td></td><td></td></tr><tr><td># col_name</td><td>data_type</td><td>comment</td></tr><tr><td>country</td><td>string</td><td>null</td></tr><tr><td>region</td><td>string</td><td>null</td></tr><tr><td>city</td><td>string</td><td>null</td></tr><tr><td></td><td></td><td></td></tr><tr><td># Detailed Table Information</td><td></td><td></td></tr><tr><td>Catalog</td><td>spark_catalog</td><td></td></tr><tr><td>Database</td><td>quickstart_schema</td><td></td></tr><tr><td>Table</td><td>users</td><td></td></tr><tr><td>Created Time</td><td>Tue Dec 10 03:53:35 UTC 2024</td><td></td></tr><tr><td>Last Access</td><td>UNKNOWN</td><td></td></tr><tr><td>Created By</td><td>Spark 3.3.2</td><td></td></tr><tr><td>Type</td><td>MANAGED</td><td></td></tr><tr><td>Location</td><td>dbfs:/user/hive/warehouse/quickstart_schema.db/users</td><td></td></tr><tr><td>Provider</td><td>delta</td><td></td></tr><tr><td>Owner</td><td>root</td><td></td></tr><tr><td>Is_managed_location</td><td>true</td><td></td></tr><tr><td>Table Properties</td><td>[delta.minReaderVersion=1,delta.minWriterVersion=2]</td><td></td></tr></tbody></table></div>"
      ]
     },
     "metadata": {
      "application/vnd.databricks.v1+output": {
       "addedWidgets": {},
       "aggData": [],
       "aggError": "",
       "aggOverflow": false,
       "aggSchema": [],
       "aggSeriesLimitReached": false,
       "aggType": "",
       "arguments": {},
       "columnCustomDisplayInfos": {},
       "data": [
        [
         "id",
         "int",
         null
        ],
        [
         "name",
         "string",
         null
        ],
        [
         "dob",
         "date",
         null
        ],
        [
         "email",
         "string",
         null
        ],
        [
         "gender",
         "string",
         null
        ],
        [
         "country",
         "string",
         null
        ],
        [
         "region",
         "string",
         null
        ],
        [
         "city",
         "string",
         null
        ],
        [
         "asset",
         "int",
         null
        ],
        [
         "marital_status",
         "string",
         null
        ],
        [
         "# Partition Information",
         "",
         ""
        ],
        [
         "# col_name",
         "data_type",
         "comment"
        ],
        [
         "country",
         "string",
         null
        ],
        [
         "region",
         "string",
         null
        ],
        [
         "city",
         "string",
         null
        ],
        [
         "",
         "",
         ""
        ],
        [
         "# Detailed Table Information",
         "",
         ""
        ],
        [
         "Catalog",
         "spark_catalog",
         ""
        ],
        [
         "Database",
         "quickstart_schema",
         ""
        ],
        [
         "Table",
         "users",
         ""
        ],
        [
         "Created Time",
         "Tue Dec 10 03:53:35 UTC 2024",
         ""
        ],
        [
         "Last Access",
         "UNKNOWN",
         ""
        ],
        [
         "Created By",
         "Spark 3.3.2",
         ""
        ],
        [
         "Type",
         "MANAGED",
         ""
        ],
        [
         "Location",
         "dbfs:/user/hive/warehouse/quickstart_schema.db/users",
         ""
        ],
        [
         "Provider",
         "delta",
         ""
        ],
        [
         "Owner",
         "root",
         ""
        ],
        [
         "Is_managed_location",
         "true",
         ""
        ],
        [
         "Table Properties",
         "[delta.minReaderVersion=1,delta.minWriterVersion=2]",
         ""
        ]
       ],
       "datasetInfos": [],
       "dbfsResultPath": null,
       "isJsonSchema": true,
       "metadata": {},
       "overflow": false,
       "plotOptions": {
        "customPlotOptions": {},
        "displayType": "table",
        "pivotAggregation": null,
        "pivotColumns": null,
        "xColumns": null,
        "yColumns": null
       },
       "removedWidgets": [],
       "schema": [
        {
         "metadata": "{\"comment\":\"name of the column\"}",
         "name": "col_name",
         "type": "\"string\""
        },
        {
         "metadata": "{\"comment\":\"data type of the column\"}",
         "name": "data_type",
         "type": "\"string\""
        },
        {
         "metadata": "{\"comment\":\"comment of the column\"}",
         "name": "comment",
         "type": "\"string\""
        }
       ],
       "type": "table"
      }
     },
     "output_type": "display_data"
    }
   ],
   "source": [
    "%sql\n",
    "DROP SCHEMA IF EXISTS quickstart_schema CASCADE;\n",
    "CREATE SCHEMA quickstart_schema;\n",
    "CREATE TABLE quickstart_schema.users(\n",
    "  id INT,\n",
    "  name STRING,\n",
    "  dob DATE,\n",
    "  email STRING,\n",
    "  gender STRING,\n",
    "  country STRING,\n",
    "  region STRING,\n",
    "  city STRING,\n",
    "  asset INT,\n",
    "  marital_status STRING\n",
    ") USING DELTA PARTITIONED BY (country, region, city);\n",
    "DESCRIBE FORMATTED quickstart_schema.users;"
   ]
  },
  {
   "cell_type": "markdown",
   "metadata": {
    "application/vnd.databricks.v1+cell": {
     "cellMetadata": {},
     "inputWidgets": {},
     "nuid": "ef5d82a6-ca31-4fa4-b995-323fb09453d3",
     "showTitle": false,
     "tableResultSettingsMap": {},
     "title": ""
    }
   },
   "source": [
    "# Load data into partitioned table"
   ]
  },
  {
   "cell_type": "code",
   "execution_count": 0,
   "metadata": {
    "application/vnd.databricks.v1+cell": {
     "cellMetadata": {
      "byteLimit": 2048000,
      "rowLimit": 10000
     },
     "inputWidgets": {},
     "nuid": "309af717-42af-4390-ac0b-4d0242f78a3c",
     "showTitle": false,
     "tableResultSettingsMap": {},
     "title": ""
    }
   },
   "outputs": [],
   "source": [
    "spark.read.csv(\n",
    "    path=\"dbfs:/FileStore/synechron/user_dataset/users_002.csv\",\n",
    "    header=True,\n",
    "    inferSchema=True,\n",
    ").write.mode(\"append\").partitionBy(\"country\", \"region\", \"city\").saveAsTable(\n",
    "    \"quickstart_schema.users\"\n",
    ")"
   ]
  },
  {
   "cell_type": "code",
   "execution_count": 0,
   "metadata": {
    "application/vnd.databricks.v1+cell": {
     "cellMetadata": {
      "byteLimit": 2048000,
      "rowLimit": 10000
     },
     "inputWidgets": {},
     "nuid": "c967cf5e-ec48-470b-afc3-add77a49775a",
     "showTitle": false,
     "tableResultSettingsMap": {},
     "title": ""
    }
   },
   "outputs": [
    {
     "output_type": "stream",
     "name": "stdout",
     "output_type": "stream",
     "text": [
      "part-00000-160762c9-7bf0-4c56-b521-1d3764a47816.c000.snappy.parquet\npart-00000-3738ad55-ece4-436e-8353-57004e3a486b.c000.snappy.parquet\npart-00000-c2b52866-912f-40a6-a68b-9d675b34d7ec.c000.snappy.parquet\n"
     ]
    }
   ],
   "source": [
    "partition_path = \"dbfs:/user/hive/warehouse/quickstart_schema.db/users/country=India/region=Andaman and Nicobar Islands/city=Port Blair\"\n",
    "for file_info in dbutils.fs.ls(partition_path):\n",
    "    print(file_info.path.split(\"/\")[-1])"
   ]
  },
  {
   "cell_type": "markdown",
   "metadata": {
    "application/vnd.databricks.v1+cell": {
     "cellMetadata": {},
     "inputWidgets": {},
     "nuid": "f3fa28ba-fde0-466e-a1ca-e56bd3fb4645",
     "showTitle": false,
     "tableResultSettingsMap": {},
     "title": ""
    }
   },
   "source": [
    "# DESCRIBE Table"
   ]
  },
  {
   "cell_type": "code",
   "execution_count": 0,
   "metadata": {
    "application/vnd.databricks.v1+cell": {
     "cellMetadata": {
      "byteLimit": 2048000,
      "implicitDf": true,
      "rowLimit": 10000
     },
     "inputWidgets": {},
     "nuid": "4aafe43f-29a3-4df6-be1b-6867e780a36e",
     "showTitle": false,
     "tableResultSettingsMap": {},
     "title": ""
    }
   },
   "outputs": [
    {
     "output_type": "display_data",
     "data": {
      "text/html": [
       "<style scoped>\n",
       "  .table-result-container {\n",
       "    max-height: 300px;\n",
       "    overflow: auto;\n",
       "  }\n",
       "  table, th, td {\n",
       "    border: 1px solid black;\n",
       "    border-collapse: collapse;\n",
       "  }\n",
       "  th, td {\n",
       "    padding: 5px;\n",
       "  }\n",
       "  th {\n",
       "    text-align: left;\n",
       "  }\n",
       "</style><div class='table-result-container'><table class='table-result'><thead style='background-color: white'><tr><th>format</th><th>id</th><th>name</th><th>description</th><th>location</th><th>createdAt</th><th>lastModified</th><th>partitionColumns</th><th>numFiles</th><th>sizeInBytes</th><th>properties</th><th>minReaderVersion</th><th>minWriterVersion</th><th>tableFeatures</th><th>statistics</th></tr></thead><tbody><tr><td>delta</td><td>d688dc21-92f5-4cf9-9d02-c1abf713f0dc</td><td>spark_catalog.quickstart_schema.users</td><td>null</td><td>dbfs:/user/hive/warehouse/quickstart_schema.db/users</td><td>2024-12-10T03:53:27.671+0000</td><td>2024-12-10T04:00:29.000+0000</td><td>List(country, region, city)</td><td>531</td><td>1231803</td><td>Map()</td><td>1</td><td>2</td><td>List(appendOnly, invariants)</td><td>Map()</td></tr></tbody></table></div>"
      ]
     },
     "metadata": {
      "application/vnd.databricks.v1+output": {
       "addedWidgets": {},
       "aggData": [],
       "aggError": "",
       "aggOverflow": false,
       "aggSchema": [],
       "aggSeriesLimitReached": false,
       "aggType": "",
       "arguments": {},
       "columnCustomDisplayInfos": {},
       "data": [
        [
         "delta",
         "d688dc21-92f5-4cf9-9d02-c1abf713f0dc",
         "spark_catalog.quickstart_schema.users",
         null,
         "dbfs:/user/hive/warehouse/quickstart_schema.db/users",
         "2024-12-10T03:53:27.671+0000",
         "2024-12-10T04:00:29.000+0000",
         [
          "country",
          "region",
          "city"
         ],
         531,
         1231803,
         {},
         1,
         2,
         [
          "appendOnly",
          "invariants"
         ],
         {}
        ]
       ],
       "datasetInfos": [],
       "dbfsResultPath": null,
       "isJsonSchema": true,
       "metadata": {},
       "overflow": false,
       "plotOptions": {
        "customPlotOptions": {},
        "displayType": "table",
        "pivotAggregation": null,
        "pivotColumns": null,
        "xColumns": null,
        "yColumns": null
       },
       "removedWidgets": [],
       "schema": [
        {
         "metadata": "{}",
         "name": "format",
         "type": "\"string\""
        },
        {
         "metadata": "{}",
         "name": "id",
         "type": "\"string\""
        },
        {
         "metadata": "{}",
         "name": "name",
         "type": "\"string\""
        },
        {
         "metadata": "{}",
         "name": "description",
         "type": "\"string\""
        },
        {
         "metadata": "{}",
         "name": "location",
         "type": "\"string\""
        },
        {
         "metadata": "{}",
         "name": "createdAt",
         "type": "\"timestamp\""
        },
        {
         "metadata": "{}",
         "name": "lastModified",
         "type": "\"timestamp\""
        },
        {
         "metadata": "{}",
         "name": "partitionColumns",
         "type": "{\"type\":\"array\",\"elementType\":\"string\",\"containsNull\":true}"
        },
        {
         "metadata": "{}",
         "name": "numFiles",
         "type": "\"long\""
        },
        {
         "metadata": "{}",
         "name": "sizeInBytes",
         "type": "\"long\""
        },
        {
         "metadata": "{}",
         "name": "properties",
         "type": "{\"type\":\"map\",\"keyType\":\"string\",\"valueType\":\"string\",\"valueContainsNull\":true}"
        },
        {
         "metadata": "{}",
         "name": "minReaderVersion",
         "type": "\"integer\""
        },
        {
         "metadata": "{}",
         "name": "minWriterVersion",
         "type": "\"integer\""
        },
        {
         "metadata": "{}",
         "name": "tableFeatures",
         "type": "{\"type\":\"array\",\"elementType\":\"string\",\"containsNull\":true}"
        },
        {
         "metadata": "{}",
         "name": "statistics",
         "type": "{\"type\":\"map\",\"keyType\":\"string\",\"valueType\":\"long\",\"valueContainsNull\":true}"
        }
       ],
       "type": "table"
      }
     },
     "output_type": "display_data"
    }
   ],
   "source": [
    "%sql\n",
    "DESCRIBE DETAIL quickstart_schema.users;"
   ]
  },
  {
   "cell_type": "markdown",
   "metadata": {
    "application/vnd.databricks.v1+cell": {
     "cellMetadata": {},
     "inputWidgets": {},
     "nuid": "e6316e5b-34a0-4c51-bb07-6f276dbbefd1",
     "showTitle": false,
     "tableResultSettingsMap": {},
     "title": ""
    }
   },
   "source": [
    "# Optimize"
   ]
  },
  {
   "cell_type": "code",
   "execution_count": 0,
   "metadata": {
    "application/vnd.databricks.v1+cell": {
     "cellMetadata": {
      "byteLimit": 2048000,
      "implicitDf": true,
      "rowLimit": 10000
     },
     "inputWidgets": {},
     "nuid": "bfc40dce-c1de-4b41-bd79-120758812a6f",
     "showTitle": false,
     "tableResultSettingsMap": {},
     "title": ""
    }
   },
   "outputs": [
    {
     "output_type": "display_data",
     "data": {
      "text/html": [
       "<style scoped>\n",
       "  .table-result-container {\n",
       "    max-height: 300px;\n",
       "    overflow: auto;\n",
       "  }\n",
       "  table, th, td {\n",
       "    border: 1px solid black;\n",
       "    border-collapse: collapse;\n",
       "  }\n",
       "  th, td {\n",
       "    padding: 5px;\n",
       "  }\n",
       "  th {\n",
       "    text-align: left;\n",
       "  }\n",
       "</style><div class='table-result-container'><table class='table-result'><thead style='background-color: white'><tr><th>path</th><th>metrics</th></tr></thead><tbody><tr><td>dbfs:/user/hive/warehouse/quickstart_schema.db/users</td><td>List(1, 2, List(2808, 2808, 2808.0, 1, 2808), List(2546, 2552, 2549.0, 2, 5098), 1, null, 1, 2, 0, true, 0, 0, 1733804111660, 1733804123230, 8, 1, null, List(0, 0), 10, 10, 2861)</td></tr></tbody></table></div>"
      ]
     },
     "metadata": {
      "application/vnd.databricks.v1+output": {
       "addedWidgets": {},
       "aggData": [],
       "aggError": "",
       "aggOverflow": false,
       "aggSchema": [],
       "aggSeriesLimitReached": false,
       "aggType": "",
       "arguments": {},
       "columnCustomDisplayInfos": {},
       "data": [
        [
         "dbfs:/user/hive/warehouse/quickstart_schema.db/users",
         [
          1,
          2,
          [
           2808,
           2808,
           2808.0,
           1,
           2808
          ],
          [
           2546,
           2552,
           2549.0,
           2,
           5098
          ],
          1,
          null,
          1,
          2,
          0,
          true,
          0,
          0,
          1733804111660,
          1733804123230,
          8,
          1,
          null,
          [
           0,
           0
          ],
          10,
          10,
          2861
         ]
        ]
       ],
       "datasetInfos": [],
       "dbfsResultPath": null,
       "isJsonSchema": true,
       "metadata": {},
       "overflow": false,
       "plotOptions": {
        "customPlotOptions": {},
        "displayType": "table",
        "pivotAggregation": null,
        "pivotColumns": null,
        "xColumns": null,
        "yColumns": null
       },
       "removedWidgets": [],
       "schema": [
        {
         "metadata": "{}",
         "name": "path",
         "type": "\"string\""
        },
        {
         "metadata": "{}",
         "name": "metrics",
         "type": "{\"type\":\"struct\",\"fields\":[{\"name\":\"numFilesAdded\",\"type\":\"long\",\"nullable\":false,\"metadata\":{}},{\"name\":\"numFilesRemoved\",\"type\":\"long\",\"nullable\":false,\"metadata\":{}},{\"name\":\"filesAdded\",\"type\":{\"type\":\"struct\",\"fields\":[{\"name\":\"min\",\"type\":\"long\",\"nullable\":true,\"metadata\":{}},{\"name\":\"max\",\"type\":\"long\",\"nullable\":true,\"metadata\":{}},{\"name\":\"avg\",\"type\":\"double\",\"nullable\":false,\"metadata\":{}},{\"name\":\"totalFiles\",\"type\":\"long\",\"nullable\":false,\"metadata\":{}},{\"name\":\"totalSize\",\"type\":\"long\",\"nullable\":false,\"metadata\":{}}]},\"nullable\":true,\"metadata\":{}},{\"name\":\"filesRemoved\",\"type\":{\"type\":\"struct\",\"fields\":[{\"name\":\"min\",\"type\":\"long\",\"nullable\":true,\"metadata\":{}},{\"name\":\"max\",\"type\":\"long\",\"nullable\":true,\"metadata\":{}},{\"name\":\"avg\",\"type\":\"double\",\"nullable\":false,\"metadata\":{}},{\"name\":\"totalFiles\",\"type\":\"long\",\"nullable\":false,\"metadata\":{}},{\"name\":\"totalSize\",\"type\":\"long\",\"nullable\":false,\"metadata\":{}}]},\"nullable\":true,\"metadata\":{}},{\"name\":\"partitionsOptimized\",\"type\":\"long\",\"nullable\":false,\"metadata\":{}},{\"name\":\"zOrderStats\",\"type\":{\"type\":\"struct\",\"fields\":[{\"name\":\"strategyName\",\"type\":\"string\",\"nullable\":true,\"metadata\":{}},{\"name\":\"inputCubeFiles\",\"type\":{\"type\":\"struct\",\"fields\":[{\"name\":\"num\",\"type\":\"long\",\"nullable\":false,\"metadata\":{}},{\"name\":\"size\",\"type\":\"long\",\"nullable\":false,\"metadata\":{}}]},\"nullable\":true,\"metadata\":{}},{\"name\":\"inputOtherFiles\",\"type\":{\"type\":\"struct\",\"fields\":[{\"name\":\"num\",\"type\":\"long\",\"nullable\":false,\"metadata\":{}},{\"name\":\"size\",\"type\":\"long\",\"nullable\":false,\"metadata\":{}}]},\"nullable\":true,\"metadata\":{}},{\"name\":\"inputNumCubes\",\"type\":\"long\",\"nullable\":false,\"metadata\":{}},{\"name\":\"mergedFiles\",\"type\":{\"type\":\"struct\",\"fields\":[{\"name\":\"num\",\"type\":\"long\",\"nullable\":false,\"metadata\":{}},{\"name\":\"size\",\"type\":\"long\",\"nullable\":false,\"metadata\":{}}]},\"nullable\":true,\"metadata\":{}},{\"name\":\"numOutputCubes\",\"type\":\"long\",\"nullable\":false,\"metadata\":{}},{\"name\":\"mergedNumCubes\",\"type\":\"long\",\"nullable\":true,\"metadata\":{}}]},\"nullable\":true,\"metadata\":{}},{\"name\":\"numBatches\",\"type\":\"long\",\"nullable\":false,\"metadata\":{}},{\"name\":\"totalConsideredFiles\",\"type\":\"long\",\"nullable\":false,\"metadata\":{}},{\"name\":\"totalFilesSkipped\",\"type\":\"long\",\"nullable\":false,\"metadata\":{}},{\"name\":\"preserveInsertionOrder\",\"type\":\"boolean\",\"nullable\":false,\"metadata\":{}},{\"name\":\"numFilesSkippedToReduceWriteAmplification\",\"type\":\"long\",\"nullable\":false,\"metadata\":{}},{\"name\":\"numBytesSkippedToReduceWriteAmplification\",\"type\":\"long\",\"nullable\":false,\"metadata\":{}},{\"name\":\"startTimeMs\",\"type\":\"long\",\"nullable\":false,\"metadata\":{}},{\"name\":\"endTimeMs\",\"type\":\"long\",\"nullable\":false,\"metadata\":{}},{\"name\":\"totalClusterParallelism\",\"type\":\"long\",\"nullable\":false,\"metadata\":{}},{\"name\":\"totalScheduledTasks\",\"type\":\"long\",\"nullable\":false,\"metadata\":{}},{\"name\":\"autoCompactParallelismStats\",\"type\":{\"type\":\"struct\",\"fields\":[{\"name\":\"maxClusterActiveParallelism\",\"type\":\"long\",\"nullable\":true,\"metadata\":{}},{\"name\":\"minClusterActiveParallelism\",\"type\":\"long\",\"nullable\":true,\"metadata\":{}},{\"name\":\"maxSessionActiveParallelism\",\"type\":\"long\",\"nullable\":true,\"metadata\":{}},{\"name\":\"minSessionActiveParallelism\",\"type\":\"long\",\"nullable\":true,\"metadata\":{}}]},\"nullable\":true,\"metadata\":{}},{\"name\":\"deletionVectorStats\",\"type\":{\"type\":\"struct\",\"fields\":[{\"name\":\"numDeletionVectorsRemoved\",\"type\":\"long\",\"nullable\":false,\"metadata\":{}},{\"name\":\"numDeletionVectorRowsRemoved\",\"type\":\"long\",\"nullable\":false,\"metadata\":{}}]},\"nullable\":true,\"metadata\":{}},{\"name\":\"numTableColumns\",\"type\":\"long\",\"nullable\":false,\"metadata\":{}},{\"name\":\"numTableColumnsWithStats\",\"type\":\"long\",\"nullable\":false,\"metadata\":{}},{\"name\":\"totalTaskExecutionTimeMs\",\"type\":\"long\",\"nullable\":false,\"metadata\":{}}]}"
        }
       ],
       "type": "table"
      }
     },
     "output_type": "display_data"
    }
   ],
   "source": [
    "%sql\n",
    "-- OPTIMIZE quickstart_schema.users;\n",
    "OPTIMIZE quickstart_schema.users\n",
    "where\n",
    "  country = 'India'\n",
    "  and region = 'Andaman and Nicobar Islands'\n",
    "  and city = 'Port Blair';"
   ]
  },
  {
   "cell_type": "code",
   "execution_count": 0,
   "metadata": {
    "application/vnd.databricks.v1+cell": {
     "cellMetadata": {
      "byteLimit": 2048000,
      "implicitDf": true,
      "rowLimit": 10000
     },
     "inputWidgets": {},
     "nuid": "b6cb7b0a-c852-4005-aa58-4a35aa4ccc70",
     "showTitle": false,
     "tableResultSettingsMap": {},
     "title": ""
    }
   },
   "outputs": [
    {
     "output_type": "display_data",
     "data": {
      "text/html": [
       "<style scoped>\n",
       "  .table-result-container {\n",
       "    max-height: 300px;\n",
       "    overflow: auto;\n",
       "  }\n",
       "  table, th, td {\n",
       "    border: 1px solid black;\n",
       "    border-collapse: collapse;\n",
       "  }\n",
       "  th, td {\n",
       "    padding: 5px;\n",
       "  }\n",
       "  th {\n",
       "    text-align: left;\n",
       "  }\n",
       "</style><div class='table-result-container'><table class='table-result'><thead style='background-color: white'><tr><th>value</th></tr></thead><tbody><tr><td>{\"commitInfo\":{\"timestamp\":1733804120095,\"userId\":\"6836536383695527\",\"userName\":\"naveenpn.trainer@gmail.com\",\"operation\":\"OPTIMIZE\",\"operationParameters\":{\"predicate\":\"[\\\"((('country = India) AND ('region = Andaman and Nicobar Islands)) AND ('city = Port Blair))\\\"]\",\"zOrderBy\":\"[]\",\"batchId\":\"0\",\"auto\":false},\"notebook\":{\"notebookId\":\"4314377066703050\"},\"clusterId\":\"1210-034629-cmqn1uuz\",\"readVersion\":2,\"isolationLevel\":\"SnapshotIsolation\",\"isBlindAppend\":false,\"operationMetrics\":{\"numRemovedFiles\":\"2\",\"numRemovedBytes\":\"5098\",\"p25FileSize\":\"2808\",\"numDeletionVectorsRemoved\":\"0\",\"minFileSize\":\"2808\",\"numAddedFiles\":\"1\",\"maxFileSize\":\"2808\",\"p75FileSize\":\"2808\",\"p50FileSize\":\"2808\",\"numAddedBytes\":\"2808\"},\"engineInfo\":\"Databricks-Runtime/12.2.x-scala2.12\",\"txnId\":\"6645183a-cbe0-4f47-8db5-fc88860028c4\"}}</td></tr><tr><td>{\"remove\":{\"path\":\"country=India/region=Andaman%20and%20Nicobar%20Islands/city=Port%20Blair/part-00000-3738ad55-ece4-436e-8353-57004e3a486b.c000.snappy.parquet\",\"deletionTimestamp\":1733804116034,\"dataChange\":false,\"extendedFileMetadata\":true,\"partitionValues\":{\"country\":\"India\",\"region\":\"Andaman and Nicobar Islands\",\"city\":\"Port Blair\"},\"size\":2552,\"tags\":{\"INSERTION_TIME\":\"1733803049000000\",\"MIN_INSERTION_TIME\":\"1733803049000000\",\"MAX_INSERTION_TIME\":\"1733803049000000\",\"OPTIMIZE_TARGET_SIZE\":\"268435456\"}}}</td></tr><tr><td>{\"remove\":{\"path\":\"country=India/region=Andaman%20and%20Nicobar%20Islands/city=Port%20Blair/part-00000-160762c9-7bf0-4c56-b521-1d3764a47816.c000.snappy.parquet\",\"deletionTimestamp\":1733804116034,\"dataChange\":false,\"extendedFileMetadata\":true,\"partitionValues\":{\"country\":\"India\",\"region\":\"Andaman and Nicobar Islands\",\"city\":\"Port Blair\"},\"size\":2546,\"tags\":{\"INSERTION_TIME\":\"1733803197000000\",\"MIN_INSERTION_TIME\":\"1733803197000000\",\"MAX_INSERTION_TIME\":\"1733803197000000\",\"OPTIMIZE_TARGET_SIZE\":\"268435456\"}}}</td></tr><tr><td>{\"add\":{\"path\":\"country=India/region=Andaman%20and%20Nicobar%20Islands/city=Port%20Blair/part-00000-c2b52866-912f-40a6-a68b-9d675b34d7ec.c000.snappy.parquet\",\"partitionValues\":{\"country\":\"India\",\"region\":\"Andaman and Nicobar Islands\",\"city\":\"Port Blair\"},\"size\":2808,\"modificationTime\":1733804120000,\"dataChange\":false,\"stats\":\"{\\\"numRecords\\\":11,\\\"minValues\\\":{\\\"id\\\":7,\\\"name\\\":\\\"Alec Haynes\\\",\\\"dob\\\":\\\"2023-05-07\\\",\\\"email\\\":\\\"alechaynes@gmail.com\\\",\\\"gender\\\":\\\"Female\\\",\\\"asset\\\":155089,\\\"marital_status\\\":\\\"Common Law\\\"},\\\"maxValues\\\":{\\\"id\\\":972,\\\"name\\\":\\\"Vladimir Pierce\\\",\\\"dob\\\":\\\"2025-03-04\\\",\\\"email\\\":\\\"vladimirpierce@ymail.com\\\",\\\"gender\\\":\\\"Transgender\\\",\\\"asset\\\":967919,\\\"marital_status\\\":\\\"Single\\\"},\\\"nullCount\\\":{\\\"id\\\":0,\\\"name\\\":0,\\\"dob\\\":0,\\\"email\\\":0,\\\"gender\\\":0,\\\"asset\\\":0,\\\"marital_status\\\":0}}\",\"tags\":{\"MAX_INSERTION_TIME\":\"1733803197000000\",\"INSERTION_TIME\":\"1733803049000000\",\"MIN_INSERTION_TIME\":\"1733803049000000\",\"OPTIMIZE_TARGET_SIZE\":\"268435456\"}}}</td></tr></tbody></table></div>"
      ]
     },
     "metadata": {
      "application/vnd.databricks.v1+output": {
       "addedWidgets": {},
       "aggData": [],
       "aggError": "",
       "aggOverflow": false,
       "aggSchema": [],
       "aggSeriesLimitReached": false,
       "aggType": "",
       "arguments": {},
       "columnCustomDisplayInfos": {},
       "data": [
        [
         "{\"commitInfo\":{\"timestamp\":1733804120095,\"userId\":\"6836536383695527\",\"userName\":\"naveenpn.trainer@gmail.com\",\"operation\":\"OPTIMIZE\",\"operationParameters\":{\"predicate\":\"[\\\"((('country = India) AND ('region = Andaman and Nicobar Islands)) AND ('city = Port Blair))\\\"]\",\"zOrderBy\":\"[]\",\"batchId\":\"0\",\"auto\":false},\"notebook\":{\"notebookId\":\"4314377066703050\"},\"clusterId\":\"1210-034629-cmqn1uuz\",\"readVersion\":2,\"isolationLevel\":\"SnapshotIsolation\",\"isBlindAppend\":false,\"operationMetrics\":{\"numRemovedFiles\":\"2\",\"numRemovedBytes\":\"5098\",\"p25FileSize\":\"2808\",\"numDeletionVectorsRemoved\":\"0\",\"minFileSize\":\"2808\",\"numAddedFiles\":\"1\",\"maxFileSize\":\"2808\",\"p75FileSize\":\"2808\",\"p50FileSize\":\"2808\",\"numAddedBytes\":\"2808\"},\"engineInfo\":\"Databricks-Runtime/12.2.x-scala2.12\",\"txnId\":\"6645183a-cbe0-4f47-8db5-fc88860028c4\"}}"
        ],
        [
         "{\"remove\":{\"path\":\"country=India/region=Andaman%20and%20Nicobar%20Islands/city=Port%20Blair/part-00000-3738ad55-ece4-436e-8353-57004e3a486b.c000.snappy.parquet\",\"deletionTimestamp\":1733804116034,\"dataChange\":false,\"extendedFileMetadata\":true,\"partitionValues\":{\"country\":\"India\",\"region\":\"Andaman and Nicobar Islands\",\"city\":\"Port Blair\"},\"size\":2552,\"tags\":{\"INSERTION_TIME\":\"1733803049000000\",\"MIN_INSERTION_TIME\":\"1733803049000000\",\"MAX_INSERTION_TIME\":\"1733803049000000\",\"OPTIMIZE_TARGET_SIZE\":\"268435456\"}}}"
        ],
        [
         "{\"remove\":{\"path\":\"country=India/region=Andaman%20and%20Nicobar%20Islands/city=Port%20Blair/part-00000-160762c9-7bf0-4c56-b521-1d3764a47816.c000.snappy.parquet\",\"deletionTimestamp\":1733804116034,\"dataChange\":false,\"extendedFileMetadata\":true,\"partitionValues\":{\"country\":\"India\",\"region\":\"Andaman and Nicobar Islands\",\"city\":\"Port Blair\"},\"size\":2546,\"tags\":{\"INSERTION_TIME\":\"1733803197000000\",\"MIN_INSERTION_TIME\":\"1733803197000000\",\"MAX_INSERTION_TIME\":\"1733803197000000\",\"OPTIMIZE_TARGET_SIZE\":\"268435456\"}}}"
        ],
        [
         "{\"add\":{\"path\":\"country=India/region=Andaman%20and%20Nicobar%20Islands/city=Port%20Blair/part-00000-c2b52866-912f-40a6-a68b-9d675b34d7ec.c000.snappy.parquet\",\"partitionValues\":{\"country\":\"India\",\"region\":\"Andaman and Nicobar Islands\",\"city\":\"Port Blair\"},\"size\":2808,\"modificationTime\":1733804120000,\"dataChange\":false,\"stats\":\"{\\\"numRecords\\\":11,\\\"minValues\\\":{\\\"id\\\":7,\\\"name\\\":\\\"Alec Haynes\\\",\\\"dob\\\":\\\"2023-05-07\\\",\\\"email\\\":\\\"alechaynes@gmail.com\\\",\\\"gender\\\":\\\"Female\\\",\\\"asset\\\":155089,\\\"marital_status\\\":\\\"Common Law\\\"},\\\"maxValues\\\":{\\\"id\\\":972,\\\"name\\\":\\\"Vladimir Pierce\\\",\\\"dob\\\":\\\"2025-03-04\\\",\\\"email\\\":\\\"vladimirpierce@ymail.com\\\",\\\"gender\\\":\\\"Transgender\\\",\\\"asset\\\":967919,\\\"marital_status\\\":\\\"Single\\\"},\\\"nullCount\\\":{\\\"id\\\":0,\\\"name\\\":0,\\\"dob\\\":0,\\\"email\\\":0,\\\"gender\\\":0,\\\"asset\\\":0,\\\"marital_status\\\":0}}\",\"tags\":{\"MAX_INSERTION_TIME\":\"1733803197000000\",\"INSERTION_TIME\":\"1733803049000000\",\"MIN_INSERTION_TIME\":\"1733803049000000\",\"OPTIMIZE_TARGET_SIZE\":\"268435456\"}}}"
        ]
       ],
       "datasetInfos": [],
       "dbfsResultPath": null,
       "isJsonSchema": true,
       "metadata": {},
       "overflow": false,
       "plotOptions": {
        "customPlotOptions": {},
        "displayType": "table",
        "pivotAggregation": null,
        "pivotColumns": null,
        "xColumns": null,
        "yColumns": null
       },
       "removedWidgets": [],
       "schema": [
        {
         "metadata": "{}",
         "name": "value",
         "type": "\"string\""
        }
       ],
       "type": "table"
      }
     },
     "output_type": "display_data"
    }
   ],
   "source": [
    "spark.read.format(\"text\").load(\n",
    "    \"dbfs:/user/hive/warehouse/quickstart_schema.db/users/_delta_log/00000000000000000003.json\"\n",
    ").display()"
   ]
  },
  {
   "cell_type": "code",
   "execution_count": 0,
   "metadata": {
    "application/vnd.databricks.v1+cell": {
     "cellMetadata": {
      "byteLimit": 2048000,
      "implicitDf": true,
      "rowLimit": 10000
     },
     "inputWidgets": {},
     "nuid": "67141ff1-626e-461f-bc83-ee45a0b4eb47",
     "showTitle": false,
     "tableResultSettingsMap": {},
     "title": ""
    }
   },
   "outputs": [
    {
     "output_type": "display_data",
     "data": {
      "text/html": [
       "<style scoped>\n",
       "  .table-result-container {\n",
       "    max-height: 300px;\n",
       "    overflow: auto;\n",
       "  }\n",
       "  table, th, td {\n",
       "    border: 1px solid black;\n",
       "    border-collapse: collapse;\n",
       "  }\n",
       "  th, td {\n",
       "    padding: 5px;\n",
       "  }\n",
       "  th {\n",
       "    text-align: left;\n",
       "  }\n",
       "</style><div class='table-result-container'><table class='table-result'><thead style='background-color: white'><tr><th>version</th><th>timestamp</th><th>userId</th><th>userName</th><th>operation</th><th>operationParameters</th><th>job</th><th>notebook</th><th>clusterId</th><th>readVersion</th><th>isolationLevel</th><th>isBlindAppend</th><th>operationMetrics</th><th>userMetadata</th><th>engineInfo</th></tr></thead><tbody><tr><td>3</td><td>2024-12-10T04:15:21.000+0000</td><td>6836536383695527</td><td>naveenpn.trainer@gmail.com</td><td>OPTIMIZE</td><td>Map(predicate -> [\"((('country = India) AND ('region = Andaman and Nicobar Islands)) AND ('city = Port Blair))\"], zOrderBy -> [], batchId -> 0, auto -> false)</td><td>null</td><td>List(4314377066703050)</td><td>1210-034629-cmqn1uuz</td><td>2</td><td>SnapshotIsolation</td><td>false</td><td>Map(numRemovedFiles -> 2, numRemovedBytes -> 5098, p25FileSize -> 2808, numDeletionVectorsRemoved -> 0, minFileSize -> 2808, numAddedFiles -> 1, maxFileSize -> 2808, p75FileSize -> 2808, p50FileSize -> 2808, numAddedBytes -> 2808)</td><td>null</td><td>Databricks-Runtime/12.2.x-scala2.12</td></tr><tr><td>2</td><td>2024-12-10T04:00:29.000+0000</td><td>6836536383695527</td><td>naveenpn.trainer@gmail.com</td><td>WRITE</td><td>Map(mode -> Append, partitionBy -> [])</td><td>null</td><td>List(4314377066703050)</td><td>1210-034629-cmqn1uuz</td><td>1</td><td>WriteSerializable</td><td>true</td><td>Map(numFiles -> 270, numOutputRows -> 500, numOutputBytes -> 626131)</td><td>null</td><td>Databricks-Runtime/12.2.x-scala2.12</td></tr><tr><td>1</td><td>2024-12-10T03:58:04.000+0000</td><td>6836536383695527</td><td>naveenpn.trainer@gmail.com</td><td>WRITE</td><td>Map(mode -> Append, partitionBy -> [])</td><td>null</td><td>List(4314377066703050)</td><td>1210-034629-cmqn1uuz</td><td>0</td><td>WriteSerializable</td><td>true</td><td>Map(numFiles -> 261, numOutputRows -> 500, numOutputBytes -> 605672)</td><td>null</td><td>Databricks-Runtime/12.2.x-scala2.12</td></tr><tr><td>0</td><td>2024-12-10T03:53:30.000+0000</td><td>6836536383695527</td><td>naveenpn.trainer@gmail.com</td><td>CREATE TABLE</td><td>Map(isManaged -> true, description -> null, partitionBy -> [\"country\",\"region\",\"city\"], properties -> {})</td><td>null</td><td>List(4314377066703050)</td><td>1210-034629-cmqn1uuz</td><td>null</td><td>WriteSerializable</td><td>true</td><td>Map()</td><td>null</td><td>Databricks-Runtime/12.2.x-scala2.12</td></tr></tbody></table></div>"
      ]
     },
     "metadata": {
      "application/vnd.databricks.v1+output": {
       "addedWidgets": {},
       "aggData": [],
       "aggError": "",
       "aggOverflow": false,
       "aggSchema": [],
       "aggSeriesLimitReached": false,
       "aggType": "",
       "arguments": {},
       "columnCustomDisplayInfos": {},
       "data": [
        [
         3,
         "2024-12-10T04:15:21.000+0000",
         "6836536383695527",
         "naveenpn.trainer@gmail.com",
         "OPTIMIZE",
         {
          "auto": "false",
          "batchId": "0",
          "predicate": "[\"((('country = India) AND ('region = Andaman and Nicobar Islands)) AND ('city = Port Blair))\"]",
          "zOrderBy": "[]"
         },
         null,
         [
          "4314377066703050"
         ],
         "1210-034629-cmqn1uuz",
         2,
         "SnapshotIsolation",
         false,
         {
          "maxFileSize": "2808",
          "minFileSize": "2808",
          "numAddedBytes": "2808",
          "numAddedFiles": "1",
          "numDeletionVectorsRemoved": "0",
          "numRemovedBytes": "5098",
          "numRemovedFiles": "2",
          "p25FileSize": "2808",
          "p50FileSize": "2808",
          "p75FileSize": "2808"
         },
         null,
         "Databricks-Runtime/12.2.x-scala2.12"
        ],
        [
         2,
         "2024-12-10T04:00:29.000+0000",
         "6836536383695527",
         "naveenpn.trainer@gmail.com",
         "WRITE",
         {
          "mode": "Append",
          "partitionBy": "[]"
         },
         null,
         [
          "4314377066703050"
         ],
         "1210-034629-cmqn1uuz",
         1,
         "WriteSerializable",
         true,
         {
          "numFiles": "270",
          "numOutputBytes": "626131",
          "numOutputRows": "500"
         },
         null,
         "Databricks-Runtime/12.2.x-scala2.12"
        ],
        [
         1,
         "2024-12-10T03:58:04.000+0000",
         "6836536383695527",
         "naveenpn.trainer@gmail.com",
         "WRITE",
         {
          "mode": "Append",
          "partitionBy": "[]"
         },
         null,
         [
          "4314377066703050"
         ],
         "1210-034629-cmqn1uuz",
         0,
         "WriteSerializable",
         true,
         {
          "numFiles": "261",
          "numOutputBytes": "605672",
          "numOutputRows": "500"
         },
         null,
         "Databricks-Runtime/12.2.x-scala2.12"
        ],
        [
         0,
         "2024-12-10T03:53:30.000+0000",
         "6836536383695527",
         "naveenpn.trainer@gmail.com",
         "CREATE TABLE",
         {
          "description": null,
          "isManaged": "true",
          "partitionBy": "[\"country\",\"region\",\"city\"]",
          "properties": "{}"
         },
         null,
         [
          "4314377066703050"
         ],
         "1210-034629-cmqn1uuz",
         null,
         "WriteSerializable",
         true,
         {},
         null,
         "Databricks-Runtime/12.2.x-scala2.12"
        ]
       ],
       "datasetInfos": [],
       "dbfsResultPath": null,
       "isJsonSchema": true,
       "metadata": {},
       "overflow": false,
       "plotOptions": {
        "customPlotOptions": {},
        "displayType": "table",
        "pivotAggregation": null,
        "pivotColumns": null,
        "xColumns": null,
        "yColumns": null
       },
       "removedWidgets": [],
       "schema": [
        {
         "metadata": "{}",
         "name": "version",
         "type": "\"long\""
        },
        {
         "metadata": "{}",
         "name": "timestamp",
         "type": "\"timestamp\""
        },
        {
         "metadata": "{}",
         "name": "userId",
         "type": "\"string\""
        },
        {
         "metadata": "{}",
         "name": "userName",
         "type": "\"string\""
        },
        {
         "metadata": "{}",
         "name": "operation",
         "type": "\"string\""
        },
        {
         "metadata": "{}",
         "name": "operationParameters",
         "type": "{\"type\":\"map\",\"keyType\":\"string\",\"valueType\":\"string\",\"valueContainsNull\":true}"
        },
        {
         "metadata": "{}",
         "name": "job",
         "type": "{\"type\":\"struct\",\"fields\":[{\"name\":\"jobId\",\"type\":\"string\",\"nullable\":true,\"metadata\":{}},{\"name\":\"jobName\",\"type\":\"string\",\"nullable\":true,\"metadata\":{}},{\"name\":\"jobRunId\",\"type\":\"string\",\"nullable\":true,\"metadata\":{}},{\"name\":\"runId\",\"type\":\"string\",\"nullable\":true,\"metadata\":{}},{\"name\":\"jobOwnerId\",\"type\":\"string\",\"nullable\":true,\"metadata\":{}},{\"name\":\"triggerType\",\"type\":\"string\",\"nullable\":true,\"metadata\":{}}]}"
        },
        {
         "metadata": "{}",
         "name": "notebook",
         "type": "{\"type\":\"struct\",\"fields\":[{\"name\":\"notebookId\",\"type\":\"string\",\"nullable\":true,\"metadata\":{}}]}"
        },
        {
         "metadata": "{}",
         "name": "clusterId",
         "type": "\"string\""
        },
        {
         "metadata": "{}",
         "name": "readVersion",
         "type": "\"long\""
        },
        {
         "metadata": "{}",
         "name": "isolationLevel",
         "type": "\"string\""
        },
        {
         "metadata": "{}",
         "name": "isBlindAppend",
         "type": "\"boolean\""
        },
        {
         "metadata": "{}",
         "name": "operationMetrics",
         "type": "{\"type\":\"map\",\"keyType\":\"string\",\"valueType\":\"string\",\"valueContainsNull\":true}"
        },
        {
         "metadata": "{}",
         "name": "userMetadata",
         "type": "\"string\""
        },
        {
         "metadata": "{}",
         "name": "engineInfo",
         "type": "\"string\""
        }
       ],
       "type": "table"
      }
     },
     "output_type": "display_data"
    }
   ],
   "source": [
    "%sql\n",
    "DESCRIBE HISTORY delta.`dbfs:/user/hive/warehouse/quickstart_schema.db/users`"
   ]
  },
  {
   "cell_type": "code",
   "execution_count": 0,
   "metadata": {
    "application/vnd.databricks.v1+cell": {
     "cellMetadata": {},
     "inputWidgets": {},
     "nuid": "b3365867-46ba-4ea7-8ce9-6105d356a1c6",
     "showTitle": false,
     "tableResultSettingsMap": {},
     "title": ""
    }
   },
   "outputs": [],
   "source": []
  }
 ],
 "metadata": {
  "application/vnd.databricks.v1+notebook": {
   "dashboards": [],
   "environmentMetadata": null,
   "language": "python",
   "notebookMetadata": {
    "mostRecentlyExecutedCommandWithImplicitDF": {
     "commandId": 4314377066703065,
     "dataframes": [
      "_sqldf"
     ]
    },
    "pythonIndentUnit": 4
   },
   "notebookName": "08. Optimize Command",
   "widgets": {}
  }
 },
 "nbformat": 4,
 "nbformat_minor": 0
}
