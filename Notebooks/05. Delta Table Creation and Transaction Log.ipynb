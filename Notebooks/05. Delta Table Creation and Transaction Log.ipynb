{
 "cells": [
  {
   "cell_type": "markdown",
   "metadata": {
    "application/vnd.databricks.v1+cell": {
     "cellMetadata": {},
     "inputWidgets": {},
     "nuid": "854ae2aa-1919-4bc5-a505-3c533f0cd437",
     "showTitle": false,
     "tableResultSettingsMap": {},
     "title": ""
    }
   },
   "source": [
    "# Create Catalog, Schema / Database and Table"
   ]
  },
  {
   "cell_type": "code",
   "execution_count": 0,
   "metadata": {
    "application/vnd.databricks.v1+cell": {
     "cellMetadata": {
      "byteLimit": 2048000,
      "rowLimit": 10000
     },
     "inputWidgets": {},
     "nuid": "fbfc7c86-6e0c-46dd-b1db-c8695a6a51f4",
     "showTitle": false,
     "tableResultSettingsMap": {},
     "title": ""
    }
   },
   "outputs": [
    {
     "output_type": "stream",
     "name": "stdout",
     "output_type": "stream",
     "text": [
      "Out[3]: True"
     ]
    }
   ],
   "source": [
    "dbutils.fs.rm(\"dbfs:/user/hive/warehouse/quickstart_schema.db/users\",True)"
   ]
  },
  {
   "cell_type": "code",
   "execution_count": 0,
   "metadata": {
    "application/vnd.databricks.v1+cell": {
     "cellMetadata": {
      "byteLimit": 2048000,
      "implicitDf": true,
      "rowLimit": 10000
     },
     "inputWidgets": {},
     "nuid": "e20c62b3-51fa-4050-b24f-9a5e7ea084d6",
     "showTitle": false,
     "tableResultSettingsMap": {},
     "title": ""
    }
   },
   "outputs": [
    {
     "output_type": "display_data",
     "data": {
      "text/html": [
       "<style scoped>\n",
       "  .table-result-container {\n",
       "    max-height: 300px;\n",
       "    overflow: auto;\n",
       "  }\n",
       "  table, th, td {\n",
       "    border: 1px solid black;\n",
       "    border-collapse: collapse;\n",
       "  }\n",
       "  th, td {\n",
       "    padding: 5px;\n",
       "  }\n",
       "  th {\n",
       "    text-align: left;\n",
       "  }\n",
       "</style><div class='table-result-container'><table class='table-result'><thead style='background-color: white'><tr><th>col_name</th><th>data_type</th><th>comment</th></tr></thead><tbody><tr><td>id</td><td>int</td><td>null</td></tr><tr><td>name</td><td>string</td><td>null</td></tr><tr><td>dob</td><td>date</td><td>null</td></tr><tr><td>email</td><td>string</td><td>null</td></tr><tr><td>gender</td><td>string</td><td>null</td></tr><tr><td>country</td><td>string</td><td>null</td></tr><tr><td>region</td><td>string</td><td>null</td></tr><tr><td>city</td><td>string</td><td>null</td></tr><tr><td>asset</td><td>int</td><td>null</td></tr><tr><td>marital_status</td><td>string</td><td>null</td></tr><tr><td></td><td></td><td></td></tr><tr><td># Detailed Table Information</td><td></td><td></td></tr><tr><td>Catalog</td><td>spark_catalog</td><td></td></tr><tr><td>Database</td><td>quickstart_schema</td><td></td></tr><tr><td>Table</td><td>users</td><td></td></tr><tr><td>Created Time</td><td>Fri Dec 06 03:53:10 UTC 2024</td><td></td></tr><tr><td>Last Access</td><td>UNKNOWN</td><td></td></tr><tr><td>Created By</td><td>Spark 3.3.2</td><td></td></tr><tr><td>Type</td><td>MANAGED</td><td></td></tr><tr><td>Location</td><td>dbfs:/user/hive/warehouse/quickstart_schema.db/users</td><td></td></tr><tr><td>Provider</td><td>delta</td><td></td></tr><tr><td>Owner</td><td>root</td><td></td></tr><tr><td>Is_managed_location</td><td>true</td><td></td></tr><tr><td>Table Properties</td><td>[delta.minReaderVersion=1,delta.minWriterVersion=2]</td><td></td></tr></tbody></table></div>"
      ]
     },
     "metadata": {
      "application/vnd.databricks.v1+output": {
       "addedWidgets": {},
       "aggData": [],
       "aggError": "",
       "aggOverflow": false,
       "aggSchema": [],
       "aggSeriesLimitReached": false,
       "aggType": "",
       "arguments": {},
       "columnCustomDisplayInfos": {},
       "data": [
        [
         "id",
         "int",
         null
        ],
        [
         "name",
         "string",
         null
        ],
        [
         "dob",
         "date",
         null
        ],
        [
         "email",
         "string",
         null
        ],
        [
         "gender",
         "string",
         null
        ],
        [
         "country",
         "string",
         null
        ],
        [
         "region",
         "string",
         null
        ],
        [
         "city",
         "string",
         null
        ],
        [
         "asset",
         "int",
         null
        ],
        [
         "marital_status",
         "string",
         null
        ],
        [
         "",
         "",
         ""
        ],
        [
         "# Detailed Table Information",
         "",
         ""
        ],
        [
         "Catalog",
         "spark_catalog",
         ""
        ],
        [
         "Database",
         "quickstart_schema",
         ""
        ],
        [
         "Table",
         "users",
         ""
        ],
        [
         "Created Time",
         "Fri Dec 06 03:53:10 UTC 2024",
         ""
        ],
        [
         "Last Access",
         "UNKNOWN",
         ""
        ],
        [
         "Created By",
         "Spark 3.3.2",
         ""
        ],
        [
         "Type",
         "MANAGED",
         ""
        ],
        [
         "Location",
         "dbfs:/user/hive/warehouse/quickstart_schema.db/users",
         ""
        ],
        [
         "Provider",
         "delta",
         ""
        ],
        [
         "Owner",
         "root",
         ""
        ],
        [
         "Is_managed_location",
         "true",
         ""
        ],
        [
         "Table Properties",
         "[delta.minReaderVersion=1,delta.minWriterVersion=2]",
         ""
        ]
       ],
       "datasetInfos": [],
       "dbfsResultPath": null,
       "isJsonSchema": true,
       "metadata": {},
       "overflow": false,
       "plotOptions": {
        "customPlotOptions": {},
        "displayType": "table",
        "pivotAggregation": null,
        "pivotColumns": null,
        "xColumns": null,
        "yColumns": null
       },
       "removedWidgets": [],
       "schema": [
        {
         "metadata": "{\"comment\":\"name of the column\"}",
         "name": "col_name",
         "type": "\"string\""
        },
        {
         "metadata": "{\"comment\":\"data type of the column\"}",
         "name": "data_type",
         "type": "\"string\""
        },
        {
         "metadata": "{\"comment\":\"comment of the column\"}",
         "name": "comment",
         "type": "\"string\""
        }
       ],
       "type": "table"
      }
     },
     "output_type": "display_data"
    }
   ],
   "source": [
    "%sql\n",
    "\n",
    "CREATE SCHEMA IF NOT EXISTS quickstart_schema;"
   ]
  },
  {
   "cell_type": "markdown",
   "metadata": {
    "application/vnd.databricks.v1+cell": {
     "cellMetadata": {},
     "inputWidgets": {},
     "nuid": "f7c507e0-d0c3-4db0-8ca9-17688cc86cc7",
     "showTitle": false,
     "tableResultSettingsMap": {},
     "title": ""
    }
   },
   "source": [
    "## Transaction 00 - Create Table"
   ]
  },
  {
   "cell_type": "markdown",
   "metadata": {
    "application/vnd.databricks.v1+cell": {
     "cellMetadata": {},
     "inputWidgets": {},
     "nuid": "99436c4d-8ed0-484d-a6ec-790b08697413",
     "showTitle": false,
     "tableResultSettingsMap": {},
     "title": ""
    }
   },
   "source": [
    "## Internal Table"
   ]
  },
  {
   "cell_type": "code",
   "execution_count": 0,
   "metadata": {
    "application/vnd.databricks.v1+cell": {
     "cellMetadata": {},
     "inputWidgets": {},
     "nuid": "33282178-fe24-495d-90b5-3ef29f1db872",
     "showTitle": false,
     "tableResultSettingsMap": {},
     "title": ""
    }
   },
   "outputs": [],
   "source": [
    "%sql\n",
    "CREATE TABLE IF NOT EXISTS quickstart_schema.users(\n",
    "  id INT,\n",
    "  name STRING,\n",
    "  dob DATE,\n",
    "  email STRING,\n",
    "  gender STRING,\n",
    "  country STRING,\n",
    "  region STRING,\n",
    "  city STRING,\n",
    "  asset INT,\n",
    "  marital_status STRING\n",
    ");\n",
    "DESCRIBE EXTENDED quickstart_schema.users;"
   ]
  },
  {
   "cell_type": "markdown",
   "metadata": {
    "application/vnd.databricks.v1+cell": {
     "cellMetadata": {},
     "inputWidgets": {},
     "nuid": "191d3cb9-f376-4e2e-86f1-3bacf09114ea",
     "showTitle": false,
     "tableResultSettingsMap": {},
     "title": ""
    }
   },
   "source": [
    "## External Table"
   ]
  },
  {
   "cell_type": "code",
   "execution_count": 0,
   "metadata": {
    "application/vnd.databricks.v1+cell": {
     "cellMetadata": {
      "byteLimit": 2048000,
      "implicitDf": true,
      "rowLimit": 10000
     },
     "inputWidgets": {},
     "nuid": "ba825b11-1a19-467d-b7b1-d1c6cad5b62a",
     "showTitle": false,
     "tableResultSettingsMap": {},
     "title": ""
    }
   },
   "outputs": [
    {
     "output_type": "display_data",
     "data": {
      "text/html": [
       "<style scoped>\n",
       "  .table-result-container {\n",
       "    max-height: 300px;\n",
       "    overflow: auto;\n",
       "  }\n",
       "  table, th, td {\n",
       "    border: 1px solid black;\n",
       "    border-collapse: collapse;\n",
       "  }\n",
       "  th, td {\n",
       "    padding: 5px;\n",
       "  }\n",
       "  th {\n",
       "    text-align: left;\n",
       "  }\n",
       "</style><div class='table-result-container'><table class='table-result'><thead style='background-color: white'><tr></tr></thead><tbody></tbody></table></div>"
      ]
     },
     "metadata": {
      "application/vnd.databricks.v1+output": {
       "addedWidgets": {},
       "aggData": [],
       "aggError": "",
       "aggOverflow": false,
       "aggSchema": [],
       "aggSeriesLimitReached": false,
       "aggType": "",
       "arguments": {},
       "columnCustomDisplayInfos": {},
       "data": [],
       "datasetInfos": [],
       "dbfsResultPath": null,
       "isJsonSchema": true,
       "metadata": {},
       "overflow": false,
       "plotOptions": {
        "customPlotOptions": {},
        "displayType": "table",
        "pivotAggregation": null,
        "pivotColumns": null,
        "xColumns": null,
        "yColumns": null
       },
       "removedWidgets": [],
       "schema": [],
       "type": "table"
      }
     },
     "output_type": "display_data"
    }
   ],
   "source": [
    "%sql\n",
    "CREATE TABLE IF NOT EXISTS quickstart_schema.users_ext(\n",
    "  id INT,\n",
    "  name STRING,\n",
    "  dob DATE,\n",
    "  email STRING,\n",
    "  gender STRING,\n",
    "  country STRING,\n",
    "  region STRING,\n",
    "  city STRING,\n",
    "  asset INT,\n",
    "  marital_status STRING\n",
    ") USING CSV\n",
    "LOCATION \"dbfs:/FileStore/synechron/users\";"
   ]
  },
  {
   "cell_type": "code",
   "execution_count": 0,
   "metadata": {
    "application/vnd.databricks.v1+cell": {
     "cellMetadata": {
      "byteLimit": 2048000,
      "implicitDf": true,
      "rowLimit": 10000
     },
     "inputWidgets": {},
     "nuid": "4e7904dc-2d0b-44fc-be4c-61669e35f354",
     "showTitle": false,
     "tableResultSettingsMap": {},
     "title": ""
    }
   },
   "outputs": [
    {
     "output_type": "display_data",
     "data": {
      "text/html": [
       "<style scoped>\n",
       "  .table-result-container {\n",
       "    max-height: 300px;\n",
       "    overflow: auto;\n",
       "  }\n",
       "  table, th, td {\n",
       "    border: 1px solid black;\n",
       "    border-collapse: collapse;\n",
       "  }\n",
       "  th, td {\n",
       "    padding: 5px;\n",
       "  }\n",
       "  th {\n",
       "    text-align: left;\n",
       "  }\n",
       "</style><div class='table-result-container'><table class='table-result'><thead style='background-color: white'><tr><th>col_name</th><th>data_type</th><th>comment</th></tr></thead><tbody><tr><td>id</td><td>int</td><td>null</td></tr><tr><td>name</td><td>string</td><td>null</td></tr><tr><td>dob</td><td>date</td><td>null</td></tr><tr><td>email</td><td>string</td><td>null</td></tr><tr><td>gender</td><td>string</td><td>null</td></tr><tr><td>country</td><td>string</td><td>null</td></tr><tr><td>region</td><td>string</td><td>null</td></tr><tr><td>city</td><td>string</td><td>null</td></tr><tr><td>asset</td><td>int</td><td>null</td></tr><tr><td>marital_status</td><td>string</td><td>null</td></tr><tr><td></td><td></td><td></td></tr><tr><td># Detailed Table Information</td><td></td><td></td></tr><tr><td>Catalog</td><td>spark_catalog</td><td></td></tr><tr><td>Database</td><td>quickstart_schema</td><td></td></tr><tr><td>Table</td><td>users_ext</td><td></td></tr><tr><td>Owner</td><td>root</td><td></td></tr><tr><td>Created Time</td><td>Fri Dec 06 04:08:23 UTC 2024</td><td></td></tr><tr><td>Last Access</td><td>UNKNOWN</td><td></td></tr><tr><td>Created By</td><td>Spark 3.3.2</td><td></td></tr><tr><td>Type</td><td>EXTERNAL</td><td></td></tr><tr><td>Provider</td><td>CSV</td><td></td></tr><tr><td>Location</td><td>dbfs:/FileStore/synechron/users</td><td></td></tr><tr><td>Serde Library</td><td>org.apache.hadoop.hive.serde2.lazy.LazySimpleSerDe</td><td></td></tr><tr><td>InputFormat</td><td>org.apache.hadoop.mapred.SequenceFileInputFormat</td><td></td></tr><tr><td>OutputFormat</td><td>org.apache.hadoop.hive.ql.io.HiveSequenceFileOutputFormat</td><td></td></tr></tbody></table></div>"
      ]
     },
     "metadata": {
      "application/vnd.databricks.v1+output": {
       "addedWidgets": {},
       "aggData": [],
       "aggError": "",
       "aggOverflow": false,
       "aggSchema": [],
       "aggSeriesLimitReached": false,
       "aggType": "",
       "arguments": {},
       "columnCustomDisplayInfos": {},
       "data": [
        [
         "id",
         "int",
         null
        ],
        [
         "name",
         "string",
         null
        ],
        [
         "dob",
         "date",
         null
        ],
        [
         "email",
         "string",
         null
        ],
        [
         "gender",
         "string",
         null
        ],
        [
         "country",
         "string",
         null
        ],
        [
         "region",
         "string",
         null
        ],
        [
         "city",
         "string",
         null
        ],
        [
         "asset",
         "int",
         null
        ],
        [
         "marital_status",
         "string",
         null
        ],
        [
         "",
         "",
         ""
        ],
        [
         "# Detailed Table Information",
         "",
         ""
        ],
        [
         "Catalog",
         "spark_catalog",
         ""
        ],
        [
         "Database",
         "quickstart_schema",
         ""
        ],
        [
         "Table",
         "users_ext",
         ""
        ],
        [
         "Owner",
         "root",
         ""
        ],
        [
         "Created Time",
         "Fri Dec 06 04:08:23 UTC 2024",
         ""
        ],
        [
         "Last Access",
         "UNKNOWN",
         ""
        ],
        [
         "Created By",
         "Spark 3.3.2",
         ""
        ],
        [
         "Type",
         "EXTERNAL",
         ""
        ],
        [
         "Provider",
         "CSV",
         ""
        ],
        [
         "Location",
         "dbfs:/FileStore/synechron/users",
         ""
        ],
        [
         "Serde Library",
         "org.apache.hadoop.hive.serde2.lazy.LazySimpleSerDe",
         ""
        ],
        [
         "InputFormat",
         "org.apache.hadoop.mapred.SequenceFileInputFormat",
         ""
        ],
        [
         "OutputFormat",
         "org.apache.hadoop.hive.ql.io.HiveSequenceFileOutputFormat",
         ""
        ]
       ],
       "datasetInfos": [],
       "dbfsResultPath": null,
       "isJsonSchema": true,
       "metadata": {},
       "overflow": false,
       "plotOptions": {
        "customPlotOptions": {},
        "displayType": "table",
        "pivotAggregation": null,
        "pivotColumns": null,
        "xColumns": null,
        "yColumns": null
       },
       "removedWidgets": [],
       "schema": [
        {
         "metadata": "{\"comment\":\"name of the column\"}",
         "name": "col_name",
         "type": "\"string\""
        },
        {
         "metadata": "{\"comment\":\"data type of the column\"}",
         "name": "data_type",
         "type": "\"string\""
        },
        {
         "metadata": "{\"comment\":\"comment of the column\"}",
         "name": "comment",
         "type": "\"string\""
        }
       ],
       "type": "table"
      }
     },
     "output_type": "display_data"
    }
   ],
   "source": [
    "%sql\n",
    "DESCRIBE FORMATTED quickstart_schema.users_ext;"
   ]
  },
  {
   "cell_type": "markdown",
   "metadata": {
    "application/vnd.databricks.v1+cell": {
     "cellMetadata": {},
     "inputWidgets": {},
     "nuid": "00e65122-d3ba-4604-a58b-456fe999daba",
     "showTitle": false,
     "tableResultSettingsMap": {},
     "title": ""
    }
   },
   "source": [
    "# Transaction 01 -  Load data into Delta Table"
   ]
  },
  {
   "cell_type": "code",
   "execution_count": 0,
   "metadata": {
    "application/vnd.databricks.v1+cell": {
     "cellMetadata": {
      "byteLimit": 2048000,
      "rowLimit": 10000
     },
     "inputWidgets": {},
     "nuid": "c80b9e74-2ecc-4a7a-b671-77c082b4ff9f",
     "showTitle": false,
     "tableResultSettingsMap": {},
     "title": ""
    }
   },
   "outputs": [],
   "source": [
    "spark.read.csv(\n",
    "    path=\"dbfs:/FileStore/synechron/user_dataset/users_001.csv\",\n",
    "    header=True,\n",
    "    inferSchema=True,\n",
    ").write.mode(\"overwrite\").saveAsTable(\"quickstart_schema.users\")"
   ]
  },
  {
   "cell_type": "markdown",
   "metadata": {
    "application/vnd.databricks.v1+cell": {
     "cellMetadata": {},
     "inputWidgets": {},
     "nuid": "45affada-da9d-47cc-bebb-a926fb245708",
     "showTitle": false,
     "tableResultSettingsMap": {},
     "title": ""
    }
   },
   "source": [
    "# Read Delta Table"
   ]
  },
  {
   "cell_type": "code",
   "execution_count": 0,
   "metadata": {
    "application/vnd.databricks.v1+cell": {
     "cellMetadata": {},
     "inputWidgets": {},
     "nuid": "e149c29f-16b7-404c-9d48-1d80147b0c80",
     "showTitle": false,
     "tableResultSettingsMap": {},
     "title": ""
    }
   },
   "outputs": [],
   "source": [
    "spark.read.table(\"quickstart_schema.users\").limit(4).display()"
   ]
  },
  {
   "cell_type": "markdown",
   "metadata": {
    "application/vnd.databricks.v1+cell": {
     "cellMetadata": {},
     "inputWidgets": {},
     "nuid": "375b09a0-83b6-4266-83f5-3bafec4161b9",
     "showTitle": false,
     "tableResultSettingsMap": {},
     "title": ""
    }
   },
   "source": [
    "# List Transaction History\n",
    "\n"
   ]
  },
  {
   "cell_type": "markdown",
   "metadata": {
    "application/vnd.databricks.v1+cell": {
     "cellMetadata": {},
     "inputWidgets": {},
     "nuid": "ca6a5dd4-63b5-4c8a-b5b2-6946ad24e400",
     "showTitle": false,
     "tableResultSettingsMap": {},
     "title": ""
    }
   },
   "source": [
    "## Approach 01"
   ]
  },
  {
   "cell_type": "code",
   "execution_count": 0,
   "metadata": {
    "application/vnd.databricks.v1+cell": {
     "cellMetadata": {
      "byteLimit": 2048000,
      "implicitDf": true,
      "rowLimit": 10000
     },
     "inputWidgets": {},
     "nuid": "cb0f4a63-7be6-469d-908f-82dc5a58e481",
     "showTitle": false,
     "tableResultSettingsMap": {},
     "title": ""
    }
   },
   "outputs": [
    {
     "output_type": "display_data",
     "data": {
      "text/html": [
       "<style scoped>\n",
       "  .table-result-container {\n",
       "    max-height: 300px;\n",
       "    overflow: auto;\n",
       "  }\n",
       "  table, th, td {\n",
       "    border: 1px solid black;\n",
       "    border-collapse: collapse;\n",
       "  }\n",
       "  th, td {\n",
       "    padding: 5px;\n",
       "  }\n",
       "  th {\n",
       "    text-align: left;\n",
       "  }\n",
       "</style><div class='table-result-container'><table class='table-result'><thead style='background-color: white'><tr><th>version</th><th>timestamp</th><th>userId</th><th>userName</th><th>operation</th><th>operationParameters</th><th>job</th><th>notebook</th><th>clusterId</th><th>readVersion</th><th>isolationLevel</th><th>isBlindAppend</th><th>operationMetrics</th><th>userMetadata</th><th>engineInfo</th></tr></thead><tbody><tr><td>2</td><td>2024-12-06T04:41:29.000+0000</td><td>6836536383695527</td><td>naveenpn.trainer@gmail.com</td><td>CREATE OR REPLACE TABLE AS SELECT</td><td>Map(isManaged -> true, description -> null, partitionBy -> [], properties -> {})</td><td>null</td><td>List(1565450580302794)</td><td>1206-034735-h2b69thq</td><td>1</td><td>WriteSerializable</td><td>false</td><td>Map(numFiles -> 1, numOutputRows -> 247, numOutputBytes -> 15871)</td><td>null</td><td>Databricks-Runtime/12.2.x-scala2.12</td></tr><tr><td>1</td><td>2024-12-06T03:58:41.000+0000</td><td>6836536383695527</td><td>naveenpn.trainer@gmail.com</td><td>CREATE OR REPLACE TABLE AS SELECT</td><td>Map(isManaged -> true, description -> null, partitionBy -> [], properties -> {})</td><td>null</td><td>List(1565450580302794)</td><td>1206-034735-h2b69thq</td><td>0</td><td>WriteSerializable</td><td>false</td><td>Map(numFiles -> 1, numOutputRows -> 500, numOutputBytes -> 28541)</td><td>null</td><td>Databricks-Runtime/12.2.x-scala2.12</td></tr><tr><td>0</td><td>2024-12-06T03:53:06.000+0000</td><td>6836536383695527</td><td>naveenpn.trainer@gmail.com</td><td>CREATE TABLE</td><td>Map(isManaged -> true, description -> null, partitionBy -> [], properties -> {})</td><td>null</td><td>List(1565450580302794)</td><td>1206-034735-h2b69thq</td><td>null</td><td>WriteSerializable</td><td>true</td><td>Map()</td><td>null</td><td>Databricks-Runtime/12.2.x-scala2.12</td></tr></tbody></table></div>"
      ]
     },
     "metadata": {
      "application/vnd.databricks.v1+output": {
       "addedWidgets": {},
       "aggData": [],
       "aggError": "",
       "aggOverflow": false,
       "aggSchema": [],
       "aggSeriesLimitReached": false,
       "aggType": "",
       "arguments": {},
       "columnCustomDisplayInfos": {},
       "data": [
        [
         2,
         "2024-12-06T04:41:29.000+0000",
         "6836536383695527",
         "naveenpn.trainer@gmail.com",
         "CREATE OR REPLACE TABLE AS SELECT",
         {
          "description": null,
          "isManaged": "true",
          "partitionBy": "[]",
          "properties": "{}"
         },
         null,
         [
          "1565450580302794"
         ],
         "1206-034735-h2b69thq",
         1,
         "WriteSerializable",
         false,
         {
          "numFiles": "1",
          "numOutputBytes": "15871",
          "numOutputRows": "247"
         },
         null,
         "Databricks-Runtime/12.2.x-scala2.12"
        ],
        [
         1,
         "2024-12-06T03:58:41.000+0000",
         "6836536383695527",
         "naveenpn.trainer@gmail.com",
         "CREATE OR REPLACE TABLE AS SELECT",
         {
          "description": null,
          "isManaged": "true",
          "partitionBy": "[]",
          "properties": "{}"
         },
         null,
         [
          "1565450580302794"
         ],
         "1206-034735-h2b69thq",
         0,
         "WriteSerializable",
         false,
         {
          "numFiles": "1",
          "numOutputBytes": "28541",
          "numOutputRows": "500"
         },
         null,
         "Databricks-Runtime/12.2.x-scala2.12"
        ],
        [
         0,
         "2024-12-06T03:53:06.000+0000",
         "6836536383695527",
         "naveenpn.trainer@gmail.com",
         "CREATE TABLE",
         {
          "description": null,
          "isManaged": "true",
          "partitionBy": "[]",
          "properties": "{}"
         },
         null,
         [
          "1565450580302794"
         ],
         "1206-034735-h2b69thq",
         null,
         "WriteSerializable",
         true,
         {},
         null,
         "Databricks-Runtime/12.2.x-scala2.12"
        ]
       ],
       "datasetInfos": [],
       "dbfsResultPath": null,
       "isJsonSchema": true,
       "metadata": {},
       "overflow": false,
       "plotOptions": {
        "customPlotOptions": {},
        "displayType": "table",
        "pivotAggregation": null,
        "pivotColumns": null,
        "xColumns": null,
        "yColumns": null
       },
       "removedWidgets": [],
       "schema": [
        {
         "metadata": "{}",
         "name": "version",
         "type": "\"long\""
        },
        {
         "metadata": "{}",
         "name": "timestamp",
         "type": "\"timestamp\""
        },
        {
         "metadata": "{}",
         "name": "userId",
         "type": "\"string\""
        },
        {
         "metadata": "{}",
         "name": "userName",
         "type": "\"string\""
        },
        {
         "metadata": "{}",
         "name": "operation",
         "type": "\"string\""
        },
        {
         "metadata": "{}",
         "name": "operationParameters",
         "type": "{\"type\":\"map\",\"keyType\":\"string\",\"valueType\":\"string\",\"valueContainsNull\":true}"
        },
        {
         "metadata": "{}",
         "name": "job",
         "type": "{\"type\":\"struct\",\"fields\":[{\"name\":\"jobId\",\"type\":\"string\",\"nullable\":true,\"metadata\":{}},{\"name\":\"jobName\",\"type\":\"string\",\"nullable\":true,\"metadata\":{}},{\"name\":\"jobRunId\",\"type\":\"string\",\"nullable\":true,\"metadata\":{}},{\"name\":\"runId\",\"type\":\"string\",\"nullable\":true,\"metadata\":{}},{\"name\":\"jobOwnerId\",\"type\":\"string\",\"nullable\":true,\"metadata\":{}},{\"name\":\"triggerType\",\"type\":\"string\",\"nullable\":true,\"metadata\":{}}]}"
        },
        {
         "metadata": "{}",
         "name": "notebook",
         "type": "{\"type\":\"struct\",\"fields\":[{\"name\":\"notebookId\",\"type\":\"string\",\"nullable\":true,\"metadata\":{}}]}"
        },
        {
         "metadata": "{}",
         "name": "clusterId",
         "type": "\"string\""
        },
        {
         "metadata": "{}",
         "name": "readVersion",
         "type": "\"long\""
        },
        {
         "metadata": "{}",
         "name": "isolationLevel",
         "type": "\"string\""
        },
        {
         "metadata": "{}",
         "name": "isBlindAppend",
         "type": "\"boolean\""
        },
        {
         "metadata": "{}",
         "name": "operationMetrics",
         "type": "{\"type\":\"map\",\"keyType\":\"string\",\"valueType\":\"string\",\"valueContainsNull\":true}"
        },
        {
         "metadata": "{}",
         "name": "userMetadata",
         "type": "\"string\""
        },
        {
         "metadata": "{}",
         "name": "engineInfo",
         "type": "\"string\""
        }
       ],
       "type": "table"
      }
     },
     "output_type": "display_data"
    }
   ],
   "source": [
    "%sql\n",
    "\n",
    "DESCRIBE HISTORY quickstart_schema.users;"
   ]
  },
  {
   "cell_type": "markdown",
   "metadata": {
    "application/vnd.databricks.v1+cell": {
     "cellMetadata": {},
     "inputWidgets": {},
     "nuid": "bdec9a4b-e186-44fe-a69a-ffd805227e19",
     "showTitle": false,
     "tableResultSettingsMap": {},
     "title": ""
    }
   },
   "source": [
    "## Approach 02"
   ]
  },
  {
   "cell_type": "code",
   "execution_count": 0,
   "metadata": {
    "application/vnd.databricks.v1+cell": {
     "cellMetadata": {
      "byteLimit": 2048000,
      "rowLimit": 10000
     },
     "inputWidgets": {},
     "nuid": "0b317ad9-47a8-4997-9e2b-6bc01c321289",
     "showTitle": false,
     "tableResultSettingsMap": {},
     "title": ""
    }
   },
   "outputs": [
    {
     "output_type": "display_data",
     "data": {
      "text/html": [
       "<style scoped>\n",
       "  .table-result-container {\n",
       "    max-height: 300px;\n",
       "    overflow: auto;\n",
       "  }\n",
       "  table, th, td {\n",
       "    border: 1px solid black;\n",
       "    border-collapse: collapse;\n",
       "  }\n",
       "  th, td {\n",
       "    padding: 5px;\n",
       "  }\n",
       "  th {\n",
       "    text-align: left;\n",
       "  }\n",
       "</style><div class='table-result-container'><table class='table-result'><thead style='background-color: white'><tr><th>version</th><th>timestamp</th><th>userId</th><th>userName</th><th>operation</th><th>operationParameters</th><th>job</th><th>notebook</th><th>clusterId</th><th>readVersion</th><th>isolationLevel</th><th>isBlindAppend</th><th>operationMetrics</th><th>userMetadata</th><th>engineInfo</th></tr></thead><tbody><tr><td>1</td><td>2024-12-06T03:58:41.000+0000</td><td>6836536383695527</td><td>naveenpn.trainer@gmail.com</td><td>CREATE OR REPLACE TABLE AS SELECT</td><td>Map(isManaged -> true, description -> null, partitionBy -> [], properties -> {})</td><td>null</td><td>List(1565450580302794)</td><td>1206-034735-h2b69thq</td><td>0</td><td>WriteSerializable</td><td>false</td><td>Map(numFiles -> 1, numOutputRows -> 500, numOutputBytes -> 28541)</td><td>null</td><td>Databricks-Runtime/12.2.x-scala2.12</td></tr><tr><td>0</td><td>2024-12-06T03:53:06.000+0000</td><td>6836536383695527</td><td>naveenpn.trainer@gmail.com</td><td>CREATE TABLE</td><td>Map(isManaged -> true, description -> null, partitionBy -> [], properties -> {})</td><td>null</td><td>List(1565450580302794)</td><td>1206-034735-h2b69thq</td><td>null</td><td>WriteSerializable</td><td>true</td><td>Map()</td><td>null</td><td>Databricks-Runtime/12.2.x-scala2.12</td></tr></tbody></table></div>"
      ]
     },
     "metadata": {
      "application/vnd.databricks.v1+output": {
       "addedWidgets": {},
       "aggData": [],
       "aggError": "",
       "aggOverflow": false,
       "aggSchema": [],
       "aggSeriesLimitReached": false,
       "aggType": "",
       "arguments": {},
       "columnCustomDisplayInfos": {},
       "data": [
        [
         1,
         "2024-12-06T03:58:41.000+0000",
         "6836536383695527",
         "naveenpn.trainer@gmail.com",
         "CREATE OR REPLACE TABLE AS SELECT",
         {
          "description": null,
          "isManaged": "true",
          "partitionBy": "[]",
          "properties": "{}"
         },
         null,
         [
          "1565450580302794"
         ],
         "1206-034735-h2b69thq",
         0,
         "WriteSerializable",
         false,
         {
          "numFiles": "1",
          "numOutputBytes": "28541",
          "numOutputRows": "500"
         },
         null,
         "Databricks-Runtime/12.2.x-scala2.12"
        ],
        [
         0,
         "2024-12-06T03:53:06.000+0000",
         "6836536383695527",
         "naveenpn.trainer@gmail.com",
         "CREATE TABLE",
         {
          "description": null,
          "isManaged": "true",
          "partitionBy": "[]",
          "properties": "{}"
         },
         null,
         [
          "1565450580302794"
         ],
         "1206-034735-h2b69thq",
         null,
         "WriteSerializable",
         true,
         {},
         null,
         "Databricks-Runtime/12.2.x-scala2.12"
        ]
       ],
       "datasetInfos": [],
       "dbfsResultPath": null,
       "isJsonSchema": true,
       "metadata": {},
       "overflow": false,
       "plotOptions": {
        "customPlotOptions": {},
        "displayType": "table",
        "pivotAggregation": null,
        "pivotColumns": null,
        "xColumns": null,
        "yColumns": null
       },
       "removedWidgets": [],
       "schema": [
        {
         "metadata": "{}",
         "name": "version",
         "type": "\"long\""
        },
        {
         "metadata": "{}",
         "name": "timestamp",
         "type": "\"timestamp\""
        },
        {
         "metadata": "{}",
         "name": "userId",
         "type": "\"string\""
        },
        {
         "metadata": "{}",
         "name": "userName",
         "type": "\"string\""
        },
        {
         "metadata": "{}",
         "name": "operation",
         "type": "\"string\""
        },
        {
         "metadata": "{}",
         "name": "operationParameters",
         "type": "{\"type\":\"map\",\"keyType\":\"string\",\"valueType\":\"string\",\"valueContainsNull\":true}"
        },
        {
         "metadata": "{}",
         "name": "job",
         "type": "{\"type\":\"struct\",\"fields\":[{\"name\":\"jobId\",\"type\":\"string\",\"nullable\":true,\"metadata\":{}},{\"name\":\"jobName\",\"type\":\"string\",\"nullable\":true,\"metadata\":{}},{\"name\":\"jobRunId\",\"type\":\"string\",\"nullable\":true,\"metadata\":{}},{\"name\":\"runId\",\"type\":\"string\",\"nullable\":true,\"metadata\":{}},{\"name\":\"jobOwnerId\",\"type\":\"string\",\"nullable\":true,\"metadata\":{}},{\"name\":\"triggerType\",\"type\":\"string\",\"nullable\":true,\"metadata\":{}}]}"
        },
        {
         "metadata": "{}",
         "name": "notebook",
         "type": "{\"type\":\"struct\",\"fields\":[{\"name\":\"notebookId\",\"type\":\"string\",\"nullable\":true,\"metadata\":{}}]}"
        },
        {
         "metadata": "{}",
         "name": "clusterId",
         "type": "\"string\""
        },
        {
         "metadata": "{}",
         "name": "readVersion",
         "type": "\"long\""
        },
        {
         "metadata": "{}",
         "name": "isolationLevel",
         "type": "\"string\""
        },
        {
         "metadata": "{}",
         "name": "isBlindAppend",
         "type": "\"boolean\""
        },
        {
         "metadata": "{}",
         "name": "operationMetrics",
         "type": "{\"type\":\"map\",\"keyType\":\"string\",\"valueType\":\"string\",\"valueContainsNull\":true}"
        },
        {
         "metadata": "{}",
         "name": "userMetadata",
         "type": "\"string\""
        },
        {
         "metadata": "{}",
         "name": "engineInfo",
         "type": "\"string\""
        }
       ],
       "type": "table"
      }
     },
     "output_type": "display_data"
    }
   ],
   "source": [
    "from delta.tables import DeltaTable\n",
    "table_name = \"quickstart_schema.users\"\n",
    "delta_table = DeltaTable.forName(spark,table_name)\n",
    "delta_table.history().display()"
   ]
  },
  {
   "cell_type": "markdown",
   "metadata": {
    "application/vnd.databricks.v1+cell": {
     "cellMetadata": {},
     "inputWidgets": {},
     "nuid": "d8e0b9b5-529b-461c-b4ce-f38c61a43bc7",
     "showTitle": false,
     "tableResultSettingsMap": {},
     "title": ""
    }
   },
   "source": [
    "# Read specific versions"
   ]
  },
  {
   "cell_type": "code",
   "execution_count": 0,
   "metadata": {
    "application/vnd.databricks.v1+cell": {
     "cellMetadata": {
      "byteLimit": 2048000,
      "implicitDf": true,
      "rowLimit": 10000
     },
     "inputWidgets": {},
     "nuid": "72c81062-2c6b-4ff2-a308-c581c5372bfb",
     "showTitle": false,
     "tableResultSettingsMap": {},
     "title": ""
    }
   },
   "outputs": [
    {
     "output_type": "display_data",
     "data": {
      "text/html": [
       "<style scoped>\n",
       "  .table-result-container {\n",
       "    max-height: 300px;\n",
       "    overflow: auto;\n",
       "  }\n",
       "  table, th, td {\n",
       "    border: 1px solid black;\n",
       "    border-collapse: collapse;\n",
       "  }\n",
       "  th, td {\n",
       "    padding: 5px;\n",
       "  }\n",
       "  th {\n",
       "    text-align: left;\n",
       "  }\n",
       "</style><div class='table-result-container'><table class='table-result'><thead style='background-color: white'><tr><th>id</th><th>name</th><th>dob</th><th>email</th><th>gender</th><th>country</th><th>region</th><th>city</th><th>asset</th><th>marital_status</th></tr></thead><tbody><tr><td>1</td><td>Heather Gibbs</td><td>2024-10-31</td><td>heathergibbs6243@gmail.com</td><td>Female</td><td>United States</td><td>Virginia</td><td>Virginia Beach</td><td>734388</td><td>Married</td></tr><tr><td>2</td><td>Herrod Petersen</td><td>2024-02-19</td><td>herrodpetersen@yahoomail.com</td><td>Male</td><td>United States</td><td>Arizona</td><td>Phoenix</td><td>113506</td><td>Single</td></tr><tr><td>3</td><td>Ocean Workman</td><td>2024-10-10</td><td>oceanworkman2328@ymail.com</td><td>Male</td><td>United States</td><td>Tennessee</td><td>Clarksville</td><td>139985</td><td>Married</td></tr><tr><td>4</td><td>Xaviera Maxwell</td><td>2025-03-09</td><td>xavieramaxwell@gmail.com</td><td>Transgender</td><td>United States</td><td>Ohio</td><td>Cleveland</td><td>511409</td><td>Married</td></tr></tbody></table></div>"
      ]
     },
     "metadata": {
      "application/vnd.databricks.v1+output": {
       "addedWidgets": {},
       "aggData": [],
       "aggError": "",
       "aggOverflow": false,
       "aggSchema": [],
       "aggSeriesLimitReached": false,
       "aggType": "",
       "arguments": {},
       "columnCustomDisplayInfos": {},
       "data": [
        [
         1,
         "Heather Gibbs",
         "2024-10-31",
         "heathergibbs6243@gmail.com",
         "Female",
         "United States",
         "Virginia",
         "Virginia Beach",
         734388,
         "Married"
        ],
        [
         2,
         "Herrod Petersen",
         "2024-02-19",
         "herrodpetersen@yahoomail.com",
         "Male",
         "United States",
         "Arizona",
         "Phoenix",
         113506,
         "Single"
        ],
        [
         3,
         "Ocean Workman",
         "2024-10-10",
         "oceanworkman2328@ymail.com",
         "Male",
         "United States",
         "Tennessee",
         "Clarksville",
         139985,
         "Married"
        ],
        [
         4,
         "Xaviera Maxwell",
         "2025-03-09",
         "xavieramaxwell@gmail.com",
         "Transgender",
         "United States",
         "Ohio",
         "Cleveland",
         511409,
         "Married"
        ]
       ],
       "datasetInfos": [],
       "dbfsResultPath": null,
       "isJsonSchema": true,
       "metadata": {},
       "overflow": false,
       "plotOptions": {
        "customPlotOptions": {},
        "displayType": "table",
        "pivotAggregation": null,
        "pivotColumns": null,
        "xColumns": null,
        "yColumns": null
       },
       "removedWidgets": [],
       "schema": [
        {
         "metadata": "{}",
         "name": "id",
         "type": "\"integer\""
        },
        {
         "metadata": "{}",
         "name": "name",
         "type": "\"string\""
        },
        {
         "metadata": "{}",
         "name": "dob",
         "type": "\"date\""
        },
        {
         "metadata": "{}",
         "name": "email",
         "type": "\"string\""
        },
        {
         "metadata": "{}",
         "name": "gender",
         "type": "\"string\""
        },
        {
         "metadata": "{}",
         "name": "country",
         "type": "\"string\""
        },
        {
         "metadata": "{}",
         "name": "region",
         "type": "\"string\""
        },
        {
         "metadata": "{}",
         "name": "city",
         "type": "\"string\""
        },
        {
         "metadata": "{}",
         "name": "asset",
         "type": "\"integer\""
        },
        {
         "metadata": "{}",
         "name": "marital_status",
         "type": "\"string\""
        }
       ],
       "type": "table"
      }
     },
     "output_type": "display_data"
    }
   ],
   "source": [
    "%sql\n",
    "\n",
    "SELECT * from quickstart_schema.users VERSION AS OF 1 LIMIT 4"
   ]
  },
  {
   "cell_type": "markdown",
   "metadata": {
    "application/vnd.databricks.v1+cell": {
     "cellMetadata": {},
     "inputWidgets": {},
     "nuid": "0dc82db4-e7a1-4e80-9424-03801a28a78c",
     "showTitle": false,
     "tableResultSettingsMap": {},
     "title": ""
    }
   },
   "source": [
    "# Partitioning DELTA Table"
   ]
  },
  {
   "cell_type": "code",
   "execution_count": 0,
   "metadata": {
    "application/vnd.databricks.v1+cell": {
     "cellMetadata": {
      "byteLimit": 2048000,
      "implicitDf": true,
      "rowLimit": 10000
     },
     "inputWidgets": {},
     "nuid": "90dc496a-5b02-4d7a-9605-35329e372375",
     "showTitle": false,
     "tableResultSettingsMap": {},
     "title": ""
    }
   },
   "outputs": [
    {
     "output_type": "display_data",
     "data": {
      "text/html": [
       "<style scoped>\n",
       "  .table-result-container {\n",
       "    max-height: 300px;\n",
       "    overflow: auto;\n",
       "  }\n",
       "  table, th, td {\n",
       "    border: 1px solid black;\n",
       "    border-collapse: collapse;\n",
       "  }\n",
       "  th, td {\n",
       "    padding: 5px;\n",
       "  }\n",
       "  th {\n",
       "    text-align: left;\n",
       "  }\n",
       "</style><div class='table-result-container'><table class='table-result'><thead style='background-color: white'><tr><th>col_name</th><th>data_type</th><th>comment</th></tr></thead><tbody><tr><td>id</td><td>int</td><td>null</td></tr><tr><td>name</td><td>string</td><td>null</td></tr><tr><td>dob</td><td>date</td><td>null</td></tr><tr><td>email</td><td>string</td><td>null</td></tr><tr><td>gender</td><td>string</td><td>null</td></tr><tr><td>country</td><td>string</td><td>null</td></tr><tr><td>region</td><td>string</td><td>null</td></tr><tr><td>city</td><td>string</td><td>null</td></tr><tr><td>asset</td><td>int</td><td>null</td></tr><tr><td>marital_status</td><td>string</td><td>null</td></tr><tr><td># Partition Information</td><td></td><td></td></tr><tr><td># col_name</td><td>data_type</td><td>comment</td></tr><tr><td>country</td><td>string</td><td>null</td></tr><tr><td>region</td><td>string</td><td>null</td></tr><tr><td>city</td><td>string</td><td>null</td></tr><tr><td></td><td></td><td></td></tr><tr><td># Detailed Table Information</td><td></td><td></td></tr><tr><td>Catalog</td><td>spark_catalog</td><td></td></tr><tr><td>Database</td><td>quickstart_schema</td><td></td></tr><tr><td>Table</td><td>users_partitioned</td><td></td></tr><tr><td>Created Time</td><td>Fri Dec 06 04:30:16 UTC 2024</td><td></td></tr><tr><td>Last Access</td><td>UNKNOWN</td><td></td></tr><tr><td>Created By</td><td>Spark 3.3.2</td><td></td></tr><tr><td>Type</td><td>MANAGED</td><td></td></tr><tr><td>Location</td><td>dbfs:/user/hive/warehouse/quickstart_schema.db/users_partitioned</td><td></td></tr><tr><td>Provider</td><td>delta</td><td></td></tr><tr><td>Owner</td><td>root</td><td></td></tr><tr><td>Is_managed_location</td><td>true</td><td></td></tr><tr><td>Table Properties</td><td>[delta.minReaderVersion=1,delta.minWriterVersion=2]</td><td></td></tr></tbody></table></div>"
      ]
     },
     "metadata": {
      "application/vnd.databricks.v1+output": {
       "addedWidgets": {},
       "aggData": [],
       "aggError": "",
       "aggOverflow": false,
       "aggSchema": [],
       "aggSeriesLimitReached": false,
       "aggType": "",
       "arguments": {},
       "columnCustomDisplayInfos": {},
       "data": [
        [
         "id",
         "int",
         null
        ],
        [
         "name",
         "string",
         null
        ],
        [
         "dob",
         "date",
         null
        ],
        [
         "email",
         "string",
         null
        ],
        [
         "gender",
         "string",
         null
        ],
        [
         "country",
         "string",
         null
        ],
        [
         "region",
         "string",
         null
        ],
        [
         "city",
         "string",
         null
        ],
        [
         "asset",
         "int",
         null
        ],
        [
         "marital_status",
         "string",
         null
        ],
        [
         "# Partition Information",
         "",
         ""
        ],
        [
         "# col_name",
         "data_type",
         "comment"
        ],
        [
         "country",
         "string",
         null
        ],
        [
         "region",
         "string",
         null
        ],
        [
         "city",
         "string",
         null
        ],
        [
         "",
         "",
         ""
        ],
        [
         "# Detailed Table Information",
         "",
         ""
        ],
        [
         "Catalog",
         "spark_catalog",
         ""
        ],
        [
         "Database",
         "quickstart_schema",
         ""
        ],
        [
         "Table",
         "users_partitioned",
         ""
        ],
        [
         "Created Time",
         "Fri Dec 06 04:30:16 UTC 2024",
         ""
        ],
        [
         "Last Access",
         "UNKNOWN",
         ""
        ],
        [
         "Created By",
         "Spark 3.3.2",
         ""
        ],
        [
         "Type",
         "MANAGED",
         ""
        ],
        [
         "Location",
         "dbfs:/user/hive/warehouse/quickstart_schema.db/users_partitioned",
         ""
        ],
        [
         "Provider",
         "delta",
         ""
        ],
        [
         "Owner",
         "root",
         ""
        ],
        [
         "Is_managed_location",
         "true",
         ""
        ],
        [
         "Table Properties",
         "[delta.minReaderVersion=1,delta.minWriterVersion=2]",
         ""
        ]
       ],
       "datasetInfos": [],
       "dbfsResultPath": null,
       "isJsonSchema": true,
       "metadata": {},
       "overflow": false,
       "plotOptions": {
        "customPlotOptions": {},
        "displayType": "table",
        "pivotAggregation": null,
        "pivotColumns": null,
        "xColumns": null,
        "yColumns": null
       },
       "removedWidgets": [],
       "schema": [
        {
         "metadata": "{\"comment\":\"name of the column\"}",
         "name": "col_name",
         "type": "\"string\""
        },
        {
         "metadata": "{\"comment\":\"data type of the column\"}",
         "name": "data_type",
         "type": "\"string\""
        },
        {
         "metadata": "{\"comment\":\"comment of the column\"}",
         "name": "comment",
         "type": "\"string\""
        }
       ],
       "type": "table"
      }
     },
     "output_type": "display_data"
    }
   ],
   "source": [
    "%sql\n",
    "CREATE TABLE IF NOT EXISTS quickstart_schema.users_partitioned(\n",
    "  id INT,\n",
    "  name STRING,\n",
    "  dob DATE,\n",
    "  email STRING,\n",
    "  gender STRING,\n",
    "  country STRING,\n",
    "  region STRING,\n",
    "  city STRING,\n",
    "  asset INT,\n",
    "  marital_status STRING\n",
    ")\n",
    "PARTITIONED BY (country,region,city);\n",
    "DESCRIBE EXTENDED quickstart_schema.users_partitioned;"
   ]
  },
  {
   "cell_type": "code",
   "execution_count": 0,
   "metadata": {
    "application/vnd.databricks.v1+cell": {
     "cellMetadata": {
      "byteLimit": 2048000,
      "rowLimit": 10000
     },
     "inputWidgets": {},
     "nuid": "982343b3-f633-4490-a0fe-130170d8426a",
     "showTitle": false,
     "tableResultSettingsMap": {},
     "title": ""
    }
   },
   "outputs": [],
   "source": [
    "\n",
    "spark.read.csv(\n",
    "    path=\"dbfs:/FileStore/synechron/user_dataset/users_001.csv\",\n",
    "    header=True,\n",
    "    inferSchema=True,\n",
    ").write.format(\"delta\").mode(\"overwrite\").partitionBy(\"country\",\"region\",\"city\").saveAsTable(\"quickstart_schema.users_partitioned\")"
   ]
  },
  {
   "cell_type": "code",
   "execution_count": 0,
   "metadata": {
    "application/vnd.databricks.v1+cell": {
     "cellMetadata": {
      "byteLimit": 2048000,
      "rowLimit": 10000
     },
     "inputWidgets": {},
     "nuid": "ec337676-4c92-4cf4-b50f-f571524e1d7a",
     "showTitle": false,
     "tableResultSettingsMap": {},
     "title": ""
    }
   },
   "outputs": [
    {
     "output_type": "display_data",
     "data": {
      "text/html": [
       "<style scoped>\n",
       "  .table-result-container {\n",
       "    max-height: 300px;\n",
       "    overflow: auto;\n",
       "  }\n",
       "  table, th, td {\n",
       "    border: 1px solid black;\n",
       "    border-collapse: collapse;\n",
       "  }\n",
       "  th, td {\n",
       "    padding: 5px;\n",
       "  }\n",
       "  th {\n",
       "    text-align: left;\n",
       "  }\n",
       "</style><div class='table-result-container'><table class='table-result'><thead style='background-color: white'><tr><th>id</th><th>name</th><th>dob</th><th>email</th><th>gender</th><th>country</th><th>region</th><th>city</th><th>asset</th><th>marital_status</th></tr></thead><tbody><tr><td>7</td><td>Chantale Nixon</td><td>2023-09-06</td><td>chantalenixon404@ymail.com</td><td>Female</td><td>India</td><td>Andaman and Nicobar Islands</td><td>Port Blair</td><td>717994</td><td>Married</td></tr><tr><td>146</td><td>Vladimir Pierce</td><td>2025-03-04</td><td>vladimirpierce@ymail.com</td><td>Female</td><td>India</td><td>Andaman and Nicobar Islands</td><td>Port Blair</td><td>312067</td><td>Married</td></tr><tr><td>208</td><td>Jonas Decker</td><td>2023-05-08</td><td>jonasdecker@gmail.com</td><td>Male</td><td>India</td><td>Andaman and Nicobar Islands</td><td>Port Blair</td><td>967919</td><td>Common Law</td></tr><tr><td>268</td><td>Cedric Spencer</td><td>2023-05-07</td><td>cedricspencer5169@ymail.com</td><td>Transgender</td><td>India</td><td>Andaman and Nicobar Islands</td><td>Port Blair</td><td>667070</td><td>Single</td></tr></tbody></table></div>"
      ]
     },
     "metadata": {
      "application/vnd.databricks.v1+output": {
       "addedWidgets": {},
       "aggData": [],
       "aggError": "",
       "aggOverflow": false,
       "aggSchema": [],
       "aggSeriesLimitReached": false,
       "aggType": "",
       "arguments": {},
       "columnCustomDisplayInfos": {},
       "data": [
        [
         7,
         "Chantale Nixon",
         "2023-09-06",
         "chantalenixon404@ymail.com",
         "Female",
         "India",
         "Andaman and Nicobar Islands",
         "Port Blair",
         717994,
         "Married"
        ],
        [
         146,
         "Vladimir Pierce",
         "2025-03-04",
         "vladimirpierce@ymail.com",
         "Female",
         "India",
         "Andaman and Nicobar Islands",
         "Port Blair",
         312067,
         "Married"
        ],
        [
         208,
         "Jonas Decker",
         "2023-05-08",
         "jonasdecker@gmail.com",
         "Male",
         "India",
         "Andaman and Nicobar Islands",
         "Port Blair",
         967919,
         "Common Law"
        ],
        [
         268,
         "Cedric Spencer",
         "2023-05-07",
         "cedricspencer5169@ymail.com",
         "Transgender",
         "India",
         "Andaman and Nicobar Islands",
         "Port Blair",
         667070,
         "Single"
        ]
       ],
       "datasetInfos": [],
       "dbfsResultPath": null,
       "isJsonSchema": true,
       "metadata": {},
       "overflow": false,
       "plotOptions": {
        "customPlotOptions": {},
        "displayType": "table",
        "pivotAggregation": null,
        "pivotColumns": null,
        "xColumns": null,
        "yColumns": null
       },
       "removedWidgets": [],
       "schema": [
        {
         "metadata": "{}",
         "name": "id",
         "type": "\"integer\""
        },
        {
         "metadata": "{}",
         "name": "name",
         "type": "\"string\""
        },
        {
         "metadata": "{}",
         "name": "dob",
         "type": "\"date\""
        },
        {
         "metadata": "{}",
         "name": "email",
         "type": "\"string\""
        },
        {
         "metadata": "{}",
         "name": "gender",
         "type": "\"string\""
        },
        {
         "metadata": "{}",
         "name": "country",
         "type": "\"string\""
        },
        {
         "metadata": "{}",
         "name": "region",
         "type": "\"string\""
        },
        {
         "metadata": "{}",
         "name": "city",
         "type": "\"string\""
        },
        {
         "metadata": "{}",
         "name": "asset",
         "type": "\"integer\""
        },
        {
         "metadata": "{}",
         "name": "marital_status",
         "type": "\"string\""
        }
       ],
       "type": "table"
      }
     },
     "output_type": "display_data"
    }
   ],
   "source": [
    "from pyspark.sql.functions import col\n",
    "spark.read.table(\"quickstart_schema.users_partitioned\").filter(col(\"country\")==\"India\").limit(4).display()"
   ]
  },
  {
   "cell_type": "markdown",
   "metadata": {
    "application/vnd.databricks.v1+cell": {
     "cellMetadata": {},
     "inputWidgets": {},
     "nuid": "44cfc28d-8a5b-419b-88e3-ef92d32428ed",
     "showTitle": false,
     "tableResultSettingsMap": {},
     "title": ""
    }
   },
   "source": [
    "# Transaction 02 - Update"
   ]
  },
  {
   "cell_type": "code",
   "execution_count": 0,
   "metadata": {
    "application/vnd.databricks.v1+cell": {
     "cellMetadata": {
      "byteLimit": 2048000,
      "rowLimit": 10000
     },
     "inputWidgets": {},
     "nuid": "a270b3f3-908a-4f2e-9946-88cbe4ea9bfd",
     "showTitle": false,
     "tableResultSettingsMap": {},
     "title": ""
    }
   },
   "outputs": [],
   "source": [
    "spark.read.csv(\n",
    "    path=\"dbfs:/FileStore/synechron/user_dataset/users_001.csv\",\n",
    "    header=True,\n",
    "    inferSchema=True,\n",
    ").filter(col(\"country\") == \"India\").write.format(\"delta\").mode(\"overwrite\").saveAsTable(\n",
    "    \"quickstart_schema.users\"\n",
    ")"
   ]
  },
  {
   "cell_type": "code",
   "execution_count": 0,
   "metadata": {
    "application/vnd.databricks.v1+cell": {
     "cellMetadata": {
      "byteLimit": 2048000,
      "rowLimit": 10000
     },
     "inputWidgets": {},
     "nuid": "87d3343d-b5f0-4fa2-9249-2999c8d397b4",
     "showTitle": false,
     "tableResultSettingsMap": {},
     "title": ""
    }
   },
   "outputs": [
    {
     "output_type": "display_data",
     "data": {
      "text/html": [
       "<style scoped>\n",
       "  .table-result-container {\n",
       "    max-height: 300px;\n",
       "    overflow: auto;\n",
       "  }\n",
       "  table, th, td {\n",
       "    border: 1px solid black;\n",
       "    border-collapse: collapse;\n",
       "  }\n",
       "  th, td {\n",
       "    padding: 5px;\n",
       "  }\n",
       "  th {\n",
       "    text-align: left;\n",
       "  }\n",
       "</style><div class='table-result-container'><table class='table-result'><thead style='background-color: white'><tr><th>id</th><th>name</th><th>dob</th><th>email</th><th>gender</th><th>country</th><th>region</th><th>city</th><th>asset</th><th>marital_status</th></tr></thead><tbody><tr><td>5</td><td>Bo Underwood</td><td>2024-06-30</td><td>bounderwood@ymail.com</td><td>Male</td><td>India</td><td>Tamil Nadu</td><td>Madurai</td><td>366783</td><td>Married</td></tr><tr><td>7</td><td>Chantale Nixon</td><td>2023-09-06</td><td>chantalenixon404@ymail.com</td><td>Female</td><td>India</td><td>Andaman and Nicobar Islands</td><td>Port Blair</td><td>717994</td><td>Married</td></tr><tr><td>8</td><td>Ashton Willis</td><td>2025-02-22</td><td>ashtonwillis@gmail.com</td><td>Male</td><td>India</td><td>Dadra and Nagar Haveli</td><td>Silvassa</td><td>483841</td><td>Married</td></tr><tr><td>9</td><td>Mercedes Lawrence</td><td>2024-08-15</td><td>mercedeslawrence4115@ymail.com</td><td>Male</td><td>India</td><td>Punjab</td><td>Gujranwala</td><td>598378</td><td>Single</td></tr><tr><td>10</td><td>Norman Patton</td><td>2024-02-25</td><td>normanpatton6042@yahoomail.com</td><td>Transgender</td><td>India</td><td>Chhattisgarh</td><td>Durg</td><td>412938</td><td>Married</td></tr><tr><td>11</td><td>Pamela Farmer</td><td>2023-09-13</td><td>pamelafarmer7734@gmail.com</td><td>Female</td><td>India</td><td>Pondicherry</td><td>Pondicherry</td><td>961667</td><td>Common Law</td></tr><tr><td>13</td><td>Marvin Joseph</td><td>2025-02-19</td><td>marvinjoseph@ymail.com</td><td>Transgender</td><td>India</td><td>Tamil Nadu</td><td>Chennai</td><td>458643</td><td>Divorced</td></tr><tr><td>17</td><td>Dominique Horton</td><td>2023-06-11</td><td>dominiquehorton@gmail.com</td><td>Transgender</td><td>India</td><td>Bihar</td><td>Muzaffarpur</td><td>813996</td><td>Married</td></tr><tr><td>19</td><td>Len Mooney</td><td>2023-04-30</td><td>lenmooney@yahoomail.com</td><td>Transgender</td><td>India</td><td>Tamil Nadu</td><td>Thanjavur</td><td>406887</td><td>Single</td></tr><tr><td>22</td><td>Blythe Bryan</td><td>2023-11-08</td><td>blythebryan@yahoomail.com</td><td>Male</td><td>India</td><td>Jammu and Kashmir</td><td>Jammu</td><td>283680</td><td>Divorced</td></tr><tr><td>24</td><td>John Coleman</td><td>2024-02-25</td><td>johncoleman8249@yahoomail.com</td><td>Transgender</td><td>India</td><td>Maharastra</td><td>Kolhapur</td><td>889327</td><td>Single</td></tr><tr><td>26</td><td>Elizabeth Odom</td><td>2024-11-11</td><td>elizabethodom4270@yahoomail.com</td><td>Female</td><td>India</td><td>Odisha</td><td>Raurkela Civil Township</td><td>829881</td><td>Common Law</td></tr><tr><td>27</td><td>Herrod Stuart</td><td>2024-10-21</td><td>herrodstuart@gmail.com</td><td>Male</td><td>India</td><td>Rajasthan</td><td>Ganganagar</td><td>144679</td><td>Common Law</td></tr><tr><td>29</td><td>Caldwell Hendricks</td><td>2024-06-04</td><td>caldwellhendricks1857@ymail.com</td><td>Male</td><td>India</td><td>Nagaland</td><td>Kohima</td><td>543041</td><td>Single</td></tr><tr><td>30</td><td>Nathan Rosario</td><td>2024-11-19</td><td>nathanrosario423@yahoomail.com</td><td>Transgender</td><td>India</td><td>Uttarakhand</td><td>Haridwar</td><td>496076</td><td>Married</td></tr><tr><td>33</td><td>Rashad Watson</td><td>2024-11-24</td><td>rashadwatson@gmail.com</td><td>Female</td><td>India</td><td>Uttar Pradesh</td><td>Moradabad</td><td>747389</td><td>Divorced</td></tr><tr><td>34</td><td>Ignatius Bond</td><td>2024-09-15</td><td>ignatiusbond@gmail.com</td><td>Male</td><td>India</td><td>Jammu and Kashmir</td><td>Srinagar</td><td>918021</td><td>Divorced</td></tr><tr><td>35</td><td>Mohammad Hickman</td><td>2025-02-09</td><td>mohammadhickman8407@yahoomail.com</td><td>Female</td><td>India</td><td>Rajasthan</td><td>Kota</td><td>400670</td><td>Common Law</td></tr><tr><td>36</td><td>Xandra Robertson</td><td>2024-01-30</td><td>xandrarobertson697@ymail.com</td><td>Transgender</td><td>India</td><td>Pondicherry</td><td>Pondicherry</td><td>122915</td><td>Common Law</td></tr><tr><td>38</td><td>Arden Goodwin</td><td>2023-04-02</td><td>ardengoodwin@gmail.com</td><td>Female</td><td>India</td><td>Bihar</td><td>Katihar</td><td>605034</td><td>Married</td></tr><tr><td>39</td><td>Jamalia Head</td><td>2024-06-09</td><td>jamaliahead@gmail.com</td><td>Transgender</td><td>India</td><td>Jammu and Kashmir</td><td>Srinagar</td><td>146174</td><td>Divorced</td></tr><tr><td>40</td><td>Jesse Sheppard</td><td>2023-12-16</td><td>jessesheppard@yahoomail.com</td><td>Female</td><td>India</td><td>Arunachal Pradesh</td><td>Itanagar</td><td>256391</td><td>Single</td></tr><tr><td>41</td><td>Cody Carroll</td><td>2023-08-05</td><td>codycarroll@yahoomail.com</td><td>Transgender</td><td>India</td><td>West Bengal</td><td>North Dum Dum</td><td>402821</td><td>Divorced</td></tr><tr><td>43</td><td>Isaiah Cox</td><td>2024-02-17</td><td>isaiahcox2129@gmail.com</td><td>Male</td><td>India</td><td>Haryana</td><td>Hisar</td><td>810875</td><td>Common Law</td></tr><tr><td>45</td><td>Victoria Gay</td><td>2024-02-02</td><td>victoriagay9469@ymail.com</td><td>Male</td><td>India</td><td>Andhra Pradesh</td><td>Nandyal</td><td>671967</td><td>Married</td></tr><tr><td>49</td><td>Prescott Dunn</td><td>2023-08-04</td><td>prescottdunn@ymail.com</td><td>Transgender</td><td>India</td><td>Assam</td><td>Guwahati</td><td>582532</td><td>Single</td></tr><tr><td>52</td><td>Clark Bell</td><td>2023-11-09</td><td>clarkbell@yahoomail.com</td><td>Female</td><td>India</td><td>Himachal Pradesh</td><td>Shimla</td><td>885570</td><td>Married</td></tr><tr><td>53</td><td>Dana Velez</td><td>2024-12-16</td><td>danavelez2132@ymail.com</td><td>Male</td><td>India</td><td>Arunachal Pradesh</td><td>Itanagar</td><td>875187</td><td>Divorced</td></tr><tr><td>54</td><td>Charity Hodges</td><td>2023-08-16</td><td>charityhodges1857@ymail.com</td><td>Male</td><td>India</td><td>Odisha</td><td>Bhubaneswar</td><td>655854</td><td>Common Law</td></tr><tr><td>57</td><td>Caldwell Haney</td><td>2024-04-18</td><td>caldwellhaney8991@yahoomail.com</td><td>Male</td><td>India</td><td>Jharkhand</td><td>Ranchi</td><td>622184</td><td>Single</td></tr><tr><td>58</td><td>Coby Stanley</td><td>2023-12-16</td><td>cobystanley@gmail.com</td><td>Female</td><td>India</td><td>Delhi</td><td>Delhi</td><td>802863</td><td>Married</td></tr><tr><td>59</td><td>Amelia Gallegos</td><td>2023-05-04</td><td>ameliagallegos9571@ymail.com</td><td>Female</td><td>India</td><td>Punjab</td><td>Chiniot</td><td>658490</td><td>Single</td></tr><tr><td>60</td><td>Kareem Adams</td><td>2024-11-16</td><td>kareemadams6983@yahoomail.com</td><td>Female</td><td>India</td><td>Pondicherry</td><td>Pondicherry</td><td>128913</td><td>Single</td></tr><tr><td>63</td><td>Briar Salazar</td><td>2024-08-22</td><td>briarsalazar5368@ymail.com</td><td>Male</td><td>India</td><td>Goa</td><td>Panjim</td><td>943596</td><td>Divorced</td></tr><tr><td>71</td><td>Clio Osborne</td><td>2024-11-19</td><td>clioosborne638@ymail.com</td><td>Transgender</td><td>India</td><td>Lakshadweep</td><td>Kavaratti</td><td>439196</td><td>Common Law</td></tr><tr><td>74</td><td>Darius Castillo</td><td>2024-05-10</td><td>dariuscastillo@gmail.com</td><td>Male</td><td>India</td><td>Goa</td><td>Panjim</td><td>339814</td><td>Divorced</td></tr><tr><td>75</td><td>Channing Vance</td><td>2024-09-02</td><td>channingvance@yahoomail.com</td><td>Transgender</td><td>India</td><td>Chhattisgarh</td><td>Durg</td><td>325882</td><td>Divorced</td></tr><tr><td>76</td><td>Alvin Love</td><td>2024-09-29</td><td>alvinlove@yahoomail.com</td><td>Female</td><td>India</td><td>Mizoram</td><td>Aizwal</td><td>302772</td><td>Single</td></tr><tr><td>81</td><td>Gannon Mayo</td><td>2024-03-22</td><td>gannonmayo@yahoomail.com</td><td>Male</td><td>India</td><td>Meghalaya</td><td>Shillong</td><td>171339</td><td>Divorced</td></tr><tr><td>86</td><td>William Atkins</td><td>2023-08-06</td><td>williamatkins6495@ymail.com</td><td>Transgender</td><td>India</td><td>Mizoram</td><td>Aizwal</td><td>416716</td><td>Married</td></tr><tr><td>87</td><td>Asher Knowles</td><td>2024-09-25</td><td>asherknowles9019@yahoomail.com</td><td>Male</td><td>India</td><td>Goa</td><td>Panjim</td><td>933698</td><td>Common Law</td></tr><tr><td>88</td><td>Barry Grant</td><td>2024-07-01</td><td>barrygrant2189@ymail.com</td><td>Male</td><td>India</td><td>Gujarat</td><td>Veraval</td><td>109280</td><td>Divorced</td></tr><tr><td>89</td><td>Ralph Navarro</td><td>2024-03-11</td><td>ralphnavarro1166@ymail.com</td><td>Female</td><td>India</td><td>Chandigarh</td><td>Chandigarh</td><td>776249</td><td>Common Law</td></tr><tr><td>91</td><td>Gwendolyn Hughes</td><td>2023-07-29</td><td>gwendolynhughes4661@yahoomail.com</td><td>Transgender</td><td>India</td><td>Delhi</td><td>Delhi</td><td>364479</td><td>Divorced</td></tr><tr><td>92</td><td>Leonard White</td><td>2024-11-14</td><td>leonardwhite@yahoomail.com</td><td>Transgender</td><td>India</td><td>West Bengal</td><td>Asansol</td><td>105532</td><td>Married</td></tr><tr><td>93</td><td>Alec Cherry</td><td>2024-04-30</td><td>aleccherry@ymail.com</td><td>Transgender</td><td>India</td><td>Andhra Pradesh</td><td>Khammam</td><td>987383</td><td>Single</td></tr><tr><td>96</td><td>Orla Evans</td><td>2023-06-14</td><td>orlaevans@ymail.com</td><td>Male</td><td>India</td><td>Meghalaya</td><td>Shillong</td><td>345101</td><td>Married</td></tr><tr><td>97</td><td>Aileen Crane</td><td>2023-07-20</td><td>aileencrane5539@ymail.com</td><td>Female</td><td>India</td><td>Himachal Pradesh</td><td>Shimla</td><td>665101</td><td>Married</td></tr><tr><td>99</td><td>Mechelle Gomez</td><td>2023-09-01</td><td>mechellegomez8109@yahoomail.com</td><td>Female</td><td>India</td><td>Assam</td><td>Silchar</td><td>554725</td><td>Single</td></tr><tr><td>100</td><td>Echo Campbell</td><td>2024-02-03</td><td>echocampbell@gmail.com</td><td>Male</td><td>India</td><td>Goa</td><td>Panjim</td><td>560791</td><td>Common Law</td></tr><tr><td>101</td><td>Emerson Bryan</td><td>2025-01-24</td><td>emersonbryan@yahoomail.com</td><td>Transgender</td><td>India</td><td>Kerala</td><td>Allappuzha</td><td>384468</td><td>Single</td></tr><tr><td>103</td><td>Marcia Frost</td><td>2024-05-22</td><td>marciafrost183@ymail.com</td><td>Transgender</td><td>India</td><td>West Bengal</td><td>Bansberia</td><td>935158</td><td>Common Law</td></tr><tr><td>105</td><td>Kasper Washington</td><td>2023-10-30</td><td>kasperwashington@yahoomail.com</td><td>Female</td><td>India</td><td>Andhra Pradesh</td><td>Machilipatnam</td><td>369857</td><td>Divorced</td></tr><tr><td>106</td><td>Whitney Morales</td><td>2024-09-10</td><td>whitneymorales4338@ymail.com</td><td>Female</td><td>India</td><td>Bihar</td><td>Darbhanga</td><td>692463</td><td>Married</td></tr><tr><td>111</td><td>Barrett Boyd</td><td>2023-06-21</td><td>barrettboyd7910@gmail.com</td><td>Transgender</td><td>India</td><td>Meghalaya</td><td>Shillong</td><td>726997</td><td>Common Law</td></tr><tr><td>115</td><td>Xander Dawson</td><td>2025-03-05</td><td>xanderdawson2300@yahoomail.com</td><td>Male</td><td>India</td><td>Tripura</td><td>Agartala</td><td>537228</td><td>Married</td></tr><tr><td>117</td><td>Ulla Solomon</td><td>2023-04-30</td><td>ullasolomon@ymail.com</td><td>Female</td><td>India</td><td>Uttarakhand</td><td>Haridwar</td><td>715220</td><td>Divorced</td></tr><tr><td>122</td><td>Brianna Benson</td><td>2024-06-21</td><td>briannabenson@yahoomail.com</td><td>Female</td><td>India</td><td>Delhi</td><td>Delhi</td><td>608758</td><td>Married</td></tr><tr><td>123</td><td>Haley Griffin</td><td>2023-10-17</td><td>haleygriffin@yahoomail.com</td><td>Transgender</td><td>India</td><td>Tripura</td><td>Agartala</td><td>575296</td><td>Single</td></tr><tr><td>124</td><td>Marsden Hines</td><td>2023-07-31</td><td>marsdenhines@gmail.com</td><td>Female</td><td>India</td><td>Jharkhand</td><td>Mango</td><td>126280</td><td>Common Law</td></tr><tr><td>126</td><td>Ebony Schroeder</td><td>2024-10-20</td><td>ebonyschroeder5299@gmail.com</td><td>Female</td><td>India</td><td>Jharkhand</td><td>Bokaro Steel City</td><td>703967</td><td>Married</td></tr><tr><td>129</td><td>Libby Whitehead</td><td>2023-04-24</td><td>libbywhitehead@yahoomail.com</td><td>Male</td><td>India</td><td>Uttarakhand</td><td>Haridwar</td><td>384020</td><td>Divorced</td></tr><tr><td>131</td><td>Octavia Crosby</td><td>2023-12-05</td><td>octaviacrosby@gmail.com</td><td>Transgender</td><td>India</td><td>Kerala</td><td>Palakkad</td><td>225358</td><td>Married</td></tr><tr><td>133</td><td>Desirae Jefferson</td><td>2023-08-15</td><td>desiraejefferson7456@yahoomail.com</td><td>Transgender</td><td>India</td><td>Delhi</td><td>Delhi</td><td>305028</td><td>Common Law</td></tr><tr><td>134</td><td>Wallace Perez</td><td>2023-08-28</td><td>wallaceperez1573@ymail.com</td><td>Male</td><td>India</td><td>Daman and Diu</td><td>Daman</td><td>430503</td><td>Single</td></tr><tr><td>138</td><td>Fallon Ewing</td><td>2024-08-02</td><td>fallonewing5329@ymail.com</td><td>Male</td><td>India</td><td>Madhya Pradesh</td><td>Murwara</td><td>132849</td><td>Divorced</td></tr><tr><td>140</td><td>Chase Shepard</td><td>2023-05-02</td><td>chaseshepard@ymail.com</td><td>Transgender</td><td>India</td><td>Bihar</td><td>Munger</td><td>160869</td><td>Single</td></tr><tr><td>141</td><td>Joshua Dawson</td><td>2023-12-11</td><td>joshuadawson4875@gmail.com</td><td>Male</td><td>India</td><td>Karnataka</td><td>Davangere</td><td>403684</td><td>Common Law</td></tr><tr><td>142</td><td>William Sandoval</td><td>2025-02-23</td><td>williamsandoval9419@yahoomail.com</td><td>Female</td><td>India</td><td>Jharkhand</td><td>Hazaribag</td><td>701264</td><td>Common Law</td></tr><tr><td>144</td><td>Ross Miller</td><td>2024-05-06</td><td>rossmiller1359@ymail.com</td><td>Transgender</td><td>India</td><td>Himachal Pradesh</td><td>Shimla</td><td>777754</td><td>Married</td></tr><tr><td>145</td><td>Geoffrey Hendricks</td><td>2025-02-24</td><td>geoffreyhendricks7717@yahoomail.com</td><td>Female</td><td>India</td><td>Sikkim</td><td>Gangtok</td><td>382364</td><td>Single</td></tr><tr><td>146</td><td>Vladimir Pierce</td><td>2025-03-04</td><td>vladimirpierce@ymail.com</td><td>Female</td><td>India</td><td>Andaman and Nicobar Islands</td><td>Port Blair</td><td>312067</td><td>Married</td></tr><tr><td>147</td><td>Savannah Camacho</td><td>2023-03-30</td><td>savannahcamacho@yahoomail.com</td><td>Female</td><td>India</td><td>Mizoram</td><td>Aizwal</td><td>851354</td><td>Divorced</td></tr><tr><td>148</td><td>Macey Davidson</td><td>2023-08-18</td><td>maceydavidson@ymail.com</td><td>Male</td><td>India</td><td>Odisha</td><td>Raurkela Civil Township</td><td>367171</td><td>Single</td></tr><tr><td>149</td><td>Nerea Hancock</td><td>2024-09-29</td><td>nereahancock7190@yahoomail.com</td><td>Female</td><td>India</td><td>Lakshadweep</td><td>Kavaratti</td><td>476217</td><td>Single</td></tr><tr><td>150</td><td>Gillian Mullen</td><td>2024-11-09</td><td>gillianmullen619@ymail.com</td><td>Transgender</td><td>India</td><td>Assam</td><td>Silchar</td><td>354391</td><td>Married</td></tr><tr><td>152</td><td>Myra Berger</td><td>2024-04-20</td><td>myraberger4099@gmail.com</td><td>Male</td><td>India</td><td>Madhya Pradesh</td><td>Indore</td><td>757201</td><td>Single</td></tr><tr><td>155</td><td>Brady Key</td><td>2025-03-02</td><td>bradykey5592@ymail.com</td><td>Transgender</td><td>India</td><td>West Bengal</td><td>Halisahar</td><td>377963</td><td>Divorced</td></tr><tr><td>156</td><td>Miriam Atkinson</td><td>2023-12-18</td><td>miriamatkinson@ymail.com</td><td>Female</td><td>India</td><td>Gujarat</td><td>Vejalpur</td><td>460883</td><td>Married</td></tr><tr><td>157</td><td>Lael Clark</td><td>2024-03-28</td><td>laelclark1170@yahoomail.com</td><td>Transgender</td><td>India</td><td>Bihar</td><td>Munger</td><td>456752</td><td>Married</td></tr><tr><td>159</td><td>Christian Atkins</td><td>2024-01-28</td><td>christianatkins5455@yahoomail.com</td><td>Female</td><td>India</td><td>Nagaland</td><td>Kohima</td><td>440858</td><td>Married</td></tr><tr><td>160</td><td>Mannix Ramirez</td><td>2023-06-29</td><td>mannixramirez@gmail.com</td><td>Female</td><td>India</td><td>Rajasthan</td><td>Kota</td><td>211656</td><td>Divorced</td></tr><tr><td>166</td><td>Vera Myers</td><td>2023-10-06</td><td>veramyers@gmail.com</td><td>Transgender</td><td>India</td><td>Madhya Pradesh</td><td>Indore</td><td>700324</td><td>Single</td></tr><tr><td>169</td><td>Carlos Daniel</td><td>2024-10-12</td><td>carlosdaniel2221@gmail.com</td><td>Male</td><td>India</td><td>Tripura</td><td>Agartala</td><td>810935</td><td>Divorced</td></tr><tr><td>171</td><td>Ursa Bird</td><td>2025-02-23</td><td>ursabird3150@ymail.com</td><td>Female</td><td>India</td><td>Punjab</td><td>Vihari</td><td>392924</td><td>Married</td></tr><tr><td>172</td><td>Jemima Ayers</td><td>2024-08-01</td><td>jemimaayers5884@yahoomail.com</td><td>Male</td><td>India</td><td>Lakshadweep</td><td>Kavaratti</td><td>453908</td><td>Common Law</td></tr><tr><td>173</td><td>Beverly Sanders</td><td>2024-12-20</td><td>beverlysanders@yahoomail.com</td><td>Transgender</td><td>India</td><td>Kerala</td><td>Kozhikode</td><td>218764</td><td>Single</td></tr><tr><td>174</td><td>Cain Garcia</td><td>2023-10-13</td><td>caingarcia9003@yahoomail.com</td><td>Female</td><td>India</td><td>Sikkim</td><td>Gangtok</td><td>204898</td><td>Married</td></tr><tr><td>175</td><td>Adria Cameron</td><td>2024-10-06</td><td>adriacameron@yahoomail.com</td><td>Female</td><td>India</td><td>Rajasthan</td><td>Jodhpur</td><td>185026</td><td>Married</td></tr><tr><td>176</td><td>Lillith Estes</td><td>2024-08-06</td><td>lillithestes6467@ymail.com</td><td>Transgender</td><td>India</td><td>Chhattisgarh</td><td>Raigarh</td><td>534968</td><td>Single</td></tr><tr><td>177</td><td>Clayton Marsh</td><td>2023-05-03</td><td>claytonmarsh@yahoomail.com</td><td>Transgender</td><td>India</td><td>Arunachal Pradesh</td><td>Itanagar</td><td>819036</td><td>Common Law</td></tr><tr><td>178</td><td>Winifred Bennett</td><td>2023-07-25</td><td>winifredbennett@gmail.com</td><td>Transgender</td><td>India</td><td>Uttar Pradesh</td><td>Sambhal</td><td>942125</td><td>Common Law</td></tr><tr><td>182</td><td>Bruno Bernard</td><td>2023-08-28</td><td>brunobernard@gmail.com</td><td>Female</td><td>India</td><td>Tamil Nadu</td><td>Tiruppur</td><td>688445</td><td>Single</td></tr><tr><td>186</td><td>Trevor Dejesus</td><td>2024-02-08</td><td>trevordejesus@ymail.com</td><td>Female</td><td>India</td><td>Nagaland</td><td>Kohima</td><td>776682</td><td>Married</td></tr><tr><td>187</td><td>Heather Jensen</td><td>2024-12-08</td><td>heatherjensen6018@yahoomail.com</td><td>Male</td><td>India</td><td>Bihar</td><td>Bhagalpur</td><td>375888</td><td>Married</td></tr><tr><td>189</td><td>Abbot Parker</td><td>2023-09-08</td><td>abbotparker@ymail.com</td><td>Female</td><td>India</td><td>Mizoram</td><td>Aizwal</td><td>680256</td><td>Single</td></tr><tr><td>191</td><td>Jorden Rosario</td><td>2023-12-09</td><td>jordenrosario@yahoomail.com</td><td>Female</td><td>India</td><td>Goa</td><td>Panjim</td><td>257614</td><td>Single</td></tr><tr><td>192</td><td>Demetrius Richards</td><td>2023-11-13</td><td>demetriusrichards7399@yahoomail.com</td><td>Transgender</td><td>India</td><td>Arunachal Pradesh</td><td>Itanagar</td><td>685191</td><td>Common Law</td></tr><tr><td>194</td><td>Ima Holder</td><td>2025-02-23</td><td>imaholder9135@ymail.com</td><td>Transgender</td><td>India</td><td>Bihar</td><td>Bhagalpur</td><td>775737</td><td>Divorced</td></tr><tr><td>195</td><td>Lucas Reed</td><td>2024-07-16</td><td>lucasreed@gmail.com</td><td>Transgender</td><td>India</td><td>Mizoram</td><td>Aizwal</td><td>803231</td><td>Married</td></tr><tr><td>198</td><td>Ora Fulton</td><td>2023-07-28</td><td>orafulton4993@gmail.com</td><td>Male</td><td>India</td><td>Odisha</td><td>Puri</td><td>754220</td><td>Common Law</td></tr><tr><td>202</td><td>Kerry Ruiz</td><td>2023-09-29</td><td>kerryruiz9936@yahoomail.com</td><td>Female</td><td>India</td><td>Haryana</td><td>Rohtak</td><td>488374</td><td>Divorced</td></tr><tr><td>203</td><td>Amela Bernard</td><td>2023-11-23</td><td>amelabernard@gmail.com</td><td>Male</td><td>India</td><td>Sikkim</td><td>Gangtok</td><td>377585</td><td>Divorced</td></tr><tr><td>204</td><td>Shelly Boyd</td><td>2024-07-25</td><td>shellyboyd5859@gmail.com</td><td>Transgender</td><td>India</td><td>Jharkhand</td><td>Ranchi</td><td>299914</td><td>Married</td></tr><tr><td>206</td><td>Ulysses Mullins</td><td>2024-12-02</td><td>ulyssesmullins@yahoomail.com</td><td>Transgender</td><td>India</td><td>Haryana</td><td>Yamuna Nagar</td><td>609983</td><td>Married</td></tr><tr><td>207</td><td>Tarik Mcmahon</td><td>2023-05-05</td><td>tarikmcmahon6174@yahoomail.com</td><td>Male</td><td>India</td><td>Daman and Diu</td><td>Daman</td><td>988172</td><td>Single</td></tr><tr><td>208</td><td>Jonas Decker</td><td>2023-05-08</td><td>jonasdecker@gmail.com</td><td>Male</td><td>India</td><td>Andaman and Nicobar Islands</td><td>Port Blair</td><td>967919</td><td>Common Law</td></tr><tr><td>211</td><td>Jocelyn Kramer</td><td>2024-06-05</td><td>jocelynkramer@gmail.com</td><td>Female</td><td>India</td><td>Delhi</td><td>Delhi</td><td>302855</td><td>Married</td></tr><tr><td>212</td><td>Kylynn Ashley</td><td>2023-05-19</td><td>kylynnashley2398@yahoomail.com</td><td>Female</td><td>India</td><td>Chandigarh</td><td>Chandigarh</td><td>830823</td><td>Single</td></tr><tr><td>215</td><td>Colton Swanson</td><td>2023-10-13</td><td>coltonswanson@yahoomail.com</td><td>Female</td><td>India</td><td>Himachal Pradesh</td><td>Shimla</td><td>797286</td><td>Single</td></tr><tr><td>216</td><td>Florence Clark</td><td>2024-09-23</td><td>florenceclark@yahoomail.com</td><td>Transgender</td><td>India</td><td>Nagaland</td><td>Kohima</td><td>656238</td><td>Single</td></tr><tr><td>220</td><td>Christian Walters</td><td>2023-04-14</td><td>christianwalters@yahoomail.com</td><td>Male</td><td>India</td><td>Uttar Pradesh</td><td>Sambhal</td><td>376632</td><td>Common Law</td></tr><tr><td>221</td><td>Liberty Wiley</td><td>2023-06-03</td><td>libertywiley@ymail.com</td><td>Male</td><td>India</td><td>Meghalaya</td><td>Shillong</td><td>695830</td><td>Divorced</td></tr><tr><td>222</td><td>Ralph Lester</td><td>2023-04-04</td><td>ralphlester@yahoomail.com</td><td>Transgender</td><td>India</td><td>Dadra and Nagar Haveli</td><td>Silvassa</td><td>595981</td><td>Common Law</td></tr><tr><td>223</td><td>Brenda Erickson</td><td>2024-11-04</td><td>brendaerickson@yahoomail.com</td><td>Female</td><td>India</td><td>Jharkhand</td><td>Dhanbad</td><td>427957</td><td>Married</td></tr><tr><td>224</td><td>Tana Whitfield</td><td>2025-01-23</td><td>tanawhitfield@gmail.com</td><td>Transgender</td><td>India</td><td>Dadra and Nagar Haveli</td><td>Silvassa</td><td>843333</td><td>Common Law</td></tr><tr><td>225</td><td>Jarrod Byrd</td><td>2023-07-13</td><td>jarrodbyrd@gmail.com</td><td>Male</td><td>India</td><td>Delhi</td><td>Delhi</td><td>831053</td><td>Single</td></tr><tr><td>229</td><td>Aurelia Hughes</td><td>2024-01-15</td><td>aureliahughes@ymail.com</td><td>Transgender</td><td>India</td><td>Andhra Pradesh</td><td>Vijayawada</td><td>123131</td><td>Married</td></tr><tr><td>234</td><td>Fulton Wynn</td><td>2023-08-31</td><td>fultonwynn7817@gmail.com</td><td>Female</td><td>India</td><td>Jammu and Kashmir</td><td>Jammu</td><td>113326</td><td>Single</td></tr><tr><td>235</td><td>Miranda Blair</td><td>2023-04-21</td><td>mirandablair@ymail.com</td><td>Male</td><td>India</td><td>Kerala</td><td>Thalassery</td><td>664944</td><td>Married</td></tr><tr><td>237</td><td>Kylie Wilcox</td><td>2023-03-31</td><td>kyliewilcox@yahoomail.com</td><td>Female</td><td>India</td><td>Assam</td><td>Nagaon</td><td>233281</td><td>Married</td></tr><tr><td>240</td><td>Jeremy Perez</td><td>2023-05-13</td><td>jeremyperez@gmail.com</td><td>Female</td><td>India</td><td>Mizoram</td><td>Aizwal</td><td>763871</td><td>Divorced</td></tr><tr><td>241</td><td>Darrel Silva</td><td>2023-08-01</td><td>darrelsilva3116@gmail.com</td><td>Male</td><td>India</td><td>Chhattisgarh</td><td>Raigarh</td><td>596626</td><td>Common Law</td></tr><tr><td>242</td><td>Edward Peterson</td><td>2023-12-10</td><td>edwardpeterson@ymail.com</td><td>Transgender</td><td>India</td><td>Himachal Pradesh</td><td>Shimla</td><td>625700</td><td>Single</td></tr><tr><td>243</td><td>Reece Parker</td><td>2023-10-07</td><td>reeceparker@gmail.com</td><td>Transgender</td><td>India</td><td>Manipur</td><td>Imphal</td><td>328692</td><td>Common Law</td></tr><tr><td>244</td><td>Lucian Sears</td><td>2023-07-17</td><td>luciansears@yahoomail.com</td><td>Male</td><td>India</td><td>Uttarakhand</td><td>Haridwar</td><td>914830</td><td>Divorced</td></tr><tr><td>246</td><td>Hedy Garrett</td><td>2024-01-15</td><td>hedygarrett3530@yahoomail.com</td><td>Female</td><td>India</td><td>Uttarakhand</td><td>Haridwar</td><td>229430</td><td>Married</td></tr><tr><td>248</td><td>Elliott Bishop</td><td>2024-11-23</td><td>elliottbishop@gmail.com</td><td>Male</td><td>India</td><td>Madhya Pradesh</td><td>Vidisha</td><td>425747</td><td>Single</td></tr><tr><td>253</td><td>Karyn Solomon</td><td>2025-02-09</td><td>karynsolomon@yahoomail.com</td><td>Female</td><td>India</td><td>Haryana</td><td>Hisar</td><td>267692</td><td>Single</td></tr><tr><td>254</td><td>Kennan Pruitt</td><td>2024-01-04</td><td>kennanpruitt@gmail.com</td><td>Transgender</td><td>India</td><td>Karnataka</td><td>Gulbarga</td><td>815296</td><td>Single</td></tr><tr><td>255</td><td>Caldwell Larsen</td><td>2023-11-30</td><td>caldwelllarsen@yahoomail.com</td><td>Transgender</td><td>India</td><td>Chhattisgarh</td><td>Raipur</td><td>595055</td><td>Single</td></tr><tr><td>256</td><td>Gil Scott</td><td>2025-02-24</td><td>gilscott@yahoomail.com</td><td>Transgender</td><td>India</td><td>Tripura</td><td>Agartala</td><td>699557</td><td>Single</td></tr><tr><td>257</td><td>Deacon Rivas</td><td>2023-11-12</td><td>deaconrivas@gmail.com</td><td>Male</td><td>India</td><td>Gujarat</td><td>Surendranagar</td><td>870387</td><td>Common Law</td></tr><tr><td>259</td><td>Mara Callahan</td><td>2024-12-12</td><td>maracallahan3094@ymail.com</td><td>Male</td><td>India</td><td>Bihar</td><td>Katihar</td><td>691551</td><td>Common Law</td></tr><tr><td>261</td><td>Holmes Powell</td><td>2024-07-14</td><td>holmespowell@ymail.com</td><td>Transgender</td><td>India</td><td>Bihar</td><td>Muzaffarpur</td><td>393858</td><td>Divorced</td></tr><tr><td>262</td><td>Bianca Shepherd</td><td>2024-03-04</td><td>biancashepherd1246@gmail.com</td><td>Male</td><td>India</td><td>Maharastra</td><td>Gondiya</td><td>649998</td><td>Divorced</td></tr><tr><td>263</td><td>Nelle Blake</td><td>2024-09-17</td><td>nelleblake5744@ymail.com</td><td>Transgender</td><td>India</td><td>Karnataka</td><td>Bangalore</td><td>908573</td><td>Married</td></tr><tr><td>267</td><td>Ima Cummings</td><td>2023-07-21</td><td>imacummings@ymail.com</td><td>Transgender</td><td>India</td><td>Tamil Nadu</td><td>Salem</td><td>988902</td><td>Married</td></tr><tr><td>268</td><td>Cedric Spencer</td><td>2023-05-07</td><td>cedricspencer5169@ymail.com</td><td>Transgender</td><td>India</td><td>Andaman and Nicobar Islands</td><td>Port Blair</td><td>667070</td><td>Single</td></tr><tr><td>269</td><td>Abigail Stanley</td><td>2024-03-29</td><td>abigailstanley7400@gmail.com</td><td>Male</td><td>India</td><td>Meghalaya</td><td>Shillong</td><td>727056</td><td>Married</td></tr><tr><td>271</td><td>Alec Haynes</td><td>2024-11-24</td><td>alechaynes@gmail.com</td><td>Female</td><td>India</td><td>Andaman and Nicobar Islands</td><td>Port Blair</td><td>698328</td><td>Common Law</td></tr><tr><td>273</td><td>Hayes Hendrix</td><td>2024-01-24</td><td>hayeshendrix@ymail.com</td><td>Transgender</td><td>India</td><td>Meghalaya</td><td>Shillong</td><td>528708</td><td>Single</td></tr><tr><td>276</td><td>Karleigh Fischer</td><td>2024-03-02</td><td>karleighfischer5980@ymail.com</td><td>Male</td><td>India</td><td>West Bengal</td><td>Kharagpur</td><td>796209</td><td>Common Law</td></tr><tr><td>278</td><td>Miriam Fernandez</td><td>2025-03-27</td><td>miriamfernandez@gmail.com</td><td>Male</td><td>India</td><td>Tripura</td><td>Agartala</td><td>178629</td><td>Divorced</td></tr><tr><td>279</td><td>Clayton Fernandez</td><td>2024-12-23</td><td>claytonfernandez@yahoomail.com</td><td>Transgender</td><td>India</td><td>Tamil Nadu</td><td>Pallavaram</td><td>609328</td><td>Single</td></tr><tr><td>281</td><td>Zahir Hahn</td><td>2023-09-17</td><td>zahirhahn@ymail.com</td><td>Female</td><td>India</td><td>Tripura</td><td>Agartala</td><td>768465</td><td>Divorced</td></tr><tr><td>282</td><td>Mufutau Mccullough</td><td>2024-02-29</td><td>mufutaumccullough@ymail.com</td><td>Female</td><td>India</td><td>Odisha</td><td>Raurkela</td><td>801718</td><td>Married</td></tr><tr><td>284</td><td>Samantha Sullivan</td><td>2025-02-02</td><td>samanthasullivan@yahoomail.com</td><td>Transgender</td><td>India</td><td>Uttarakhand</td><td>Haridwar</td><td>233560</td><td>Married</td></tr><tr><td>286</td><td>Eagan Mclean</td><td>2025-02-25</td><td>eaganmclean@ymail.com</td><td>Male</td><td>India</td><td>Assam</td><td>Guwahati</td><td>325650</td><td>Single</td></tr><tr><td>291</td><td>Rhona Knowles</td><td>2024-09-29</td><td>rhonaknowles7720@yahoomail.com</td><td>Transgender</td><td>India</td><td>Odisha</td><td>Cuttack</td><td>889617</td><td>Divorced</td></tr><tr><td>292</td><td>Walter Tran</td><td>2024-10-17</td><td>waltertran5781@ymail.com</td><td>Female</td><td>India</td><td>Himachal Pradesh</td><td>Shimla</td><td>890745</td><td>Common Law</td></tr><tr><td>297</td><td>Hermione Mann</td><td>2023-08-02</td><td>hermionemann2896@gmail.com</td><td>Male</td><td>India</td><td>Dadra and Nagar Haveli</td><td>Silvassa</td><td>497856</td><td>Divorced</td></tr><tr><td>298</td><td>Chaney Myers</td><td>2024-04-25</td><td>chaneymyers8659@ymail.com</td><td>Female</td><td>India</td><td>Haryana</td><td>Yamuna Nagar</td><td>119187</td><td>Single</td></tr><tr><td>302</td><td>Yardley Garner</td><td>2023-06-18</td><td>yardleygarner652@gmail.com</td><td>Transgender</td><td>India</td><td>Uttarakhand</td><td>Dehradun</td><td>580336</td><td>Single</td></tr><tr><td>305</td><td>Hedda Church</td><td>2024-02-24</td><td>heddachurch@yahoomail.com</td><td>Transgender</td><td>India</td><td>Madhya Pradesh</td><td>Shivapuri</td><td>707467</td><td>Divorced</td></tr><tr><td>307</td><td>Candice Pratt</td><td>2024-04-03</td><td>candicepratt@yahoomail.com</td><td>Transgender</td><td>India</td><td>Madhya Pradesh</td><td>Jabalpur</td><td>759873</td><td>Divorced</td></tr><tr><td>308</td><td>Whitney Sampson</td><td>2024-12-08</td><td>whitneysampson@yahoomail.com</td><td>Male</td><td>India</td><td>Jharkhand</td><td>Purulia</td><td>165515</td><td>Single</td></tr><tr><td>311</td><td>Celeste Parrish</td><td>2023-08-09</td><td>celesteparrish4253@yahoomail.com</td><td>Male</td><td>India</td><td>Odisha</td><td>Puri</td><td>524026</td><td>Married</td></tr><tr><td>312</td><td>Omar Lewis</td><td>2024-03-13</td><td>omarlewis@yahoomail.com</td><td>Transgender</td><td>India</td><td>West Bengal</td><td>Barrackpur</td><td>427235</td><td>Married</td></tr><tr><td>316</td><td>Lacy Stafford</td><td>2023-08-18</td><td>lacystafford5472@yahoomail.com</td><td>Male</td><td>India</td><td>Uttarakhand</td><td>Haridwar</td><td>174052</td><td>Married</td></tr><tr><td>317</td><td>Minerva Hicks</td><td>2024-04-05</td><td>minervahicks@gmail.com</td><td>Transgender</td><td>India</td><td>Arunachal Pradesh</td><td>Itanagar</td><td>236271</td><td>Divorced</td></tr><tr><td>319</td><td>Anjolie Richardson</td><td>2024-07-03</td><td>anjolierichardson@gmail.com</td><td>Female</td><td>India</td><td>Odisha</td><td>Puri</td><td>423584</td><td>Married</td></tr><tr><td>320</td><td>Caldwell King</td><td>2024-10-06</td><td>caldwellking955@yahoomail.com</td><td>Transgender</td><td>India</td><td>Uttarakhand</td><td>Dehradun</td><td>309911</td><td>Divorced</td></tr><tr><td>321</td><td>Justine Schneider</td><td>2023-11-09</td><td>justineschneider2129@ymail.com</td><td>Female</td><td>India</td><td>Bihar</td><td>Darbhanga</td><td>470509</td><td>Single</td></tr><tr><td>322</td><td>Elaine Duran</td><td>2024-11-02</td><td>elaineduran@gmail.com</td><td>Male</td><td>India</td><td>Chandigarh</td><td>Chandigarh</td><td>967866</td><td>Divorced</td></tr><tr><td>323</td><td>Inez Baxter</td><td>2023-10-26</td><td>inezbaxter7771@ymail.com</td><td>Transgender</td><td>India</td><td>Uttarakhand</td><td>Haridwar</td><td>883494</td><td>Single</td></tr><tr><td>324</td><td>Zorita Oliver</td><td>2023-08-07</td><td>zoritaoliver6755@ymail.com</td><td>Male</td><td>India</td><td>Karnataka</td><td>Bidar</td><td>422734</td><td>Single</td></tr><tr><td>326</td><td>Callie Paul</td><td>2024-10-06</td><td>calliepaul@yahoomail.com</td><td>Female</td><td>India</td><td>Jharkhand</td><td>Mango</td><td>579060</td><td>Divorced</td></tr><tr><td>328</td><td>Camilla Poole</td><td>2023-11-13</td><td>camillapoole4866@yahoomail.com</td><td>Male</td><td>India</td><td>Sikkim</td><td>Gangtok</td><td>211733</td><td>Single</td></tr><tr><td>330</td><td>Marshall Pugh</td><td>2023-06-21</td><td>marshallpugh@yahoomail.com</td><td>Male</td><td>India</td><td>Sikkim</td><td>Gangtok</td><td>852948</td><td>Single</td></tr><tr><td>335</td><td>Maisie Mcgowan</td><td>2023-05-02</td><td>maisiemcgowan@yahoomail.com</td><td>Transgender</td><td>India</td><td>Karnataka</td><td>Shimoga</td><td>406341</td><td>Divorced</td></tr><tr><td>340</td><td>Cailin Sloan</td><td>2023-12-23</td><td>cailinsloan4385@ymail.com</td><td>Female</td><td>India</td><td>Tripura</td><td>Agartala</td><td>277358</td><td>Married</td></tr><tr><td>341</td><td>Deacon Lawrence</td><td>2024-10-16</td><td>deaconlawrence@ymail.com</td><td>Transgender</td><td>India</td><td>West Bengal</td><td>Bansberia</td><td>797921</td><td>Divorced</td></tr><tr><td>342</td><td>Anastasia Hall</td><td>2024-10-14</td><td>anastasiahall7829@yahoomail.com</td><td>Male</td><td>India</td><td>Odisha</td><td>Cuttack</td><td>404855</td><td>Divorced</td></tr><tr><td>344</td><td>Amery Rosa</td><td>2023-04-26</td><td>ameryrosa4115@gmail.com</td><td>Male</td><td>India</td><td>Tripura</td><td>Agartala</td><td>552707</td><td>Common Law</td></tr><tr><td>350</td><td>Coby Bates</td><td>2024-05-03</td><td>cobybates5143@yahoomail.com</td><td>Female</td><td>India</td><td>Maharastra</td><td>Solapur</td><td>132097</td><td>Common Law</td></tr><tr><td>351</td><td>Raja Tanner</td><td>2024-06-09</td><td>rajatanner@yahoomail.com</td><td>Male</td><td>India</td><td>West Bengal</td><td>Midnapore</td><td>409103</td><td>Common Law</td></tr><tr><td>353</td><td>Kimberley Winters</td><td>2024-07-27</td><td>kimberleywinters@yahoomail.com</td><td>Transgender</td><td>India</td><td>Sikkim</td><td>Gangtok</td><td>393270</td><td>Married</td></tr><tr><td>354</td><td>Ainsley Herring</td><td>2024-01-14</td><td>ainsleyherring7428@gmail.com</td><td>Female</td><td>India</td><td>Jharkhand</td><td>Purulia</td><td>664596</td><td>Married</td></tr><tr><td>355</td><td>Ria Wagner</td><td>2023-09-20</td><td>riawagner6426@yahoomail.com</td><td>Male</td><td>India</td><td>Tripura</td><td>Agartala</td><td>209418</td><td>Common Law</td></tr><tr><td>357</td><td>Kitra Guerrero</td><td>2024-05-10</td><td>kitraguerrero@ymail.com</td><td>Transgender</td><td>India</td><td>Jharkhand</td><td>Bokaro Steel City</td><td>183182</td><td>Married</td></tr><tr><td>359</td><td>Cecilia Bridges</td><td>2023-10-07</td><td>ceciliabridges772@yahoomail.com</td><td>Female</td><td>India</td><td>Andhra Pradesh</td><td>Khammam</td><td>337180</td><td>Common Law</td></tr><tr><td>360</td><td>Ignatius Espinoza</td><td>2024-05-31</td><td>ignatiusespinoza4495@yahoomail.com</td><td>Male</td><td>India</td><td>Madhya Pradesh</td><td>Damoh</td><td>205331</td><td>Common Law</td></tr><tr><td>361</td><td>Kasimir Henderson</td><td>2025-01-11</td><td>kasimirhenderson@yahoomail.com</td><td>Male</td><td>India</td><td>Uttarakhand</td><td>Dehradun</td><td>398322</td><td>Divorced</td></tr><tr><td>362</td><td>Byron Mcclain</td><td>2024-06-18</td><td>byronmcclain1729@ymail.com</td><td>Transgender</td><td>India</td><td>Odisha</td><td>Brahmapur</td><td>921139</td><td>Divorced</td></tr><tr><td>363</td><td>Cherokee Greer</td><td>2024-05-18</td><td>cherokeegreer@yahoomail.com</td><td>Female</td><td>India</td><td>Rajasthan</td><td>Pali</td><td>908110</td><td>Common Law</td></tr><tr><td>365</td><td>Sheila Kaufman</td><td>2024-01-30</td><td>sheilakaufman6366@yahoomail.com</td><td>Male</td><td>India</td><td>Manipur</td><td>Imphal</td><td>979536</td><td>Divorced</td></tr><tr><td>366</td><td>Evan Ramos</td><td>2023-05-10</td><td>evanramos4474@yahoomail.com</td><td>Transgender</td><td>India</td><td>Jharkhand</td><td>Dhanbad</td><td>860922</td><td>Single</td></tr><tr><td>368</td><td>Xandra Mason</td><td>2024-11-25</td><td>xandramason@yahoomail.com</td><td>Female</td><td>India</td><td>Uttar Pradesh</td><td>Hathras</td><td>824030</td><td>Single</td></tr><tr><td>370</td><td>Desiree Williams</td><td>2023-07-17</td><td>desireewilliams@yahoomail.com</td><td>Female</td><td>India</td><td>Uttarakhand</td><td>Dehradun</td><td>699621</td><td>Single</td></tr><tr><td>372</td><td>Mari Clayton</td><td>2023-11-20</td><td>mariclayton@yahoomail.com</td><td>Transgender</td><td>India</td><td>Assam</td><td>Guwahati</td><td>114277</td><td>Divorced</td></tr><tr><td>373</td><td>Alfreda Garrison</td><td>2025-03-21</td><td>alfredagarrison9181@ymail.com</td><td>Transgender</td><td>India</td><td>Uttar Pradesh</td><td>Bahraich</td><td>495246</td><td>Married</td></tr><tr><td>377</td><td>Armando Wood</td><td>2025-01-10</td><td>armandowood@gmail.com</td><td>Transgender</td><td>India</td><td>Uttar Pradesh</td><td>Shahjahanpur</td><td>340352</td><td>Married</td></tr><tr><td>378</td><td>Lunea Bond</td><td>2023-11-19</td><td>luneabond@ymail.com</td><td>Transgender</td><td>India</td><td>Andhra Pradesh</td><td>Nandyal</td><td>832428</td><td>Single</td></tr><tr><td>380</td><td>Meredith Cash</td><td>2025-03-28</td><td>meredithcash2365@ymail.com</td><td>Female</td><td>India</td><td>Himachal Pradesh</td><td>Shimla</td><td>547051</td><td>Married</td></tr><tr><td>384</td><td>Charles Hampton</td><td>2025-03-01</td><td>charleshampton4167@yahoomail.com</td><td>Transgender</td><td>India</td><td>Jharkhand</td><td>Dhanbad</td><td>587639</td><td>Single</td></tr><tr><td>385</td><td>Clare Thompson</td><td>2024-03-25</td><td>clarethompson@ymail.com</td><td>Female</td><td>India</td><td>Daman and Diu</td><td>Daman</td><td>927069</td><td>Divorced</td></tr><tr><td>387</td><td>Flynn Barrera</td><td>2024-06-10</td><td>flynnbarrera3262@yahoomail.com</td><td>Transgender</td><td>India</td><td>Punjab</td><td>Kamoke</td><td>133669</td><td>Single</td></tr><tr><td>390</td><td>Echo Randolph</td><td>2024-02-04</td><td>echorandolph5636@yahoomail.com</td><td>Male</td><td>India</td><td>Goa</td><td>Panjim</td><td>590173</td><td>Single</td></tr><tr><td>391</td><td>Michael Lindsay</td><td>2023-09-11</td><td>michaellindsay@ymail.com</td><td>Transgender</td><td>India</td><td>Bihar</td><td>Dehri</td><td>831564</td><td>Single</td></tr><tr><td>394</td><td>Justin Forbes</td><td>2024-10-17</td><td>justinforbes9901@gmail.com</td><td>Female</td><td>India</td><td>Punjab</td><td>Dera Ghazi Khan</td><td>367581</td><td>Single</td></tr><tr><td>396</td><td>Quon Lester</td><td>2024-07-22</td><td>quonlester@gmail.com</td><td>Female</td><td>India</td><td>Delhi</td><td>Delhi</td><td>404830</td><td>Common Law</td></tr><tr><td>402</td><td>Sebastian Wells</td><td>2025-01-18</td><td>sebastianwells@gmail.com</td><td>Female</td><td>India</td><td>Lakshadweep</td><td>Kavaratti</td><td>983698</td><td>Divorced</td></tr><tr><td>403</td><td>Astra Roman</td><td>2023-08-20</td><td>astraroman@yahoomail.com</td><td>Transgender</td><td>India</td><td>Jammu and Kashmir</td><td>Srinagar</td><td>870478</td><td>Married</td></tr><tr><td>411</td><td>Shea Collins</td><td>2024-09-30</td><td>sheacollins@ymail.com</td><td>Female</td><td>India</td><td>Meghalaya</td><td>Shillong</td><td>525552</td><td>Common Law</td></tr><tr><td>412</td><td>Daphne Camacho</td><td>2023-06-12</td><td>daphnecamacho6812@yahoomail.com</td><td>Female</td><td>India</td><td>Goa</td><td>Panjim</td><td>812443</td><td>Married</td></tr><tr><td>413</td><td>Charles Byrd</td><td>2024-08-16</td><td>charlesbyrd@yahoomail.com</td><td>Female</td><td>India</td><td>Mizoram</td><td>Aizwal</td><td>259345</td><td>Common Law</td></tr><tr><td>416</td><td>Bryar Levy</td><td>2024-03-29</td><td>bryarlevy9747@ymail.com</td><td>Male</td><td>India</td><td>Haryana</td><td>Sonipat</td><td>759877</td><td>Common Law</td></tr><tr><td>417</td><td>Florence Rasmussen</td><td>2024-06-25</td><td>florencerasmussen3962@gmail.com</td><td>Female</td><td>India</td><td>West Bengal</td><td>Kharagpur</td><td>760116</td><td>Divorced</td></tr><tr><td>419</td><td>Tamara Romero</td><td>2024-06-13</td><td>tamararomero933@yahoomail.com</td><td>Transgender</td><td>India</td><td>Manipur</td><td>Imphal</td><td>690424</td><td>Married</td></tr><tr><td>421</td><td>Emma Dotson</td><td>2024-10-06</td><td>emmadotson@yahoomail.com</td><td>Transgender</td><td>India</td><td>Tamil Nadu</td><td>Kumbakonam</td><td>165103</td><td>Divorced</td></tr><tr><td>422</td><td>Joel Guthrie</td><td>2024-02-07</td><td>joelguthrie@yahoomail.com</td><td>Transgender</td><td>India</td><td>Jharkhand</td><td>Jamshedpur</td><td>162698</td><td>Single</td></tr><tr><td>424</td><td>Hector Campbell</td><td>2024-01-31</td><td>hectorcampbell489@ymail.com</td><td>Transgender</td><td>India</td><td>Andaman and Nicobar Islands</td><td>Port Blair</td><td>192146</td><td>Single</td></tr><tr><td>427</td><td>Carl Reed</td><td>2024-10-29</td><td>carlreed@ymail.com</td><td>Female</td><td>India</td><td>Daman and Diu</td><td>Daman</td><td>173352</td><td>Common Law</td></tr><tr><td>434</td><td>Hanae Michael</td><td>2024-12-18</td><td>hanaemichael2945@yahoomail.com</td><td>Female</td><td>India</td><td>Andhra Pradesh</td><td>Rajahmundry</td><td>879970</td><td>Married</td></tr><tr><td>435</td><td>Rudyard Le</td><td>2024-10-01</td><td>rudyardle2589@ymail.com</td><td>Male</td><td>India</td><td>Nagaland</td><td>Kohima</td><td>458226</td><td>Divorced</td></tr><tr><td>438</td><td>Steel Mcgowan</td><td>2024-03-17</td><td>steelmcgowan9141@yahoomail.com</td><td>Transgender</td><td>India</td><td>Uttarakhand</td><td>Haridwar</td><td>521613</td><td>Married</td></tr><tr><td>439</td><td>Darrel Manning</td><td>2023-08-01</td><td>darrelmanning@ymail.com</td><td>Male</td><td>India</td><td>Dadra and Nagar Haveli</td><td>Silvassa</td><td>102491</td><td>Married</td></tr><tr><td>440</td><td>Denton Grant</td><td>2024-09-25</td><td>dentongrant@yahoomail.com</td><td>Female</td><td>India</td><td>Meghalaya</td><td>Shillong</td><td>979148</td><td>Single</td></tr><tr><td>446</td><td>Roth Frank</td><td>2023-11-03</td><td>rothfrank@gmail.com</td><td>Female</td><td>India</td><td>Punjab</td><td>Jhang</td><td>327041</td><td>Divorced</td></tr><tr><td>447</td><td>Jared Trujillo</td><td>2023-11-09</td><td>jaredtrujillo580@yahoomail.com</td><td>Female</td><td>India</td><td>Tamil Nadu</td><td>Salem</td><td>885714</td><td>Single</td></tr><tr><td>448</td><td>Aline Mullins</td><td>2025-01-26</td><td>alinemullins265@yahoomail.com</td><td>Female</td><td>India</td><td>Mizoram</td><td>Aizwal</td><td>260973</td><td>Single</td></tr><tr><td>452</td><td>Jaden Sanford</td><td>2025-02-03</td><td>jadensanford@yahoomail.com</td><td>Female</td><td>India</td><td>Goa</td><td>Panjim</td><td>444557</td><td>Common Law</td></tr><tr><td>455</td><td>Macaulay Lamb</td><td>2024-01-31</td><td>macaulaylamb@ymail.com</td><td>Female</td><td>India</td><td>Haryana</td><td>Gurgaon</td><td>530722</td><td>Divorced</td></tr><tr><td>456</td><td>Thor Ball</td><td>2023-09-17</td><td>thorball@ymail.com</td><td>Transgender</td><td>India</td><td>Odisha</td><td>Bhubaneswar</td><td>812883</td><td>Married</td></tr><tr><td>458</td><td>TaShya Padilla</td><td>2023-04-01</td><td>tashyapadilla@yahoomail.com</td><td>Transgender</td><td>India</td><td>Kerala</td><td>Kozhikode</td><td>839898</td><td>Divorced</td></tr><tr><td>462</td><td>Joelle Banks</td><td>2025-01-29</td><td>joellebanks6110@ymail.com</td><td>Male</td><td>India</td><td>Jammu and Kashmir</td><td>Srinagar</td><td>257010</td><td>Married</td></tr><tr><td>463</td><td>Vera Mcfadden</td><td>2024-04-06</td><td>veramcfadden@gmail.com</td><td>Male</td><td>India</td><td>Maharastra</td><td>Ulhasnagar</td><td>647938</td><td>Single</td></tr><tr><td>464</td><td>Martin Palmer</td><td>2025-01-14</td><td>martinpalmer@yahoomail.com</td><td>Female</td><td>India</td><td>Arunachal Pradesh</td><td>Itanagar</td><td>763472</td><td>Divorced</td></tr><tr><td>465</td><td>Chester Price</td><td>2023-05-24</td><td>chesterprice@ymail.com</td><td>Female</td><td>India</td><td>Rajasthan</td><td>Sikar</td><td>168703</td><td>Common Law</td></tr><tr><td>466</td><td>Benjamin Chapman</td><td>2023-07-14</td><td>benjaminchapman2395@gmail.com</td><td>Female</td><td>India</td><td>Dadra and Nagar Haveli</td><td>Silvassa</td><td>232333</td><td>Common Law</td></tr><tr><td>467</td><td>Kirk Case</td><td>2023-10-07</td><td>kirkcase8552@yahoomail.com</td><td>Male</td><td>India</td><td>Goa</td><td>Panjim</td><td>355499</td><td>Common Law</td></tr><tr><td>470</td><td>Kitra Blankenship</td><td>2023-09-15</td><td>kitrablankenship5441@yahoomail.com</td><td>Female</td><td>India</td><td>Uttarakhand</td><td>Dehradun</td><td>992918</td><td>Divorced</td></tr><tr><td>471</td><td>Shannon Copeland</td><td>2024-10-18</td><td>shannoncopeland@yahoomail.com</td><td>Male</td><td>India</td><td>Jammu and Kashmir</td><td>Srinagar</td><td>804896</td><td>Single</td></tr><tr><td>472</td><td>Haley Randolph</td><td>2024-10-08</td><td>haleyrandolph@ymail.com</td><td>Male</td><td>India</td><td>Goa</td><td>Panjim</td><td>123743</td><td>Married</td></tr><tr><td>473</td><td>Jelani Todd</td><td>2023-12-19</td><td>jelanitodd8452@yahoomail.com</td><td>Male</td><td>India</td><td>Sikkim</td><td>Gangtok</td><td>790502</td><td>Married</td></tr><tr><td>475</td><td>Maggy Patel</td><td>2024-10-03</td><td>maggypatel@ymail.com</td><td>Male</td><td>India</td><td>Odisha</td><td>Raurkela Civil Township</td><td>848957</td><td>Married</td></tr><tr><td>476</td><td>Scarlett Campos</td><td>2025-01-17</td><td>scarlettcampos@ymail.com</td><td>Male</td><td>India</td><td>Daman and Diu</td><td>Daman</td><td>322551</td><td>Single</td></tr><tr><td>479</td><td>Lydia Glass</td><td>2023-12-31</td><td>lydiaglass@gmail.com</td><td>Female</td><td>India</td><td>Uttarakhand</td><td>Haridwar</td><td>205993</td><td>Married</td></tr><tr><td>481</td><td>Nissim Miller</td><td>2024-06-12</td><td>nissimmiller@ymail.com</td><td>Female</td><td>India</td><td>Daman and Diu</td><td>Daman</td><td>548427</td><td>Single</td></tr><tr><td>482</td><td>Jeanette Carroll</td><td>2024-09-24</td><td>jeanettecarroll5407@ymail.com</td><td>Female</td><td>India</td><td>Uttarakhand</td><td>Haridwar</td><td>641005</td><td>Single</td></tr><tr><td>483</td><td>Jelani Velazquez</td><td>2024-02-18</td><td>jelanivelazquez5928@gmail.com</td><td>Male</td><td>India</td><td>Punjab</td><td>Wazirabad</td><td>859660</td><td>Common Law</td></tr><tr><td>485</td><td>Hasad Lindsey</td><td>2025-01-28</td><td>hasadlindsey9058@gmail.com</td><td>Male</td><td>India</td><td>Assam</td><td>Guwahati</td><td>279585</td><td>Single</td></tr><tr><td>487</td><td>Zelenia Weaver</td><td>2023-04-12</td><td>zeleniaweaver8733@yahoomail.com</td><td>Transgender</td><td>India</td><td>Tripura</td><td>Agartala</td><td>930443</td><td>Common Law</td></tr><tr><td>488</td><td>Driscoll Shepherd</td><td>2024-07-23</td><td>driscollshepherd@ymail.com</td><td>Female</td><td>India</td><td>Kerala</td><td>Kollam</td><td>535278</td><td>Common Law</td></tr><tr><td>490</td><td>Odette Hill</td><td>2024-10-31</td><td>odettehill@ymail.com</td><td>Female</td><td>India</td><td>Madhya Pradesh</td><td>Bhopal</td><td>605344</td><td>Married</td></tr><tr><td>492</td><td>Daquan Salazar</td><td>2024-11-21</td><td>daquansalazar2356@ymail.com</td><td>Female</td><td>India</td><td>Mizoram</td><td>Aizwal</td><td>469243</td><td>Divorced</td></tr></tbody></table></div>"
      ]
     },
     "metadata": {
      "application/vnd.databricks.v1+output": {
       "addedWidgets": {},
       "aggData": [],
       "aggError": "",
       "aggOverflow": false,
       "aggSchema": [],
       "aggSeriesLimitReached": false,
       "aggType": "",
       "arguments": {},
       "columnCustomDisplayInfos": {},
       "data": [
        [
         5,
         "Bo Underwood",
         "2024-06-30",
         "bounderwood@ymail.com",
         "Male",
         "India",
         "Tamil Nadu",
         "Madurai",
         366783,
         "Married"
        ],
        [
         7,
         "Chantale Nixon",
         "2023-09-06",
         "chantalenixon404@ymail.com",
         "Female",
         "India",
         "Andaman and Nicobar Islands",
         "Port Blair",
         717994,
         "Married"
        ],
        [
         8,
         "Ashton Willis",
         "2025-02-22",
         "ashtonwillis@gmail.com",
         "Male",
         "India",
         "Dadra and Nagar Haveli",
         "Silvassa",
         483841,
         "Married"
        ],
        [
         9,
         "Mercedes Lawrence",
         "2024-08-15",
         "mercedeslawrence4115@ymail.com",
         "Male",
         "India",
         "Punjab",
         "Gujranwala",
         598378,
         "Single"
        ],
        [
         10,
         "Norman Patton",
         "2024-02-25",
         "normanpatton6042@yahoomail.com",
         "Transgender",
         "India",
         "Chhattisgarh",
         "Durg",
         412938,
         "Married"
        ],
        [
         11,
         "Pamela Farmer",
         "2023-09-13",
         "pamelafarmer7734@gmail.com",
         "Female",
         "India",
         "Pondicherry",
         "Pondicherry",
         961667,
         "Common Law"
        ],
        [
         13,
         "Marvin Joseph",
         "2025-02-19",
         "marvinjoseph@ymail.com",
         "Transgender",
         "India",
         "Tamil Nadu",
         "Chennai",
         458643,
         "Divorced"
        ],
        [
         17,
         "Dominique Horton",
         "2023-06-11",
         "dominiquehorton@gmail.com",
         "Transgender",
         "India",
         "Bihar",
         "Muzaffarpur",
         813996,
         "Married"
        ],
        [
         19,
         "Len Mooney",
         "2023-04-30",
         "lenmooney@yahoomail.com",
         "Transgender",
         "India",
         "Tamil Nadu",
         "Thanjavur",
         406887,
         "Single"
        ],
        [
         22,
         "Blythe Bryan",
         "2023-11-08",
         "blythebryan@yahoomail.com",
         "Male",
         "India",
         "Jammu and Kashmir",
         "Jammu",
         283680,
         "Divorced"
        ],
        [
         24,
         "John Coleman",
         "2024-02-25",
         "johncoleman8249@yahoomail.com",
         "Transgender",
         "India",
         "Maharastra",
         "Kolhapur",
         889327,
         "Single"
        ],
        [
         26,
         "Elizabeth Odom",
         "2024-11-11",
         "elizabethodom4270@yahoomail.com",
         "Female",
         "India",
         "Odisha",
         "Raurkela Civil Township",
         829881,
         "Common Law"
        ],
        [
         27,
         "Herrod Stuart",
         "2024-10-21",
         "herrodstuart@gmail.com",
         "Male",
         "India",
         "Rajasthan",
         "Ganganagar",
         144679,
         "Common Law"
        ],
        [
         29,
         "Caldwell Hendricks",
         "2024-06-04",
         "caldwellhendricks1857@ymail.com",
         "Male",
         "India",
         "Nagaland",
         "Kohima",
         543041,
         "Single"
        ],
        [
         30,
         "Nathan Rosario",
         "2024-11-19",
         "nathanrosario423@yahoomail.com",
         "Transgender",
         "India",
         "Uttarakhand",
         "Haridwar",
         496076,
         "Married"
        ],
        [
         33,
         "Rashad Watson",
         "2024-11-24",
         "rashadwatson@gmail.com",
         "Female",
         "India",
         "Uttar Pradesh",
         "Moradabad",
         747389,
         "Divorced"
        ],
        [
         34,
         "Ignatius Bond",
         "2024-09-15",
         "ignatiusbond@gmail.com",
         "Male",
         "India",
         "Jammu and Kashmir",
         "Srinagar",
         918021,
         "Divorced"
        ],
        [
         35,
         "Mohammad Hickman",
         "2025-02-09",
         "mohammadhickman8407@yahoomail.com",
         "Female",
         "India",
         "Rajasthan",
         "Kota",
         400670,
         "Common Law"
        ],
        [
         36,
         "Xandra Robertson",
         "2024-01-30",
         "xandrarobertson697@ymail.com",
         "Transgender",
         "India",
         "Pondicherry",
         "Pondicherry",
         122915,
         "Common Law"
        ],
        [
         38,
         "Arden Goodwin",
         "2023-04-02",
         "ardengoodwin@gmail.com",
         "Female",
         "India",
         "Bihar",
         "Katihar",
         605034,
         "Married"
        ],
        [
         39,
         "Jamalia Head",
         "2024-06-09",
         "jamaliahead@gmail.com",
         "Transgender",
         "India",
         "Jammu and Kashmir",
         "Srinagar",
         146174,
         "Divorced"
        ],
        [
         40,
         "Jesse Sheppard",
         "2023-12-16",
         "jessesheppard@yahoomail.com",
         "Female",
         "India",
         "Arunachal Pradesh",
         "Itanagar",
         256391,
         "Single"
        ],
        [
         41,
         "Cody Carroll",
         "2023-08-05",
         "codycarroll@yahoomail.com",
         "Transgender",
         "India",
         "West Bengal",
         "North Dum Dum",
         402821,
         "Divorced"
        ],
        [
         43,
         "Isaiah Cox",
         "2024-02-17",
         "isaiahcox2129@gmail.com",
         "Male",
         "India",
         "Haryana",
         "Hisar",
         810875,
         "Common Law"
        ],
        [
         45,
         "Victoria Gay",
         "2024-02-02",
         "victoriagay9469@ymail.com",
         "Male",
         "India",
         "Andhra Pradesh",
         "Nandyal",
         671967,
         "Married"
        ],
        [
         49,
         "Prescott Dunn",
         "2023-08-04",
         "prescottdunn@ymail.com",
         "Transgender",
         "India",
         "Assam",
         "Guwahati",
         582532,
         "Single"
        ],
        [
         52,
         "Clark Bell",
         "2023-11-09",
         "clarkbell@yahoomail.com",
         "Female",
         "India",
         "Himachal Pradesh",
         "Shimla",
         885570,
         "Married"
        ],
        [
         53,
         "Dana Velez",
         "2024-12-16",
         "danavelez2132@ymail.com",
         "Male",
         "India",
         "Arunachal Pradesh",
         "Itanagar",
         875187,
         "Divorced"
        ],
        [
         54,
         "Charity Hodges",
         "2023-08-16",
         "charityhodges1857@ymail.com",
         "Male",
         "India",
         "Odisha",
         "Bhubaneswar",
         655854,
         "Common Law"
        ],
        [
         57,
         "Caldwell Haney",
         "2024-04-18",
         "caldwellhaney8991@yahoomail.com",
         "Male",
         "India",
         "Jharkhand",
         "Ranchi",
         622184,
         "Single"
        ],
        [
         58,
         "Coby Stanley",
         "2023-12-16",
         "cobystanley@gmail.com",
         "Female",
         "India",
         "Delhi",
         "Delhi",
         802863,
         "Married"
        ],
        [
         59,
         "Amelia Gallegos",
         "2023-05-04",
         "ameliagallegos9571@ymail.com",
         "Female",
         "India",
         "Punjab",
         "Chiniot",
         658490,
         "Single"
        ],
        [
         60,
         "Kareem Adams",
         "2024-11-16",
         "kareemadams6983@yahoomail.com",
         "Female",
         "India",
         "Pondicherry",
         "Pondicherry",
         128913,
         "Single"
        ],
        [
         63,
         "Briar Salazar",
         "2024-08-22",
         "briarsalazar5368@ymail.com",
         "Male",
         "India",
         "Goa",
         "Panjim",
         943596,
         "Divorced"
        ],
        [
         71,
         "Clio Osborne",
         "2024-11-19",
         "clioosborne638@ymail.com",
         "Transgender",
         "India",
         "Lakshadweep",
         "Kavaratti",
         439196,
         "Common Law"
        ],
        [
         74,
         "Darius Castillo",
         "2024-05-10",
         "dariuscastillo@gmail.com",
         "Male",
         "India",
         "Goa",
         "Panjim",
         339814,
         "Divorced"
        ],
        [
         75,
         "Channing Vance",
         "2024-09-02",
         "channingvance@yahoomail.com",
         "Transgender",
         "India",
         "Chhattisgarh",
         "Durg",
         325882,
         "Divorced"
        ],
        [
         76,
         "Alvin Love",
         "2024-09-29",
         "alvinlove@yahoomail.com",
         "Female",
         "India",
         "Mizoram",
         "Aizwal",
         302772,
         "Single"
        ],
        [
         81,
         "Gannon Mayo",
         "2024-03-22",
         "gannonmayo@yahoomail.com",
         "Male",
         "India",
         "Meghalaya",
         "Shillong",
         171339,
         "Divorced"
        ],
        [
         86,
         "William Atkins",
         "2023-08-06",
         "williamatkins6495@ymail.com",
         "Transgender",
         "India",
         "Mizoram",
         "Aizwal",
         416716,
         "Married"
        ],
        [
         87,
         "Asher Knowles",
         "2024-09-25",
         "asherknowles9019@yahoomail.com",
         "Male",
         "India",
         "Goa",
         "Panjim",
         933698,
         "Common Law"
        ],
        [
         88,
         "Barry Grant",
         "2024-07-01",
         "barrygrant2189@ymail.com",
         "Male",
         "India",
         "Gujarat",
         "Veraval",
         109280,
         "Divorced"
        ],
        [
         89,
         "Ralph Navarro",
         "2024-03-11",
         "ralphnavarro1166@ymail.com",
         "Female",
         "India",
         "Chandigarh",
         "Chandigarh",
         776249,
         "Common Law"
        ],
        [
         91,
         "Gwendolyn Hughes",
         "2023-07-29",
         "gwendolynhughes4661@yahoomail.com",
         "Transgender",
         "India",
         "Delhi",
         "Delhi",
         364479,
         "Divorced"
        ],
        [
         92,
         "Leonard White",
         "2024-11-14",
         "leonardwhite@yahoomail.com",
         "Transgender",
         "India",
         "West Bengal",
         "Asansol",
         105532,
         "Married"
        ],
        [
         93,
         "Alec Cherry",
         "2024-04-30",
         "aleccherry@ymail.com",
         "Transgender",
         "India",
         "Andhra Pradesh",
         "Khammam",
         987383,
         "Single"
        ],
        [
         96,
         "Orla Evans",
         "2023-06-14",
         "orlaevans@ymail.com",
         "Male",
         "India",
         "Meghalaya",
         "Shillong",
         345101,
         "Married"
        ],
        [
         97,
         "Aileen Crane",
         "2023-07-20",
         "aileencrane5539@ymail.com",
         "Female",
         "India",
         "Himachal Pradesh",
         "Shimla",
         665101,
         "Married"
        ],
        [
         99,
         "Mechelle Gomez",
         "2023-09-01",
         "mechellegomez8109@yahoomail.com",
         "Female",
         "India",
         "Assam",
         "Silchar",
         554725,
         "Single"
        ],
        [
         100,
         "Echo Campbell",
         "2024-02-03",
         "echocampbell@gmail.com",
         "Male",
         "India",
         "Goa",
         "Panjim",
         560791,
         "Common Law"
        ],
        [
         101,
         "Emerson Bryan",
         "2025-01-24",
         "emersonbryan@yahoomail.com",
         "Transgender",
         "India",
         "Kerala",
         "Allappuzha",
         384468,
         "Single"
        ],
        [
         103,
         "Marcia Frost",
         "2024-05-22",
         "marciafrost183@ymail.com",
         "Transgender",
         "India",
         "West Bengal",
         "Bansberia",
         935158,
         "Common Law"
        ],
        [
         105,
         "Kasper Washington",
         "2023-10-30",
         "kasperwashington@yahoomail.com",
         "Female",
         "India",
         "Andhra Pradesh",
         "Machilipatnam",
         369857,
         "Divorced"
        ],
        [
         106,
         "Whitney Morales",
         "2024-09-10",
         "whitneymorales4338@ymail.com",
         "Female",
         "India",
         "Bihar",
         "Darbhanga",
         692463,
         "Married"
        ],
        [
         111,
         "Barrett Boyd",
         "2023-06-21",
         "barrettboyd7910@gmail.com",
         "Transgender",
         "India",
         "Meghalaya",
         "Shillong",
         726997,
         "Common Law"
        ],
        [
         115,
         "Xander Dawson",
         "2025-03-05",
         "xanderdawson2300@yahoomail.com",
         "Male",
         "India",
         "Tripura",
         "Agartala",
         537228,
         "Married"
        ],
        [
         117,
         "Ulla Solomon",
         "2023-04-30",
         "ullasolomon@ymail.com",
         "Female",
         "India",
         "Uttarakhand",
         "Haridwar",
         715220,
         "Divorced"
        ],
        [
         122,
         "Brianna Benson",
         "2024-06-21",
         "briannabenson@yahoomail.com",
         "Female",
         "India",
         "Delhi",
         "Delhi",
         608758,
         "Married"
        ],
        [
         123,
         "Haley Griffin",
         "2023-10-17",
         "haleygriffin@yahoomail.com",
         "Transgender",
         "India",
         "Tripura",
         "Agartala",
         575296,
         "Single"
        ],
        [
         124,
         "Marsden Hines",
         "2023-07-31",
         "marsdenhines@gmail.com",
         "Female",
         "India",
         "Jharkhand",
         "Mango",
         126280,
         "Common Law"
        ],
        [
         126,
         "Ebony Schroeder",
         "2024-10-20",
         "ebonyschroeder5299@gmail.com",
         "Female",
         "India",
         "Jharkhand",
         "Bokaro Steel City",
         703967,
         "Married"
        ],
        [
         129,
         "Libby Whitehead",
         "2023-04-24",
         "libbywhitehead@yahoomail.com",
         "Male",
         "India",
         "Uttarakhand",
         "Haridwar",
         384020,
         "Divorced"
        ],
        [
         131,
         "Octavia Crosby",
         "2023-12-05",
         "octaviacrosby@gmail.com",
         "Transgender",
         "India",
         "Kerala",
         "Palakkad",
         225358,
         "Married"
        ],
        [
         133,
         "Desirae Jefferson",
         "2023-08-15",
         "desiraejefferson7456@yahoomail.com",
         "Transgender",
         "India",
         "Delhi",
         "Delhi",
         305028,
         "Common Law"
        ],
        [
         134,
         "Wallace Perez",
         "2023-08-28",
         "wallaceperez1573@ymail.com",
         "Male",
         "India",
         "Daman and Diu",
         "Daman",
         430503,
         "Single"
        ],
        [
         138,
         "Fallon Ewing",
         "2024-08-02",
         "fallonewing5329@ymail.com",
         "Male",
         "India",
         "Madhya Pradesh",
         "Murwara",
         132849,
         "Divorced"
        ],
        [
         140,
         "Chase Shepard",
         "2023-05-02",
         "chaseshepard@ymail.com",
         "Transgender",
         "India",
         "Bihar",
         "Munger",
         160869,
         "Single"
        ],
        [
         141,
         "Joshua Dawson",
         "2023-12-11",
         "joshuadawson4875@gmail.com",
         "Male",
         "India",
         "Karnataka",
         "Davangere",
         403684,
         "Common Law"
        ],
        [
         142,
         "William Sandoval",
         "2025-02-23",
         "williamsandoval9419@yahoomail.com",
         "Female",
         "India",
         "Jharkhand",
         "Hazaribag",
         701264,
         "Common Law"
        ],
        [
         144,
         "Ross Miller",
         "2024-05-06",
         "rossmiller1359@ymail.com",
         "Transgender",
         "India",
         "Himachal Pradesh",
         "Shimla",
         777754,
         "Married"
        ],
        [
         145,
         "Geoffrey Hendricks",
         "2025-02-24",
         "geoffreyhendricks7717@yahoomail.com",
         "Female",
         "India",
         "Sikkim",
         "Gangtok",
         382364,
         "Single"
        ],
        [
         146,
         "Vladimir Pierce",
         "2025-03-04",
         "vladimirpierce@ymail.com",
         "Female",
         "India",
         "Andaman and Nicobar Islands",
         "Port Blair",
         312067,
         "Married"
        ],
        [
         147,
         "Savannah Camacho",
         "2023-03-30",
         "savannahcamacho@yahoomail.com",
         "Female",
         "India",
         "Mizoram",
         "Aizwal",
         851354,
         "Divorced"
        ],
        [
         148,
         "Macey Davidson",
         "2023-08-18",
         "maceydavidson@ymail.com",
         "Male",
         "India",
         "Odisha",
         "Raurkela Civil Township",
         367171,
         "Single"
        ],
        [
         149,
         "Nerea Hancock",
         "2024-09-29",
         "nereahancock7190@yahoomail.com",
         "Female",
         "India",
         "Lakshadweep",
         "Kavaratti",
         476217,
         "Single"
        ],
        [
         150,
         "Gillian Mullen",
         "2024-11-09",
         "gillianmullen619@ymail.com",
         "Transgender",
         "India",
         "Assam",
         "Silchar",
         354391,
         "Married"
        ],
        [
         152,
         "Myra Berger",
         "2024-04-20",
         "myraberger4099@gmail.com",
         "Male",
         "India",
         "Madhya Pradesh",
         "Indore",
         757201,
         "Single"
        ],
        [
         155,
         "Brady Key",
         "2025-03-02",
         "bradykey5592@ymail.com",
         "Transgender",
         "India",
         "West Bengal",
         "Halisahar",
         377963,
         "Divorced"
        ],
        [
         156,
         "Miriam Atkinson",
         "2023-12-18",
         "miriamatkinson@ymail.com",
         "Female",
         "India",
         "Gujarat",
         "Vejalpur",
         460883,
         "Married"
        ],
        [
         157,
         "Lael Clark",
         "2024-03-28",
         "laelclark1170@yahoomail.com",
         "Transgender",
         "India",
         "Bihar",
         "Munger",
         456752,
         "Married"
        ],
        [
         159,
         "Christian Atkins",
         "2024-01-28",
         "christianatkins5455@yahoomail.com",
         "Female",
         "India",
         "Nagaland",
         "Kohima",
         440858,
         "Married"
        ],
        [
         160,
         "Mannix Ramirez",
         "2023-06-29",
         "mannixramirez@gmail.com",
         "Female",
         "India",
         "Rajasthan",
         "Kota",
         211656,
         "Divorced"
        ],
        [
         166,
         "Vera Myers",
         "2023-10-06",
         "veramyers@gmail.com",
         "Transgender",
         "India",
         "Madhya Pradesh",
         "Indore",
         700324,
         "Single"
        ],
        [
         169,
         "Carlos Daniel",
         "2024-10-12",
         "carlosdaniel2221@gmail.com",
         "Male",
         "India",
         "Tripura",
         "Agartala",
         810935,
         "Divorced"
        ],
        [
         171,
         "Ursa Bird",
         "2025-02-23",
         "ursabird3150@ymail.com",
         "Female",
         "India",
         "Punjab",
         "Vihari",
         392924,
         "Married"
        ],
        [
         172,
         "Jemima Ayers",
         "2024-08-01",
         "jemimaayers5884@yahoomail.com",
         "Male",
         "India",
         "Lakshadweep",
         "Kavaratti",
         453908,
         "Common Law"
        ],
        [
         173,
         "Beverly Sanders",
         "2024-12-20",
         "beverlysanders@yahoomail.com",
         "Transgender",
         "India",
         "Kerala",
         "Kozhikode",
         218764,
         "Single"
        ],
        [
         174,
         "Cain Garcia",
         "2023-10-13",
         "caingarcia9003@yahoomail.com",
         "Female",
         "India",
         "Sikkim",
         "Gangtok",
         204898,
         "Married"
        ],
        [
         175,
         "Adria Cameron",
         "2024-10-06",
         "adriacameron@yahoomail.com",
         "Female",
         "India",
         "Rajasthan",
         "Jodhpur",
         185026,
         "Married"
        ],
        [
         176,
         "Lillith Estes",
         "2024-08-06",
         "lillithestes6467@ymail.com",
         "Transgender",
         "India",
         "Chhattisgarh",
         "Raigarh",
         534968,
         "Single"
        ],
        [
         177,
         "Clayton Marsh",
         "2023-05-03",
         "claytonmarsh@yahoomail.com",
         "Transgender",
         "India",
         "Arunachal Pradesh",
         "Itanagar",
         819036,
         "Common Law"
        ],
        [
         178,
         "Winifred Bennett",
         "2023-07-25",
         "winifredbennett@gmail.com",
         "Transgender",
         "India",
         "Uttar Pradesh",
         "Sambhal",
         942125,
         "Common Law"
        ],
        [
         182,
         "Bruno Bernard",
         "2023-08-28",
         "brunobernard@gmail.com",
         "Female",
         "India",
         "Tamil Nadu",
         "Tiruppur",
         688445,
         "Single"
        ],
        [
         186,
         "Trevor Dejesus",
         "2024-02-08",
         "trevordejesus@ymail.com",
         "Female",
         "India",
         "Nagaland",
         "Kohima",
         776682,
         "Married"
        ],
        [
         187,
         "Heather Jensen",
         "2024-12-08",
         "heatherjensen6018@yahoomail.com",
         "Male",
         "India",
         "Bihar",
         "Bhagalpur",
         375888,
         "Married"
        ],
        [
         189,
         "Abbot Parker",
         "2023-09-08",
         "abbotparker@ymail.com",
         "Female",
         "India",
         "Mizoram",
         "Aizwal",
         680256,
         "Single"
        ],
        [
         191,
         "Jorden Rosario",
         "2023-12-09",
         "jordenrosario@yahoomail.com",
         "Female",
         "India",
         "Goa",
         "Panjim",
         257614,
         "Single"
        ],
        [
         192,
         "Demetrius Richards",
         "2023-11-13",
         "demetriusrichards7399@yahoomail.com",
         "Transgender",
         "India",
         "Arunachal Pradesh",
         "Itanagar",
         685191,
         "Common Law"
        ],
        [
         194,
         "Ima Holder",
         "2025-02-23",
         "imaholder9135@ymail.com",
         "Transgender",
         "India",
         "Bihar",
         "Bhagalpur",
         775737,
         "Divorced"
        ],
        [
         195,
         "Lucas Reed",
         "2024-07-16",
         "lucasreed@gmail.com",
         "Transgender",
         "India",
         "Mizoram",
         "Aizwal",
         803231,
         "Married"
        ],
        [
         198,
         "Ora Fulton",
         "2023-07-28",
         "orafulton4993@gmail.com",
         "Male",
         "India",
         "Odisha",
         "Puri",
         754220,
         "Common Law"
        ],
        [
         202,
         "Kerry Ruiz",
         "2023-09-29",
         "kerryruiz9936@yahoomail.com",
         "Female",
         "India",
         "Haryana",
         "Rohtak",
         488374,
         "Divorced"
        ],
        [
         203,
         "Amela Bernard",
         "2023-11-23",
         "amelabernard@gmail.com",
         "Male",
         "India",
         "Sikkim",
         "Gangtok",
         377585,
         "Divorced"
        ],
        [
         204,
         "Shelly Boyd",
         "2024-07-25",
         "shellyboyd5859@gmail.com",
         "Transgender",
         "India",
         "Jharkhand",
         "Ranchi",
         299914,
         "Married"
        ],
        [
         206,
         "Ulysses Mullins",
         "2024-12-02",
         "ulyssesmullins@yahoomail.com",
         "Transgender",
         "India",
         "Haryana",
         "Yamuna Nagar",
         609983,
         "Married"
        ],
        [
         207,
         "Tarik Mcmahon",
         "2023-05-05",
         "tarikmcmahon6174@yahoomail.com",
         "Male",
         "India",
         "Daman and Diu",
         "Daman",
         988172,
         "Single"
        ],
        [
         208,
         "Jonas Decker",
         "2023-05-08",
         "jonasdecker@gmail.com",
         "Male",
         "India",
         "Andaman and Nicobar Islands",
         "Port Blair",
         967919,
         "Common Law"
        ],
        [
         211,
         "Jocelyn Kramer",
         "2024-06-05",
         "jocelynkramer@gmail.com",
         "Female",
         "India",
         "Delhi",
         "Delhi",
         302855,
         "Married"
        ],
        [
         212,
         "Kylynn Ashley",
         "2023-05-19",
         "kylynnashley2398@yahoomail.com",
         "Female",
         "India",
         "Chandigarh",
         "Chandigarh",
         830823,
         "Single"
        ],
        [
         215,
         "Colton Swanson",
         "2023-10-13",
         "coltonswanson@yahoomail.com",
         "Female",
         "India",
         "Himachal Pradesh",
         "Shimla",
         797286,
         "Single"
        ],
        [
         216,
         "Florence Clark",
         "2024-09-23",
         "florenceclark@yahoomail.com",
         "Transgender",
         "India",
         "Nagaland",
         "Kohima",
         656238,
         "Single"
        ],
        [
         220,
         "Christian Walters",
         "2023-04-14",
         "christianwalters@yahoomail.com",
         "Male",
         "India",
         "Uttar Pradesh",
         "Sambhal",
         376632,
         "Common Law"
        ],
        [
         221,
         "Liberty Wiley",
         "2023-06-03",
         "libertywiley@ymail.com",
         "Male",
         "India",
         "Meghalaya",
         "Shillong",
         695830,
         "Divorced"
        ],
        [
         222,
         "Ralph Lester",
         "2023-04-04",
         "ralphlester@yahoomail.com",
         "Transgender",
         "India",
         "Dadra and Nagar Haveli",
         "Silvassa",
         595981,
         "Common Law"
        ],
        [
         223,
         "Brenda Erickson",
         "2024-11-04",
         "brendaerickson@yahoomail.com",
         "Female",
         "India",
         "Jharkhand",
         "Dhanbad",
         427957,
         "Married"
        ],
        [
         224,
         "Tana Whitfield",
         "2025-01-23",
         "tanawhitfield@gmail.com",
         "Transgender",
         "India",
         "Dadra and Nagar Haveli",
         "Silvassa",
         843333,
         "Common Law"
        ],
        [
         225,
         "Jarrod Byrd",
         "2023-07-13",
         "jarrodbyrd@gmail.com",
         "Male",
         "India",
         "Delhi",
         "Delhi",
         831053,
         "Single"
        ],
        [
         229,
         "Aurelia Hughes",
         "2024-01-15",
         "aureliahughes@ymail.com",
         "Transgender",
         "India",
         "Andhra Pradesh",
         "Vijayawada",
         123131,
         "Married"
        ],
        [
         234,
         "Fulton Wynn",
         "2023-08-31",
         "fultonwynn7817@gmail.com",
         "Female",
         "India",
         "Jammu and Kashmir",
         "Jammu",
         113326,
         "Single"
        ],
        [
         235,
         "Miranda Blair",
         "2023-04-21",
         "mirandablair@ymail.com",
         "Male",
         "India",
         "Kerala",
         "Thalassery",
         664944,
         "Married"
        ],
        [
         237,
         "Kylie Wilcox",
         "2023-03-31",
         "kyliewilcox@yahoomail.com",
         "Female",
         "India",
         "Assam",
         "Nagaon",
         233281,
         "Married"
        ],
        [
         240,
         "Jeremy Perez",
         "2023-05-13",
         "jeremyperez@gmail.com",
         "Female",
         "India",
         "Mizoram",
         "Aizwal",
         763871,
         "Divorced"
        ],
        [
         241,
         "Darrel Silva",
         "2023-08-01",
         "darrelsilva3116@gmail.com",
         "Male",
         "India",
         "Chhattisgarh",
         "Raigarh",
         596626,
         "Common Law"
        ],
        [
         242,
         "Edward Peterson",
         "2023-12-10",
         "edwardpeterson@ymail.com",
         "Transgender",
         "India",
         "Himachal Pradesh",
         "Shimla",
         625700,
         "Single"
        ],
        [
         243,
         "Reece Parker",
         "2023-10-07",
         "reeceparker@gmail.com",
         "Transgender",
         "India",
         "Manipur",
         "Imphal",
         328692,
         "Common Law"
        ],
        [
         244,
         "Lucian Sears",
         "2023-07-17",
         "luciansears@yahoomail.com",
         "Male",
         "India",
         "Uttarakhand",
         "Haridwar",
         914830,
         "Divorced"
        ],
        [
         246,
         "Hedy Garrett",
         "2024-01-15",
         "hedygarrett3530@yahoomail.com",
         "Female",
         "India",
         "Uttarakhand",
         "Haridwar",
         229430,
         "Married"
        ],
        [
         248,
         "Elliott Bishop",
         "2024-11-23",
         "elliottbishop@gmail.com",
         "Male",
         "India",
         "Madhya Pradesh",
         "Vidisha",
         425747,
         "Single"
        ],
        [
         253,
         "Karyn Solomon",
         "2025-02-09",
         "karynsolomon@yahoomail.com",
         "Female",
         "India",
         "Haryana",
         "Hisar",
         267692,
         "Single"
        ],
        [
         254,
         "Kennan Pruitt",
         "2024-01-04",
         "kennanpruitt@gmail.com",
         "Transgender",
         "India",
         "Karnataka",
         "Gulbarga",
         815296,
         "Single"
        ],
        [
         255,
         "Caldwell Larsen",
         "2023-11-30",
         "caldwelllarsen@yahoomail.com",
         "Transgender",
         "India",
         "Chhattisgarh",
         "Raipur",
         595055,
         "Single"
        ],
        [
         256,
         "Gil Scott",
         "2025-02-24",
         "gilscott@yahoomail.com",
         "Transgender",
         "India",
         "Tripura",
         "Agartala",
         699557,
         "Single"
        ],
        [
         257,
         "Deacon Rivas",
         "2023-11-12",
         "deaconrivas@gmail.com",
         "Male",
         "India",
         "Gujarat",
         "Surendranagar",
         870387,
         "Common Law"
        ],
        [
         259,
         "Mara Callahan",
         "2024-12-12",
         "maracallahan3094@ymail.com",
         "Male",
         "India",
         "Bihar",
         "Katihar",
         691551,
         "Common Law"
        ],
        [
         261,
         "Holmes Powell",
         "2024-07-14",
         "holmespowell@ymail.com",
         "Transgender",
         "India",
         "Bihar",
         "Muzaffarpur",
         393858,
         "Divorced"
        ],
        [
         262,
         "Bianca Shepherd",
         "2024-03-04",
         "biancashepherd1246@gmail.com",
         "Male",
         "India",
         "Maharastra",
         "Gondiya",
         649998,
         "Divorced"
        ],
        [
         263,
         "Nelle Blake",
         "2024-09-17",
         "nelleblake5744@ymail.com",
         "Transgender",
         "India",
         "Karnataka",
         "Bangalore",
         908573,
         "Married"
        ],
        [
         267,
         "Ima Cummings",
         "2023-07-21",
         "imacummings@ymail.com",
         "Transgender",
         "India",
         "Tamil Nadu",
         "Salem",
         988902,
         "Married"
        ],
        [
         268,
         "Cedric Spencer",
         "2023-05-07",
         "cedricspencer5169@ymail.com",
         "Transgender",
         "India",
         "Andaman and Nicobar Islands",
         "Port Blair",
         667070,
         "Single"
        ],
        [
         269,
         "Abigail Stanley",
         "2024-03-29",
         "abigailstanley7400@gmail.com",
         "Male",
         "India",
         "Meghalaya",
         "Shillong",
         727056,
         "Married"
        ],
        [
         271,
         "Alec Haynes",
         "2024-11-24",
         "alechaynes@gmail.com",
         "Female",
         "India",
         "Andaman and Nicobar Islands",
         "Port Blair",
         698328,
         "Common Law"
        ],
        [
         273,
         "Hayes Hendrix",
         "2024-01-24",
         "hayeshendrix@ymail.com",
         "Transgender",
         "India",
         "Meghalaya",
         "Shillong",
         528708,
         "Single"
        ],
        [
         276,
         "Karleigh Fischer",
         "2024-03-02",
         "karleighfischer5980@ymail.com",
         "Male",
         "India",
         "West Bengal",
         "Kharagpur",
         796209,
         "Common Law"
        ],
        [
         278,
         "Miriam Fernandez",
         "2025-03-27",
         "miriamfernandez@gmail.com",
         "Male",
         "India",
         "Tripura",
         "Agartala",
         178629,
         "Divorced"
        ],
        [
         279,
         "Clayton Fernandez",
         "2024-12-23",
         "claytonfernandez@yahoomail.com",
         "Transgender",
         "India",
         "Tamil Nadu",
         "Pallavaram",
         609328,
         "Single"
        ],
        [
         281,
         "Zahir Hahn",
         "2023-09-17",
         "zahirhahn@ymail.com",
         "Female",
         "India",
         "Tripura",
         "Agartala",
         768465,
         "Divorced"
        ],
        [
         282,
         "Mufutau Mccullough",
         "2024-02-29",
         "mufutaumccullough@ymail.com",
         "Female",
         "India",
         "Odisha",
         "Raurkela",
         801718,
         "Married"
        ],
        [
         284,
         "Samantha Sullivan",
         "2025-02-02",
         "samanthasullivan@yahoomail.com",
         "Transgender",
         "India",
         "Uttarakhand",
         "Haridwar",
         233560,
         "Married"
        ],
        [
         286,
         "Eagan Mclean",
         "2025-02-25",
         "eaganmclean@ymail.com",
         "Male",
         "India",
         "Assam",
         "Guwahati",
         325650,
         "Single"
        ],
        [
         291,
         "Rhona Knowles",
         "2024-09-29",
         "rhonaknowles7720@yahoomail.com",
         "Transgender",
         "India",
         "Odisha",
         "Cuttack",
         889617,
         "Divorced"
        ],
        [
         292,
         "Walter Tran",
         "2024-10-17",
         "waltertran5781@ymail.com",
         "Female",
         "India",
         "Himachal Pradesh",
         "Shimla",
         890745,
         "Common Law"
        ],
        [
         297,
         "Hermione Mann",
         "2023-08-02",
         "hermionemann2896@gmail.com",
         "Male",
         "India",
         "Dadra and Nagar Haveli",
         "Silvassa",
         497856,
         "Divorced"
        ],
        [
         298,
         "Chaney Myers",
         "2024-04-25",
         "chaneymyers8659@ymail.com",
         "Female",
         "India",
         "Haryana",
         "Yamuna Nagar",
         119187,
         "Single"
        ],
        [
         302,
         "Yardley Garner",
         "2023-06-18",
         "yardleygarner652@gmail.com",
         "Transgender",
         "India",
         "Uttarakhand",
         "Dehradun",
         580336,
         "Single"
        ],
        [
         305,
         "Hedda Church",
         "2024-02-24",
         "heddachurch@yahoomail.com",
         "Transgender",
         "India",
         "Madhya Pradesh",
         "Shivapuri",
         707467,
         "Divorced"
        ],
        [
         307,
         "Candice Pratt",
         "2024-04-03",
         "candicepratt@yahoomail.com",
         "Transgender",
         "India",
         "Madhya Pradesh",
         "Jabalpur",
         759873,
         "Divorced"
        ],
        [
         308,
         "Whitney Sampson",
         "2024-12-08",
         "whitneysampson@yahoomail.com",
         "Male",
         "India",
         "Jharkhand",
         "Purulia",
         165515,
         "Single"
        ],
        [
         311,
         "Celeste Parrish",
         "2023-08-09",
         "celesteparrish4253@yahoomail.com",
         "Male",
         "India",
         "Odisha",
         "Puri",
         524026,
         "Married"
        ],
        [
         312,
         "Omar Lewis",
         "2024-03-13",
         "omarlewis@yahoomail.com",
         "Transgender",
         "India",
         "West Bengal",
         "Barrackpur",
         427235,
         "Married"
        ],
        [
         316,
         "Lacy Stafford",
         "2023-08-18",
         "lacystafford5472@yahoomail.com",
         "Male",
         "India",
         "Uttarakhand",
         "Haridwar",
         174052,
         "Married"
        ],
        [
         317,
         "Minerva Hicks",
         "2024-04-05",
         "minervahicks@gmail.com",
         "Transgender",
         "India",
         "Arunachal Pradesh",
         "Itanagar",
         236271,
         "Divorced"
        ],
        [
         319,
         "Anjolie Richardson",
         "2024-07-03",
         "anjolierichardson@gmail.com",
         "Female",
         "India",
         "Odisha",
         "Puri",
         423584,
         "Married"
        ],
        [
         320,
         "Caldwell King",
         "2024-10-06",
         "caldwellking955@yahoomail.com",
         "Transgender",
         "India",
         "Uttarakhand",
         "Dehradun",
         309911,
         "Divorced"
        ],
        [
         321,
         "Justine Schneider",
         "2023-11-09",
         "justineschneider2129@ymail.com",
         "Female",
         "India",
         "Bihar",
         "Darbhanga",
         470509,
         "Single"
        ],
        [
         322,
         "Elaine Duran",
         "2024-11-02",
         "elaineduran@gmail.com",
         "Male",
         "India",
         "Chandigarh",
         "Chandigarh",
         967866,
         "Divorced"
        ],
        [
         323,
         "Inez Baxter",
         "2023-10-26",
         "inezbaxter7771@ymail.com",
         "Transgender",
         "India",
         "Uttarakhand",
         "Haridwar",
         883494,
         "Single"
        ],
        [
         324,
         "Zorita Oliver",
         "2023-08-07",
         "zoritaoliver6755@ymail.com",
         "Male",
         "India",
         "Karnataka",
         "Bidar",
         422734,
         "Single"
        ],
        [
         326,
         "Callie Paul",
         "2024-10-06",
         "calliepaul@yahoomail.com",
         "Female",
         "India",
         "Jharkhand",
         "Mango",
         579060,
         "Divorced"
        ],
        [
         328,
         "Camilla Poole",
         "2023-11-13",
         "camillapoole4866@yahoomail.com",
         "Male",
         "India",
         "Sikkim",
         "Gangtok",
         211733,
         "Single"
        ],
        [
         330,
         "Marshall Pugh",
         "2023-06-21",
         "marshallpugh@yahoomail.com",
         "Male",
         "India",
         "Sikkim",
         "Gangtok",
         852948,
         "Single"
        ],
        [
         335,
         "Maisie Mcgowan",
         "2023-05-02",
         "maisiemcgowan@yahoomail.com",
         "Transgender",
         "India",
         "Karnataka",
         "Shimoga",
         406341,
         "Divorced"
        ],
        [
         340,
         "Cailin Sloan",
         "2023-12-23",
         "cailinsloan4385@ymail.com",
         "Female",
         "India",
         "Tripura",
         "Agartala",
         277358,
         "Married"
        ],
        [
         341,
         "Deacon Lawrence",
         "2024-10-16",
         "deaconlawrence@ymail.com",
         "Transgender",
         "India",
         "West Bengal",
         "Bansberia",
         797921,
         "Divorced"
        ],
        [
         342,
         "Anastasia Hall",
         "2024-10-14",
         "anastasiahall7829@yahoomail.com",
         "Male",
         "India",
         "Odisha",
         "Cuttack",
         404855,
         "Divorced"
        ],
        [
         344,
         "Amery Rosa",
         "2023-04-26",
         "ameryrosa4115@gmail.com",
         "Male",
         "India",
         "Tripura",
         "Agartala",
         552707,
         "Common Law"
        ],
        [
         350,
         "Coby Bates",
         "2024-05-03",
         "cobybates5143@yahoomail.com",
         "Female",
         "India",
         "Maharastra",
         "Solapur",
         132097,
         "Common Law"
        ],
        [
         351,
         "Raja Tanner",
         "2024-06-09",
         "rajatanner@yahoomail.com",
         "Male",
         "India",
         "West Bengal",
         "Midnapore",
         409103,
         "Common Law"
        ],
        [
         353,
         "Kimberley Winters",
         "2024-07-27",
         "kimberleywinters@yahoomail.com",
         "Transgender",
         "India",
         "Sikkim",
         "Gangtok",
         393270,
         "Married"
        ],
        [
         354,
         "Ainsley Herring",
         "2024-01-14",
         "ainsleyherring7428@gmail.com",
         "Female",
         "India",
         "Jharkhand",
         "Purulia",
         664596,
         "Married"
        ],
        [
         355,
         "Ria Wagner",
         "2023-09-20",
         "riawagner6426@yahoomail.com",
         "Male",
         "India",
         "Tripura",
         "Agartala",
         209418,
         "Common Law"
        ],
        [
         357,
         "Kitra Guerrero",
         "2024-05-10",
         "kitraguerrero@ymail.com",
         "Transgender",
         "India",
         "Jharkhand",
         "Bokaro Steel City",
         183182,
         "Married"
        ],
        [
         359,
         "Cecilia Bridges",
         "2023-10-07",
         "ceciliabridges772@yahoomail.com",
         "Female",
         "India",
         "Andhra Pradesh",
         "Khammam",
         337180,
         "Common Law"
        ],
        [
         360,
         "Ignatius Espinoza",
         "2024-05-31",
         "ignatiusespinoza4495@yahoomail.com",
         "Male",
         "India",
         "Madhya Pradesh",
         "Damoh",
         205331,
         "Common Law"
        ],
        [
         361,
         "Kasimir Henderson",
         "2025-01-11",
         "kasimirhenderson@yahoomail.com",
         "Male",
         "India",
         "Uttarakhand",
         "Dehradun",
         398322,
         "Divorced"
        ],
        [
         362,
         "Byron Mcclain",
         "2024-06-18",
         "byronmcclain1729@ymail.com",
         "Transgender",
         "India",
         "Odisha",
         "Brahmapur",
         921139,
         "Divorced"
        ],
        [
         363,
         "Cherokee Greer",
         "2024-05-18",
         "cherokeegreer@yahoomail.com",
         "Female",
         "India",
         "Rajasthan",
         "Pali",
         908110,
         "Common Law"
        ],
        [
         365,
         "Sheila Kaufman",
         "2024-01-30",
         "sheilakaufman6366@yahoomail.com",
         "Male",
         "India",
         "Manipur",
         "Imphal",
         979536,
         "Divorced"
        ],
        [
         366,
         "Evan Ramos",
         "2023-05-10",
         "evanramos4474@yahoomail.com",
         "Transgender",
         "India",
         "Jharkhand",
         "Dhanbad",
         860922,
         "Single"
        ],
        [
         368,
         "Xandra Mason",
         "2024-11-25",
         "xandramason@yahoomail.com",
         "Female",
         "India",
         "Uttar Pradesh",
         "Hathras",
         824030,
         "Single"
        ],
        [
         370,
         "Desiree Williams",
         "2023-07-17",
         "desireewilliams@yahoomail.com",
         "Female",
         "India",
         "Uttarakhand",
         "Dehradun",
         699621,
         "Single"
        ],
        [
         372,
         "Mari Clayton",
         "2023-11-20",
         "mariclayton@yahoomail.com",
         "Transgender",
         "India",
         "Assam",
         "Guwahati",
         114277,
         "Divorced"
        ],
        [
         373,
         "Alfreda Garrison",
         "2025-03-21",
         "alfredagarrison9181@ymail.com",
         "Transgender",
         "India",
         "Uttar Pradesh",
         "Bahraich",
         495246,
         "Married"
        ],
        [
         377,
         "Armando Wood",
         "2025-01-10",
         "armandowood@gmail.com",
         "Transgender",
         "India",
         "Uttar Pradesh",
         "Shahjahanpur",
         340352,
         "Married"
        ],
        [
         378,
         "Lunea Bond",
         "2023-11-19",
         "luneabond@ymail.com",
         "Transgender",
         "India",
         "Andhra Pradesh",
         "Nandyal",
         832428,
         "Single"
        ],
        [
         380,
         "Meredith Cash",
         "2025-03-28",
         "meredithcash2365@ymail.com",
         "Female",
         "India",
         "Himachal Pradesh",
         "Shimla",
         547051,
         "Married"
        ],
        [
         384,
         "Charles Hampton",
         "2025-03-01",
         "charleshampton4167@yahoomail.com",
         "Transgender",
         "India",
         "Jharkhand",
         "Dhanbad",
         587639,
         "Single"
        ],
        [
         385,
         "Clare Thompson",
         "2024-03-25",
         "clarethompson@ymail.com",
         "Female",
         "India",
         "Daman and Diu",
         "Daman",
         927069,
         "Divorced"
        ],
        [
         387,
         "Flynn Barrera",
         "2024-06-10",
         "flynnbarrera3262@yahoomail.com",
         "Transgender",
         "India",
         "Punjab",
         "Kamoke",
         133669,
         "Single"
        ],
        [
         390,
         "Echo Randolph",
         "2024-02-04",
         "echorandolph5636@yahoomail.com",
         "Male",
         "India",
         "Goa",
         "Panjim",
         590173,
         "Single"
        ],
        [
         391,
         "Michael Lindsay",
         "2023-09-11",
         "michaellindsay@ymail.com",
         "Transgender",
         "India",
         "Bihar",
         "Dehri",
         831564,
         "Single"
        ],
        [
         394,
         "Justin Forbes",
         "2024-10-17",
         "justinforbes9901@gmail.com",
         "Female",
         "India",
         "Punjab",
         "Dera Ghazi Khan",
         367581,
         "Single"
        ],
        [
         396,
         "Quon Lester",
         "2024-07-22",
         "quonlester@gmail.com",
         "Female",
         "India",
         "Delhi",
         "Delhi",
         404830,
         "Common Law"
        ],
        [
         402,
         "Sebastian Wells",
         "2025-01-18",
         "sebastianwells@gmail.com",
         "Female",
         "India",
         "Lakshadweep",
         "Kavaratti",
         983698,
         "Divorced"
        ],
        [
         403,
         "Astra Roman",
         "2023-08-20",
         "astraroman@yahoomail.com",
         "Transgender",
         "India",
         "Jammu and Kashmir",
         "Srinagar",
         870478,
         "Married"
        ],
        [
         411,
         "Shea Collins",
         "2024-09-30",
         "sheacollins@ymail.com",
         "Female",
         "India",
         "Meghalaya",
         "Shillong",
         525552,
         "Common Law"
        ],
        [
         412,
         "Daphne Camacho",
         "2023-06-12",
         "daphnecamacho6812@yahoomail.com",
         "Female",
         "India",
         "Goa",
         "Panjim",
         812443,
         "Married"
        ],
        [
         413,
         "Charles Byrd",
         "2024-08-16",
         "charlesbyrd@yahoomail.com",
         "Female",
         "India",
         "Mizoram",
         "Aizwal",
         259345,
         "Common Law"
        ],
        [
         416,
         "Bryar Levy",
         "2024-03-29",
         "bryarlevy9747@ymail.com",
         "Male",
         "India",
         "Haryana",
         "Sonipat",
         759877,
         "Common Law"
        ],
        [
         417,
         "Florence Rasmussen",
         "2024-06-25",
         "florencerasmussen3962@gmail.com",
         "Female",
         "India",
         "West Bengal",
         "Kharagpur",
         760116,
         "Divorced"
        ],
        [
         419,
         "Tamara Romero",
         "2024-06-13",
         "tamararomero933@yahoomail.com",
         "Transgender",
         "India",
         "Manipur",
         "Imphal",
         690424,
         "Married"
        ],
        [
         421,
         "Emma Dotson",
         "2024-10-06",
         "emmadotson@yahoomail.com",
         "Transgender",
         "India",
         "Tamil Nadu",
         "Kumbakonam",
         165103,
         "Divorced"
        ],
        [
         422,
         "Joel Guthrie",
         "2024-02-07",
         "joelguthrie@yahoomail.com",
         "Transgender",
         "India",
         "Jharkhand",
         "Jamshedpur",
         162698,
         "Single"
        ],
        [
         424,
         "Hector Campbell",
         "2024-01-31",
         "hectorcampbell489@ymail.com",
         "Transgender",
         "India",
         "Andaman and Nicobar Islands",
         "Port Blair",
         192146,
         "Single"
        ],
        [
         427,
         "Carl Reed",
         "2024-10-29",
         "carlreed@ymail.com",
         "Female",
         "India",
         "Daman and Diu",
         "Daman",
         173352,
         "Common Law"
        ],
        [
         434,
         "Hanae Michael",
         "2024-12-18",
         "hanaemichael2945@yahoomail.com",
         "Female",
         "India",
         "Andhra Pradesh",
         "Rajahmundry",
         879970,
         "Married"
        ],
        [
         435,
         "Rudyard Le",
         "2024-10-01",
         "rudyardle2589@ymail.com",
         "Male",
         "India",
         "Nagaland",
         "Kohima",
         458226,
         "Divorced"
        ],
        [
         438,
         "Steel Mcgowan",
         "2024-03-17",
         "steelmcgowan9141@yahoomail.com",
         "Transgender",
         "India",
         "Uttarakhand",
         "Haridwar",
         521613,
         "Married"
        ],
        [
         439,
         "Darrel Manning",
         "2023-08-01",
         "darrelmanning@ymail.com",
         "Male",
         "India",
         "Dadra and Nagar Haveli",
         "Silvassa",
         102491,
         "Married"
        ],
        [
         440,
         "Denton Grant",
         "2024-09-25",
         "dentongrant@yahoomail.com",
         "Female",
         "India",
         "Meghalaya",
         "Shillong",
         979148,
         "Single"
        ],
        [
         446,
         "Roth Frank",
         "2023-11-03",
         "rothfrank@gmail.com",
         "Female",
         "India",
         "Punjab",
         "Jhang",
         327041,
         "Divorced"
        ],
        [
         447,
         "Jared Trujillo",
         "2023-11-09",
         "jaredtrujillo580@yahoomail.com",
         "Female",
         "India",
         "Tamil Nadu",
         "Salem",
         885714,
         "Single"
        ],
        [
         448,
         "Aline Mullins",
         "2025-01-26",
         "alinemullins265@yahoomail.com",
         "Female",
         "India",
         "Mizoram",
         "Aizwal",
         260973,
         "Single"
        ],
        [
         452,
         "Jaden Sanford",
         "2025-02-03",
         "jadensanford@yahoomail.com",
         "Female",
         "India",
         "Goa",
         "Panjim",
         444557,
         "Common Law"
        ],
        [
         455,
         "Macaulay Lamb",
         "2024-01-31",
         "macaulaylamb@ymail.com",
         "Female",
         "India",
         "Haryana",
         "Gurgaon",
         530722,
         "Divorced"
        ],
        [
         456,
         "Thor Ball",
         "2023-09-17",
         "thorball@ymail.com",
         "Transgender",
         "India",
         "Odisha",
         "Bhubaneswar",
         812883,
         "Married"
        ],
        [
         458,
         "TaShya Padilla",
         "2023-04-01",
         "tashyapadilla@yahoomail.com",
         "Transgender",
         "India",
         "Kerala",
         "Kozhikode",
         839898,
         "Divorced"
        ],
        [
         462,
         "Joelle Banks",
         "2025-01-29",
         "joellebanks6110@ymail.com",
         "Male",
         "India",
         "Jammu and Kashmir",
         "Srinagar",
         257010,
         "Married"
        ],
        [
         463,
         "Vera Mcfadden",
         "2024-04-06",
         "veramcfadden@gmail.com",
         "Male",
         "India",
         "Maharastra",
         "Ulhasnagar",
         647938,
         "Single"
        ],
        [
         464,
         "Martin Palmer",
         "2025-01-14",
         "martinpalmer@yahoomail.com",
         "Female",
         "India",
         "Arunachal Pradesh",
         "Itanagar",
         763472,
         "Divorced"
        ],
        [
         465,
         "Chester Price",
         "2023-05-24",
         "chesterprice@ymail.com",
         "Female",
         "India",
         "Rajasthan",
         "Sikar",
         168703,
         "Common Law"
        ],
        [
         466,
         "Benjamin Chapman",
         "2023-07-14",
         "benjaminchapman2395@gmail.com",
         "Female",
         "India",
         "Dadra and Nagar Haveli",
         "Silvassa",
         232333,
         "Common Law"
        ],
        [
         467,
         "Kirk Case",
         "2023-10-07",
         "kirkcase8552@yahoomail.com",
         "Male",
         "India",
         "Goa",
         "Panjim",
         355499,
         "Common Law"
        ],
        [
         470,
         "Kitra Blankenship",
         "2023-09-15",
         "kitrablankenship5441@yahoomail.com",
         "Female",
         "India",
         "Uttarakhand",
         "Dehradun",
         992918,
         "Divorced"
        ],
        [
         471,
         "Shannon Copeland",
         "2024-10-18",
         "shannoncopeland@yahoomail.com",
         "Male",
         "India",
         "Jammu and Kashmir",
         "Srinagar",
         804896,
         "Single"
        ],
        [
         472,
         "Haley Randolph",
         "2024-10-08",
         "haleyrandolph@ymail.com",
         "Male",
         "India",
         "Goa",
         "Panjim",
         123743,
         "Married"
        ],
        [
         473,
         "Jelani Todd",
         "2023-12-19",
         "jelanitodd8452@yahoomail.com",
         "Male",
         "India",
         "Sikkim",
         "Gangtok",
         790502,
         "Married"
        ],
        [
         475,
         "Maggy Patel",
         "2024-10-03",
         "maggypatel@ymail.com",
         "Male",
         "India",
         "Odisha",
         "Raurkela Civil Township",
         848957,
         "Married"
        ],
        [
         476,
         "Scarlett Campos",
         "2025-01-17",
         "scarlettcampos@ymail.com",
         "Male",
         "India",
         "Daman and Diu",
         "Daman",
         322551,
         "Single"
        ],
        [
         479,
         "Lydia Glass",
         "2023-12-31",
         "lydiaglass@gmail.com",
         "Female",
         "India",
         "Uttarakhand",
         "Haridwar",
         205993,
         "Married"
        ],
        [
         481,
         "Nissim Miller",
         "2024-06-12",
         "nissimmiller@ymail.com",
         "Female",
         "India",
         "Daman and Diu",
         "Daman",
         548427,
         "Single"
        ],
        [
         482,
         "Jeanette Carroll",
         "2024-09-24",
         "jeanettecarroll5407@ymail.com",
         "Female",
         "India",
         "Uttarakhand",
         "Haridwar",
         641005,
         "Single"
        ],
        [
         483,
         "Jelani Velazquez",
         "2024-02-18",
         "jelanivelazquez5928@gmail.com",
         "Male",
         "India",
         "Punjab",
         "Wazirabad",
         859660,
         "Common Law"
        ],
        [
         485,
         "Hasad Lindsey",
         "2025-01-28",
         "hasadlindsey9058@gmail.com",
         "Male",
         "India",
         "Assam",
         "Guwahati",
         279585,
         "Single"
        ],
        [
         487,
         "Zelenia Weaver",
         "2023-04-12",
         "zeleniaweaver8733@yahoomail.com",
         "Transgender",
         "India",
         "Tripura",
         "Agartala",
         930443,
         "Common Law"
        ],
        [
         488,
         "Driscoll Shepherd",
         "2024-07-23",
         "driscollshepherd@ymail.com",
         "Female",
         "India",
         "Kerala",
         "Kollam",
         535278,
         "Common Law"
        ],
        [
         490,
         "Odette Hill",
         "2024-10-31",
         "odettehill@ymail.com",
         "Female",
         "India",
         "Madhya Pradesh",
         "Bhopal",
         605344,
         "Married"
        ],
        [
         492,
         "Daquan Salazar",
         "2024-11-21",
         "daquansalazar2356@ymail.com",
         "Female",
         "India",
         "Mizoram",
         "Aizwal",
         469243,
         "Divorced"
        ]
       ],
       "datasetInfos": [],
       "dbfsResultPath": null,
       "isJsonSchema": true,
       "metadata": {},
       "overflow": false,
       "plotOptions": {
        "customPlotOptions": {},
        "displayType": "table",
        "pivotAggregation": null,
        "pivotColumns": null,
        "xColumns": null,
        "yColumns": null
       },
       "removedWidgets": [],
       "schema": [
        {
         "metadata": "{}",
         "name": "id",
         "type": "\"integer\""
        },
        {
         "metadata": "{}",
         "name": "name",
         "type": "\"string\""
        },
        {
         "metadata": "{}",
         "name": "dob",
         "type": "\"date\""
        },
        {
         "metadata": "{}",
         "name": "email",
         "type": "\"string\""
        },
        {
         "metadata": "{}",
         "name": "gender",
         "type": "\"string\""
        },
        {
         "metadata": "{}",
         "name": "country",
         "type": "\"string\""
        },
        {
         "metadata": "{}",
         "name": "region",
         "type": "\"string\""
        },
        {
         "metadata": "{}",
         "name": "city",
         "type": "\"string\""
        },
        {
         "metadata": "{}",
         "name": "asset",
         "type": "\"integer\""
        },
        {
         "metadata": "{}",
         "name": "marital_status",
         "type": "\"string\""
        }
       ],
       "type": "table"
      }
     },
     "output_type": "display_data"
    }
   ],
   "source": [
    "spark.read.table(\"quickstart_schema.users\").display()"
   ]
  },
  {
   "cell_type": "markdown",
   "metadata": {
    "application/vnd.databricks.v1+cell": {
     "cellMetadata": {},
     "inputWidgets": {},
     "nuid": "d1623275-2bc3-43da-bf9e-e1d02c659a8c",
     "showTitle": false,
     "tableResultSettingsMap": {},
     "title": ""
    }
   },
   "source": [
    "# Time Travel"
   ]
  },
  {
   "cell_type": "code",
   "execution_count": 0,
   "metadata": {
    "application/vnd.databricks.v1+cell": {
     "cellMetadata": {
      "byteLimit": 2048000,
      "rowLimit": 10000
     },
     "inputWidgets": {},
     "nuid": "05c124ca-d413-4dfd-9834-f89625d46900",
     "showTitle": false,
     "tableResultSettingsMap": {},
     "title": ""
    }
   },
   "outputs": [
    {
     "output_type": "display_data",
     "data": {
      "text/html": [
       "<style scoped>\n",
       "  .table-result-container {\n",
       "    max-height: 300px;\n",
       "    overflow: auto;\n",
       "  }\n",
       "  table, th, td {\n",
       "    border: 1px solid black;\n",
       "    border-collapse: collapse;\n",
       "  }\n",
       "  th, td {\n",
       "    padding: 5px;\n",
       "  }\n",
       "  th {\n",
       "    text-align: left;\n",
       "  }\n",
       "</style><div class='table-result-container'><table class='table-result'><thead style='background-color: white'><tr><th>id</th><th>name</th><th>dob</th><th>email</th><th>gender</th><th>country</th><th>region</th><th>city</th><th>asset</th><th>marital_status</th></tr></thead><tbody><tr><td>1</td><td>Heather Gibbs</td><td>2024-10-31</td><td>heathergibbs6243@gmail.com</td><td>Female</td><td>United States</td><td>Virginia</td><td>Virginia Beach</td><td>734388</td><td>Married</td></tr><tr><td>2</td><td>Herrod Petersen</td><td>2024-02-19</td><td>herrodpetersen@yahoomail.com</td><td>Male</td><td>United States</td><td>Arizona</td><td>Phoenix</td><td>113506</td><td>Single</td></tr><tr><td>3</td><td>Ocean Workman</td><td>2024-10-10</td><td>oceanworkman2328@ymail.com</td><td>Male</td><td>United States</td><td>Tennessee</td><td>Clarksville</td><td>139985</td><td>Married</td></tr><tr><td>4</td><td>Xaviera Maxwell</td><td>2025-03-09</td><td>xavieramaxwell@gmail.com</td><td>Transgender</td><td>United States</td><td>Ohio</td><td>Cleveland</td><td>511409</td><td>Married</td></tr></tbody></table></div>"
      ]
     },
     "metadata": {
      "application/vnd.databricks.v1+output": {
       "addedWidgets": {},
       "aggData": [],
       "aggError": "",
       "aggOverflow": false,
       "aggSchema": [],
       "aggSeriesLimitReached": false,
       "aggType": "",
       "arguments": {},
       "columnCustomDisplayInfos": {},
       "data": [
        [
         1,
         "Heather Gibbs",
         "2024-10-31",
         "heathergibbs6243@gmail.com",
         "Female",
         "United States",
         "Virginia",
         "Virginia Beach",
         734388,
         "Married"
        ],
        [
         2,
         "Herrod Petersen",
         "2024-02-19",
         "herrodpetersen@yahoomail.com",
         "Male",
         "United States",
         "Arizona",
         "Phoenix",
         113506,
         "Single"
        ],
        [
         3,
         "Ocean Workman",
         "2024-10-10",
         "oceanworkman2328@ymail.com",
         "Male",
         "United States",
         "Tennessee",
         "Clarksville",
         139985,
         "Married"
        ],
        [
         4,
         "Xaviera Maxwell",
         "2025-03-09",
         "xavieramaxwell@gmail.com",
         "Transgender",
         "United States",
         "Ohio",
         "Cleveland",
         511409,
         "Married"
        ]
       ],
       "datasetInfos": [],
       "dbfsResultPath": null,
       "isJsonSchema": true,
       "metadata": {},
       "overflow": false,
       "plotOptions": {
        "customPlotOptions": {},
        "displayType": "table",
        "pivotAggregation": null,
        "pivotColumns": null,
        "xColumns": null,
        "yColumns": null
       },
       "removedWidgets": [],
       "schema": [
        {
         "metadata": "{}",
         "name": "id",
         "type": "\"integer\""
        },
        {
         "metadata": "{}",
         "name": "name",
         "type": "\"string\""
        },
        {
         "metadata": "{}",
         "name": "dob",
         "type": "\"date\""
        },
        {
         "metadata": "{}",
         "name": "email",
         "type": "\"string\""
        },
        {
         "metadata": "{}",
         "name": "gender",
         "type": "\"string\""
        },
        {
         "metadata": "{}",
         "name": "country",
         "type": "\"string\""
        },
        {
         "metadata": "{}",
         "name": "region",
         "type": "\"string\""
        },
        {
         "metadata": "{}",
         "name": "city",
         "type": "\"string\""
        },
        {
         "metadata": "{}",
         "name": "asset",
         "type": "\"integer\""
        },
        {
         "metadata": "{}",
         "name": "marital_status",
         "type": "\"string\""
        }
       ],
       "type": "table"
      }
     },
     "output_type": "display_data"
    }
   ],
   "source": [
    "spark.read.option(\"timestampAsOf\",\"2024-12-06T03:58:41\").table(\"quickstart_schema.users\").limit(4).display()"
   ]
  },
  {
   "cell_type": "code",
   "execution_count": 0,
   "metadata": {
    "application/vnd.databricks.v1+cell": {
     "cellMetadata": {
      "byteLimit": 2048000,
      "implicitDf": true,
      "rowLimit": 10000
     },
     "inputWidgets": {},
     "nuid": "e0cbfa9e-8242-4ea7-bb7a-5c9aff17368c",
     "showTitle": false,
     "tableResultSettingsMap": {},
     "title": ""
    }
   },
   "outputs": [
    {
     "output_type": "display_data",
     "data": {
      "text/html": [
       "<style scoped>\n",
       "  .table-result-container {\n",
       "    max-height: 300px;\n",
       "    overflow: auto;\n",
       "  }\n",
       "  table, th, td {\n",
       "    border: 1px solid black;\n",
       "    border-collapse: collapse;\n",
       "  }\n",
       "  th, td {\n",
       "    padding: 5px;\n",
       "  }\n",
       "  th {\n",
       "    text-align: left;\n",
       "  }\n",
       "</style><div class='table-result-container'><table class='table-result'><thead style='background-color: white'><tr><th>format</th><th>id</th><th>name</th><th>description</th><th>location</th><th>createdAt</th><th>lastModified</th><th>partitionColumns</th><th>numFiles</th><th>sizeInBytes</th><th>properties</th><th>minReaderVersion</th><th>minWriterVersion</th><th>tableFeatures</th><th>statistics</th></tr></thead><tbody><tr><td>delta</td><td>df196364-a89f-40cc-b95f-06bd8566c696</td><td>spark_catalog.quickstart_schema.users</td><td>null</td><td>dbfs:/user/hive/warehouse/quickstart_schema.db/users</td><td>2024-12-06T03:53:03.452+0000</td><td>2024-12-06T04:41:29.000+0000</td><td>List()</td><td>1</td><td>15871</td><td>Map()</td><td>1</td><td>2</td><td>List(appendOnly, invariants)</td><td>Map()</td></tr></tbody></table></div>"
      ]
     },
     "metadata": {
      "application/vnd.databricks.v1+output": {
       "addedWidgets": {},
       "aggData": [],
       "aggError": "",
       "aggOverflow": false,
       "aggSchema": [],
       "aggSeriesLimitReached": false,
       "aggType": "",
       "arguments": {},
       "columnCustomDisplayInfos": {},
       "data": [
        [
         "delta",
         "df196364-a89f-40cc-b95f-06bd8566c696",
         "spark_catalog.quickstart_schema.users",
         null,
         "dbfs:/user/hive/warehouse/quickstart_schema.db/users",
         "2024-12-06T03:53:03.452+0000",
         "2024-12-06T04:41:29.000+0000",
         [],
         1,
         15871,
         {},
         1,
         2,
         [
          "appendOnly",
          "invariants"
         ],
         {}
        ]
       ],
       "datasetInfos": [],
       "dbfsResultPath": null,
       "isJsonSchema": true,
       "metadata": {},
       "overflow": false,
       "plotOptions": {
        "customPlotOptions": {},
        "displayType": "table",
        "pivotAggregation": null,
        "pivotColumns": null,
        "xColumns": null,
        "yColumns": null
       },
       "removedWidgets": [],
       "schema": [
        {
         "metadata": "{}",
         "name": "format",
         "type": "\"string\""
        },
        {
         "metadata": "{}",
         "name": "id",
         "type": "\"string\""
        },
        {
         "metadata": "{}",
         "name": "name",
         "type": "\"string\""
        },
        {
         "metadata": "{}",
         "name": "description",
         "type": "\"string\""
        },
        {
         "metadata": "{}",
         "name": "location",
         "type": "\"string\""
        },
        {
         "metadata": "{}",
         "name": "createdAt",
         "type": "\"timestamp\""
        },
        {
         "metadata": "{}",
         "name": "lastModified",
         "type": "\"timestamp\""
        },
        {
         "metadata": "{}",
         "name": "partitionColumns",
         "type": "{\"type\":\"array\",\"elementType\":\"string\",\"containsNull\":true}"
        },
        {
         "metadata": "{}",
         "name": "numFiles",
         "type": "\"long\""
        },
        {
         "metadata": "{}",
         "name": "sizeInBytes",
         "type": "\"long\""
        },
        {
         "metadata": "{}",
         "name": "properties",
         "type": "{\"type\":\"map\",\"keyType\":\"string\",\"valueType\":\"string\",\"valueContainsNull\":true}"
        },
        {
         "metadata": "{}",
         "name": "minReaderVersion",
         "type": "\"integer\""
        },
        {
         "metadata": "{}",
         "name": "minWriterVersion",
         "type": "\"integer\""
        },
        {
         "metadata": "{}",
         "name": "tableFeatures",
         "type": "{\"type\":\"array\",\"elementType\":\"string\",\"containsNull\":true}"
        },
        {
         "metadata": "{}",
         "name": "statistics",
         "type": "{\"type\":\"map\",\"keyType\":\"string\",\"valueType\":\"long\",\"valueContainsNull\":true}"
        }
       ],
       "type": "table"
      }
     },
     "output_type": "display_data"
    }
   ],
   "source": [
    "%sql\n",
    "DESCRIBE DETAIL quickstart_schema.users;"
   ]
  },
  {
   "cell_type": "code",
   "execution_count": 0,
   "metadata": {
    "application/vnd.databricks.v1+cell": {
     "cellMetadata": {},
     "inputWidgets": {},
     "nuid": "e5677f25-9883-407d-a7b6-41f1a4fb3b54",
     "showTitle": false,
     "tableResultSettingsMap": {},
     "title": ""
    }
   },
   "outputs": [],
   "source": []
  }
 ],
 "metadata": {
  "application/vnd.databricks.v1+notebook": {
   "dashboards": [],
   "environmentMetadata": null,
   "language": "python",
   "notebookMetadata": {
    "mostRecentlyExecutedCommandWithImplicitDF": {
     "commandId": 1565450580302824,
     "dataframes": [
      "_sqldf"
     ]
    },
    "pythonIndentUnit": 4
   },
   "notebookName": "05. Delta Table Creation and Transaction Log",
   "widgets": {}
  }
 },
 "nbformat": 4,
 "nbformat_minor": 0
}
