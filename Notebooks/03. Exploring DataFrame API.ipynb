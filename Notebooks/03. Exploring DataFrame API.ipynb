{
 "cells": [
  {
   "cell_type": "markdown",
   "metadata": {
    "application/vnd.databricks.v1+cell": {
     "cellMetadata": {},
     "inputWidgets": {},
     "nuid": "f4b92ec1-5fad-47b7-8996-09c772767e3b",
     "showTitle": false,
     "tableResultSettingsMap": {},
     "title": ""
    }
   },
   "source": [
    "# Prerequisites\n",
    "\n",
    "1. Create DataFrame"
   ]
  },
  {
   "cell_type": "code",
   "execution_count": 0,
   "metadata": {
    "application/vnd.databricks.v1+cell": {
     "cellMetadata": {
      "byteLimit": 2048000,
      "rowLimit": 10000
     },
     "inputWidgets": {},
     "nuid": "88e13aca-dade-4f63-a45f-38cc7a11403d",
     "showTitle": false,
     "tableResultSettingsMap": {},
     "title": ""
    }
   },
   "outputs": [
    {
     "output_type": "display_data",
     "data": {
      "text/html": [
       "<style scoped>\n",
       "  .table-result-container {\n",
       "    max-height: 300px;\n",
       "    overflow: auto;\n",
       "  }\n",
       "  table, th, td {\n",
       "    border: 1px solid black;\n",
       "    border-collapse: collapse;\n",
       "  }\n",
       "  th, td {\n",
       "    padding: 5px;\n",
       "  }\n",
       "  th {\n",
       "    text-align: left;\n",
       "  }\n",
       "</style><div class='table-result-container'><table class='table-result'><thead style='background-color: white'><tr><th>id</th><th>age</th><th>gen</th><th>designation</th><th>salary</th></tr></thead><tbody><tr><td>1</td><td>26</td><td>M</td><td>Technician</td><td>85711</td></tr><tr><td>2</td><td>53</td><td>F</td><td>Other</td><td>94043</td></tr><tr><td>3</td><td>23</td><td>M</td><td>Writer</td><td>32067</td></tr><tr><td>4</td><td>26</td><td>M</td><td>technician</td><td>43537</td></tr></tbody></table></div>"
      ]
     },
     "metadata": {
      "application/vnd.databricks.v1+output": {
       "addedWidgets": {},
       "aggData": [],
       "aggError": "",
       "aggOverflow": false,
       "aggSchema": [],
       "aggSeriesLimitReached": false,
       "aggType": "",
       "arguments": {},
       "columnCustomDisplayInfos": {},
       "data": [
        [
         1,
         26,
         "M",
         "Technician",
         85711
        ],
        [
         2,
         53,
         "F",
         "Other",
         94043
        ],
        [
         3,
         23,
         "M",
         "Writer",
         32067
        ],
        [
         4,
         26,
         "M",
         "technician",
         43537
        ]
       ],
       "datasetInfos": [],
       "dbfsResultPath": null,
       "isJsonSchema": true,
       "metadata": {},
       "overflow": false,
       "plotOptions": {
        "customPlotOptions": {},
        "displayType": "table",
        "pivotAggregation": null,
        "pivotColumns": null,
        "xColumns": null,
        "yColumns": null
       },
       "removedWidgets": [],
       "schema": [
        {
         "metadata": "{}",
         "name": "id",
         "type": "\"integer\""
        },
        {
         "metadata": "{}",
         "name": "age",
         "type": "\"integer\""
        },
        {
         "metadata": "{}",
         "name": "gen",
         "type": "\"string\""
        },
        {
         "metadata": "{}",
         "name": "designation",
         "type": "\"string\""
        },
        {
         "metadata": "{}",
         "name": "salary",
         "type": "\"integer\""
        }
       ],
       "type": "table"
      }
     },
     "output_type": "display_data"
    }
   ],
   "source": [
    "user_df = spark.read.csv(path=\"/FileStore/users_001.csv\",\n",
    "                         header=True,\n",
    "                         inferSchema=True)\n",
    "user_df.limit(4).display()                         "
   ]
  },
  {
   "cell_type": "markdown",
   "metadata": {
    "application/vnd.databricks.v1+cell": {
     "cellMetadata": {},
     "inputWidgets": {},
     "nuid": "86c02fcf-b531-4655-b3a2-b7aa606979c6",
     "showTitle": false,
     "tableResultSettingsMap": {},
     "title": ""
    }
   },
   "source": [
    "# Basic Operations"
   ]
  },
  {
   "cell_type": "code",
   "execution_count": 0,
   "metadata": {
    "application/vnd.databricks.v1+cell": {
     "cellMetadata": {
      "byteLimit": 2048000,
      "rowLimit": 10000
     },
     "inputWidgets": {},
     "nuid": "d0b517d7-992a-4c1f-83dd-d692fc956496",
     "showTitle": false,
     "tableResultSettingsMap": {},
     "title": ""
    }
   },
   "outputs": [
    {
     "output_type": "stream",
     "name": "stdout",
     "output_type": "stream",
     "text": [
      "+---+---+---+-----------------------+------+\n|id |age|gen|designation            |salary|\n+---+---+---+-----------------------+------+\n|1  |26 |M  |Technician             |85711 |\n|2  |53 |F  |Other                  |94043 |\n|3  |23 |M  |Writer                 |32067 |\n|4  |26 |M  |Technician             |43537 |\n|5  |33 |F  |Other                  |15213 |\n|6  |42 |M  |Cheif Executive Officer|98101 |\n|7  |57 |M  |Administrator          |91344 |\n|8  |36 |M  |Administrator          |5201  |\n|9  |29 |M  |Student                |1002  |\n|10 |53 |M  |Lawyer                 |90703 |\n+---+---+---+-----------------------+------+\nonly showing top 10 rows\n\nroot\n |-- id: integer (nullable = true)\n |-- age: integer (nullable = true)\n |-- gen: string (nullable = true)\n |-- designation: string (nullable = true)\n |-- salary: integer (nullable = true)\n\n"
     ]
    }
   ],
   "source": [
    "user_df.show(n=10,truncate=False)\n",
    "user_df.printSchema()"
   ]
  },
  {
   "cell_type": "code",
   "execution_count": 0,
   "metadata": {
    "application/vnd.databricks.v1+cell": {
     "cellMetadata": {
      "byteLimit": 2048000,
      "rowLimit": 10000
     },
     "inputWidgets": {},
     "nuid": "b2a8a785-2ea9-4c0b-abee-a40a0e32b00f",
     "showTitle": false,
     "tableResultSettingsMap": {},
     "title": ""
    }
   },
   "outputs": [
    {
     "output_type": "stream",
     "name": "stdout",
     "output_type": "stream",
     "text": [
      "Out[7]: ['id', 'age', 'gen', 'designation', 'salary']"
     ]
    }
   ],
   "source": [
    "user_df.columns"
   ]
  },
  {
   "cell_type": "markdown",
   "metadata": {
    "application/vnd.databricks.v1+cell": {
     "cellMetadata": {},
     "inputWidgets": {},
     "nuid": "1e05caa5-616a-4765-ab2a-fcead7dad9fb",
     "showTitle": false,
     "tableResultSettingsMap": {},
     "title": ""
    }
   },
   "source": [
    "## Selecting Columns\n",
    "\n",
    ".select is a transformation"
   ]
  },
  {
   "cell_type": "code",
   "execution_count": 0,
   "metadata": {
    "application/vnd.databricks.v1+cell": {
     "cellMetadata": {
      "byteLimit": 2048000,
      "rowLimit": 10000
     },
     "inputWidgets": {},
     "nuid": "34db4e48-4509-47af-8953-5b9710beaff4",
     "showTitle": false,
     "tableResultSettingsMap": {},
     "title": ""
    }
   },
   "outputs": [
    {
     "output_type": "display_data",
     "data": {
      "text/html": [
       "<style scoped>\n",
       "  .table-result-container {\n",
       "    max-height: 300px;\n",
       "    overflow: auto;\n",
       "  }\n",
       "  table, th, td {\n",
       "    border: 1px solid black;\n",
       "    border-collapse: collapse;\n",
       "  }\n",
       "  th, td {\n",
       "    padding: 5px;\n",
       "  }\n",
       "  th {\n",
       "    text-align: left;\n",
       "  }\n",
       "</style><div class='table-result-container'><table class='table-result'><thead style='background-color: white'><tr><th>id</th><th>gen</th></tr></thead><tbody><tr><td>1</td><td>M</td></tr><tr><td>2</td><td>F</td></tr><tr><td>3</td><td>M</td></tr><tr><td>4</td><td>M</td></tr></tbody></table></div>"
      ]
     },
     "metadata": {
      "application/vnd.databricks.v1+output": {
       "addedWidgets": {},
       "aggData": [],
       "aggError": "",
       "aggOverflow": false,
       "aggSchema": [],
       "aggSeriesLimitReached": false,
       "aggType": "",
       "arguments": {},
       "columnCustomDisplayInfos": {},
       "data": [
        [
         1,
         "M"
        ],
        [
         2,
         "F"
        ],
        [
         3,
         "M"
        ],
        [
         4,
         "M"
        ]
       ],
       "datasetInfos": [],
       "dbfsResultPath": null,
       "isJsonSchema": true,
       "metadata": {},
       "overflow": false,
       "plotOptions": {
        "customPlotOptions": {},
        "displayType": "table",
        "pivotAggregation": null,
        "pivotColumns": null,
        "xColumns": null,
        "yColumns": null
       },
       "removedWidgets": [],
       "schema": [
        {
         "metadata": "{}",
         "name": "id",
         "type": "\"integer\""
        },
        {
         "metadata": "{}",
         "name": "gen",
         "type": "\"string\""
        }
       ],
       "type": "table"
      }
     },
     "output_type": "display_data"
    }
   ],
   "source": [
    "# df = user_df.select(\"id\",\"gen\")\n",
    "# df.limit(4).display()\n",
    "\n",
    "user_df.select(\"id\",\"gen\").limit(4).display()"
   ]
  },
  {
   "cell_type": "code",
   "execution_count": 0,
   "metadata": {
    "application/vnd.databricks.v1+cell": {
     "cellMetadata": {
      "byteLimit": 2048000,
      "rowLimit": 10000
     },
     "inputWidgets": {},
     "nuid": "aaf8b393-e031-4f1e-a2ed-509e898489df",
     "showTitle": false,
     "tableResultSettingsMap": {},
     "title": ""
    }
   },
   "outputs": [
    {
     "output_type": "display_data",
     "data": {
      "text/html": [
       "<style scoped>\n",
       "  .table-result-container {\n",
       "    max-height: 300px;\n",
       "    overflow: auto;\n",
       "  }\n",
       "  table, th, td {\n",
       "    border: 1px solid black;\n",
       "    border-collapse: collapse;\n",
       "  }\n",
       "  th, td {\n",
       "    padding: 5px;\n",
       "  }\n",
       "  th {\n",
       "    text-align: left;\n",
       "  }\n",
       "</style><div class='table-result-container'><table class='table-result'><thead style='background-color: white'><tr><th>user_id</th><th>gender</th></tr></thead><tbody><tr><td>1</td><td>M</td></tr><tr><td>2</td><td>F</td></tr><tr><td>3</td><td>M</td></tr><tr><td>4</td><td>M</td></tr></tbody></table></div>"
      ]
     },
     "metadata": {
      "application/vnd.databricks.v1+output": {
       "addedWidgets": {},
       "aggData": [],
       "aggError": "",
       "aggOverflow": false,
       "aggSchema": [],
       "aggSeriesLimitReached": false,
       "aggType": "",
       "arguments": {},
       "columnCustomDisplayInfos": {},
       "data": [
        [
         1,
         "M"
        ],
        [
         2,
         "F"
        ],
        [
         3,
         "M"
        ],
        [
         4,
         "M"
        ]
       ],
       "datasetInfos": [],
       "dbfsResultPath": null,
       "isJsonSchema": true,
       "metadata": {},
       "overflow": false,
       "plotOptions": {
        "customPlotOptions": {},
        "displayType": "table",
        "pivotAggregation": null,
        "pivotColumns": null,
        "xColumns": null,
        "yColumns": null
       },
       "removedWidgets": [],
       "schema": [
        {
         "metadata": "{}",
         "name": "user_id",
         "type": "\"integer\""
        },
        {
         "metadata": "{}",
         "name": "gender",
         "type": "\"string\""
        }
       ],
       "type": "table"
      }
     },
     "output_type": "display_data"
    }
   ],
   "source": [
    "from pyspark.sql.functions import col\n",
    "\n",
    "user_df.select(col(\"id\").alias(\"user_id\"), \n",
    "               col(\"gen\").alias(\"gender\")).limit(4).display()"
   ]
  },
  {
   "cell_type": "markdown",
   "metadata": {
    "application/vnd.databricks.v1+cell": {
     "cellMetadata": {},
     "inputWidgets": {},
     "nuid": "36e3828c-fb05-478c-80df-189cd4b520be",
     "showTitle": false,
     "tableResultSettingsMap": {},
     "title": ""
    }
   },
   "source": [
    "# Filter Operations"
   ]
  },
  {
   "cell_type": "code",
   "execution_count": 0,
   "metadata": {
    "application/vnd.databricks.v1+cell": {
     "cellMetadata": {
      "byteLimit": 2048000,
      "rowLimit": 10000
     },
     "inputWidgets": {},
     "nuid": "3645811e-db0d-41c3-a8a3-420bf20139f8",
     "showTitle": false,
     "tableResultSettingsMap": {},
     "title": ""
    }
   },
   "outputs": [
    {
     "output_type": "stream",
     "name": "stdout",
     "output_type": "stream",
     "text": [
      "+---+---+---+-----------+------+\n| id|age|gen|designation|salary|\n+---+---+---+-----------+------+\n|  1| 26|  M| Technician| 85711|\n|  4| 26|  M| technician| 43537|\n| 44| 26|  M| Technician| 46260|\n| 77| 30|  M| Technician| 29379|\n+---+---+---+-----------+------+\n\n"
     ]
    }
   ],
   "source": [
    "from pyspark.sql.functions import lower\n",
    "user_df.filter(lower(col(\"designation\"))==\"technician\").limit(4).show()"
   ]
  },
  {
   "cell_type": "code",
   "execution_count": 0,
   "metadata": {
    "application/vnd.databricks.v1+cell": {
     "cellMetadata": {
      "byteLimit": 2048000,
      "rowLimit": 10000
     },
     "inputWidgets": {},
     "nuid": "1e9508c6-4808-4ad1-84cb-039481e66fce",
     "showTitle": false,
     "tableResultSettingsMap": {},
     "title": ""
    }
   },
   "outputs": [
    {
     "output_type": "stream",
     "name": "stdout",
     "output_type": "stream",
     "text": [
      "Out[24]: 6"
     ]
    }
   ],
   "source": [
    "user_df.filter((col(\"designation\") == \"Technician\") & (col(\"gen\") == \"M\")).count()"
   ]
  },
  {
   "cell_type": "code",
   "execution_count": 0,
   "metadata": {
    "application/vnd.databricks.v1+cell": {
     "cellMetadata": {
      "byteLimit": 2048000,
      "rowLimit": 10000
     },
     "inputWidgets": {},
     "nuid": "461e7fed-c191-4327-9e4c-420ab9813334",
     "showTitle": false,
     "tableResultSettingsMap": {},
     "title": ""
    }
   },
   "outputs": [
    {
     "output_type": "display_data",
     "data": {
      "text/html": [
       "<style scoped>\n",
       "  .table-result-container {\n",
       "    max-height: 300px;\n",
       "    overflow: auto;\n",
       "  }\n",
       "  table, th, td {\n",
       "    border: 1px solid black;\n",
       "    border-collapse: collapse;\n",
       "  }\n",
       "  th, td {\n",
       "    padding: 5px;\n",
       "  }\n",
       "  th {\n",
       "    text-align: left;\n",
       "  }\n",
       "</style><div class='table-result-container'><table class='table-result'><thead style='background-color: white'><tr><th>id</th><th>age</th><th>gen</th><th>designation</th><th>salary</th></tr></thead><tbody><tr><td>1</td><td>26</td><td>M</td><td>Technician</td><td>85711</td></tr><tr><td>2</td><td>53</td><td>F</td><td>Other</td><td>94043</td></tr><tr><td>5</td><td>33</td><td>F</td><td>Other</td><td>15213</td></tr><tr><td>11</td><td>39</td><td>F</td><td>Other</td><td>30329</td></tr><tr><td>12</td><td>28</td><td>F</td><td>Other</td><td>6405</td></tr><tr><td>18</td><td>35</td><td>F</td><td>Other</td><td>37212</td></tr><tr><td>38</td><td>28</td><td>F</td><td>Other</td><td>54467</td></tr><tr><td>44</td><td>26</td><td>M</td><td>Technician</td><td>46260</td></tr><tr><td>77</td><td>30</td><td>M</td><td>Technician</td><td>29379</td></tr><tr><td>83</td><td>40</td><td>M</td><td>Other</td><td>44133</td></tr><tr><td>109</td><td>29</td><td>M</td><td>Other</td><td>55423</td></tr><tr><td>120</td><td>47</td><td>F</td><td>Other</td><td>6260</td></tr><tr><td>132</td><td>24</td><td>M</td><td>Other</td><td>94612</td></tr><tr><td>136</td><td>51</td><td>M</td><td>Other</td><td>97365</td></tr><tr><td>142</td><td>13</td><td>M</td><td>Other</td><td>48118</td></tr><tr><td>143</td><td>42</td><td>M</td><td>Technician</td><td>8832</td></tr><tr><td>155</td><td>32</td><td>F</td><td>Other</td><td>11217</td></tr><tr><td>165</td><td>20</td><td>F</td><td>Other</td><td>53715</td></tr><tr><td>167</td><td>37</td><td>M</td><td>Other</td><td>55113</td></tr><tr><td>168</td><td>48</td><td>M</td><td>Other</td><td>80127</td></tr><tr><td>169</td><td>52</td><td>F</td><td>Other</td><td>53705</td></tr><tr><td>173</td><td>56</td><td>M</td><td>Other</td><td>22306</td></tr><tr><td>178</td><td>26</td><td>M</td><td>Other</td><td>49512</td></tr><tr><td>197</td><td>55</td><td>M</td><td>Technician</td><td>75094</td></tr><tr><td>217</td><td>22</td><td>M</td><td>Other</td><td>11727</td></tr><tr><td>244</td><td>28</td><td>M</td><td>Technician</td><td>100005</td></tr><tr><td>245</td><td>26</td><td>F</td><td>Technician</td><td>110000</td></tr></tbody></table></div>"
      ]
     },
     "metadata": {
      "application/vnd.databricks.v1+output": {
       "addedWidgets": {},
       "aggData": [],
       "aggError": "",
       "aggOverflow": false,
       "aggSchema": [],
       "aggSeriesLimitReached": false,
       "aggType": "",
       "arguments": {},
       "columnCustomDisplayInfos": {},
       "data": [
        [
         1,
         26,
         "M",
         "Technician",
         85711
        ],
        [
         2,
         53,
         "F",
         "Other",
         94043
        ],
        [
         5,
         33,
         "F",
         "Other",
         15213
        ],
        [
         11,
         39,
         "F",
         "Other",
         30329
        ],
        [
         12,
         28,
         "F",
         "Other",
         6405
        ],
        [
         18,
         35,
         "F",
         "Other",
         37212
        ],
        [
         38,
         28,
         "F",
         "Other",
         54467
        ],
        [
         44,
         26,
         "M",
         "Technician",
         46260
        ],
        [
         77,
         30,
         "M",
         "Technician",
         29379
        ],
        [
         83,
         40,
         "M",
         "Other",
         44133
        ],
        [
         109,
         29,
         "M",
         "Other",
         55423
        ],
        [
         120,
         47,
         "F",
         "Other",
         6260
        ],
        [
         132,
         24,
         "M",
         "Other",
         94612
        ],
        [
         136,
         51,
         "M",
         "Other",
         97365
        ],
        [
         142,
         13,
         "M",
         "Other",
         48118
        ],
        [
         143,
         42,
         "M",
         "Technician",
         8832
        ],
        [
         155,
         32,
         "F",
         "Other",
         11217
        ],
        [
         165,
         20,
         "F",
         "Other",
         53715
        ],
        [
         167,
         37,
         "M",
         "Other",
         55113
        ],
        [
         168,
         48,
         "M",
         "Other",
         80127
        ],
        [
         169,
         52,
         "F",
         "Other",
         53705
        ],
        [
         173,
         56,
         "M",
         "Other",
         22306
        ],
        [
         178,
         26,
         "M",
         "Other",
         49512
        ],
        [
         197,
         55,
         "M",
         "Technician",
         75094
        ],
        [
         217,
         22,
         "M",
         "Other",
         11727
        ],
        [
         244,
         28,
         "M",
         "Technician",
         100005
        ],
        [
         245,
         26,
         "F",
         "Technician",
         110000
        ]
       ],
       "datasetInfos": [],
       "dbfsResultPath": null,
       "isJsonSchema": true,
       "metadata": {},
       "overflow": false,
       "plotOptions": {
        "customPlotOptions": {},
        "displayType": "table",
        "pivotAggregation": null,
        "pivotColumns": null,
        "xColumns": null,
        "yColumns": null
       },
       "removedWidgets": [],
       "schema": [
        {
         "metadata": "{}",
         "name": "id",
         "type": "\"integer\""
        },
        {
         "metadata": "{}",
         "name": "age",
         "type": "\"integer\""
        },
        {
         "metadata": "{}",
         "name": "gen",
         "type": "\"string\""
        },
        {
         "metadata": "{}",
         "name": "designation",
         "type": "\"string\""
        },
        {
         "metadata": "{}",
         "name": "salary",
         "type": "\"integer\""
        }
       ],
       "type": "table"
      }
     },
     "output_type": "display_data"
    }
   ],
   "source": [
    "user_df.filter(col(\"designation\").isin(\"Technician\",\"Other\")).display()"
   ]
  },
  {
   "cell_type": "markdown",
   "metadata": {
    "application/vnd.databricks.v1+cell": {
     "cellMetadata": {},
     "inputWidgets": {},
     "nuid": "212e4488-6a75-4642-a0dc-edf69c64e850",
     "showTitle": false,
     "tableResultSettingsMap": {},
     "title": ""
    }
   },
   "source": [
    "# Derive Columns"
   ]
  },
  {
   "cell_type": "code",
   "execution_count": 0,
   "metadata": {
    "application/vnd.databricks.v1+cell": {
     "cellMetadata": {
      "byteLimit": 2048000,
      "rowLimit": 10000
     },
     "inputWidgets": {},
     "nuid": "e892ce0f-168d-43e6-9e68-90af906d689b",
     "showTitle": false,
     "tableResultSettingsMap": {},
     "title": ""
    }
   },
   "outputs": [
    {
     "output_type": "display_data",
     "data": {
      "text/html": [
       "<style scoped>\n",
       "  .table-result-container {\n",
       "    max-height: 300px;\n",
       "    overflow: auto;\n",
       "  }\n",
       "  table, th, td {\n",
       "    border: 1px solid black;\n",
       "    border-collapse: collapse;\n",
       "  }\n",
       "  th, td {\n",
       "    padding: 5px;\n",
       "  }\n",
       "  th {\n",
       "    text-align: left;\n",
       "  }\n",
       "</style><div class='table-result-container'><table class='table-result'><thead style='background-color: white'><tr><th>id</th><th>age</th><th>gen</th><th>designation</th><th>salary</th></tr></thead><tbody><tr><td>1</td><td>26</td><td>M</td><td>Technician</td><td>85711</td></tr><tr><td>2</td><td>53</td><td>F</td><td>Other</td><td>94043</td></tr><tr><td>3</td><td>23</td><td>M</td><td>Writer</td><td>32067</td></tr><tr><td>4</td><td>26</td><td>M</td><td>technician</td><td>43537</td></tr></tbody></table></div>"
      ]
     },
     "metadata": {
      "application/vnd.databricks.v1+output": {
       "addedWidgets": {},
       "aggData": [],
       "aggError": "",
       "aggOverflow": false,
       "aggSchema": [],
       "aggSeriesLimitReached": false,
       "aggType": "",
       "arguments": {},
       "columnCustomDisplayInfos": {},
       "data": [
        [
         1,
         26,
         "M",
         "Technician",
         85711
        ],
        [
         2,
         53,
         "F",
         "Other",
         94043
        ],
        [
         3,
         23,
         "M",
         "Writer",
         32067
        ],
        [
         4,
         26,
         "M",
         "technician",
         43537
        ]
       ],
       "datasetInfos": [],
       "dbfsResultPath": null,
       "isJsonSchema": true,
       "metadata": {},
       "overflow": false,
       "plotOptions": {
        "customPlotOptions": {},
        "displayType": "table",
        "pivotAggregation": null,
        "pivotColumns": null,
        "xColumns": null,
        "yColumns": null
       },
       "removedWidgets": [],
       "schema": [
        {
         "metadata": "{}",
         "name": "id",
         "type": "\"integer\""
        },
        {
         "metadata": "{}",
         "name": "age",
         "type": "\"integer\""
        },
        {
         "metadata": "{}",
         "name": "gen",
         "type": "\"string\""
        },
        {
         "metadata": "{}",
         "name": "designation",
         "type": "\"string\""
        },
        {
         "metadata": "{}",
         "name": "salary",
         "type": "\"integer\""
        }
       ],
       "type": "table"
      }
     },
     "output_type": "display_data"
    }
   ],
   "source": [
    "user_df.limit(4).display()"
   ]
  },
  {
   "cell_type": "code",
   "execution_count": 0,
   "metadata": {
    "application/vnd.databricks.v1+cell": {
     "cellMetadata": {
      "byteLimit": 2048000,
      "rowLimit": 10000
     },
     "inputWidgets": {},
     "nuid": "d482ab47-adad-4b15-be6e-bd0f8225820f",
     "showTitle": false,
     "tableResultSettingsMap": {},
     "title": ""
    }
   },
   "outputs": [
    {
     "output_type": "display_data",
     "data": {
      "text/html": [
       "<style scoped>\n",
       "  .table-result-container {\n",
       "    max-height: 300px;\n",
       "    overflow: auto;\n",
       "  }\n",
       "  table, th, td {\n",
       "    border: 1px solid black;\n",
       "    border-collapse: collapse;\n",
       "  }\n",
       "  th, td {\n",
       "    padding: 5px;\n",
       "  }\n",
       "  th {\n",
       "    text-align: left;\n",
       "  }\n",
       "</style><div class='table-result-container'><table class='table-result'><thead style='background-color: white'><tr><th>id</th><th>age</th><th>gen</th><th>designation</th><th>salary</th><th>is_alive</th></tr></thead><tbody><tr><td>1</td><td>26</td><td>M</td><td>Technician</td><td>85711</td><td>Yes</td></tr><tr><td>2</td><td>53</td><td>F</td><td>Other</td><td>94043</td><td>Yes</td></tr><tr><td>3</td><td>23</td><td>M</td><td>Writer</td><td>32067</td><td>Yes</td></tr><tr><td>4</td><td>26</td><td>M</td><td>technician</td><td>43537</td><td>Yes</td></tr></tbody></table></div>"
      ]
     },
     "metadata": {
      "application/vnd.databricks.v1+output": {
       "addedWidgets": {},
       "aggData": [],
       "aggError": "",
       "aggOverflow": false,
       "aggSchema": [],
       "aggSeriesLimitReached": false,
       "aggType": "",
       "arguments": {},
       "columnCustomDisplayInfos": {},
       "data": [
        [
         1,
         26,
         "M",
         "Technician",
         85711,
         "Yes"
        ],
        [
         2,
         53,
         "F",
         "Other",
         94043,
         "Yes"
        ],
        [
         3,
         23,
         "M",
         "Writer",
         32067,
         "Yes"
        ],
        [
         4,
         26,
         "M",
         "technician",
         43537,
         "Yes"
        ]
       ],
       "datasetInfos": [],
       "dbfsResultPath": null,
       "isJsonSchema": true,
       "metadata": {},
       "overflow": false,
       "plotOptions": {
        "customPlotOptions": {},
        "displayType": "table",
        "pivotAggregation": null,
        "pivotColumns": null,
        "xColumns": null,
        "yColumns": null
       },
       "removedWidgets": [],
       "schema": [
        {
         "metadata": "{}",
         "name": "id",
         "type": "\"integer\""
        },
        {
         "metadata": "{}",
         "name": "age",
         "type": "\"integer\""
        },
        {
         "metadata": "{}",
         "name": "gen",
         "type": "\"string\""
        },
        {
         "metadata": "{}",
         "name": "designation",
         "type": "\"string\""
        },
        {
         "metadata": "{}",
         "name": "salary",
         "type": "\"integer\""
        },
        {
         "metadata": "{}",
         "name": "is_alive",
         "type": "\"string\""
        }
       ],
       "type": "table"
      }
     },
     "output_type": "display_data"
    }
   ],
   "source": [
    "from pyspark.sql.functions import lit\n",
    "user_df.withColumn(\"salary_category\", lit(\"Yes\")).limit(4).display()"
   ]
  },
  {
   "cell_type": "code",
   "execution_count": 0,
   "metadata": {
    "application/vnd.databricks.v1+cell": {
     "cellMetadata": {
      "byteLimit": 2048000,
      "rowLimit": 10000
     },
     "inputWidgets": {},
     "nuid": "00d6aa3b-8016-40bb-b7a9-d66a5c0205fc",
     "showTitle": false,
     "tableResultSettingsMap": {},
     "title": ""
    }
   },
   "outputs": [
    {
     "output_type": "display_data",
     "data": {
      "text/html": [
       "<style scoped>\n",
       "  .table-result-container {\n",
       "    max-height: 300px;\n",
       "    overflow: auto;\n",
       "  }\n",
       "  table, th, td {\n",
       "    border: 1px solid black;\n",
       "    border-collapse: collapse;\n",
       "  }\n",
       "  th, td {\n",
       "    padding: 5px;\n",
       "  }\n",
       "  th {\n",
       "    text-align: left;\n",
       "  }\n",
       "</style><div class='table-result-container'><table class='table-result'><thead style='background-color: white'><tr><th>id</th><th>age</th><th>gen</th><th>designation</th><th>salary</th><th>salary_category</th></tr></thead><tbody><tr><td>1</td><td>26</td><td>M</td><td>Technician</td><td>85711</td><td>High Paid</td></tr><tr><td>2</td><td>53</td><td>F</td><td>Other</td><td>94043</td><td>High Paid</td></tr><tr><td>3</td><td>23</td><td>M</td><td>Writer</td><td>32067</td><td>No Paid</td></tr><tr><td>4</td><td>26</td><td>M</td><td>technician</td><td>43537</td><td>No Paid</td></tr></tbody></table></div>"
      ]
     },
     "metadata": {
      "application/vnd.databricks.v1+output": {
       "addedWidgets": {},
       "aggData": [],
       "aggError": "",
       "aggOverflow": false,
       "aggSchema": [],
       "aggSeriesLimitReached": false,
       "aggType": "",
       "arguments": {},
       "columnCustomDisplayInfos": {},
       "data": [
        [
         1,
         26,
         "M",
         "Technician",
         85711,
         "High Paid"
        ],
        [
         2,
         53,
         "F",
         "Other",
         94043,
         "High Paid"
        ],
        [
         3,
         23,
         "M",
         "Writer",
         32067,
         "No Paid"
        ],
        [
         4,
         26,
         "M",
         "technician",
         43537,
         "No Paid"
        ]
       ],
       "datasetInfos": [],
       "dbfsResultPath": null,
       "isJsonSchema": true,
       "metadata": {},
       "overflow": false,
       "plotOptions": {
        "customPlotOptions": {},
        "displayType": "table",
        "pivotAggregation": null,
        "pivotColumns": null,
        "xColumns": null,
        "yColumns": null
       },
       "removedWidgets": [],
       "schema": [
        {
         "metadata": "{}",
         "name": "id",
         "type": "\"integer\""
        },
        {
         "metadata": "{}",
         "name": "age",
         "type": "\"integer\""
        },
        {
         "metadata": "{}",
         "name": "gen",
         "type": "\"string\""
        },
        {
         "metadata": "{}",
         "name": "designation",
         "type": "\"string\""
        },
        {
         "metadata": "{}",
         "name": "salary",
         "type": "\"integer\""
        },
        {
         "metadata": "{}",
         "name": "salary_category",
         "type": "\"string\""
        }
       ],
       "type": "table"
      }
     },
     "output_type": "display_data"
    }
   ],
   "source": [
    "from pyspark.sql.functions import when\n",
    "user_df.withColumn(\"salary_category\", when(col(\"salary\")>=80000,\"High Paid\")\n",
    "                   .when((col(\"salary\")>=50000) & (col(\"salary\")<20000),\"Medium Paid\")\n",
    "                   .otherwise(\"No Paid\") \n",
    "                   ).limit(4).display()"
   ]
  },
  {
   "cell_type": "code",
   "execution_count": 0,
   "metadata": {
    "application/vnd.databricks.v1+cell": {
     "cellMetadata": {
      "byteLimit": 2048000,
      "rowLimit": 10000
     },
     "inputWidgets": {},
     "nuid": "9a1bb69a-11d5-4fd8-8f70-b0db55d59b90",
     "showTitle": false,
     "tableResultSettingsMap": {},
     "title": ""
    }
   },
   "outputs": [
    {
     "output_type": "display_data",
     "data": {
      "text/html": [
       "<style scoped>\n",
       "  .table-result-container {\n",
       "    max-height: 300px;\n",
       "    overflow: auto;\n",
       "  }\n",
       "  table, th, td {\n",
       "    border: 1px solid black;\n",
       "    border-collapse: collapse;\n",
       "  }\n",
       "  th, td {\n",
       "    padding: 5px;\n",
       "  }\n",
       "  th {\n",
       "    text-align: left;\n",
       "  }\n",
       "</style><div class='table-result-container'><table class='table-result'><thead style='background-color: white'><tr><th>id</th><th>age</th><th>gen</th><th>designation</th><th>salary</th><th>salary_category</th></tr></thead><tbody><tr><td>1</td><td>26</td><td>M</td><td>Technician</td><td>85711</td><td>HIGH PAID</td></tr><tr><td>2</td><td>53</td><td>F</td><td>Other</td><td>94043</td><td>HIGH PAID</td></tr><tr><td>3</td><td>23</td><td>M</td><td>Writer</td><td>32067</td><td>Medium PAID</td></tr><tr><td>4</td><td>26</td><td>M</td><td>technician</td><td>43537</td><td>Medium PAID</td></tr></tbody></table></div>"
      ]
     },
     "metadata": {
      "application/vnd.databricks.v1+output": {
       "addedWidgets": {},
       "aggData": [],
       "aggError": "",
       "aggOverflow": false,
       "aggSchema": [],
       "aggSeriesLimitReached": false,
       "aggType": "",
       "arguments": {},
       "columnCustomDisplayInfos": {},
       "data": [
        [
         1,
         26,
         "M",
         "Technician",
         85711,
         "HIGH PAID"
        ],
        [
         2,
         53,
         "F",
         "Other",
         94043,
         "HIGH PAID"
        ],
        [
         3,
         23,
         "M",
         "Writer",
         32067,
         "Medium PAID"
        ],
        [
         4,
         26,
         "M",
         "technician",
         43537,
         "Medium PAID"
        ]
       ],
       "datasetInfos": [],
       "dbfsResultPath": null,
       "isJsonSchema": true,
       "metadata": {},
       "overflow": false,
       "plotOptions": {
        "customPlotOptions": {},
        "displayType": "table",
        "pivotAggregation": null,
        "pivotColumns": null,
        "xColumns": null,
        "yColumns": null
       },
       "removedWidgets": [],
       "schema": [
        {
         "metadata": "{}",
         "name": "id",
         "type": "\"integer\""
        },
        {
         "metadata": "{}",
         "name": "age",
         "type": "\"integer\""
        },
        {
         "metadata": "{}",
         "name": "gen",
         "type": "\"string\""
        },
        {
         "metadata": "{}",
         "name": "designation",
         "type": "\"string\""
        },
        {
         "metadata": "{}",
         "name": "salary",
         "type": "\"integer\""
        },
        {
         "metadata": "{}",
         "name": "salary_category",
         "type": "\"string\""
        }
       ],
       "type": "table"
      }
     },
     "output_type": "display_data"
    }
   ],
   "source": [
    "user_df.selectExpr(\"*\",\n",
    "                   \"\"\"\n",
    "                   CASE\n",
    "                   WHEN salary > 80000 THEN 'HIGH PAID'\n",
    "                   WHEN salary > 20000 and salary < 80000 THEN 'Medium PAID'\n",
    "                   ELSE 'No Paid' \n",
    "                   END AS salary_category\n",
    "                   \"\"\").limit(4).display()"
   ]
  },
  {
   "cell_type": "code",
   "execution_count": 0,
   "metadata": {
    "application/vnd.databricks.v1+cell": {
     "cellMetadata": {
      "byteLimit": 2048000,
      "rowLimit": 10000
     },
     "inputWidgets": {},
     "nuid": "0719a654-c0f0-4d2c-ad32-e0cfc858d0a2",
     "showTitle": false,
     "tableResultSettingsMap": {},
     "title": ""
    }
   },
   "outputs": [],
   "source": [
    "user_df.createOrReplaceGlobalTempView(\"user_gvw\")"
   ]
  },
  {
   "cell_type": "code",
   "execution_count": 0,
   "metadata": {
    "application/vnd.databricks.v1+cell": {
     "cellMetadata": {
      "byteLimit": 2048000,
      "rowLimit": 10000
     },
     "inputWidgets": {},
     "nuid": "3926d936-0983-42b3-82ca-7b166a2cdd70",
     "showTitle": false,
     "tableResultSettingsMap": {},
     "title": ""
    }
   },
   "outputs": [
    {
     "output_type": "display_data",
     "data": {
      "text/html": [
       "<style scoped>\n",
       "  .table-result-container {\n",
       "    max-height: 300px;\n",
       "    overflow: auto;\n",
       "  }\n",
       "  table, th, td {\n",
       "    border: 1px solid black;\n",
       "    border-collapse: collapse;\n",
       "  }\n",
       "  th, td {\n",
       "    padding: 5px;\n",
       "  }\n",
       "  th {\n",
       "    text-align: left;\n",
       "  }\n",
       "</style><div class='table-result-container'><table class='table-result'><thead style='background-color: white'><tr><th>id</th><th>age</th><th>gen</th><th>designation</th><th>salary</th><th>salary_category</th></tr></thead><tbody><tr><td>1</td><td>26</td><td>M</td><td>Technician</td><td>85711</td><td>HIGH PAID</td></tr><tr><td>2</td><td>53</td><td>F</td><td>Other</td><td>94043</td><td>HIGH PAID</td></tr><tr><td>3</td><td>23</td><td>M</td><td>Writer</td><td>32067</td><td>Medium PAID</td></tr><tr><td>4</td><td>26</td><td>M</td><td>technician</td><td>43537</td><td>Medium PAID</td></tr><tr><td>5</td><td>33</td><td>F</td><td>Other</td><td>15213</td><td>No Paid</td></tr><tr><td>6</td><td>42</td><td>M</td><td>Cheif Executive Officer</td><td>98101</td><td>HIGH PAID</td></tr><tr><td>7</td><td>57</td><td>M</td><td>Administrator</td><td>91344</td><td>HIGH PAID</td></tr><tr><td>8</td><td>36</td><td>M</td><td>Administrator</td><td>5201</td><td>No Paid</td></tr><tr><td>9</td><td>29</td><td>M</td><td>Student</td><td>1002</td><td>No Paid</td></tr><tr><td>10</td><td>53</td><td>M</td><td>Lawyer</td><td>90703</td><td>HIGH PAID</td></tr><tr><td>11</td><td>39</td><td>F</td><td>Other</td><td>30329</td><td>Medium PAID</td></tr><tr><td>12</td><td>28</td><td>F</td><td>Other</td><td>6405</td><td>No Paid</td></tr><tr><td>13</td><td>47</td><td>M</td><td>Educator</td><td>29206</td><td>Medium PAID</td></tr><tr><td>14</td><td>45</td><td>M</td><td>Scientist</td><td>55106</td><td>Medium PAID</td></tr><tr><td>15</td><td>49</td><td>F</td><td>Educator</td><td>97301</td><td>HIGH PAID</td></tr><tr><td>16</td><td>21</td><td>M</td><td>Entertainment</td><td>10309</td><td>No Paid</td></tr><tr><td>17</td><td>30</td><td>M</td><td>Programmer</td><td>6355</td><td>No Paid</td></tr><tr><td>18</td><td>35</td><td>F</td><td>Other</td><td>37212</td><td>Medium PAID</td></tr><tr><td>19</td><td>40</td><td>M</td><td>Librarian</td><td>2138</td><td>No Paid</td></tr><tr><td>20</td><td>42</td><td>F</td><td>Homemaker</td><td>95660</td><td>HIGH PAID</td></tr><tr><td>21</td><td>26</td><td>M</td><td>Writer</td><td>30068</td><td>Medium PAID</td></tr><tr><td>22</td><td>25</td><td>M</td><td>Writer</td><td>40206</td><td>Medium PAID</td></tr><tr><td>23</td><td>30</td><td>F</td><td>Artist</td><td>48197</td><td>Medium PAID</td></tr><tr><td>24</td><td>21</td><td>F</td><td>Artist</td><td>94533</td><td>HIGH PAID</td></tr><tr><td>25</td><td>39</td><td>M</td><td>Engineer</td><td>55107</td><td>Medium PAID</td></tr><tr><td>26</td><td>49</td><td>M</td><td>Engineer</td><td>21044</td><td>Medium PAID</td></tr><tr><td>27</td><td>40</td><td>F</td><td>Librarian</td><td>30030</td><td>Medium PAID</td></tr><tr><td>28</td><td>32</td><td>M</td><td>Writer</td><td>55369</td><td>Medium PAID</td></tr><tr><td>29</td><td>41</td><td>M</td><td>Programmer</td><td>94043</td><td>HIGH PAID</td></tr><tr><td>30</td><td>7</td><td>M</td><td>Student</td><td>55436</td><td>Medium PAID</td></tr><tr><td>31</td><td>24</td><td>M</td><td>Artist</td><td>10003</td><td>No Paid</td></tr><tr><td>32</td><td>28</td><td>F</td><td>Student</td><td>78741</td><td>Medium PAID</td></tr><tr><td>33</td><td>23</td><td>M</td><td>Student</td><td>27510</td><td>Medium PAID</td></tr><tr><td>34</td><td>38</td><td>F</td><td>Administrator</td><td>42141</td><td>Medium PAID</td></tr><tr><td>35</td><td>20</td><td>F</td><td>Homemaker</td><td>42459</td><td>Medium PAID</td></tr><tr><td>36</td><td>19</td><td>F</td><td>Student</td><td>93117</td><td>HIGH PAID</td></tr><tr><td>37</td><td>23</td><td>M</td><td>Student</td><td>55105</td><td>Medium PAID</td></tr><tr><td>38</td><td>28</td><td>F</td><td>Other</td><td>54467</td><td>Medium PAID</td></tr><tr><td>39</td><td>41</td><td>M</td><td>Entertainment</td><td>1040</td><td>No Paid</td></tr><tr><td>40</td><td>38</td><td>M</td><td>Scientist</td><td>27514</td><td>Medium PAID</td></tr><tr><td>41</td><td>33</td><td>M</td><td>Engineer</td><td>80525</td><td>HIGH PAID</td></tr><tr><td>42</td><td>30</td><td>M</td><td>Administrator</td><td>17870</td><td>No Paid</td></tr><tr><td>43</td><td>29</td><td>F</td><td>Librarian</td><td>20854</td><td>Medium PAID</td></tr><tr><td>44</td><td>26</td><td>M</td><td>Technician</td><td>46260</td><td>Medium PAID</td></tr><tr><td>45</td><td>29</td><td>M</td><td>Programmer</td><td>50233</td><td>Medium PAID</td></tr><tr><td>46</td><td>27</td><td>F</td><td>marketing</td><td>46538</td><td>Medium PAID</td></tr><tr><td>47</td><td>53</td><td>M</td><td>marketing</td><td>7102</td><td>No Paid</td></tr><tr><td>48</td><td>45</td><td>M</td><td>Administrator</td><td>12550</td><td>No Paid</td></tr><tr><td>49</td><td>23</td><td>F</td><td>Student</td><td>76111</td><td>Medium PAID</td></tr><tr><td>50</td><td>21</td><td>M</td><td>Writer</td><td>52245</td><td>Medium PAID</td></tr><tr><td>51</td><td>28</td><td>M</td><td>Educator</td><td>16509</td><td>No Paid</td></tr><tr><td>52</td><td>18</td><td>F</td><td>Student</td><td>55105</td><td>Medium PAID</td></tr><tr><td>53</td><td>26</td><td>M</td><td>Programmer</td><td>55414</td><td>Medium PAID</td></tr><tr><td>54</td><td>22</td><td>M</td><td>Cheif Executive Officer</td><td>66315</td><td>Medium PAID</td></tr><tr><td>55</td><td>37</td><td>M</td><td>Programmer</td><td>1331</td><td>No Paid</td></tr><tr><td>56</td><td>25</td><td>M</td><td>Librarian</td><td>46260</td><td>Medium PAID</td></tr><tr><td>57</td><td>16</td><td>M</td><td>Cheif Cheif Executive Officer Officer</td><td>84010</td><td>HIGH PAID</td></tr><tr><td>58</td><td>27</td><td>M</td><td>Programmer</td><td>52246</td><td>Medium PAID</td></tr><tr><td>59</td><td>49</td><td>M</td><td>Educator</td><td>8403</td><td>No Paid</td></tr><tr><td>60</td><td>50</td><td>M</td><td>healthcare</td><td>6472</td><td>No Paid</td></tr><tr><td>61</td><td>36</td><td>M</td><td>Engineer</td><td>30040</td><td>Medium PAID</td></tr><tr><td>62</td><td>27</td><td>F</td><td>Administrator</td><td>97214</td><td>HIGH PAID</td></tr><tr><td>63</td><td>31</td><td>M</td><td>marketing</td><td>75240</td><td>Medium PAID</td></tr><tr><td>64</td><td>32</td><td>M</td><td>Educator</td><td>43202</td><td>Medium PAID</td></tr><tr><td>65</td><td>51</td><td>F</td><td>Educator</td><td>48118</td><td>Medium PAID</td></tr><tr><td>66</td><td>23</td><td>M</td><td>Student</td><td>80521</td><td>HIGH PAID</td></tr><tr><td>67</td><td>17</td><td>M</td><td>Student</td><td>60402</td><td>Medium PAID</td></tr><tr><td>68</td><td>19</td><td>M</td><td>Student</td><td>22904</td><td>Medium PAID</td></tr><tr><td>69</td><td>24</td><td>M</td><td>Engineer</td><td>55337</td><td>Medium PAID</td></tr><tr><td>70</td><td>27</td><td>M</td><td>Engineer</td><td>60067</td><td>Medium PAID</td></tr><tr><td>71</td><td>39</td><td>M</td><td>Scientist</td><td>98034</td><td>HIGH PAID</td></tr><tr><td>72</td><td>48</td><td>F</td><td>Administrator</td><td>73034</td><td>Medium PAID</td></tr><tr><td>73</td><td>24</td><td>M</td><td>Student</td><td>41850</td><td>Medium PAID</td></tr><tr><td>74</td><td>39</td><td>M</td><td>Scientist</td><td>41850</td><td>Medium PAID</td></tr><tr><td>75</td><td>24</td><td>M</td><td>Entertainment</td><td>8816</td><td>No Paid</td></tr><tr><td>76</td><td>20</td><td>M</td><td>Student</td><td>2215</td><td>No Paid</td></tr><tr><td>77</td><td>30</td><td>M</td><td>Technician</td><td>29379</td><td>Medium PAID</td></tr><tr><td>78</td><td>26</td><td>M</td><td>Administrator</td><td>61801</td><td>Medium PAID</td></tr><tr><td>79</td><td>39</td><td>F</td><td>Administrator</td><td>3755</td><td>No Paid</td></tr><tr><td>80</td><td>34</td><td>F</td><td>Administrator</td><td>52241</td><td>Medium PAID</td></tr><tr><td>81</td><td>21</td><td>M</td><td>Student</td><td>21218</td><td>Medium PAID</td></tr><tr><td>82</td><td>50</td><td>M</td><td>Programmer</td><td>22902</td><td>Medium PAID</td></tr><tr><td>83</td><td>40</td><td>M</td><td>Other</td><td>44133</td><td>Medium PAID</td></tr><tr><td>84</td><td>32</td><td>M</td><td>Cheif Executive Officer</td><td>55369</td><td>Medium PAID</td></tr><tr><td>85</td><td>51</td><td>M</td><td>Educator</td><td>20003</td><td>Medium PAID</td></tr><tr><td>86</td><td>26</td><td>M</td><td>Administrator</td><td>46005</td><td>Medium PAID</td></tr><tr><td>87</td><td>47</td><td>M</td><td>Administrator</td><td>89503</td><td>HIGH PAID</td></tr><tr><td>88</td><td>49</td><td>F</td><td>Librarian</td><td>11701</td><td>No Paid</td></tr><tr><td>89</td><td>43</td><td>F</td><td>Administrator</td><td>68106</td><td>Medium PAID</td></tr><tr><td>90</td><td>60</td><td>M</td><td>Educator</td><td>78155</td><td>Medium PAID</td></tr><tr><td>91</td><td>55</td><td>M</td><td>marketing</td><td>1913</td><td>No Paid</td></tr><tr><td>92</td><td>32</td><td>M</td><td>Entertainment</td><td>80525</td><td>HIGH PAID</td></tr><tr><td>93</td><td>48</td><td>M</td><td>Cheif Executive Officer</td><td>23112</td><td>Medium PAID</td></tr><tr><td>94</td><td>26</td><td>M</td><td>Student</td><td>71457</td><td>Medium PAID</td></tr><tr><td>95</td><td>31</td><td>M</td><td>Administrator</td><td>10707</td><td>No Paid</td></tr><tr><td>96</td><td>25</td><td>F</td><td>Artist</td><td>75206</td><td>Medium PAID</td></tr><tr><td>97</td><td>43</td><td>M</td><td>Artist</td><td>98006</td><td>HIGH PAID</td></tr><tr><td>98</td><td>49</td><td>F</td><td>Cheif Executive Officer</td><td>90291</td><td>HIGH PAID</td></tr><tr><td>99</td><td>20</td><td>M</td><td>Student</td><td>63129</td><td>Medium PAID</td></tr><tr><td>100</td><td>36</td><td>M</td><td>Cheif Executive Officer</td><td>90254</td><td>HIGH PAID</td></tr><tr><td>101</td><td>15</td><td>M</td><td>Student</td><td>5146</td><td>No Paid</td></tr><tr><td>102</td><td>38</td><td>M</td><td>Programmer</td><td>30220</td><td>Medium PAID</td></tr><tr><td>103</td><td>26</td><td>M</td><td>Student</td><td>55108</td><td>Medium PAID</td></tr><tr><td>104</td><td>27</td><td>M</td><td>Student</td><td>55108</td><td>Medium PAID</td></tr><tr><td>105</td><td>24</td><td>M</td><td>Engineer</td><td>94043</td><td>HIGH PAID</td></tr><tr><td>106</td><td>61</td><td>M</td><td>retired</td><td>55125</td><td>Medium PAID</td></tr><tr><td>107</td><td>39</td><td>M</td><td>Scientist</td><td>60466</td><td>Medium PAID</td></tr><tr><td>108</td><td>44</td><td>M</td><td>Educator</td><td>63130</td><td>Medium PAID</td></tr><tr><td>109</td><td>29</td><td>M</td><td>Other</td><td>55423</td><td>Medium PAID</td></tr><tr><td>110</td><td>19</td><td>M</td><td>Student</td><td>77840</td><td>Medium PAID</td></tr><tr><td>111</td><td>57</td><td>M</td><td>Engineer</td><td>90630</td><td>HIGH PAID</td></tr><tr><td>112</td><td>30</td><td>M</td><td>salesman</td><td>60613</td><td>Medium PAID</td></tr><tr><td>113</td><td>47</td><td>M</td><td>Cheif Executive Officer</td><td>95032</td><td>HIGH PAID</td></tr><tr><td>114</td><td>27</td><td>M</td><td>Programmer</td><td>75013</td><td>Medium PAID</td></tr><tr><td>115</td><td>31</td><td>M</td><td>Engineer</td><td>17110</td><td>No Paid</td></tr><tr><td>116</td><td>40</td><td>M</td><td>healthcare</td><td>97232</td><td>HIGH PAID</td></tr><tr><td>117</td><td>20</td><td>M</td><td>Student</td><td>16125</td><td>No Paid</td></tr><tr><td>118</td><td>21</td><td>M</td><td>Administrator</td><td>90210</td><td>HIGH PAID</td></tr><tr><td>119</td><td>32</td><td>M</td><td>Programmer</td><td>67401</td><td>Medium PAID</td></tr><tr><td>120</td><td>47</td><td>F</td><td>Other</td><td>6260</td><td>No Paid</td></tr><tr><td>121</td><td>54</td><td>M</td><td>Librarian</td><td>99603</td><td>HIGH PAID</td></tr><tr><td>122</td><td>32</td><td>F</td><td>Writer</td><td>22206</td><td>Medium PAID</td></tr><tr><td>123</td><td>48</td><td>F</td><td>Artist</td><td>20008</td><td>Medium PAID</td></tr><tr><td>124</td><td>34</td><td>M</td><td>Student</td><td>60615</td><td>Medium PAID</td></tr><tr><td>125</td><td>30</td><td>M</td><td>Lawyer</td><td>22202</td><td>Medium PAID</td></tr><tr><td>126</td><td>28</td><td>F</td><td>Lawyer</td><td>20015</td><td>Medium PAID</td></tr><tr><td>127</td><td>33</td><td>M</td><td>cheif Cheif Executive Officer Officer</td><td>73439</td><td>Medium PAID</td></tr><tr><td>128</td><td>24</td><td>F</td><td>marketing</td><td>20009</td><td>Medium PAID</td></tr><tr><td>129</td><td>36</td><td>F</td><td>marketing</td><td>7039</td><td>No Paid</td></tr><tr><td>130</td><td>20</td><td>M</td><td>cheif Cheif Executive Officer Officer</td><td>60115</td><td>Medium PAID</td></tr><tr><td>131</td><td>59</td><td>F</td><td>Administrator</td><td>15237</td><td>No Paid</td></tr><tr><td>132</td><td>24</td><td>M</td><td>Other</td><td>94612</td><td>HIGH PAID</td></tr><tr><td>133</td><td>53</td><td>M</td><td>Engineer</td><td>78602</td><td>Medium PAID</td></tr><tr><td>134</td><td>31</td><td>M</td><td>Programmer</td><td>80236</td><td>HIGH PAID</td></tr><tr><td>135</td><td>23</td><td>M</td><td>Student</td><td>38401</td><td>Medium PAID</td></tr><tr><td>136</td><td>51</td><td>M</td><td>Other</td><td>97365</td><td>HIGH PAID</td></tr><tr><td>137</td><td>50</td><td>M</td><td>Educator</td><td>84408</td><td>HIGH PAID</td></tr><tr><td>138</td><td>46</td><td>M</td><td>doctor</td><td>53211</td><td>Medium PAID</td></tr><tr><td>139</td><td>20</td><td>M</td><td>Student</td><td>8904</td><td>No Paid</td></tr><tr><td>140</td><td>30</td><td>F</td><td>Student</td><td>32250</td><td>Medium PAID</td></tr><tr><td>141</td><td>49</td><td>M</td><td>Programmer</td><td>36117</td><td>Medium PAID</td></tr><tr><td>142</td><td>13</td><td>M</td><td>Other</td><td>48118</td><td>Medium PAID</td></tr><tr><td>143</td><td>42</td><td>M</td><td>Technician</td><td>8832</td><td>No Paid</td></tr><tr><td>144</td><td>53</td><td>M</td><td>Programmer</td><td>20910</td><td>Medium PAID</td></tr><tr><td>145</td><td>31</td><td>M</td><td>Entertainment</td><td>20910</td><td>Medium PAID</td></tr><tr><td>146</td><td>45</td><td>M</td><td>Artist</td><td>83814</td><td>HIGH PAID</td></tr><tr><td>147</td><td>40</td><td>F</td><td>Librarian</td><td>2143</td><td>No Paid</td></tr><tr><td>148</td><td>33</td><td>M</td><td>Engineer</td><td>97006</td><td>HIGH PAID</td></tr><tr><td>149</td><td>35</td><td>F</td><td>marketing</td><td>17325</td><td>No Paid</td></tr><tr><td>150</td><td>20</td><td>F</td><td>Artist</td><td>2139</td><td>No Paid</td></tr><tr><td>151</td><td>38</td><td>F</td><td>Administrator</td><td>48103</td><td>Medium PAID</td></tr><tr><td>152</td><td>33</td><td>F</td><td>Educator</td><td>68767</td><td>Medium PAID</td></tr><tr><td>153</td><td>25</td><td>M</td><td>Student</td><td>60641</td><td>Medium PAID</td></tr><tr><td>154</td><td>25</td><td>M</td><td>Student</td><td>53703</td><td>Medium PAID</td></tr><tr><td>155</td><td>32</td><td>F</td><td>Other</td><td>11217</td><td>No Paid</td></tr><tr><td>156</td><td>25</td><td>M</td><td>Educator</td><td>8360</td><td>No Paid</td></tr><tr><td>157</td><td>57</td><td>M</td><td>Engineer</td><td>70808</td><td>Medium PAID</td></tr><tr><td>158</td><td>50</td><td>M</td><td>Educator</td><td>27606</td><td>Medium PAID</td></tr><tr><td>159</td><td>23</td><td>F</td><td>Student</td><td>55346</td><td>Medium PAID</td></tr><tr><td>160</td><td>27</td><td>M</td><td>Programmer</td><td>66215</td><td>Medium PAID</td></tr><tr><td>161</td><td>50</td><td>M</td><td>Lawyer</td><td>55104</td><td>Medium PAID</td></tr><tr><td>162</td><td>25</td><td>M</td><td>Artist</td><td>15610</td><td>No Paid</td></tr><tr><td>163</td><td>49</td><td>M</td><td>Administrator</td><td>97212</td><td>HIGH PAID</td></tr><tr><td>164</td><td>47</td><td>M</td><td>healthcare</td><td>80123</td><td>HIGH PAID</td></tr><tr><td>165</td><td>20</td><td>F</td><td>Other</td><td>53715</td><td>Medium PAID</td></tr><tr><td>166</td><td>47</td><td>M</td><td>Educator</td><td>55113</td><td>Medium PAID</td></tr><tr><td>167</td><td>37</td><td>M</td><td>Other</td><td>55113</td><td>Medium PAID</td></tr><tr><td>168</td><td>48</td><td>M</td><td>Other</td><td>80127</td><td>HIGH PAID</td></tr><tr><td>169</td><td>52</td><td>F</td><td>Other</td><td>53705</td><td>Medium PAID</td></tr><tr><td>170</td><td>53</td><td>F</td><td>healthcare</td><td>30067</td><td>Medium PAID</td></tr><tr><td>171</td><td>48</td><td>F</td><td>Educator</td><td>78750</td><td>Medium PAID</td></tr><tr><td>172</td><td>55</td><td>M</td><td>marketing</td><td>22207</td><td>Medium PAID</td></tr><tr><td>173</td><td>56</td><td>M</td><td>Other</td><td>22306</td><td>Medium PAID</td></tr><tr><td>174</td><td>30</td><td>F</td><td>Administrator</td><td>52302</td><td>Medium PAID</td></tr><tr><td>175</td><td>26</td><td>F</td><td>Scientist</td><td>21911</td><td>Medium PAID</td></tr><tr><td>176</td><td>28</td><td>M</td><td>Scientist</td><td>7030</td><td>No Paid</td></tr><tr><td>177</td><td>20</td><td>M</td><td>Programmer</td><td>19104</td><td>No Paid</td></tr><tr><td>178</td><td>26</td><td>M</td><td>Other</td><td>49512</td><td>Medium PAID</td></tr><tr><td>179</td><td>15</td><td>M</td><td>Entertainment</td><td>20755</td><td>Medium PAID</td></tr><tr><td>180</td><td>22</td><td>F</td><td>Administrator</td><td>60202</td><td>Medium PAID</td></tr><tr><td>181</td><td>26</td><td>M</td><td>Cheif Executive Officer</td><td>21218</td><td>Medium PAID</td></tr><tr><td>182</td><td>36</td><td>M</td><td>Programmer</td><td>33884</td><td>Medium PAID</td></tr><tr><td>183</td><td>33</td><td>M</td><td>Scientist</td><td>27708</td><td>Medium PAID</td></tr><tr><td>184</td><td>37</td><td>M</td><td>Librarian</td><td>76013</td><td>Medium PAID</td></tr><tr><td>185</td><td>53</td><td>F</td><td>Librarian</td><td>97403</td><td>HIGH PAID</td></tr><tr><td>186</td><td>39</td><td>F</td><td>Cheif Executive Officer</td><td>0</td><td>No Paid</td></tr><tr><td>187</td><td>26</td><td>M</td><td>Educator</td><td>16801</td><td>No Paid</td></tr><tr><td>188</td><td>42</td><td>M</td><td>Student</td><td>29440</td><td>Medium PAID</td></tr><tr><td>189</td><td>32</td><td>M</td><td>Artist</td><td>95014</td><td>HIGH PAID</td></tr><tr><td>190</td><td>30</td><td>M</td><td>Administrator</td><td>95938</td><td>HIGH PAID</td></tr><tr><td>191</td><td>33</td><td>M</td><td>Administrator</td><td>95161</td><td>HIGH PAID</td></tr><tr><td>192</td><td>42</td><td>M</td><td>Educator</td><td>90840</td><td>HIGH PAID</td></tr><tr><td>193</td><td>29</td><td>M</td><td>Student</td><td>49931</td><td>Medium PAID</td></tr><tr><td>194</td><td>38</td><td>M</td><td>Administrator</td><td>2154</td><td>No Paid</td></tr><tr><td>195</td><td>42</td><td>M</td><td>Scientist</td><td>93555</td><td>HIGH PAID</td></tr><tr><td>196</td><td>49</td><td>M</td><td>Writer</td><td>55105</td><td>Medium PAID</td></tr><tr><td>197</td><td>55</td><td>M</td><td>Technician</td><td>75094</td><td>Medium PAID</td></tr><tr><td>198</td><td>21</td><td>F</td><td>Student</td><td>55414</td><td>Medium PAID</td></tr><tr><td>199</td><td>30</td><td>M</td><td>Writer</td><td>17604</td><td>No Paid</td></tr><tr><td>200</td><td>40</td><td>M</td><td>Programmer</td><td>93402</td><td>HIGH PAID</td></tr><tr><td>201</td><td>27</td><td>M</td><td>Writer</td><td>93402</td><td>HIGH PAID</td></tr><tr><td>202</td><td>41</td><td>F</td><td>Educator</td><td>60201</td><td>Medium PAID</td></tr><tr><td>203</td><td>25</td><td>F</td><td>Student</td><td>32301</td><td>Medium PAID</td></tr><tr><td>204</td><td>52</td><td>F</td><td>Librarian</td><td>10960</td><td>No Paid</td></tr><tr><td>205</td><td>47</td><td>M</td><td>Lawyer</td><td>6371</td><td>No Paid</td></tr><tr><td>206</td><td>14</td><td>F</td><td>Student</td><td>53115</td><td>Medium PAID</td></tr><tr><td>207</td><td>39</td><td>M</td><td>marketing</td><td>92037</td><td>HIGH PAID</td></tr><tr><td>208</td><td>43</td><td>M</td><td>Engineer</td><td>1720</td><td>No Paid</td></tr><tr><td>209</td><td>33</td><td>F</td><td>Educator</td><td>85710</td><td>HIGH PAID</td></tr><tr><td>210</td><td>39</td><td>M</td><td>Engineer</td><td>3060</td><td>No Paid</td></tr><tr><td>211</td><td>66</td><td>M</td><td>salesman</td><td>32605</td><td>Medium PAID</td></tr><tr><td>212</td><td>49</td><td>F</td><td>Educator</td><td>61401</td><td>Medium PAID</td></tr><tr><td>213</td><td>33</td><td>M</td><td>Cheif Executive Officer</td><td>55345</td><td>Medium PAID</td></tr><tr><td>214</td><td>26</td><td>F</td><td>Librarian</td><td>11231</td><td>No Paid</td></tr><tr><td>215</td><td>35</td><td>M</td><td>Programmer</td><td>63033</td><td>Medium PAID</td></tr><tr><td>216</td><td>22</td><td>M</td><td>Engineer</td><td>2215</td><td>No Paid</td></tr><tr><td>217</td><td>22</td><td>M</td><td>Other</td><td>11727</td><td>No Paid</td></tr><tr><td>218</td><td>37</td><td>M</td><td>Administrator</td><td>6513</td><td>No Paid</td></tr><tr><td>219</td><td>32</td><td>M</td><td>Programmer</td><td>43212</td><td>Medium PAID</td></tr><tr><td>220</td><td>30</td><td>M</td><td>Librarian</td><td>78205</td><td>Medium PAID</td></tr><tr><td>221</td><td>19</td><td>M</td><td>Student</td><td>20685</td><td>Medium PAID</td></tr><tr><td>222</td><td>29</td><td>M</td><td>Programmer</td><td>27502</td><td>Medium PAID</td></tr><tr><td>223</td><td>19</td><td>F</td><td>Student</td><td>47906</td><td>Medium PAID</td></tr><tr><td>224</td><td>31</td><td>F</td><td>Educator</td><td>43512</td><td>Medium PAID</td></tr><tr><td>225</td><td>51</td><td>F</td><td>Administrator</td><td>58202</td><td>Medium PAID</td></tr><tr><td>226</td><td>28</td><td>M</td><td>Student</td><td>92103</td><td>HIGH PAID</td></tr><tr><td>227</td><td>46</td><td>M</td><td>Cheif Executive Officer</td><td>60659</td><td>Medium PAID</td></tr><tr><td>228</td><td>21</td><td>F</td><td>Student</td><td>22003</td><td>Medium PAID</td></tr><tr><td>229</td><td>29</td><td>F</td><td>Librarian</td><td>22903</td><td>Medium PAID</td></tr><tr><td>230</td><td>28</td><td>F</td><td>Student</td><td>14476</td><td>No Paid</td></tr><tr><td>231</td><td>48</td><td>M</td><td>Librarian</td><td>1080</td><td>No Paid</td></tr><tr><td>232</td><td>45</td><td>M</td><td>Scientist</td><td>99709</td><td>HIGH PAID</td></tr><tr><td>233</td><td>38</td><td>M</td><td>Engineer</td><td>98682</td><td>HIGH PAID</td></tr><tr><td>234</td><td>60</td><td>M</td><td>retired</td><td>94702</td><td>HIGH PAID</td></tr><tr><td>235</td><td>37</td><td>M</td><td>Educator</td><td>22973</td><td>Medium PAID</td></tr><tr><td>236</td><td>44</td><td>F</td><td>Writer</td><td>53214</td><td>Medium PAID</td></tr><tr><td>237</td><td>49</td><td>M</td><td>Administrator</td><td>63146</td><td>Medium PAID</td></tr><tr><td>238</td><td>42</td><td>F</td><td>Administrator</td><td>44124</td><td>Medium PAID</td></tr><tr><td>239</td><td>39</td><td>M</td><td>Artist</td><td>95628</td><td>HIGH PAID</td></tr><tr><td>240</td><td>23</td><td>F</td><td>Educator</td><td>20784</td><td>Medium PAID</td></tr><tr><td>241</td><td>26</td><td>F</td><td>Student</td><td>20001</td><td>Medium PAID</td></tr><tr><td>242</td><td>33</td><td>M</td><td>Educator</td><td>31404</td><td>Medium PAID</td></tr><tr><td>243</td><td>33</td><td>M</td><td>Educator</td><td>60201</td><td>Medium PAID</td></tr><tr><td>244</td><td>28</td><td>M</td><td>Technician</td><td>100005</td><td>HIGH PAID</td></tr><tr><td>245</td><td>26</td><td>F</td><td>Technician</td><td>110000</td><td>HIGH PAID</td></tr></tbody></table></div>"
      ]
     },
     "metadata": {
      "application/vnd.databricks.v1+output": {
       "addedWidgets": {},
       "aggData": [],
       "aggError": "",
       "aggOverflow": false,
       "aggSchema": [],
       "aggSeriesLimitReached": false,
       "aggType": "",
       "arguments": {},
       "columnCustomDisplayInfos": {},
       "data": [
        [
         1,
         26,
         "M",
         "Technician",
         85711,
         "HIGH PAID"
        ],
        [
         2,
         53,
         "F",
         "Other",
         94043,
         "HIGH PAID"
        ],
        [
         3,
         23,
         "M",
         "Writer",
         32067,
         "Medium PAID"
        ],
        [
         4,
         26,
         "M",
         "technician",
         43537,
         "Medium PAID"
        ],
        [
         5,
         33,
         "F",
         "Other",
         15213,
         "No Paid"
        ],
        [
         6,
         42,
         "M",
         "Cheif Executive Officer",
         98101,
         "HIGH PAID"
        ],
        [
         7,
         57,
         "M",
         "Administrator",
         91344,
         "HIGH PAID"
        ],
        [
         8,
         36,
         "M",
         "Administrator",
         5201,
         "No Paid"
        ],
        [
         9,
         29,
         "M",
         "Student",
         1002,
         "No Paid"
        ],
        [
         10,
         53,
         "M",
         "Lawyer",
         90703,
         "HIGH PAID"
        ],
        [
         11,
         39,
         "F",
         "Other",
         30329,
         "Medium PAID"
        ],
        [
         12,
         28,
         "F",
         "Other",
         6405,
         "No Paid"
        ],
        [
         13,
         47,
         "M",
         "Educator",
         29206,
         "Medium PAID"
        ],
        [
         14,
         45,
         "M",
         "Scientist",
         55106,
         "Medium PAID"
        ],
        [
         15,
         49,
         "F",
         "Educator",
         97301,
         "HIGH PAID"
        ],
        [
         16,
         21,
         "M",
         "Entertainment",
         10309,
         "No Paid"
        ],
        [
         17,
         30,
         "M",
         "Programmer",
         6355,
         "No Paid"
        ],
        [
         18,
         35,
         "F",
         "Other",
         37212,
         "Medium PAID"
        ],
        [
         19,
         40,
         "M",
         "Librarian",
         2138,
         "No Paid"
        ],
        [
         20,
         42,
         "F",
         "Homemaker",
         95660,
         "HIGH PAID"
        ],
        [
         21,
         26,
         "M",
         "Writer",
         30068,
         "Medium PAID"
        ],
        [
         22,
         25,
         "M",
         "Writer",
         40206,
         "Medium PAID"
        ],
        [
         23,
         30,
         "F",
         "Artist",
         48197,
         "Medium PAID"
        ],
        [
         24,
         21,
         "F",
         "Artist",
         94533,
         "HIGH PAID"
        ],
        [
         25,
         39,
         "M",
         "Engineer",
         55107,
         "Medium PAID"
        ],
        [
         26,
         49,
         "M",
         "Engineer",
         21044,
         "Medium PAID"
        ],
        [
         27,
         40,
         "F",
         "Librarian",
         30030,
         "Medium PAID"
        ],
        [
         28,
         32,
         "M",
         "Writer",
         55369,
         "Medium PAID"
        ],
        [
         29,
         41,
         "M",
         "Programmer",
         94043,
         "HIGH PAID"
        ],
        [
         30,
         7,
         "M",
         "Student",
         55436,
         "Medium PAID"
        ],
        [
         31,
         24,
         "M",
         "Artist",
         10003,
         "No Paid"
        ],
        [
         32,
         28,
         "F",
         "Student",
         78741,
         "Medium PAID"
        ],
        [
         33,
         23,
         "M",
         "Student",
         27510,
         "Medium PAID"
        ],
        [
         34,
         38,
         "F",
         "Administrator",
         42141,
         "Medium PAID"
        ],
        [
         35,
         20,
         "F",
         "Homemaker",
         42459,
         "Medium PAID"
        ],
        [
         36,
         19,
         "F",
         "Student",
         93117,
         "HIGH PAID"
        ],
        [
         37,
         23,
         "M",
         "Student",
         55105,
         "Medium PAID"
        ],
        [
         38,
         28,
         "F",
         "Other",
         54467,
         "Medium PAID"
        ],
        [
         39,
         41,
         "M",
         "Entertainment",
         1040,
         "No Paid"
        ],
        [
         40,
         38,
         "M",
         "Scientist",
         27514,
         "Medium PAID"
        ],
        [
         41,
         33,
         "M",
         "Engineer",
         80525,
         "HIGH PAID"
        ],
        [
         42,
         30,
         "M",
         "Administrator",
         17870,
         "No Paid"
        ],
        [
         43,
         29,
         "F",
         "Librarian",
         20854,
         "Medium PAID"
        ],
        [
         44,
         26,
         "M",
         "Technician",
         46260,
         "Medium PAID"
        ],
        [
         45,
         29,
         "M",
         "Programmer",
         50233,
         "Medium PAID"
        ],
        [
         46,
         27,
         "F",
         "marketing",
         46538,
         "Medium PAID"
        ],
        [
         47,
         53,
         "M",
         "marketing",
         7102,
         "No Paid"
        ],
        [
         48,
         45,
         "M",
         "Administrator",
         12550,
         "No Paid"
        ],
        [
         49,
         23,
         "F",
         "Student",
         76111,
         "Medium PAID"
        ],
        [
         50,
         21,
         "M",
         "Writer",
         52245,
         "Medium PAID"
        ],
        [
         51,
         28,
         "M",
         "Educator",
         16509,
         "No Paid"
        ],
        [
         52,
         18,
         "F",
         "Student",
         55105,
         "Medium PAID"
        ],
        [
         53,
         26,
         "M",
         "Programmer",
         55414,
         "Medium PAID"
        ],
        [
         54,
         22,
         "M",
         "Cheif Executive Officer",
         66315,
         "Medium PAID"
        ],
        [
         55,
         37,
         "M",
         "Programmer",
         1331,
         "No Paid"
        ],
        [
         56,
         25,
         "M",
         "Librarian",
         46260,
         "Medium PAID"
        ],
        [
         57,
         16,
         "M",
         "Cheif Cheif Executive Officer Officer",
         84010,
         "HIGH PAID"
        ],
        [
         58,
         27,
         "M",
         "Programmer",
         52246,
         "Medium PAID"
        ],
        [
         59,
         49,
         "M",
         "Educator",
         8403,
         "No Paid"
        ],
        [
         60,
         50,
         "M",
         "healthcare",
         6472,
         "No Paid"
        ],
        [
         61,
         36,
         "M",
         "Engineer",
         30040,
         "Medium PAID"
        ],
        [
         62,
         27,
         "F",
         "Administrator",
         97214,
         "HIGH PAID"
        ],
        [
         63,
         31,
         "M",
         "marketing",
         75240,
         "Medium PAID"
        ],
        [
         64,
         32,
         "M",
         "Educator",
         43202,
         "Medium PAID"
        ],
        [
         65,
         51,
         "F",
         "Educator",
         48118,
         "Medium PAID"
        ],
        [
         66,
         23,
         "M",
         "Student",
         80521,
         "HIGH PAID"
        ],
        [
         67,
         17,
         "M",
         "Student",
         60402,
         "Medium PAID"
        ],
        [
         68,
         19,
         "M",
         "Student",
         22904,
         "Medium PAID"
        ],
        [
         69,
         24,
         "M",
         "Engineer",
         55337,
         "Medium PAID"
        ],
        [
         70,
         27,
         "M",
         "Engineer",
         60067,
         "Medium PAID"
        ],
        [
         71,
         39,
         "M",
         "Scientist",
         98034,
         "HIGH PAID"
        ],
        [
         72,
         48,
         "F",
         "Administrator",
         73034,
         "Medium PAID"
        ],
        [
         73,
         24,
         "M",
         "Student",
         41850,
         "Medium PAID"
        ],
        [
         74,
         39,
         "M",
         "Scientist",
         41850,
         "Medium PAID"
        ],
        [
         75,
         24,
         "M",
         "Entertainment",
         8816,
         "No Paid"
        ],
        [
         76,
         20,
         "M",
         "Student",
         2215,
         "No Paid"
        ],
        [
         77,
         30,
         "M",
         "Technician",
         29379,
         "Medium PAID"
        ],
        [
         78,
         26,
         "M",
         "Administrator",
         61801,
         "Medium PAID"
        ],
        [
         79,
         39,
         "F",
         "Administrator",
         3755,
         "No Paid"
        ],
        [
         80,
         34,
         "F",
         "Administrator",
         52241,
         "Medium PAID"
        ],
        [
         81,
         21,
         "M",
         "Student",
         21218,
         "Medium PAID"
        ],
        [
         82,
         50,
         "M",
         "Programmer",
         22902,
         "Medium PAID"
        ],
        [
         83,
         40,
         "M",
         "Other",
         44133,
         "Medium PAID"
        ],
        [
         84,
         32,
         "M",
         "Cheif Executive Officer",
         55369,
         "Medium PAID"
        ],
        [
         85,
         51,
         "M",
         "Educator",
         20003,
         "Medium PAID"
        ],
        [
         86,
         26,
         "M",
         "Administrator",
         46005,
         "Medium PAID"
        ],
        [
         87,
         47,
         "M",
         "Administrator",
         89503,
         "HIGH PAID"
        ],
        [
         88,
         49,
         "F",
         "Librarian",
         11701,
         "No Paid"
        ],
        [
         89,
         43,
         "F",
         "Administrator",
         68106,
         "Medium PAID"
        ],
        [
         90,
         60,
         "M",
         "Educator",
         78155,
         "Medium PAID"
        ],
        [
         91,
         55,
         "M",
         "marketing",
         1913,
         "No Paid"
        ],
        [
         92,
         32,
         "M",
         "Entertainment",
         80525,
         "HIGH PAID"
        ],
        [
         93,
         48,
         "M",
         "Cheif Executive Officer",
         23112,
         "Medium PAID"
        ],
        [
         94,
         26,
         "M",
         "Student",
         71457,
         "Medium PAID"
        ],
        [
         95,
         31,
         "M",
         "Administrator",
         10707,
         "No Paid"
        ],
        [
         96,
         25,
         "F",
         "Artist",
         75206,
         "Medium PAID"
        ],
        [
         97,
         43,
         "M",
         "Artist",
         98006,
         "HIGH PAID"
        ],
        [
         98,
         49,
         "F",
         "Cheif Executive Officer",
         90291,
         "HIGH PAID"
        ],
        [
         99,
         20,
         "M",
         "Student",
         63129,
         "Medium PAID"
        ],
        [
         100,
         36,
         "M",
         "Cheif Executive Officer",
         90254,
         "HIGH PAID"
        ],
        [
         101,
         15,
         "M",
         "Student",
         5146,
         "No Paid"
        ],
        [
         102,
         38,
         "M",
         "Programmer",
         30220,
         "Medium PAID"
        ],
        [
         103,
         26,
         "M",
         "Student",
         55108,
         "Medium PAID"
        ],
        [
         104,
         27,
         "M",
         "Student",
         55108,
         "Medium PAID"
        ],
        [
         105,
         24,
         "M",
         "Engineer",
         94043,
         "HIGH PAID"
        ],
        [
         106,
         61,
         "M",
         "retired",
         55125,
         "Medium PAID"
        ],
        [
         107,
         39,
         "M",
         "Scientist",
         60466,
         "Medium PAID"
        ],
        [
         108,
         44,
         "M",
         "Educator",
         63130,
         "Medium PAID"
        ],
        [
         109,
         29,
         "M",
         "Other",
         55423,
         "Medium PAID"
        ],
        [
         110,
         19,
         "M",
         "Student",
         77840,
         "Medium PAID"
        ],
        [
         111,
         57,
         "M",
         "Engineer",
         90630,
         "HIGH PAID"
        ],
        [
         112,
         30,
         "M",
         "salesman",
         60613,
         "Medium PAID"
        ],
        [
         113,
         47,
         "M",
         "Cheif Executive Officer",
         95032,
         "HIGH PAID"
        ],
        [
         114,
         27,
         "M",
         "Programmer",
         75013,
         "Medium PAID"
        ],
        [
         115,
         31,
         "M",
         "Engineer",
         17110,
         "No Paid"
        ],
        [
         116,
         40,
         "M",
         "healthcare",
         97232,
         "HIGH PAID"
        ],
        [
         117,
         20,
         "M",
         "Student",
         16125,
         "No Paid"
        ],
        [
         118,
         21,
         "M",
         "Administrator",
         90210,
         "HIGH PAID"
        ],
        [
         119,
         32,
         "M",
         "Programmer",
         67401,
         "Medium PAID"
        ],
        [
         120,
         47,
         "F",
         "Other",
         6260,
         "No Paid"
        ],
        [
         121,
         54,
         "M",
         "Librarian",
         99603,
         "HIGH PAID"
        ],
        [
         122,
         32,
         "F",
         "Writer",
         22206,
         "Medium PAID"
        ],
        [
         123,
         48,
         "F",
         "Artist",
         20008,
         "Medium PAID"
        ],
        [
         124,
         34,
         "M",
         "Student",
         60615,
         "Medium PAID"
        ],
        [
         125,
         30,
         "M",
         "Lawyer",
         22202,
         "Medium PAID"
        ],
        [
         126,
         28,
         "F",
         "Lawyer",
         20015,
         "Medium PAID"
        ],
        [
         127,
         33,
         "M",
         "cheif Cheif Executive Officer Officer",
         73439,
         "Medium PAID"
        ],
        [
         128,
         24,
         "F",
         "marketing",
         20009,
         "Medium PAID"
        ],
        [
         129,
         36,
         "F",
         "marketing",
         7039,
         "No Paid"
        ],
        [
         130,
         20,
         "M",
         "cheif Cheif Executive Officer Officer",
         60115,
         "Medium PAID"
        ],
        [
         131,
         59,
         "F",
         "Administrator",
         15237,
         "No Paid"
        ],
        [
         132,
         24,
         "M",
         "Other",
         94612,
         "HIGH PAID"
        ],
        [
         133,
         53,
         "M",
         "Engineer",
         78602,
         "Medium PAID"
        ],
        [
         134,
         31,
         "M",
         "Programmer",
         80236,
         "HIGH PAID"
        ],
        [
         135,
         23,
         "M",
         "Student",
         38401,
         "Medium PAID"
        ],
        [
         136,
         51,
         "M",
         "Other",
         97365,
         "HIGH PAID"
        ],
        [
         137,
         50,
         "M",
         "Educator",
         84408,
         "HIGH PAID"
        ],
        [
         138,
         46,
         "M",
         "doctor",
         53211,
         "Medium PAID"
        ],
        [
         139,
         20,
         "M",
         "Student",
         8904,
         "No Paid"
        ],
        [
         140,
         30,
         "F",
         "Student",
         32250,
         "Medium PAID"
        ],
        [
         141,
         49,
         "M",
         "Programmer",
         36117,
         "Medium PAID"
        ],
        [
         142,
         13,
         "M",
         "Other",
         48118,
         "Medium PAID"
        ],
        [
         143,
         42,
         "M",
         "Technician",
         8832,
         "No Paid"
        ],
        [
         144,
         53,
         "M",
         "Programmer",
         20910,
         "Medium PAID"
        ],
        [
         145,
         31,
         "M",
         "Entertainment",
         20910,
         "Medium PAID"
        ],
        [
         146,
         45,
         "M",
         "Artist",
         83814,
         "HIGH PAID"
        ],
        [
         147,
         40,
         "F",
         "Librarian",
         2143,
         "No Paid"
        ],
        [
         148,
         33,
         "M",
         "Engineer",
         97006,
         "HIGH PAID"
        ],
        [
         149,
         35,
         "F",
         "marketing",
         17325,
         "No Paid"
        ],
        [
         150,
         20,
         "F",
         "Artist",
         2139,
         "No Paid"
        ],
        [
         151,
         38,
         "F",
         "Administrator",
         48103,
         "Medium PAID"
        ],
        [
         152,
         33,
         "F",
         "Educator",
         68767,
         "Medium PAID"
        ],
        [
         153,
         25,
         "M",
         "Student",
         60641,
         "Medium PAID"
        ],
        [
         154,
         25,
         "M",
         "Student",
         53703,
         "Medium PAID"
        ],
        [
         155,
         32,
         "F",
         "Other",
         11217,
         "No Paid"
        ],
        [
         156,
         25,
         "M",
         "Educator",
         8360,
         "No Paid"
        ],
        [
         157,
         57,
         "M",
         "Engineer",
         70808,
         "Medium PAID"
        ],
        [
         158,
         50,
         "M",
         "Educator",
         27606,
         "Medium PAID"
        ],
        [
         159,
         23,
         "F",
         "Student",
         55346,
         "Medium PAID"
        ],
        [
         160,
         27,
         "M",
         "Programmer",
         66215,
         "Medium PAID"
        ],
        [
         161,
         50,
         "M",
         "Lawyer",
         55104,
         "Medium PAID"
        ],
        [
         162,
         25,
         "M",
         "Artist",
         15610,
         "No Paid"
        ],
        [
         163,
         49,
         "M",
         "Administrator",
         97212,
         "HIGH PAID"
        ],
        [
         164,
         47,
         "M",
         "healthcare",
         80123,
         "HIGH PAID"
        ],
        [
         165,
         20,
         "F",
         "Other",
         53715,
         "Medium PAID"
        ],
        [
         166,
         47,
         "M",
         "Educator",
         55113,
         "Medium PAID"
        ],
        [
         167,
         37,
         "M",
         "Other",
         55113,
         "Medium PAID"
        ],
        [
         168,
         48,
         "M",
         "Other",
         80127,
         "HIGH PAID"
        ],
        [
         169,
         52,
         "F",
         "Other",
         53705,
         "Medium PAID"
        ],
        [
         170,
         53,
         "F",
         "healthcare",
         30067,
         "Medium PAID"
        ],
        [
         171,
         48,
         "F",
         "Educator",
         78750,
         "Medium PAID"
        ],
        [
         172,
         55,
         "M",
         "marketing",
         22207,
         "Medium PAID"
        ],
        [
         173,
         56,
         "M",
         "Other",
         22306,
         "Medium PAID"
        ],
        [
         174,
         30,
         "F",
         "Administrator",
         52302,
         "Medium PAID"
        ],
        [
         175,
         26,
         "F",
         "Scientist",
         21911,
         "Medium PAID"
        ],
        [
         176,
         28,
         "M",
         "Scientist",
         7030,
         "No Paid"
        ],
        [
         177,
         20,
         "M",
         "Programmer",
         19104,
         "No Paid"
        ],
        [
         178,
         26,
         "M",
         "Other",
         49512,
         "Medium PAID"
        ],
        [
         179,
         15,
         "M",
         "Entertainment",
         20755,
         "Medium PAID"
        ],
        [
         180,
         22,
         "F",
         "Administrator",
         60202,
         "Medium PAID"
        ],
        [
         181,
         26,
         "M",
         "Cheif Executive Officer",
         21218,
         "Medium PAID"
        ],
        [
         182,
         36,
         "M",
         "Programmer",
         33884,
         "Medium PAID"
        ],
        [
         183,
         33,
         "M",
         "Scientist",
         27708,
         "Medium PAID"
        ],
        [
         184,
         37,
         "M",
         "Librarian",
         76013,
         "Medium PAID"
        ],
        [
         185,
         53,
         "F",
         "Librarian",
         97403,
         "HIGH PAID"
        ],
        [
         186,
         39,
         "F",
         "Cheif Executive Officer",
         0,
         "No Paid"
        ],
        [
         187,
         26,
         "M",
         "Educator",
         16801,
         "No Paid"
        ],
        [
         188,
         42,
         "M",
         "Student",
         29440,
         "Medium PAID"
        ],
        [
         189,
         32,
         "M",
         "Artist",
         95014,
         "HIGH PAID"
        ],
        [
         190,
         30,
         "M",
         "Administrator",
         95938,
         "HIGH PAID"
        ],
        [
         191,
         33,
         "M",
         "Administrator",
         95161,
         "HIGH PAID"
        ],
        [
         192,
         42,
         "M",
         "Educator",
         90840,
         "HIGH PAID"
        ],
        [
         193,
         29,
         "M",
         "Student",
         49931,
         "Medium PAID"
        ],
        [
         194,
         38,
         "M",
         "Administrator",
         2154,
         "No Paid"
        ],
        [
         195,
         42,
         "M",
         "Scientist",
         93555,
         "HIGH PAID"
        ],
        [
         196,
         49,
         "M",
         "Writer",
         55105,
         "Medium PAID"
        ],
        [
         197,
         55,
         "M",
         "Technician",
         75094,
         "Medium PAID"
        ],
        [
         198,
         21,
         "F",
         "Student",
         55414,
         "Medium PAID"
        ],
        [
         199,
         30,
         "M",
         "Writer",
         17604,
         "No Paid"
        ],
        [
         200,
         40,
         "M",
         "Programmer",
         93402,
         "HIGH PAID"
        ],
        [
         201,
         27,
         "M",
         "Writer",
         93402,
         "HIGH PAID"
        ],
        [
         202,
         41,
         "F",
         "Educator",
         60201,
         "Medium PAID"
        ],
        [
         203,
         25,
         "F",
         "Student",
         32301,
         "Medium PAID"
        ],
        [
         204,
         52,
         "F",
         "Librarian",
         10960,
         "No Paid"
        ],
        [
         205,
         47,
         "M",
         "Lawyer",
         6371,
         "No Paid"
        ],
        [
         206,
         14,
         "F",
         "Student",
         53115,
         "Medium PAID"
        ],
        [
         207,
         39,
         "M",
         "marketing",
         92037,
         "HIGH PAID"
        ],
        [
         208,
         43,
         "M",
         "Engineer",
         1720,
         "No Paid"
        ],
        [
         209,
         33,
         "F",
         "Educator",
         85710,
         "HIGH PAID"
        ],
        [
         210,
         39,
         "M",
         "Engineer",
         3060,
         "No Paid"
        ],
        [
         211,
         66,
         "M",
         "salesman",
         32605,
         "Medium PAID"
        ],
        [
         212,
         49,
         "F",
         "Educator",
         61401,
         "Medium PAID"
        ],
        [
         213,
         33,
         "M",
         "Cheif Executive Officer",
         55345,
         "Medium PAID"
        ],
        [
         214,
         26,
         "F",
         "Librarian",
         11231,
         "No Paid"
        ],
        [
         215,
         35,
         "M",
         "Programmer",
         63033,
         "Medium PAID"
        ],
        [
         216,
         22,
         "M",
         "Engineer",
         2215,
         "No Paid"
        ],
        [
         217,
         22,
         "M",
         "Other",
         11727,
         "No Paid"
        ],
        [
         218,
         37,
         "M",
         "Administrator",
         6513,
         "No Paid"
        ],
        [
         219,
         32,
         "M",
         "Programmer",
         43212,
         "Medium PAID"
        ],
        [
         220,
         30,
         "M",
         "Librarian",
         78205,
         "Medium PAID"
        ],
        [
         221,
         19,
         "M",
         "Student",
         20685,
         "Medium PAID"
        ],
        [
         222,
         29,
         "M",
         "Programmer",
         27502,
         "Medium PAID"
        ],
        [
         223,
         19,
         "F",
         "Student",
         47906,
         "Medium PAID"
        ],
        [
         224,
         31,
         "F",
         "Educator",
         43512,
         "Medium PAID"
        ],
        [
         225,
         51,
         "F",
         "Administrator",
         58202,
         "Medium PAID"
        ],
        [
         226,
         28,
         "M",
         "Student",
         92103,
         "HIGH PAID"
        ],
        [
         227,
         46,
         "M",
         "Cheif Executive Officer",
         60659,
         "Medium PAID"
        ],
        [
         228,
         21,
         "F",
         "Student",
         22003,
         "Medium PAID"
        ],
        [
         229,
         29,
         "F",
         "Librarian",
         22903,
         "Medium PAID"
        ],
        [
         230,
         28,
         "F",
         "Student",
         14476,
         "No Paid"
        ],
        [
         231,
         48,
         "M",
         "Librarian",
         1080,
         "No Paid"
        ],
        [
         232,
         45,
         "M",
         "Scientist",
         99709,
         "HIGH PAID"
        ],
        [
         233,
         38,
         "M",
         "Engineer",
         98682,
         "HIGH PAID"
        ],
        [
         234,
         60,
         "M",
         "retired",
         94702,
         "HIGH PAID"
        ],
        [
         235,
         37,
         "M",
         "Educator",
         22973,
         "Medium PAID"
        ],
        [
         236,
         44,
         "F",
         "Writer",
         53214,
         "Medium PAID"
        ],
        [
         237,
         49,
         "M",
         "Administrator",
         63146,
         "Medium PAID"
        ],
        [
         238,
         42,
         "F",
         "Administrator",
         44124,
         "Medium PAID"
        ],
        [
         239,
         39,
         "M",
         "Artist",
         95628,
         "HIGH PAID"
        ],
        [
         240,
         23,
         "F",
         "Educator",
         20784,
         "Medium PAID"
        ],
        [
         241,
         26,
         "F",
         "Student",
         20001,
         "Medium PAID"
        ],
        [
         242,
         33,
         "M",
         "Educator",
         31404,
         "Medium PAID"
        ],
        [
         243,
         33,
         "M",
         "Educator",
         60201,
         "Medium PAID"
        ],
        [
         244,
         28,
         "M",
         "Technician",
         100005,
         "HIGH PAID"
        ],
        [
         245,
         26,
         "F",
         "Technician",
         110000,
         "HIGH PAID"
        ]
       ],
       "datasetInfos": [],
       "dbfsResultPath": null,
       "isJsonSchema": true,
       "metadata": {},
       "overflow": false,
       "plotOptions": {
        "customPlotOptions": {},
        "displayType": "table",
        "pivotAggregation": null,
        "pivotColumns": null,
        "xColumns": null,
        "yColumns": null
       },
       "removedWidgets": [],
       "schema": [
        {
         "metadata": "{}",
         "name": "id",
         "type": "\"integer\""
        },
        {
         "metadata": "{}",
         "name": "age",
         "type": "\"integer\""
        },
        {
         "metadata": "{}",
         "name": "gen",
         "type": "\"string\""
        },
        {
         "metadata": "{}",
         "name": "designation",
         "type": "\"string\""
        },
        {
         "metadata": "{}",
         "name": "salary",
         "type": "\"integer\""
        },
        {
         "metadata": "{}",
         "name": "salary_category",
         "type": "\"string\""
        }
       ],
       "type": "table"
      }
     },
     "output_type": "display_data"
    }
   ],
   "source": [
    "user_df.createOrReplaceTempView(\"user_vw\")\n",
    "spark.sql(\"\"\"\n",
    "          SELECT *, \n",
    "          CASE\n",
    "                   WHEN salary > 80000 THEN 'HIGH PAID'\n",
    "                   WHEN salary > 20000 and salary < 80000 THEN 'Medium PAID'\n",
    "                   ELSE 'No Paid' \n",
    "                   END AS salary_category\n",
    "                   FROM user_vw\n",
    "          \"\"\").display()"
   ]
  },
  {
   "cell_type": "markdown",
   "metadata": {
    "application/vnd.databricks.v1+cell": {
     "cellMetadata": {},
     "inputWidgets": {},
     "nuid": "06571bca-e459-4f72-a125-86c71a690225",
     "showTitle": false,
     "tableResultSettingsMap": {},
     "title": ""
    }
   },
   "source": [
    "# Grouping, Aggregations and Sorting"
   ]
  },
  {
   "cell_type": "code",
   "execution_count": 0,
   "metadata": {
    "application/vnd.databricks.v1+cell": {
     "cellMetadata": {
      "byteLimit": 2048000,
      "rowLimit": 10000
     },
     "inputWidgets": {},
     "nuid": "5f3a5748-5031-4df2-acf6-537927a090fd",
     "showTitle": false,
     "tableResultSettingsMap": {},
     "title": ""
    }
   },
   "outputs": [
    {
     "output_type": "display_data",
     "data": {
      "text/html": [
       "<style scoped>\n",
       "  .table-result-container {\n",
       "    max-height: 300px;\n",
       "    overflow: auto;\n",
       "  }\n",
       "  table, th, td {\n",
       "    border: 1px solid black;\n",
       "    border-collapse: collapse;\n",
       "  }\n",
       "  th, td {\n",
       "    padding: 5px;\n",
       "  }\n",
       "  th {\n",
       "    text-align: left;\n",
       "  }\n",
       "</style><div class='table-result-container'><table class='table-result'><thead style='background-color: white'><tr><th>id</th><th>age</th><th>gen</th><th>designation</th><th>salary</th></tr></thead><tbody><tr><td>1</td><td>26</td><td>M</td><td>Technician</td><td>85711</td></tr><tr><td>2</td><td>53</td><td>F</td><td>Other</td><td>94043</td></tr><tr><td>3</td><td>23</td><td>M</td><td>Writer</td><td>32067</td></tr><tr><td>4</td><td>26</td><td>M</td><td>technician</td><td>43537</td></tr></tbody></table></div>"
      ]
     },
     "metadata": {
      "application/vnd.databricks.v1+output": {
       "addedWidgets": {},
       "aggData": [],
       "aggError": "",
       "aggOverflow": false,
       "aggSchema": [],
       "aggSeriesLimitReached": false,
       "aggType": "",
       "arguments": {},
       "columnCustomDisplayInfos": {},
       "data": [
        [
         1,
         26,
         "M",
         "Technician",
         85711
        ],
        [
         2,
         53,
         "F",
         "Other",
         94043
        ],
        [
         3,
         23,
         "M",
         "Writer",
         32067
        ],
        [
         4,
         26,
         "M",
         "technician",
         43537
        ]
       ],
       "datasetInfos": [],
       "dbfsResultPath": null,
       "isJsonSchema": true,
       "metadata": {},
       "overflow": false,
       "plotOptions": {
        "customPlotOptions": {},
        "displayType": "table",
        "pivotAggregation": null,
        "pivotColumns": null,
        "xColumns": null,
        "yColumns": null
       },
       "removedWidgets": [],
       "schema": [
        {
         "metadata": "{}",
         "name": "id",
         "type": "\"integer\""
        },
        {
         "metadata": "{}",
         "name": "age",
         "type": "\"integer\""
        },
        {
         "metadata": "{}",
         "name": "gen",
         "type": "\"string\""
        },
        {
         "metadata": "{}",
         "name": "designation",
         "type": "\"string\""
        },
        {
         "metadata": "{}",
         "name": "salary",
         "type": "\"integer\""
        }
       ],
       "type": "table"
      }
     },
     "output_type": "display_data"
    }
   ],
   "source": [
    "user_df.limit(4).display()"
   ]
  },
  {
   "cell_type": "code",
   "execution_count": 0,
   "metadata": {
    "application/vnd.databricks.v1+cell": {
     "cellMetadata": {
      "byteLimit": 2048000,
      "rowLimit": 10000
     },
     "inputWidgets": {},
     "nuid": "3b5471b0-820b-4165-83cc-3c180a2665c3",
     "showTitle": false,
     "tableResultSettingsMap": {},
     "title": ""
    }
   },
   "outputs": [
    {
     "output_type": "stream",
     "name": "stdout",
     "output_type": "stream",
     "text": [
      "+-----------------------+---+-----+\n|designation            |gen|count|\n+-----------------------+---+-----+\n|technician             |M  |1    |\n|Technician             |M  |6    |\n|Programmer             |M  |20   |\n|healthcare             |F  |1    |\n|marketing              |M  |5    |\n|Other                  |M  |10   |\n|doctor                 |M  |1    |\n|Artist                 |F  |5    |\n|Writer                 |M  |8    |\n|Lawyer                 |M  |4    |\n|Administrator          |M  |15   |\n|healthcare             |M  |3    |\n|Cheif Executive Officer|M  |9    |\n|Scientist              |F  |1    |\n|Librarian              |M  |6    |\n|Homemaker              |F  |2    |\n|Other                  |F  |10   |\n|Administrator          |F  |12   |\n|Engineer               |M  |16   |\n|Educator               |F  |9    |\n+-----------------------+---+-----+\nonly showing top 20 rows\n\n"
     ]
    }
   ],
   "source": [
    "user_df.groupBy(\"designation\",\"gen\").count().show(truncate=False)"
   ]
  },
  {
   "cell_type": "code",
   "execution_count": 0,
   "metadata": {
    "application/vnd.databricks.v1+cell": {
     "cellMetadata": {
      "byteLimit": 2048000,
      "rowLimit": 10000
     },
     "inputWidgets": {},
     "nuid": "357e51aa-17fc-40e9-8103-05585a840789",
     "showTitle": false,
     "tableResultSettingsMap": {},
     "title": ""
    }
   },
   "outputs": [
    {
     "output_type": "display_data",
     "data": {
      "text/html": [
       "<style scoped>\n",
       "  .table-result-container {\n",
       "    max-height: 300px;\n",
       "    overflow: auto;\n",
       "  }\n",
       "  table, th, td {\n",
       "    border: 1px solid black;\n",
       "    border-collapse: collapse;\n",
       "  }\n",
       "  th, td {\n",
       "    padding: 5px;\n",
       "  }\n",
       "  th {\n",
       "    text-align: left;\n",
       "  }\n",
       "</style><div class='table-result-container'><table class='table-result'><thead style='background-color: white'><tr><th>designation</th><th>sum_salary</th></tr></thead><tbody><tr><td>Student</td><td>1762385</td></tr><tr><td>Administrator</td><td>1399976</td></tr><tr><td>Educator</td><td>1220858</td></tr><tr><td>Programmer</td><td>938773</td></tr></tbody></table></div>"
      ]
     },
     "metadata": {
      "application/vnd.databricks.v1+output": {
       "addedWidgets": {},
       "aggData": [],
       "aggError": "",
       "aggOverflow": false,
       "aggSchema": [],
       "aggSeriesLimitReached": false,
       "aggType": "",
       "arguments": {},
       "columnCustomDisplayInfos": {},
       "data": [
        [
         "Student",
         1762385
        ],
        [
         "Administrator",
         1399976
        ],
        [
         "Educator",
         1220858
        ],
        [
         "Programmer",
         938773
        ]
       ],
       "datasetInfos": [],
       "dbfsResultPath": null,
       "isJsonSchema": true,
       "metadata": {},
       "overflow": false,
       "plotOptions": {
        "customPlotOptions": {},
        "displayType": "table",
        "pivotAggregation": null,
        "pivotColumns": null,
        "xColumns": null,
        "yColumns": null
       },
       "removedWidgets": [],
       "schema": [
        {
         "metadata": "{}",
         "name": "designation",
         "type": "\"string\""
        },
        {
         "metadata": "{}",
         "name": "sum_salary",
         "type": "\"long\""
        }
       ],
       "type": "table"
      }
     },
     "output_type": "display_data"
    }
   ],
   "source": [
    "from pyspark.sql.functions import sum\n",
    "\n",
    "user_df.groupBy(\"designation\").agg(sum(\"salary\").alias(\"sum_salary\")).sort(\n",
    "    col(\"sum_salary\"), ascending=False\n",
    ").limit(4).display()"
   ]
  },
  {
   "cell_type": "code",
   "execution_count": 0,
   "metadata": {
    "application/vnd.databricks.v1+cell": {
     "cellMetadata": {
      "byteLimit": 2048000,
      "rowLimit": 10000
     },
     "inputWidgets": {},
     "nuid": "2e8687c1-c2e4-49cb-81f6-384c8d803f94",
     "showTitle": false,
     "tableResultSettingsMap": {},
     "title": ""
    }
   },
   "outputs": [
    {
     "output_type": "display_data",
     "data": {
      "text/html": [
       "<style scoped>\n",
       "  .table-result-container {\n",
       "    max-height: 300px;\n",
       "    overflow: auto;\n",
       "  }\n",
       "  table, th, td {\n",
       "    border: 1px solid black;\n",
       "    border-collapse: collapse;\n",
       "  }\n",
       "  th, td {\n",
       "    padding: 5px;\n",
       "  }\n",
       "  th {\n",
       "    text-align: left;\n",
       "  }\n",
       "</style><div class='table-result-container'><table class='table-result'><thead style='background-color: white'><tr><th>designation</th><th>sum_salary</th></tr></thead><tbody><tr><td>Student</td><td>1762385</td></tr><tr><td>Administrator</td><td>1399976</td></tr><tr><td>Educator</td><td>1220858</td></tr><tr><td>Programmer</td><td>938773</td></tr></tbody></table></div>"
      ]
     },
     "metadata": {
      "application/vnd.databricks.v1+output": {
       "addedWidgets": {},
       "aggData": [],
       "aggError": "",
       "aggOverflow": false,
       "aggSchema": [],
       "aggSeriesLimitReached": false,
       "aggType": "",
       "arguments": {},
       "columnCustomDisplayInfos": {},
       "data": [
        [
         "Student",
         1762385
        ],
        [
         "Administrator",
         1399976
        ],
        [
         "Educator",
         1220858
        ],
        [
         "Programmer",
         938773
        ]
       ],
       "datasetInfos": [],
       "dbfsResultPath": null,
       "isJsonSchema": true,
       "metadata": {},
       "overflow": false,
       "plotOptions": {
        "customPlotOptions": {},
        "displayType": "table",
        "pivotAggregation": null,
        "pivotColumns": null,
        "xColumns": null,
        "yColumns": null
       },
       "removedWidgets": [],
       "schema": [
        {
         "metadata": "{}",
         "name": "designation",
         "type": "\"string\""
        },
        {
         "metadata": "{}",
         "name": "sum_salary",
         "type": "\"long\""
        }
       ],
       "type": "table"
      }
     },
     "output_type": "display_data"
    }
   ],
   "source": [
    "from pyspark.sql.functions import sum\n",
    "\n",
    "user_df.groupBy(\"designation\").agg(sum(\"salary\").alias(\"sum_salary\")).sort(\n",
    "    col(\"sum_salary\").desc()\n",
    ").limit(4).display()"
   ]
  },
  {
   "cell_type": "code",
   "execution_count": 0,
   "metadata": {
    "application/vnd.databricks.v1+cell": {
     "cellMetadata": {
      "byteLimit": 2048000,
      "rowLimit": 10000
     },
     "inputWidgets": {},
     "nuid": "83efd063-87cd-4eff-909d-6e9d981fed03",
     "showTitle": false,
     "tableResultSettingsMap": {},
     "title": ""
    }
   },
   "outputs": [
    {
     "output_type": "display_data",
     "data": {
      "text/html": [
       "<style scoped>\n",
       "  .table-result-container {\n",
       "    max-height: 300px;\n",
       "    overflow: auto;\n",
       "  }\n",
       "  table, th, td {\n",
       "    border: 1px solid black;\n",
       "    border-collapse: collapse;\n",
       "  }\n",
       "  th, td {\n",
       "    padding: 5px;\n",
       "  }\n",
       "  th {\n",
       "    text-align: left;\n",
       "  }\n",
       "</style><div class='table-result-container'><table class='table-result'><thead style='background-color: white'><tr><th>designation</th><th>sum_salary</th><th>avg_salary</th></tr></thead><tbody><tr><td>Scientist</td><td>532883</td><td>53288.3</td></tr><tr><td>retired</td><td>149827</td><td>74913.5</td></tr><tr><td>Entertainment</td><td>142355</td><td>23725.833333333332</td></tr><tr><td>Student</td><td>1762385</td><td>45189.35897435898</td></tr><tr><td>Lawyer</td><td>194395</td><td>38879.0</td></tr><tr><td>Homemaker</td><td>138119</td><td>69059.5</td></tr><tr><td>Writer</td><td>451486</td><td>45148.6</td></tr><tr><td>marketing</td><td>289410</td><td>32156.666666666668</td></tr><tr><td>Programmer</td><td>938773</td><td>46938.65</td></tr><tr><td>Other</td><td>921002</td><td>46050.1</td></tr><tr><td>Cheif Executive Officer</td><td>655696</td><td>59608.72727272727</td></tr><tr><td>Librarian</td><td>510524</td><td>36466.0</td></tr><tr><td>Technician</td><td>455281</td><td>65040.142857142855</td></tr><tr><td>salesman</td><td>93218</td><td>46609.0</td></tr><tr><td>Artist</td><td>638158</td><td>58014.36363636364</td></tr><tr><td>technician</td><td>43537</td><td>43537.0</td></tr><tr><td>healthcare</td><td>213894</td><td>53473.5</td></tr><tr><td>cheif Cheif Executive Officer Officer</td><td>133554</td><td>66777.0</td></tr><tr><td>Engineer</td><td>855996</td><td>53499.75</td></tr><tr><td>Administrator</td><td>1399976</td><td>51850.96296296296</td></tr><tr><td>Educator</td><td>1220858</td><td>48834.32</td></tr><tr><td>doctor</td><td>53211</td><td>53211.0</td></tr><tr><td>Cheif Cheif Executive Officer Officer</td><td>84010</td><td>84010.0</td></tr></tbody></table></div>"
      ]
     },
     "metadata": {
      "application/vnd.databricks.v1+output": {
       "addedWidgets": {},
       "aggData": [],
       "aggError": "",
       "aggOverflow": false,
       "aggSchema": [],
       "aggSeriesLimitReached": false,
       "aggType": "",
       "arguments": {},
       "columnCustomDisplayInfos": {},
       "data": [
        [
         "Scientist",
         532883,
         53288.3
        ],
        [
         "retired",
         149827,
         74913.5
        ],
        [
         "Entertainment",
         142355,
         23725.833333333332
        ],
        [
         "Student",
         1762385,
         45189.35897435898
        ],
        [
         "Lawyer",
         194395,
         38879.0
        ],
        [
         "Homemaker",
         138119,
         69059.5
        ],
        [
         "Writer",
         451486,
         45148.6
        ],
        [
         "marketing",
         289410,
         32156.666666666668
        ],
        [
         "Programmer",
         938773,
         46938.65
        ],
        [
         "Other",
         921002,
         46050.1
        ],
        [
         "Cheif Executive Officer",
         655696,
         59608.72727272727
        ],
        [
         "Librarian",
         510524,
         36466.0
        ],
        [
         "Technician",
         455281,
         65040.142857142855
        ],
        [
         "salesman",
         93218,
         46609.0
        ],
        [
         "Artist",
         638158,
         58014.36363636364
        ],
        [
         "technician",
         43537,
         43537.0
        ],
        [
         "healthcare",
         213894,
         53473.5
        ],
        [
         "cheif Cheif Executive Officer Officer",
         133554,
         66777.0
        ],
        [
         "Engineer",
         855996,
         53499.75
        ],
        [
         "Administrator",
         1399976,
         51850.96296296296
        ],
        [
         "Educator",
         1220858,
         48834.32
        ],
        [
         "doctor",
         53211,
         53211.0
        ],
        [
         "Cheif Cheif Executive Officer Officer",
         84010,
         84010.0
        ]
       ],
       "datasetInfos": [],
       "dbfsResultPath": null,
       "isJsonSchema": true,
       "metadata": {},
       "overflow": false,
       "plotOptions": {
        "customPlotOptions": {},
        "displayType": "table",
        "pivotAggregation": null,
        "pivotColumns": null,
        "xColumns": null,
        "yColumns": null
       },
       "removedWidgets": [],
       "schema": [
        {
         "metadata": "{}",
         "name": "designation",
         "type": "\"string\""
        },
        {
         "metadata": "{}",
         "name": "sum_salary",
         "type": "\"long\""
        },
        {
         "metadata": "{}",
         "name": "avg_salary",
         "type": "\"double\""
        }
       ],
       "type": "table"
      }
     },
     "output_type": "display_data"
    }
   ],
   "source": [
    "from pyspark.sql.functions import sum, avg,count\n",
    "user_df.groupBy(\"designation\").agg(sum(\"salary\").alias(\"sum_salary\"),\n",
    "                                   avg(\"salary\").alias(\"avg_salary\")).display()"
   ]
  },
  {
   "cell_type": "markdown",
   "metadata": {
    "application/vnd.databricks.v1+cell": {
     "cellMetadata": {},
     "inputWidgets": {},
     "nuid": "c59d6fc2-6bf2-49d8-9820-9b296c932958",
     "showTitle": false,
     "tableResultSettingsMap": {},
     "title": ""
    }
   },
   "source": [
    "# Handling Missing / Null Records"
   ]
  },
  {
   "cell_type": "markdown",
   "metadata": {
    "application/vnd.databricks.v1+cell": {
     "cellMetadata": {},
     "inputWidgets": {},
     "nuid": "febf359e-c910-4968-9389-f67beff21684",
     "showTitle": false,
     "tableResultSettingsMap": {},
     "title": ""
    }
   },
   "source": [
    "## Prerequisites"
   ]
  },
  {
   "cell_type": "code",
   "execution_count": 0,
   "metadata": {
    "application/vnd.databricks.v1+cell": {
     "cellMetadata": {
      "byteLimit": 2048000,
      "rowLimit": 10000
     },
     "inputWidgets": {},
     "nuid": "f26572c1-3ac8-460d-888c-8e8612148da2",
     "showTitle": false,
     "tableResultSettingsMap": {},
     "title": ""
    }
   },
   "outputs": [
    {
     "output_type": "display_data",
     "data": {
      "text/html": [
       "<style scoped>\n",
       "  .table-result-container {\n",
       "    max-height: 300px;\n",
       "    overflow: auto;\n",
       "  }\n",
       "  table, th, td {\n",
       "    border: 1px solid black;\n",
       "    border-collapse: collapse;\n",
       "  }\n",
       "  th, td {\n",
       "    padding: 5px;\n",
       "  }\n",
       "  th {\n",
       "    text-align: left;\n",
       "  }\n",
       "</style><div class='table-result-container'><table class='table-result'><thead style='background-color: white'><tr><th>col_id</th><th>col_name</th><th>col_exp</th><th>col_gen</th><th>col_dob</th><th>col_company</th><th>col_desig</th><th>col_doj</th><th>col_skills</th><th>col_previous_expected_salary</th></tr></thead><tbody><tr><td>101</td><td>Agastya</td><td>1</td><td>M</td><td>1987-01-22</td><td>Infosys</td><td>Developer</td><td>2015-01-21</td><td>Hadoop,PySpark,Azure</td><td>1950000,1600000</td></tr><tr><td>102</td><td>Acyuta</td><td>2</td><td>F</td><td>1987-03-29</td><td>TCS</td><td>Team Lead</td><td>2016-01-21</td><td>C,C++,Java</td><td>1150000,1500000</td></tr><tr><td>103</td><td>Anuvrata</td><td>1</td><td>M</td><td>1987-01-22</td><td>Infosys</td><td>Developer</td><td>2017-01-21</td><td>Java,Python,Hadoop</td><td>1250000,1300000</td></tr><tr><td>null</td><td>Bhavika</td><td>6</td><td>F</td><td>1987-01-22</td><td>Infosys</td><td>Team lead</td><td>2015-01-21</td><td>Hadoop,PySpark,Kafka</td><td>null</td></tr><tr><td>105</td><td>Chitragandha</td><td>null</td><td>M</td><td>1987-01-22</td><td>CTS</td><td>Developer</td><td>null</td><td>C,C++,Java</td><td>1200000,1400000</td></tr><tr><td>106</td><td>Hritika</td><td>9</td><td>F</td><td>1987-01-22</td><td>Cisco</td><td>Developer</td><td>2016-01-21</td><td>C,C++,Java</td><td>950000,1300000</td></tr><tr><td>107</td><td>Jigyasa</td><td>12</td><td>M</td><td>1987-01-22</td><td>Infosys</td><td>Team Lead</td><td>2005-01-21</td><td>Hadoop,PySpark,Kafka</td><td>200000,2100000</td></tr><tr><td>108</td><td>Kaveri</td><td>4</td><td>F</td><td>1987-01-22</td><td>cisco</td><td>R&D Engineer</td><td>2015-01-21</td><td>C,PySpark,Azure,AWS</td><td>3050000,2500000</td></tr><tr><td>109</td><td>null</td><td>8</td><td>M</td><td>1987-01-22</td><td>null</td><td>Developer</td><td>2008-01-21</td><td>C,C++,Java</td><td>1050000,1100000</td></tr><tr><td>110</td><td>Vin</td><td>null</td><td>T</td><td>1987-01-22</td><td>CTS</td><td>Team Lead</td><td>2020-01-21</td><td>Hadoop,PySpark,Kafka,Kafka</td><td>1550000,1400000</td></tr><tr><td>null</td><td>null</td><td>null</td><td>null</td><td>null</td><td>null</td><td>null</td><td>null</td><td>null</td><td>null</td></tr></tbody></table></div>"
      ]
     },
     "metadata": {
      "application/vnd.databricks.v1+output": {
       "addedWidgets": {},
       "aggData": [],
       "aggError": "",
       "aggOverflow": false,
       "aggSchema": [],
       "aggSeriesLimitReached": false,
       "aggType": "",
       "arguments": {},
       "columnCustomDisplayInfos": {},
       "data": [
        [
         101,
         "Agastya",
         1,
         "M",
         "1987-01-22",
         "Infosys",
         "Developer",
         "2015-01-21",
         "Hadoop,PySpark,Azure",
         "1950000,1600000"
        ],
        [
         102,
         "Acyuta",
         2,
         "F",
         "1987-03-29",
         "TCS",
         "Team Lead",
         "2016-01-21",
         "C,C++,Java",
         "1150000,1500000"
        ],
        [
         103,
         "Anuvrata",
         1,
         "M",
         "1987-01-22",
         "Infosys",
         "Developer",
         "2017-01-21",
         "Java,Python,Hadoop",
         "1250000,1300000"
        ],
        [
         null,
         "Bhavika",
         6,
         "F",
         "1987-01-22",
         "Infosys",
         "Team lead",
         "2015-01-21",
         "Hadoop,PySpark,Kafka",
         null
        ],
        [
         105,
         "Chitragandha",
         null,
         "M",
         "1987-01-22",
         "CTS",
         "Developer",
         null,
         "C,C++,Java",
         "1200000,1400000"
        ],
        [
         106,
         "Hritika",
         9,
         "F",
         "1987-01-22",
         "Cisco",
         "Developer",
         "2016-01-21",
         "C,C++,Java",
         "950000,1300000"
        ],
        [
         107,
         "Jigyasa",
         12,
         "M",
         "1987-01-22",
         "Infosys",
         "Team Lead",
         "2005-01-21",
         "Hadoop,PySpark,Kafka",
         "200000,2100000"
        ],
        [
         108,
         "Kaveri",
         4,
         "F",
         "1987-01-22",
         "cisco",
         "R&D Engineer",
         "2015-01-21",
         "C,PySpark,Azure,AWS",
         "3050000,2500000"
        ],
        [
         109,
         null,
         8,
         "M",
         "1987-01-22",
         null,
         "Developer",
         "2008-01-21",
         "C,C++,Java",
         "1050000,1100000"
        ],
        [
         110,
         "Vin",
         null,
         "T",
         "1987-01-22",
         "CTS",
         "Team Lead",
         "2020-01-21",
         "Hadoop,PySpark,Kafka,Kafka",
         "1550000,1400000"
        ],
        [
         null,
         null,
         null,
         null,
         null,
         null,
         null,
         null,
         null,
         null
        ]
       ],
       "datasetInfos": [],
       "dbfsResultPath": null,
       "isJsonSchema": true,
       "metadata": {},
       "overflow": false,
       "plotOptions": {
        "customPlotOptions": {},
        "displayType": "table",
        "pivotAggregation": null,
        "pivotColumns": null,
        "xColumns": null,
        "yColumns": null
       },
       "removedWidgets": [],
       "schema": [
        {
         "metadata": "{}",
         "name": "col_id",
         "type": "\"integer\""
        },
        {
         "metadata": "{}",
         "name": "col_name",
         "type": "\"string\""
        },
        {
         "metadata": "{}",
         "name": "col_exp",
         "type": "\"integer\""
        },
        {
         "metadata": "{}",
         "name": "col_gen",
         "type": "\"string\""
        },
        {
         "metadata": "{\"__detected_date_formats\":\"yyyy-M-d\"}",
         "name": "col_dob",
         "type": "\"date\""
        },
        {
         "metadata": "{}",
         "name": "col_company",
         "type": "\"string\""
        },
        {
         "metadata": "{}",
         "name": "col_desig",
         "type": "\"string\""
        },
        {
         "metadata": "{\"__detected_date_formats\":\"d-M-yyyy\"}",
         "name": "col_doj",
         "type": "\"date\""
        },
        {
         "metadata": "{}",
         "name": "col_skills",
         "type": "\"string\""
        },
        {
         "metadata": "{}",
         "name": "col_previous_expected_salary",
         "type": "\"string\""
        }
       ],
       "type": "table"
      }
     },
     "output_type": "display_data"
    }
   ],
   "source": [
    "employee_df = spark.read.csv(path=\"dbfs:/FileStore/synechron/employee-1.csv\",\n",
    "                             header=True,\n",
    "                             inferSchema=True,\n",
    "                             sep=\"|\",\n",
    "                             quote=\"'\")\n",
    "employee_df.display()"
   ]
  },
  {
   "cell_type": "code",
   "execution_count": 0,
   "metadata": {
    "application/vnd.databricks.v1+cell": {
     "cellMetadata": {
      "byteLimit": 2048000,
      "rowLimit": 10000
     },
     "inputWidgets": {},
     "nuid": "7d6acfc7-afc4-435d-af0b-9c283bec31c7",
     "showTitle": false,
     "tableResultSettingsMap": {},
     "title": ""
    }
   },
   "outputs": [
    {
     "output_type": "display_data",
     "data": {
      "text/html": [
       "<style scoped>\n",
       "  .table-result-container {\n",
       "    max-height: 300px;\n",
       "    overflow: auto;\n",
       "  }\n",
       "  table, th, td {\n",
       "    border: 1px solid black;\n",
       "    border-collapse: collapse;\n",
       "  }\n",
       "  th, td {\n",
       "    padding: 5px;\n",
       "  }\n",
       "  th {\n",
       "    text-align: left;\n",
       "  }\n",
       "</style><div class='table-result-container'><table class='table-result'><thead style='background-color: white'><tr><th>col_id</th><th>col_name</th><th>col_exp</th><th>col_gen</th><th>col_dob</th><th>col_company</th><th>col_desig</th><th>col_doj</th><th>col_skills</th><th>col_previous_expected_salary</th></tr></thead><tbody><tr><td>101</td><td>Agastya</td><td>1</td><td>M</td><td>1987-01-22</td><td>Infosys</td><td>Developer</td><td>2015-01-21</td><td>Hadoop,PySpark,Azure</td><td>1950000,1600000</td></tr><tr><td>102</td><td>Acyuta</td><td>2</td><td>F</td><td>1987-03-29</td><td>TCS</td><td>Team Lead</td><td>2016-01-21</td><td>C,C++,Java</td><td>1150000,1500000</td></tr><tr><td>103</td><td>Anuvrata</td><td>1</td><td>M</td><td>1987-01-22</td><td>Infosys</td><td>Developer</td><td>2017-01-21</td><td>Java,Python,Hadoop</td><td>1250000,1300000</td></tr><tr><td>106</td><td>Hritika</td><td>9</td><td>F</td><td>1987-01-22</td><td>Cisco</td><td>Developer</td><td>2016-01-21</td><td>C,C++,Java</td><td>950000,1300000</td></tr><tr><td>107</td><td>Jigyasa</td><td>12</td><td>M</td><td>1987-01-22</td><td>Infosys</td><td>Team Lead</td><td>2005-01-21</td><td>Hadoop,PySpark,Kafka</td><td>200000,2100000</td></tr><tr><td>108</td><td>Kaveri</td><td>4</td><td>F</td><td>1987-01-22</td><td>cisco</td><td>R&D Engineer</td><td>2015-01-21</td><td>C,PySpark,Azure,AWS</td><td>3050000,2500000</td></tr></tbody></table></div>"
      ]
     },
     "metadata": {
      "application/vnd.databricks.v1+output": {
       "addedWidgets": {},
       "aggData": [],
       "aggError": "",
       "aggOverflow": false,
       "aggSchema": [],
       "aggSeriesLimitReached": false,
       "aggType": "",
       "arguments": {},
       "columnCustomDisplayInfos": {},
       "data": [
        [
         101,
         "Agastya",
         1,
         "M",
         "1987-01-22",
         "Infosys",
         "Developer",
         "2015-01-21",
         "Hadoop,PySpark,Azure",
         "1950000,1600000"
        ],
        [
         102,
         "Acyuta",
         2,
         "F",
         "1987-03-29",
         "TCS",
         "Team Lead",
         "2016-01-21",
         "C,C++,Java",
         "1150000,1500000"
        ],
        [
         103,
         "Anuvrata",
         1,
         "M",
         "1987-01-22",
         "Infosys",
         "Developer",
         "2017-01-21",
         "Java,Python,Hadoop",
         "1250000,1300000"
        ],
        [
         106,
         "Hritika",
         9,
         "F",
         "1987-01-22",
         "Cisco",
         "Developer",
         "2016-01-21",
         "C,C++,Java",
         "950000,1300000"
        ],
        [
         107,
         "Jigyasa",
         12,
         "M",
         "1987-01-22",
         "Infosys",
         "Team Lead",
         "2005-01-21",
         "Hadoop,PySpark,Kafka",
         "200000,2100000"
        ],
        [
         108,
         "Kaveri",
         4,
         "F",
         "1987-01-22",
         "cisco",
         "R&D Engineer",
         "2015-01-21",
         "C,PySpark,Azure,AWS",
         "3050000,2500000"
        ]
       ],
       "datasetInfos": [],
       "dbfsResultPath": null,
       "isJsonSchema": true,
       "metadata": {},
       "overflow": false,
       "plotOptions": {
        "customPlotOptions": {},
        "displayType": "table",
        "pivotAggregation": null,
        "pivotColumns": null,
        "xColumns": null,
        "yColumns": null
       },
       "removedWidgets": [],
       "schema": [
        {
         "metadata": "{}",
         "name": "col_id",
         "type": "\"integer\""
        },
        {
         "metadata": "{}",
         "name": "col_name",
         "type": "\"string\""
        },
        {
         "metadata": "{}",
         "name": "col_exp",
         "type": "\"integer\""
        },
        {
         "metadata": "{}",
         "name": "col_gen",
         "type": "\"string\""
        },
        {
         "metadata": "{\"__detected_date_formats\":\"yyyy-M-d\"}",
         "name": "col_dob",
         "type": "\"date\""
        },
        {
         "metadata": "{}",
         "name": "col_company",
         "type": "\"string\""
        },
        {
         "metadata": "{}",
         "name": "col_desig",
         "type": "\"string\""
        },
        {
         "metadata": "{\"__detected_date_formats\":\"d-M-yyyy\"}",
         "name": "col_doj",
         "type": "\"date\""
        },
        {
         "metadata": "{}",
         "name": "col_skills",
         "type": "\"string\""
        },
        {
         "metadata": "{}",
         "name": "col_previous_expected_salary",
         "type": "\"string\""
        }
       ],
       "type": "table"
      }
     },
     "output_type": "display_data"
    }
   ],
   "source": [
    "employee_df.na.drop().display()"
   ]
  },
  {
   "cell_type": "code",
   "execution_count": 0,
   "metadata": {
    "application/vnd.databricks.v1+cell": {
     "cellMetadata": {
      "byteLimit": 2048000,
      "rowLimit": 10000
     },
     "inputWidgets": {},
     "nuid": "1ec67338-ba3f-47f8-b8ee-2d849201b664",
     "showTitle": false,
     "tableResultSettingsMap": {},
     "title": ""
    }
   },
   "outputs": [
    {
     "output_type": "display_data",
     "data": {
      "text/html": [
       "<style scoped>\n",
       "  .table-result-container {\n",
       "    max-height: 300px;\n",
       "    overflow: auto;\n",
       "  }\n",
       "  table, th, td {\n",
       "    border: 1px solid black;\n",
       "    border-collapse: collapse;\n",
       "  }\n",
       "  th, td {\n",
       "    padding: 5px;\n",
       "  }\n",
       "  th {\n",
       "    text-align: left;\n",
       "  }\n",
       "</style><div class='table-result-container'><table class='table-result'><thead style='background-color: white'><tr><th>col_id</th><th>col_name</th><th>col_exp</th><th>col_gen</th><th>col_dob</th><th>col_company</th><th>col_desig</th><th>col_doj</th><th>col_skills</th><th>col_previous_expected_salary</th></tr></thead><tbody><tr><td>101</td><td>Agastya</td><td>1</td><td>M</td><td>1987-01-22</td><td>Infosys</td><td>Developer</td><td>2015-01-21</td><td>Hadoop,PySpark,Azure</td><td>1950000,1600000</td></tr><tr><td>102</td><td>Acyuta</td><td>2</td><td>F</td><td>1987-03-29</td><td>TCS</td><td>Team Lead</td><td>2016-01-21</td><td>C,C++,Java</td><td>1150000,1500000</td></tr><tr><td>103</td><td>Anuvrata</td><td>1</td><td>M</td><td>1987-01-22</td><td>Infosys</td><td>Developer</td><td>2017-01-21</td><td>Java,Python,Hadoop</td><td>1250000,1300000</td></tr><tr><td>105</td><td>Chitragandha</td><td>null</td><td>M</td><td>1987-01-22</td><td>CTS</td><td>Developer</td><td>null</td><td>C,C++,Java</td><td>1200000,1400000</td></tr><tr><td>106</td><td>Hritika</td><td>9</td><td>F</td><td>1987-01-22</td><td>Cisco</td><td>Developer</td><td>2016-01-21</td><td>C,C++,Java</td><td>950000,1300000</td></tr><tr><td>107</td><td>Jigyasa</td><td>12</td><td>M</td><td>1987-01-22</td><td>Infosys</td><td>Team Lead</td><td>2005-01-21</td><td>Hadoop,PySpark,Kafka</td><td>200000,2100000</td></tr><tr><td>108</td><td>Kaveri</td><td>4</td><td>F</td><td>1987-01-22</td><td>cisco</td><td>R&D Engineer</td><td>2015-01-21</td><td>C,PySpark,Azure,AWS</td><td>3050000,2500000</td></tr><tr><td>110</td><td>Vin</td><td>null</td><td>T</td><td>1987-01-22</td><td>CTS</td><td>Team Lead</td><td>2020-01-21</td><td>Hadoop,PySpark,Kafka,Kafka</td><td>1550000,1400000</td></tr></tbody></table></div>"
      ]
     },
     "metadata": {
      "application/vnd.databricks.v1+output": {
       "addedWidgets": {},
       "aggData": [],
       "aggError": "",
       "aggOverflow": false,
       "aggSchema": [],
       "aggSeriesLimitReached": false,
       "aggType": "",
       "arguments": {},
       "columnCustomDisplayInfos": {},
       "data": [
        [
         101,
         "Agastya",
         1,
         "M",
         "1987-01-22",
         "Infosys",
         "Developer",
         "2015-01-21",
         "Hadoop,PySpark,Azure",
         "1950000,1600000"
        ],
        [
         102,
         "Acyuta",
         2,
         "F",
         "1987-03-29",
         "TCS",
         "Team Lead",
         "2016-01-21",
         "C,C++,Java",
         "1150000,1500000"
        ],
        [
         103,
         "Anuvrata",
         1,
         "M",
         "1987-01-22",
         "Infosys",
         "Developer",
         "2017-01-21",
         "Java,Python,Hadoop",
         "1250000,1300000"
        ],
        [
         105,
         "Chitragandha",
         null,
         "M",
         "1987-01-22",
         "CTS",
         "Developer",
         null,
         "C,C++,Java",
         "1200000,1400000"
        ],
        [
         106,
         "Hritika",
         9,
         "F",
         "1987-01-22",
         "Cisco",
         "Developer",
         "2016-01-21",
         "C,C++,Java",
         "950000,1300000"
        ],
        [
         107,
         "Jigyasa",
         12,
         "M",
         "1987-01-22",
         "Infosys",
         "Team Lead",
         "2005-01-21",
         "Hadoop,PySpark,Kafka",
         "200000,2100000"
        ],
        [
         108,
         "Kaveri",
         4,
         "F",
         "1987-01-22",
         "cisco",
         "R&D Engineer",
         "2015-01-21",
         "C,PySpark,Azure,AWS",
         "3050000,2500000"
        ],
        [
         110,
         "Vin",
         null,
         "T",
         "1987-01-22",
         "CTS",
         "Team Lead",
         "2020-01-21",
         "Hadoop,PySpark,Kafka,Kafka",
         "1550000,1400000"
        ]
       ],
       "datasetInfos": [],
       "dbfsResultPath": null,
       "isJsonSchema": true,
       "metadata": {},
       "overflow": false,
       "plotOptions": {
        "customPlotOptions": {},
        "displayType": "table",
        "pivotAggregation": null,
        "pivotColumns": null,
        "xColumns": null,
        "yColumns": null
       },
       "removedWidgets": [],
       "schema": [
        {
         "metadata": "{}",
         "name": "col_id",
         "type": "\"integer\""
        },
        {
         "metadata": "{}",
         "name": "col_name",
         "type": "\"string\""
        },
        {
         "metadata": "{}",
         "name": "col_exp",
         "type": "\"integer\""
        },
        {
         "metadata": "{}",
         "name": "col_gen",
         "type": "\"string\""
        },
        {
         "metadata": "{\"__detected_date_formats\":\"yyyy-M-d\"}",
         "name": "col_dob",
         "type": "\"date\""
        },
        {
         "metadata": "{}",
         "name": "col_company",
         "type": "\"string\""
        },
        {
         "metadata": "{}",
         "name": "col_desig",
         "type": "\"string\""
        },
        {
         "metadata": "{\"__detected_date_formats\":\"d-M-yyyy\"}",
         "name": "col_doj",
         "type": "\"date\""
        },
        {
         "metadata": "{}",
         "name": "col_skills",
         "type": "\"string\""
        },
        {
         "metadata": "{}",
         "name": "col_previous_expected_salary",
         "type": "\"string\""
        }
       ],
       "type": "table"
      }
     },
     "output_type": "display_data"
    }
   ],
   "source": [
    "employee_df.na.drop(subset=[\"col_id\",\"col_name\"]).display()"
   ]
  },
  {
   "cell_type": "code",
   "execution_count": 0,
   "metadata": {
    "application/vnd.databricks.v1+cell": {
     "cellMetadata": {
      "byteLimit": 2048000,
      "rowLimit": 10000
     },
     "inputWidgets": {},
     "nuid": "818a9624-1d75-4a60-b237-c0fc17d8e60c",
     "showTitle": false,
     "tableResultSettingsMap": {},
     "title": ""
    }
   },
   "outputs": [
    {
     "output_type": "display_data",
     "data": {
      "text/html": [
       "<style scoped>\n",
       "  .table-result-container {\n",
       "    max-height: 300px;\n",
       "    overflow: auto;\n",
       "  }\n",
       "  table, th, td {\n",
       "    border: 1px solid black;\n",
       "    border-collapse: collapse;\n",
       "  }\n",
       "  th, td {\n",
       "    padding: 5px;\n",
       "  }\n",
       "  th {\n",
       "    text-align: left;\n",
       "  }\n",
       "</style><div class='table-result-container'><table class='table-result'><thead style='background-color: white'><tr><th>col_id</th><th>col_name</th><th>col_exp</th><th>col_gen</th><th>col_dob</th><th>col_company</th><th>col_desig</th><th>col_doj</th><th>col_skills</th><th>col_previous_expected_salary</th></tr></thead><tbody><tr><td>101</td><td>Agastya</td><td>1</td><td>M</td><td>1987-01-22</td><td>Infosys</td><td>Developer</td><td>2015-01-21</td><td>Hadoop,PySpark,Azure</td><td>1950000,1600000</td></tr><tr><td>102</td><td>Acyuta</td><td>2</td><td>F</td><td>1987-03-29</td><td>TCS</td><td>Team Lead</td><td>2016-01-21</td><td>C,C++,Java</td><td>1150000,1500000</td></tr><tr><td>103</td><td>Anuvrata</td><td>1</td><td>M</td><td>1987-01-22</td><td>Infosys</td><td>Developer</td><td>2017-01-21</td><td>Java,Python,Hadoop</td><td>1250000,1300000</td></tr><tr><td>null</td><td>Bhavika</td><td>6</td><td>F</td><td>1987-01-22</td><td>Infosys</td><td>Team lead</td><td>2015-01-21</td><td>Hadoop,PySpark,Kafka</td><td>null</td></tr><tr><td>105</td><td>Chitragandha</td><td>null</td><td>M</td><td>1987-01-22</td><td>CTS</td><td>Developer</td><td>null</td><td>C,C++,Java</td><td>1200000,1400000</td></tr><tr><td>106</td><td>Hritika</td><td>9</td><td>F</td><td>1987-01-22</td><td>Cisco</td><td>Developer</td><td>2016-01-21</td><td>C,C++,Java</td><td>950000,1300000</td></tr><tr><td>107</td><td>Jigyasa</td><td>12</td><td>M</td><td>1987-01-22</td><td>Infosys</td><td>Team Lead</td><td>2005-01-21</td><td>Hadoop,PySpark,Kafka</td><td>200000,2100000</td></tr><tr><td>108</td><td>Kaveri</td><td>4</td><td>F</td><td>1987-01-22</td><td>cisco</td><td>R&D Engineer</td><td>2015-01-21</td><td>C,PySpark,Azure,AWS</td><td>3050000,2500000</td></tr><tr><td>109</td><td>null</td><td>8</td><td>M</td><td>1987-01-22</td><td>null</td><td>Developer</td><td>2008-01-21</td><td>C,C++,Java</td><td>1050000,1100000</td></tr><tr><td>110</td><td>Vin</td><td>null</td><td>T</td><td>1987-01-22</td><td>CTS</td><td>Team Lead</td><td>2020-01-21</td><td>Hadoop,PySpark,Kafka,Kafka</td><td>1550000,1400000</td></tr></tbody></table></div>"
      ]
     },
     "metadata": {
      "application/vnd.databricks.v1+output": {
       "addedWidgets": {},
       "aggData": [],
       "aggError": "",
       "aggOverflow": false,
       "aggSchema": [],
       "aggSeriesLimitReached": false,
       "aggType": "",
       "arguments": {},
       "columnCustomDisplayInfos": {},
       "data": [
        [
         101,
         "Agastya",
         1,
         "M",
         "1987-01-22",
         "Infosys",
         "Developer",
         "2015-01-21",
         "Hadoop,PySpark,Azure",
         "1950000,1600000"
        ],
        [
         102,
         "Acyuta",
         2,
         "F",
         "1987-03-29",
         "TCS",
         "Team Lead",
         "2016-01-21",
         "C,C++,Java",
         "1150000,1500000"
        ],
        [
         103,
         "Anuvrata",
         1,
         "M",
         "1987-01-22",
         "Infosys",
         "Developer",
         "2017-01-21",
         "Java,Python,Hadoop",
         "1250000,1300000"
        ],
        [
         null,
         "Bhavika",
         6,
         "F",
         "1987-01-22",
         "Infosys",
         "Team lead",
         "2015-01-21",
         "Hadoop,PySpark,Kafka",
         null
        ],
        [
         105,
         "Chitragandha",
         null,
         "M",
         "1987-01-22",
         "CTS",
         "Developer",
         null,
         "C,C++,Java",
         "1200000,1400000"
        ],
        [
         106,
         "Hritika",
         9,
         "F",
         "1987-01-22",
         "Cisco",
         "Developer",
         "2016-01-21",
         "C,C++,Java",
         "950000,1300000"
        ],
        [
         107,
         "Jigyasa",
         12,
         "M",
         "1987-01-22",
         "Infosys",
         "Team Lead",
         "2005-01-21",
         "Hadoop,PySpark,Kafka",
         "200000,2100000"
        ],
        [
         108,
         "Kaveri",
         4,
         "F",
         "1987-01-22",
         "cisco",
         "R&D Engineer",
         "2015-01-21",
         "C,PySpark,Azure,AWS",
         "3050000,2500000"
        ],
        [
         109,
         null,
         8,
         "M",
         "1987-01-22",
         null,
         "Developer",
         "2008-01-21",
         "C,C++,Java",
         "1050000,1100000"
        ],
        [
         110,
         "Vin",
         null,
         "T",
         "1987-01-22",
         "CTS",
         "Team Lead",
         "2020-01-21",
         "Hadoop,PySpark,Kafka,Kafka",
         "1550000,1400000"
        ]
       ],
       "datasetInfos": [],
       "dbfsResultPath": null,
       "isJsonSchema": true,
       "metadata": {},
       "overflow": false,
       "plotOptions": {
        "customPlotOptions": {},
        "displayType": "table",
        "pivotAggregation": null,
        "pivotColumns": null,
        "xColumns": null,
        "yColumns": null
       },
       "removedWidgets": [],
       "schema": [
        {
         "metadata": "{}",
         "name": "col_id",
         "type": "\"integer\""
        },
        {
         "metadata": "{}",
         "name": "col_name",
         "type": "\"string\""
        },
        {
         "metadata": "{}",
         "name": "col_exp",
         "type": "\"integer\""
        },
        {
         "metadata": "{}",
         "name": "col_gen",
         "type": "\"string\""
        },
        {
         "metadata": "{\"__detected_date_formats\":\"yyyy-M-d\"}",
         "name": "col_dob",
         "type": "\"date\""
        },
        {
         "metadata": "{}",
         "name": "col_company",
         "type": "\"string\""
        },
        {
         "metadata": "{}",
         "name": "col_desig",
         "type": "\"string\""
        },
        {
         "metadata": "{\"__detected_date_formats\":\"d-M-yyyy\"}",
         "name": "col_doj",
         "type": "\"date\""
        },
        {
         "metadata": "{}",
         "name": "col_skills",
         "type": "\"string\""
        },
        {
         "metadata": "{}",
         "name": "col_previous_expected_salary",
         "type": "\"string\""
        }
       ],
       "type": "table"
      }
     },
     "output_type": "display_data"
    }
   ],
   "source": [
    "employee_df.display()"
   ]
  },
  {
   "cell_type": "code",
   "execution_count": 0,
   "metadata": {
    "application/vnd.databricks.v1+cell": {
     "cellMetadata": {
      "byteLimit": 2048000,
      "rowLimit": 10000
     },
     "inputWidgets": {},
     "nuid": "815b8f1b-e3cc-4cac-9e9e-2ff50300c30b",
     "showTitle": false,
     "tableResultSettingsMap": {},
     "title": ""
    }
   },
   "outputs": [
    {
     "output_type": "display_data",
     "data": {
      "text/html": [
       "<style scoped>\n",
       "  .table-result-container {\n",
       "    max-height: 300px;\n",
       "    overflow: auto;\n",
       "  }\n",
       "  table, th, td {\n",
       "    border: 1px solid black;\n",
       "    border-collapse: collapse;\n",
       "  }\n",
       "  th, td {\n",
       "    padding: 5px;\n",
       "  }\n",
       "  th {\n",
       "    text-align: left;\n",
       "  }\n",
       "</style><div class='table-result-container'><table class='table-result'><thead style='background-color: white'><tr><th>col_id</th><th>col_name</th><th>col_exp</th><th>col_gen</th><th>col_dob</th><th>col_company</th><th>col_desig</th><th>col_doj</th><th>col_skills</th><th>col_previous_expected_salary</th></tr></thead><tbody><tr><td>101</td><td>Agastya</td><td>1</td><td>M</td><td>1987-01-22</td><td>Infosys</td><td>Developer</td><td>2015-01-21</td><td>Hadoop,PySpark,Azure</td><td>1950000,1600000</td></tr><tr><td>102</td><td>Acyuta</td><td>2</td><td>F</td><td>1987-03-29</td><td>TCS</td><td>Team Lead</td><td>2016-01-21</td><td>C,C++,Java</td><td>1150000,1500000</td></tr><tr><td>103</td><td>Anuvrata</td><td>1</td><td>M</td><td>1987-01-22</td><td>Infosys</td><td>Developer</td><td>2017-01-21</td><td>Java,Python,Hadoop</td><td>1250000,1300000</td></tr><tr><td>-1</td><td>Bhavika</td><td>6</td><td>F</td><td>1987-01-22</td><td>Infosys</td><td>Team lead</td><td>2015-01-21</td><td>Hadoop,PySpark,Kafka</td><td>NULL IN SOURCE</td></tr><tr><td>105</td><td>Chitragandha</td><td>0</td><td>M</td><td>1987-01-22</td><td>CTS</td><td>Developer</td><td>null</td><td>C,C++,Java</td><td>1200000,1400000</td></tr><tr><td>106</td><td>Hritika</td><td>9</td><td>F</td><td>1987-01-22</td><td>Cisco</td><td>Developer</td><td>2016-01-21</td><td>C,C++,Java</td><td>950000,1300000</td></tr><tr><td>107</td><td>Jigyasa</td><td>12</td><td>M</td><td>1987-01-22</td><td>Infosys</td><td>Team Lead</td><td>2005-01-21</td><td>Hadoop,PySpark,Kafka</td><td>200000,2100000</td></tr><tr><td>108</td><td>Kaveri</td><td>4</td><td>F</td><td>1987-01-22</td><td>cisco</td><td>R&D Engineer</td><td>2015-01-21</td><td>C,PySpark,Azure,AWS</td><td>3050000,2500000</td></tr><tr><td>109</td><td>NULL IN SOURCE</td><td>8</td><td>M</td><td>1987-01-22</td><td>NULL IN SOURCE</td><td>Developer</td><td>2008-01-21</td><td>C,C++,Java</td><td>1050000,1100000</td></tr><tr><td>110</td><td>Vin</td><td>0</td><td>T</td><td>1987-01-22</td><td>CTS</td><td>Team Lead</td><td>2020-01-21</td><td>Hadoop,PySpark,Kafka,Kafka</td><td>1550000,1400000</td></tr></tbody></table></div>"
      ]
     },
     "metadata": {
      "application/vnd.databricks.v1+output": {
       "addedWidgets": {},
       "aggData": [],
       "aggError": "",
       "aggOverflow": false,
       "aggSchema": [],
       "aggSeriesLimitReached": false,
       "aggType": "",
       "arguments": {},
       "columnCustomDisplayInfos": {},
       "data": [
        [
         101,
         "Agastya",
         1,
         "M",
         "1987-01-22",
         "Infosys",
         "Developer",
         "2015-01-21",
         "Hadoop,PySpark,Azure",
         "1950000,1600000"
        ],
        [
         102,
         "Acyuta",
         2,
         "F",
         "1987-03-29",
         "TCS",
         "Team Lead",
         "2016-01-21",
         "C,C++,Java",
         "1150000,1500000"
        ],
        [
         103,
         "Anuvrata",
         1,
         "M",
         "1987-01-22",
         "Infosys",
         "Developer",
         "2017-01-21",
         "Java,Python,Hadoop",
         "1250000,1300000"
        ],
        [
         -1,
         "Bhavika",
         6,
         "F",
         "1987-01-22",
         "Infosys",
         "Team lead",
         "2015-01-21",
         "Hadoop,PySpark,Kafka",
         "NULL IN SOURCE"
        ],
        [
         105,
         "Chitragandha",
         0,
         "M",
         "1987-01-22",
         "CTS",
         "Developer",
         null,
         "C,C++,Java",
         "1200000,1400000"
        ],
        [
         106,
         "Hritika",
         9,
         "F",
         "1987-01-22",
         "Cisco",
         "Developer",
         "2016-01-21",
         "C,C++,Java",
         "950000,1300000"
        ],
        [
         107,
         "Jigyasa",
         12,
         "M",
         "1987-01-22",
         "Infosys",
         "Team Lead",
         "2005-01-21",
         "Hadoop,PySpark,Kafka",
         "200000,2100000"
        ],
        [
         108,
         "Kaveri",
         4,
         "F",
         "1987-01-22",
         "cisco",
         "R&D Engineer",
         "2015-01-21",
         "C,PySpark,Azure,AWS",
         "3050000,2500000"
        ],
        [
         109,
         "NULL IN SOURCE",
         8,
         "M",
         "1987-01-22",
         "NULL IN SOURCE",
         "Developer",
         "2008-01-21",
         "C,C++,Java",
         "1050000,1100000"
        ],
        [
         110,
         "Vin",
         0,
         "T",
         "1987-01-22",
         "CTS",
         "Team Lead",
         "2020-01-21",
         "Hadoop,PySpark,Kafka,Kafka",
         "1550000,1400000"
        ]
       ],
       "datasetInfos": [],
       "dbfsResultPath": null,
       "isJsonSchema": true,
       "metadata": {},
       "overflow": false,
       "plotOptions": {
        "customPlotOptions": {},
        "displayType": "table",
        "pivotAggregation": null,
        "pivotColumns": null,
        "xColumns": null,
        "yColumns": null
       },
       "removedWidgets": [],
       "schema": [
        {
         "metadata": "{}",
         "name": "col_id",
         "type": "\"integer\""
        },
        {
         "metadata": "{}",
         "name": "col_name",
         "type": "\"string\""
        },
        {
         "metadata": "{}",
         "name": "col_exp",
         "type": "\"integer\""
        },
        {
         "metadata": "{}",
         "name": "col_gen",
         "type": "\"string\""
        },
        {
         "metadata": "{\"__detected_date_formats\":\"yyyy-M-d\"}",
         "name": "col_dob",
         "type": "\"date\""
        },
        {
         "metadata": "{}",
         "name": "col_company",
         "type": "\"string\""
        },
        {
         "metadata": "{}",
         "name": "col_desig",
         "type": "\"string\""
        },
        {
         "metadata": "{\"__detected_date_formats\":\"d-M-yyyy\"}",
         "name": "col_doj",
         "type": "\"date\""
        },
        {
         "metadata": "{}",
         "name": "col_skills",
         "type": "\"string\""
        },
        {
         "metadata": "{}",
         "name": "col_previous_expected_salary",
         "type": "\"string\""
        }
       ],
       "type": "table"
      }
     },
     "output_type": "display_data"
    }
   ],
   "source": [
    "employee_df.na.fill(\"NULL IN SOURCE\").na.fill(-1,subset=[\"col_id\"]).na.fill(0,subset=[\"col_exp\"]).display()"
   ]
  },
  {
   "cell_type": "code",
   "execution_count": 0,
   "metadata": {
    "application/vnd.databricks.v1+cell": {
     "cellMetadata": {
      "byteLimit": 2048000,
      "rowLimit": 10000
     },
     "inputWidgets": {},
     "nuid": "8783cdab-0413-4b66-883e-1667d58b8068",
     "showTitle": false,
     "tableResultSettingsMap": {},
     "title": ""
    }
   },
   "outputs": [
    {
     "output_type": "stream",
     "name": "stdout",
     "output_type": "stream",
     "text": [
      "root\n |-- col_id: integer (nullable = true)\n |-- col_name: string (nullable = true)\n |-- col_exp: integer (nullable = true)\n |-- col_gen: string (nullable = true)\n |-- col_dob: date (nullable = true)\n |-- col_company: string (nullable = true)\n |-- col_desig: string (nullable = true)\n |-- col_doj: date (nullable = true)\n |-- col_skills: string (nullable = true)\n |-- col_previous_expected_salary: string (nullable = true)\n\n"
     ]
    }
   ],
   "source": [
    "employee_df.printSchema()"
   ]
  },
  {
   "cell_type": "code",
   "execution_count": 0,
   "metadata": {
    "application/vnd.databricks.v1+cell": {
     "cellMetadata": {
      "byteLimit": 2048000,
      "rowLimit": 10000
     },
     "inputWidgets": {},
     "nuid": "2dc25cad-ddf6-4759-a4af-2bb937fdb0b0",
     "showTitle": false,
     "tableResultSettingsMap": {},
     "title": ""
    }
   },
   "outputs": [
    {
     "output_type": "stream",
     "name": "stdout",
     "output_type": "stream",
     "text": [
      "Out[65]: ['col_id',\n 'col_name',\n 'col_exp',\n 'col_gen',\n 'col_dob',\n 'col_company',\n 'col_desig',\n 'col_doj',\n 'col_skills',\n 'col_previous_expected_salary']"
     ]
    }
   ],
   "source": [
    "employee_df.columns"
   ]
  },
  {
   "cell_type": "code",
   "execution_count": 0,
   "metadata": {
    "application/vnd.databricks.v1+cell": {
     "cellMetadata": {},
     "inputWidgets": {},
     "nuid": "405be1f6-2ada-4610-86b2-b414a8427388",
     "showTitle": false,
     "tableResultSettingsMap": {},
     "title": ""
    }
   },
   "outputs": [],
   "source": [
    "employee_df.filter(col(\"col_id\").is)"
   ]
  },
  {
   "cell_type": "code",
   "execution_count": 0,
   "metadata": {
    "application/vnd.databricks.v1+cell": {
     "cellMetadata": {
      "byteLimit": 2048000,
      "rowLimit": 10000
     },
     "inputWidgets": {},
     "nuid": "2c49d342-5c89-4f9a-84fb-fd36acebcaa1",
     "showTitle": false,
     "tableResultSettingsMap": {},
     "title": ""
    }
   },
   "outputs": [
    {
     "output_type": "display_data",
     "data": {
      "text/html": [
       "<style scoped>\n",
       "  .table-result-container {\n",
       "    max-height: 300px;\n",
       "    overflow: auto;\n",
       "  }\n",
       "  table, th, td {\n",
       "    border: 1px solid black;\n",
       "    border-collapse: collapse;\n",
       "  }\n",
       "  th, td {\n",
       "    padding: 5px;\n",
       "  }\n",
       "  th {\n",
       "    text-align: left;\n",
       "  }\n",
       "</style><div class='table-result-container'><table class='table-result'><thead style='background-color: white'><tr><th>col_id</th><th>col_name</th><th>col_exp</th><th>col_gen</th><th>col_dob</th><th>col_company</th><th>col_desig</th><th>col_doj</th><th>col_skills</th><th>col_previous_expected_salary</th></tr></thead><tbody><tr><td>101</td><td>Agastya</td><td>1</td><td>M</td><td>1987-01-22</td><td>Infosys</td><td>Developer</td><td>2015-01-21</td><td>Hadoop,PySpark,Azure</td><td>1950000,1600000</td></tr><tr><td>102</td><td>Acyuta</td><td>2</td><td>F</td><td>1987-03-29</td><td>TCS</td><td>Team Lead</td><td>2016-01-21</td><td>C,C++,Java</td><td>1150000,1500000</td></tr><tr><td>103</td><td>Anuvrata</td><td>1</td><td>M</td><td>1987-01-22</td><td>Infosys</td><td>Developer</td><td>2017-01-21</td><td>Java,Python,Hadoop</td><td>1250000,1300000</td></tr><tr><td>105</td><td>Chitragandha</td><td>null</td><td>M</td><td>1987-01-22</td><td>CTS</td><td>Developer</td><td>null</td><td>C,C++,Java</td><td>1200000,1400000</td></tr><tr><td>106</td><td>Hritika</td><td>9</td><td>F</td><td>1987-01-22</td><td>Cisco</td><td>Developer</td><td>2016-01-21</td><td>C,C++,Java</td><td>950000,1300000</td></tr><tr><td>107</td><td>Jigyasa</td><td>12</td><td>M</td><td>1987-01-22</td><td>Infosys</td><td>Team Lead</td><td>2005-01-21</td><td>Hadoop,PySpark,Kafka</td><td>200000,2100000</td></tr><tr><td>108</td><td>Kaveri</td><td>4</td><td>F</td><td>1987-01-22</td><td>cisco</td><td>R&D Engineer</td><td>2015-01-21</td><td>C,PySpark,Azure,AWS</td><td>3050000,2500000</td></tr><tr><td>109</td><td>null</td><td>8</td><td>M</td><td>1987-01-22</td><td>null</td><td>Developer</td><td>2008-01-21</td><td>C,C++,Java</td><td>1050000,1100000</td></tr><tr><td>110</td><td>Vin</td><td>null</td><td>T</td><td>1987-01-22</td><td>CTS</td><td>Team Lead</td><td>2020-01-21</td><td>Hadoop,PySpark,Kafka,Kafka</td><td>1550000,1400000</td></tr></tbody></table></div>"
      ]
     },
     "metadata": {
      "application/vnd.databricks.v1+output": {
       "addedWidgets": {},
       "aggData": [],
       "aggError": "",
       "aggOverflow": false,
       "aggSchema": [],
       "aggSeriesLimitReached": false,
       "aggType": "",
       "arguments": {},
       "columnCustomDisplayInfos": {},
       "data": [
        [
         101,
         "Agastya",
         1,
         "M",
         "1987-01-22",
         "Infosys",
         "Developer",
         "2015-01-21",
         "Hadoop,PySpark,Azure",
         "1950000,1600000"
        ],
        [
         102,
         "Acyuta",
         2,
         "F",
         "1987-03-29",
         "TCS",
         "Team Lead",
         "2016-01-21",
         "C,C++,Java",
         "1150000,1500000"
        ],
        [
         103,
         "Anuvrata",
         1,
         "M",
         "1987-01-22",
         "Infosys",
         "Developer",
         "2017-01-21",
         "Java,Python,Hadoop",
         "1250000,1300000"
        ],
        [
         105,
         "Chitragandha",
         null,
         "M",
         "1987-01-22",
         "CTS",
         "Developer",
         null,
         "C,C++,Java",
         "1200000,1400000"
        ],
        [
         106,
         "Hritika",
         9,
         "F",
         "1987-01-22",
         "Cisco",
         "Developer",
         "2016-01-21",
         "C,C++,Java",
         "950000,1300000"
        ],
        [
         107,
         "Jigyasa",
         12,
         "M",
         "1987-01-22",
         "Infosys",
         "Team Lead",
         "2005-01-21",
         "Hadoop,PySpark,Kafka",
         "200000,2100000"
        ],
        [
         108,
         "Kaveri",
         4,
         "F",
         "1987-01-22",
         "cisco",
         "R&D Engineer",
         "2015-01-21",
         "C,PySpark,Azure,AWS",
         "3050000,2500000"
        ],
        [
         109,
         null,
         8,
         "M",
         "1987-01-22",
         null,
         "Developer",
         "2008-01-21",
         "C,C++,Java",
         "1050000,1100000"
        ],
        [
         110,
         "Vin",
         null,
         "T",
         "1987-01-22",
         "CTS",
         "Team Lead",
         "2020-01-21",
         "Hadoop,PySpark,Kafka,Kafka",
         "1550000,1400000"
        ]
       ],
       "datasetInfos": [],
       "dbfsResultPath": null,
       "isJsonSchema": true,
       "metadata": {},
       "overflow": false,
       "plotOptions": {
        "customPlotOptions": {},
        "displayType": "table",
        "pivotAggregation": null,
        "pivotColumns": null,
        "xColumns": null,
        "yColumns": null
       },
       "removedWidgets": [],
       "schema": [
        {
         "metadata": "{}",
         "name": "col_id",
         "type": "\"integer\""
        },
        {
         "metadata": "{}",
         "name": "col_name",
         "type": "\"string\""
        },
        {
         "metadata": "{}",
         "name": "col_exp",
         "type": "\"integer\""
        },
        {
         "metadata": "{}",
         "name": "col_gen",
         "type": "\"string\""
        },
        {
         "metadata": "{\"__detected_date_formats\":\"yyyy-M-d\"}",
         "name": "col_dob",
         "type": "\"date\""
        },
        {
         "metadata": "{}",
         "name": "col_company",
         "type": "\"string\""
        },
        {
         "metadata": "{}",
         "name": "col_desig",
         "type": "\"string\""
        },
        {
         "metadata": "{\"__detected_date_formats\":\"d-M-yyyy\"}",
         "name": "col_doj",
         "type": "\"date\""
        },
        {
         "metadata": "{}",
         "name": "col_skills",
         "type": "\"string\""
        },
        {
         "metadata": "{}",
         "name": "col_previous_expected_salary",
         "type": "\"string\""
        }
       ],
       "type": "table"
      }
     },
     "output_type": "display_data"
    }
   ],
   "source": [
    "filtered_df = employee_df.filter(~(col(\"col_id\").isNull() & col(\"col_previous_expected_salary\").isNull()))\n",
    "filtered_df.display()\n"
   ]
  },
  {
   "cell_type": "code",
   "execution_count": 0,
   "metadata": {
    "application/vnd.databricks.v1+cell": {
     "cellMetadata": {},
     "inputWidgets": {},
     "nuid": "b91fc881-65ff-4273-b0c8-8479b4c5ce8b",
     "showTitle": false,
     "tableResultSettingsMap": {},
     "title": ""
    }
   },
   "outputs": [],
   "source": [
    "employee_df.filter(col(\"col_id\").isNull() & col(\"col_previous_expected_salary\").isNull()).display()"
   ]
  },
  {
   "cell_type": "code",
   "execution_count": 0,
   "metadata": {
    "application/vnd.databricks.v1+cell": {
     "cellMetadata": {
      "byteLimit": 2048000,
      "rowLimit": 10000
     },
     "inputWidgets": {},
     "nuid": "288510d2-0e97-4026-a0e4-c89eab380c1e",
     "showTitle": false,
     "tableResultSettingsMap": {},
     "title": ""
    }
   },
   "outputs": [
    {
     "output_type": "display_data",
     "data": {
      "text/html": [
       "<style scoped>\n",
       "  .table-result-container {\n",
       "    max-height: 300px;\n",
       "    overflow: auto;\n",
       "  }\n",
       "  table, th, td {\n",
       "    border: 1px solid black;\n",
       "    border-collapse: collapse;\n",
       "  }\n",
       "  th, td {\n",
       "    padding: 5px;\n",
       "  }\n",
       "  th {\n",
       "    text-align: left;\n",
       "  }\n",
       "</style><div class='table-result-container'><table class='table-result'><thead style='background-color: white'><tr><th>col_id</th><th>col_name</th><th>col_exp</th><th>col_gen</th><th>col_dob</th><th>col_company</th><th>col_desig</th><th>col_doj</th><th>col_skills</th><th>col_previous_expected_salary</th></tr></thead><tbody><tr><td>101</td><td>Agastya</td><td>1</td><td>M</td><td>1987-01-22</td><td>Infosys</td><td>Developer</td><td>2015-01-21</td><td>Hadoop,PySpark,Azure</td><td>1950000,1600000</td></tr><tr><td>102</td><td>Acyuta</td><td>2</td><td>F</td><td>1987-03-29</td><td>TCS</td><td>Team Lead</td><td>2016-01-21</td><td>C,C++,Java</td><td>1150000,1500000</td></tr><tr><td>103</td><td>Anuvrata</td><td>1</td><td>M</td><td>1987-01-22</td><td>Infosys</td><td>Developer</td><td>2017-01-21</td><td>Java,Python,Hadoop</td><td>1250000,1300000</td></tr><tr><td>null</td><td>Bhavika</td><td>6</td><td>F</td><td>1987-01-22</td><td>Infosys</td><td>Team lead</td><td>2015-01-21</td><td>Hadoop,PySpark,Kafka</td><td>null</td></tr><tr><td>105</td><td>Chitragandha</td><td>null</td><td>M</td><td>1987-01-22</td><td>CTS</td><td>Developer</td><td>null</td><td>C,C++,Java</td><td>1200000,1400000</td></tr><tr><td>106</td><td>Hritika</td><td>9</td><td>F</td><td>1987-01-22</td><td>Cisco</td><td>Developer</td><td>2016-01-21</td><td>C,C++,Java</td><td>950000,1300000</td></tr><tr><td>107</td><td>Jigyasa</td><td>12</td><td>M</td><td>1987-01-22</td><td>Infosys</td><td>Team Lead</td><td>2005-01-21</td><td>Hadoop,PySpark,Kafka</td><td>200000,2100000</td></tr><tr><td>108</td><td>Kaveri</td><td>4</td><td>F</td><td>1987-01-22</td><td>cisco</td><td>R&D Engineer</td><td>2015-01-21</td><td>C,PySpark,Azure,AWS</td><td>3050000,2500000</td></tr><tr><td>109</td><td>null</td><td>8</td><td>M</td><td>1987-01-22</td><td>null</td><td>Developer</td><td>2008-01-21</td><td>C,C++,Java</td><td>1050000,1100000</td></tr><tr><td>110</td><td>Vin</td><td>null</td><td>T</td><td>1987-01-22</td><td>CTS</td><td>Team Lead</td><td>2020-01-21</td><td>Hadoop,PySpark,Kafka,Kafka</td><td>1550000,1400000</td></tr><tr><td>null</td><td>null</td><td>null</td><td>null</td><td>null</td><td>null</td><td>null</td><td>null</td><td>null</td><td>null</td></tr></tbody></table></div>"
      ]
     },
     "metadata": {
      "application/vnd.databricks.v1+output": {
       "addedWidgets": {},
       "aggData": [],
       "aggError": "",
       "aggOverflow": false,
       "aggSchema": [],
       "aggSeriesLimitReached": false,
       "aggType": "",
       "arguments": {},
       "columnCustomDisplayInfos": {},
       "data": [
        [
         101,
         "Agastya",
         1,
         "M",
         "1987-01-22",
         "Infosys",
         "Developer",
         "2015-01-21",
         "Hadoop,PySpark,Azure",
         "1950000,1600000"
        ],
        [
         102,
         "Acyuta",
         2,
         "F",
         "1987-03-29",
         "TCS",
         "Team Lead",
         "2016-01-21",
         "C,C++,Java",
         "1150000,1500000"
        ],
        [
         103,
         "Anuvrata",
         1,
         "M",
         "1987-01-22",
         "Infosys",
         "Developer",
         "2017-01-21",
         "Java,Python,Hadoop",
         "1250000,1300000"
        ],
        [
         null,
         "Bhavika",
         6,
         "F",
         "1987-01-22",
         "Infosys",
         "Team lead",
         "2015-01-21",
         "Hadoop,PySpark,Kafka",
         null
        ],
        [
         105,
         "Chitragandha",
         null,
         "M",
         "1987-01-22",
         "CTS",
         "Developer",
         null,
         "C,C++,Java",
         "1200000,1400000"
        ],
        [
         106,
         "Hritika",
         9,
         "F",
         "1987-01-22",
         "Cisco",
         "Developer",
         "2016-01-21",
         "C,C++,Java",
         "950000,1300000"
        ],
        [
         107,
         "Jigyasa",
         12,
         "M",
         "1987-01-22",
         "Infosys",
         "Team Lead",
         "2005-01-21",
         "Hadoop,PySpark,Kafka",
         "200000,2100000"
        ],
        [
         108,
         "Kaveri",
         4,
         "F",
         "1987-01-22",
         "cisco",
         "R&D Engineer",
         "2015-01-21",
         "C,PySpark,Azure,AWS",
         "3050000,2500000"
        ],
        [
         109,
         null,
         8,
         "M",
         "1987-01-22",
         null,
         "Developer",
         "2008-01-21",
         "C,C++,Java",
         "1050000,1100000"
        ],
        [
         110,
         "Vin",
         null,
         "T",
         "1987-01-22",
         "CTS",
         "Team Lead",
         "2020-01-21",
         "Hadoop,PySpark,Kafka,Kafka",
         "1550000,1400000"
        ],
        [
         null,
         null,
         null,
         null,
         null,
         null,
         null,
         null,
         null,
         null
        ]
       ],
       "datasetInfos": [],
       "dbfsResultPath": null,
       "isJsonSchema": true,
       "metadata": {},
       "overflow": false,
       "plotOptions": {
        "customPlotOptions": {},
        "displayType": "table",
        "pivotAggregation": null,
        "pivotColumns": null,
        "xColumns": null,
        "yColumns": null
       },
       "removedWidgets": [],
       "schema": [
        {
         "metadata": "{}",
         "name": "col_id",
         "type": "\"integer\""
        },
        {
         "metadata": "{}",
         "name": "col_name",
         "type": "\"string\""
        },
        {
         "metadata": "{}",
         "name": "col_exp",
         "type": "\"integer\""
        },
        {
         "metadata": "{}",
         "name": "col_gen",
         "type": "\"string\""
        },
        {
         "metadata": "{\"__detected_date_formats\":\"yyyy-M-d\"}",
         "name": "col_dob",
         "type": "\"date\""
        },
        {
         "metadata": "{}",
         "name": "col_company",
         "type": "\"string\""
        },
        {
         "metadata": "{}",
         "name": "col_desig",
         "type": "\"string\""
        },
        {
         "metadata": "{\"__detected_date_formats\":\"d-M-yyyy\"}",
         "name": "col_doj",
         "type": "\"date\""
        },
        {
         "metadata": "{}",
         "name": "col_skills",
         "type": "\"string\""
        },
        {
         "metadata": "{}",
         "name": "col_previous_expected_salary",
         "type": "\"string\""
        }
       ],
       "type": "table"
      }
     },
     "output_type": "display_data"
    }
   ],
   "source": [
    "employee_df.display()"
   ]
  },
  {
   "cell_type": "markdown",
   "metadata": {
    "application/vnd.databricks.v1+cell": {
     "cellMetadata": {},
     "inputWidgets": {},
     "nuid": "9a33fd04-84f1-4fd6-b40c-97bb5c3b26dd",
     "showTitle": false,
     "tableResultSettingsMap": {},
     "title": ""
    }
   },
   "source": [
    "# Working with Complex Types"
   ]
  },
  {
   "cell_type": "code",
   "execution_count": 0,
   "metadata": {
    "application/vnd.databricks.v1+cell": {
     "cellMetadata": {
      "byteLimit": 2048000,
      "rowLimit": 10000
     },
     "inputWidgets": {},
     "nuid": "795a9e08-8f49-4161-b9f5-4df6b36d11e6",
     "showTitle": false,
     "tableResultSettingsMap": {},
     "title": ""
    }
   },
   "outputs": [
    {
     "output_type": "stream",
     "name": "stdout",
     "output_type": "stream",
     "text": [
      "root\n |-- col_id: integer (nullable = true)\n |-- col_name: string (nullable = true)\n |-- col_exp: integer (nullable = true)\n |-- col_gen: string (nullable = true)\n |-- col_dob: date (nullable = true)\n |-- col_company: string (nullable = true)\n |-- col_desig: string (nullable = true)\n |-- col_doj: date (nullable = true)\n |-- col_previous_expected_salary: string (nullable = true)\n |-- col_skills: array (nullable = true)\n |    |-- element: string (containsNull = false)\n\n"
     ]
    }
   ],
   "source": [
    "from pyspark.sql.functions import split\n",
    "\n",
    "result_df = (\n",
    "    employee_df.withColumn(\"col_skills_temp\", split(col(\"col_skills\"), \",\"))\n",
    "    .drop(\"col_skills\")\n",
    "    .withColumnRenamed(\"col_skills_temp\", \"col_skills\")\n",
    ")\n",
    "result_df.printSchema()"
   ]
  },
  {
   "cell_type": "code",
   "execution_count": 0,
   "metadata": {
    "application/vnd.databricks.v1+cell": {
     "cellMetadata": {
      "byteLimit": 2048000,
      "rowLimit": 10000
     },
     "inputWidgets": {},
     "nuid": "58432c7a-da5b-4142-b78b-5e65681f5619",
     "showTitle": false,
     "tableResultSettingsMap": {},
     "title": ""
    }
   },
   "outputs": [
    {
     "output_type": "display_data",
     "data": {
      "text/html": [
       "<style scoped>\n",
       "  .table-result-container {\n",
       "    max-height: 300px;\n",
       "    overflow: auto;\n",
       "  }\n",
       "  table, th, td {\n",
       "    border: 1px solid black;\n",
       "    border-collapse: collapse;\n",
       "  }\n",
       "  th, td {\n",
       "    padding: 5px;\n",
       "  }\n",
       "  th {\n",
       "    text-align: left;\n",
       "  }\n",
       "</style><div class='table-result-container'><table class='table-result'><thead style='background-color: white'><tr><th>col_id</th><th>col_name</th><th>col_exp</th><th>col_gen</th><th>col_dob</th><th>col_company</th><th>col_desig</th><th>col_doj</th><th>col_previous_expected_salary</th><th>col_skills</th></tr></thead><tbody><tr><td>101</td><td>Agastya</td><td>1</td><td>M</td><td>1987-01-22</td><td>Infosys</td><td>Developer</td><td>2015-01-21</td><td>1950000,1600000</td><td>List(Hadoop, PySpark, Azure)</td></tr><tr><td>null</td><td>Bhavika</td><td>6</td><td>F</td><td>1987-01-22</td><td>Infosys</td><td>Team lead</td><td>2015-01-21</td><td>null</td><td>List(Hadoop, PySpark, Kafka)</td></tr><tr><td>107</td><td>Jigyasa</td><td>12</td><td>M</td><td>1987-01-22</td><td>Infosys</td><td>Team Lead</td><td>2005-01-21</td><td>200000,2100000</td><td>List(Hadoop, PySpark, Kafka)</td></tr><tr><td>108</td><td>Kaveri</td><td>4</td><td>F</td><td>1987-01-22</td><td>cisco</td><td>R&D Engineer</td><td>2015-01-21</td><td>3050000,2500000</td><td>List(C, PySpark, Azure, AWS)</td></tr><tr><td>110</td><td>Vin</td><td>null</td><td>T</td><td>1987-01-22</td><td>CTS</td><td>Team Lead</td><td>2020-01-21</td><td>1550000,1400000</td><td>List(Hadoop, PySpark, Kafka, Kafka)</td></tr></tbody></table></div>"
      ]
     },
     "metadata": {
      "application/vnd.databricks.v1+output": {
       "addedWidgets": {},
       "aggData": [],
       "aggError": "",
       "aggOverflow": false,
       "aggSchema": [],
       "aggSeriesLimitReached": false,
       "aggType": "",
       "arguments": {},
       "columnCustomDisplayInfos": {},
       "data": [
        [
         101,
         "Agastya",
         1,
         "M",
         "1987-01-22",
         "Infosys",
         "Developer",
         "2015-01-21",
         "1950000,1600000",
         [
          "Hadoop",
          "PySpark",
          "Azure"
         ]
        ],
        [
         null,
         "Bhavika",
         6,
         "F",
         "1987-01-22",
         "Infosys",
         "Team lead",
         "2015-01-21",
         null,
         [
          "Hadoop",
          "PySpark",
          "Kafka"
         ]
        ],
        [
         107,
         "Jigyasa",
         12,
         "M",
         "1987-01-22",
         "Infosys",
         "Team Lead",
         "2005-01-21",
         "200000,2100000",
         [
          "Hadoop",
          "PySpark",
          "Kafka"
         ]
        ],
        [
         108,
         "Kaveri",
         4,
         "F",
         "1987-01-22",
         "cisco",
         "R&D Engineer",
         "2015-01-21",
         "3050000,2500000",
         [
          "C",
          "PySpark",
          "Azure",
          "AWS"
         ]
        ],
        [
         110,
         "Vin",
         null,
         "T",
         "1987-01-22",
         "CTS",
         "Team Lead",
         "2020-01-21",
         "1550000,1400000",
         [
          "Hadoop",
          "PySpark",
          "Kafka",
          "Kafka"
         ]
        ]
       ],
       "datasetInfos": [],
       "dbfsResultPath": null,
       "isJsonSchema": true,
       "metadata": {},
       "overflow": false,
       "plotOptions": {
        "customPlotOptions": {},
        "displayType": "table",
        "pivotAggregation": null,
        "pivotColumns": null,
        "xColumns": null,
        "yColumns": null
       },
       "removedWidgets": [],
       "schema": [
        {
         "metadata": "{}",
         "name": "col_id",
         "type": "\"integer\""
        },
        {
         "metadata": "{}",
         "name": "col_name",
         "type": "\"string\""
        },
        {
         "metadata": "{}",
         "name": "col_exp",
         "type": "\"integer\""
        },
        {
         "metadata": "{}",
         "name": "col_gen",
         "type": "\"string\""
        },
        {
         "metadata": "{\"__detected_date_formats\":\"yyyy-M-d\"}",
         "name": "col_dob",
         "type": "\"date\""
        },
        {
         "metadata": "{}",
         "name": "col_company",
         "type": "\"string\""
        },
        {
         "metadata": "{}",
         "name": "col_desig",
         "type": "\"string\""
        },
        {
         "metadata": "{\"__detected_date_formats\":\"d-M-yyyy\"}",
         "name": "col_doj",
         "type": "\"date\""
        },
        {
         "metadata": "{}",
         "name": "col_previous_expected_salary",
         "type": "\"string\""
        },
        {
         "metadata": "{}",
         "name": "col_skills",
         "type": "{\"type\":\"array\",\"elementType\":\"string\",\"containsNull\":false}"
        }
       ],
       "type": "table"
      }
     },
     "output_type": "display_data"
    }
   ],
   "source": [
    "from pyspark.sql.functions import array_contains\n",
    "result_df.filter(array_contains(col(\"col_skills\"),\"PySpark\")).display()"
   ]
  },
  {
   "cell_type": "code",
   "execution_count": 0,
   "metadata": {
    "application/vnd.databricks.v1+cell": {
     "cellMetadata": {},
     "inputWidgets": {},
     "nuid": "f7460b12-934f-491c-ba3f-032738f1b99e",
     "showTitle": false,
     "tableResultSettingsMap": {},
     "title": ""
    }
   },
   "outputs": [],
   "source": []
  }
 ],
 "metadata": {
  "application/vnd.databricks.v1+notebook": {
   "dashboards": [],
   "environmentMetadata": null,
   "language": "python",
   "notebookMetadata": {
    "pythonIndentUnit": 4
   },
   "notebookName": "03. Exploring DataFrame API",
   "widgets": {}
  }
 },
 "nbformat": 4,
 "nbformat_minor": 0
}
