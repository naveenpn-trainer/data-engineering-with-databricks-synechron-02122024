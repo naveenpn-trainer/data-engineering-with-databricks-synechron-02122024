{
 "cells": [
  {
   "cell_type": "markdown",
   "metadata": {
    "application/vnd.databricks.v1+cell": {
     "cellMetadata": {},
     "inputWidgets": {},
     "nuid": "db0d97dc-1838-4340-aaf6-77f49fe274b4",
     "showTitle": false,
     "tableResultSettingsMap": {},
     "title": ""
    }
   },
   "source": [
    "# Prerequisites"
   ]
  },
  {
   "cell_type": "markdown",
   "metadata": {
    "application/vnd.databricks.v1+cell": {
     "cellMetadata": {},
     "inputWidgets": {},
     "nuid": "f85e70f7-0a62-4eaf-97b4-0af803e34e9a",
     "showTitle": false,
     "tableResultSettingsMap": {},
     "title": ""
    }
   },
   "source": [
    "## Accessing ADLS using Access keys"
   ]
  },
  {
   "cell_type": "code",
   "execution_count": 0,
   "metadata": {
    "application/vnd.databricks.v1+cell": {
     "cellMetadata": {
      "byteLimit": 2048000,
      "rowLimit": 10000
     },
     "inputWidgets": {},
     "nuid": "9d00d37e-6a33-4bff-8301-a31590a883b7",
     "showTitle": false,
     "tableResultSettingsMap": {},
     "title": ""
    }
   },
   "outputs": [
    {
     "output_type": "display_data",
     "data": {
      "text/html": [
       "<style scoped>\n",
       "  .table-result-container {\n",
       "    max-height: 300px;\n",
       "    overflow: auto;\n",
       "  }\n",
       "  table, th, td {\n",
       "    border: 1px solid black;\n",
       "    border-collapse: collapse;\n",
       "  }\n",
       "  th, td {\n",
       "    padding: 5px;\n",
       "  }\n",
       "  th {\n",
       "    text-align: left;\n",
       "  }\n",
       "</style><div class='table-result-container'><table class='table-result'><thead style='background-color: white'><tr><th>id</th><th>name</th><th>dob</th><th>email</th><th>gender</th><th>country</th><th>region</th><th>city</th><th>asset</th><th>marital_status</th></tr></thead><tbody><tr><td>1</td><td>Heather Gibbs</td><td>2024-10-31</td><td>heathergibbs6243@gmail.com</td><td>Female</td><td>United States</td><td>Virginia</td><td>Virginia Beach</td><td>734388</td><td>Married</td></tr><tr><td>2</td><td>Herrod Petersen</td><td>2024-02-19</td><td>herrodpetersen@yahoomail.com</td><td>Male</td><td>United States</td><td>Arizona</td><td>Phoenix</td><td>113506</td><td>Single</td></tr><tr><td>3</td><td>Ocean Workman</td><td>2024-10-10</td><td>oceanworkman2328@ymail.com</td><td>Male</td><td>United States</td><td>Tennessee</td><td>Clarksville</td><td>139985</td><td>Married</td></tr><tr><td>4</td><td>Xaviera Maxwell</td><td>2025-03-09</td><td>xavieramaxwell@gmail.com</td><td>Transgender</td><td>United States</td><td>Ohio</td><td>Cleveland</td><td>511409</td><td>Married</td></tr></tbody></table></div>"
      ]
     },
     "metadata": {
      "application/vnd.databricks.v1+output": {
       "addedWidgets": {},
       "aggData": [],
       "aggError": "",
       "aggOverflow": false,
       "aggSchema": [],
       "aggSeriesLimitReached": false,
       "aggType": "",
       "arguments": {},
       "columnCustomDisplayInfos": {},
       "data": [
        [
         1,
         "Heather Gibbs",
         "2024-10-31",
         "heathergibbs6243@gmail.com",
         "Female",
         "United States",
         "Virginia",
         "Virginia Beach",
         734388,
         "Married"
        ],
        [
         2,
         "Herrod Petersen",
         "2024-02-19",
         "herrodpetersen@yahoomail.com",
         "Male",
         "United States",
         "Arizona",
         "Phoenix",
         113506,
         "Single"
        ],
        [
         3,
         "Ocean Workman",
         "2024-10-10",
         "oceanworkman2328@ymail.com",
         "Male",
         "United States",
         "Tennessee",
         "Clarksville",
         139985,
         "Married"
        ],
        [
         4,
         "Xaviera Maxwell",
         "2025-03-09",
         "xavieramaxwell@gmail.com",
         "Transgender",
         "United States",
         "Ohio",
         "Cleveland",
         511409,
         "Married"
        ]
       ],
       "datasetInfos": [],
       "dbfsResultPath": null,
       "isJsonSchema": true,
       "metadata": {},
       "overflow": false,
       "plotOptions": {
        "customPlotOptions": {},
        "displayType": "table",
        "pivotAggregation": null,
        "pivotColumns": null,
        "xColumns": null,
        "yColumns": null
       },
       "removedWidgets": [],
       "schema": [
        {
         "metadata": "{}",
         "name": "id",
         "type": "\"integer\""
        },
        {
         "metadata": "{}",
         "name": "name",
         "type": "\"string\""
        },
        {
         "metadata": "{\"__detected_date_formats\":\"yyyy-M-d\"}",
         "name": "dob",
         "type": "\"date\""
        },
        {
         "metadata": "{}",
         "name": "email",
         "type": "\"string\""
        },
        {
         "metadata": "{}",
         "name": "gender",
         "type": "\"string\""
        },
        {
         "metadata": "{}",
         "name": "country",
         "type": "\"string\""
        },
        {
         "metadata": "{}",
         "name": "region",
         "type": "\"string\""
        },
        {
         "metadata": "{}",
         "name": "city",
         "type": "\"string\""
        },
        {
         "metadata": "{}",
         "name": "asset",
         "type": "\"integer\""
        },
        {
         "metadata": "{}",
         "name": "marital_status",
         "type": "\"string\""
        }
       ],
       "type": "table"
      }
     },
     "output_type": "display_data"
    }
   ],
   "source": [
    "storage_account = \"azurestgacctraining\"\n",
    "container = \"users\"\n",
    "users_file_path = \"/raw/*.csv\"\n",
    "storage_account_conf_key = f\"fs.azure.account.key.{storage_account}.dfs.core.windows.net\"\n",
    "storage_account_conf_key_value = \"IYpZg1qsiBaGyKWhbRUByYBNWAxovDP+rac+jqoDik5hFFqo6nwvzD+6xiFntCES4jTUGoOZMRil+ASt4lYSMQ==\"\n",
    "\n",
    "spark.conf.set(storage_account_conf_key,storage_account_conf_key_value)\n",
    "users_ext_location = f\"abfss://{container}@{storage_account}.dfs.core.windows.net/\"\n",
    "spark.read.csv(path=f\"{users_external_location}{users_file_path}\",\n",
    "               header=True, inferSchema=True).limit(4).display()"
   ]
  },
  {
   "cell_type": "markdown",
   "metadata": {
    "application/vnd.databricks.v1+cell": {
     "cellMetadata": {},
     "inputWidgets": {},
     "nuid": "92625480-b890-4b2d-b71c-e045b1f34a69",
     "showTitle": false,
     "tableResultSettingsMap": {},
     "title": ""
    }
   },
   "source": [
    "## External Location Path"
   ]
  },
  {
   "cell_type": "code",
   "execution_count": 0,
   "metadata": {
    "application/vnd.databricks.v1+cell": {
     "cellMetadata": {
      "byteLimit": 2048000,
      "rowLimit": 10000
     },
     "inputWidgets": {},
     "nuid": "3c75a82b-4c82-46b4-a109-a29fa6dca64a",
     "showTitle": false,
     "tableResultSettingsMap": {},
     "title": ""
    }
   },
   "outputs": [
    {
     "output_type": "display_data",
     "data": {
      "text/html": [
       "<style scoped>\n",
       "  .table-result-container {\n",
       "    max-height: 300px;\n",
       "    overflow: auto;\n",
       "  }\n",
       "  table, th, td {\n",
       "    border: 1px solid black;\n",
       "    border-collapse: collapse;\n",
       "  }\n",
       "  th, td {\n",
       "    padding: 5px;\n",
       "  }\n",
       "  th {\n",
       "    text-align: left;\n",
       "  }\n",
       "</style><div class='table-result-container'><table class='table-result'><thead style='background-color: white'><tr><th>id</th><th>name</th><th>dob</th><th>email</th><th>gender</th><th>country</th><th>region</th><th>city</th><th>asset</th><th>marital_status</th></tr></thead><tbody><tr><td>1</td><td>Heather Gibbs</td><td>2024-10-31</td><td>heathergibbs6243@gmail.com</td><td>Female</td><td>United States</td><td>Virginia</td><td>Virginia Beach</td><td>734388</td><td>Married</td></tr><tr><td>2</td><td>Herrod Petersen</td><td>2024-02-19</td><td>herrodpetersen@yahoomail.com</td><td>Male</td><td>United States</td><td>Arizona</td><td>Phoenix</td><td>113506</td><td>Single</td></tr><tr><td>3</td><td>Ocean Workman</td><td>2024-10-10</td><td>oceanworkman2328@ymail.com</td><td>Male</td><td>United States</td><td>Tennessee</td><td>Clarksville</td><td>139985</td><td>Married</td></tr><tr><td>4</td><td>Xaviera Maxwell</td><td>2025-03-09</td><td>xavieramaxwell@gmail.com</td><td>Transgender</td><td>United States</td><td>Ohio</td><td>Cleveland</td><td>511409</td><td>Married</td></tr></tbody></table></div>"
      ]
     },
     "metadata": {
      "application/vnd.databricks.v1+output": {
       "addedWidgets": {},
       "aggData": [],
       "aggError": "",
       "aggOverflow": false,
       "aggSchema": [],
       "aggSeriesLimitReached": false,
       "aggType": "",
       "arguments": {},
       "columnCustomDisplayInfos": {},
       "data": [
        [
         1,
         "Heather Gibbs",
         "2024-10-31",
         "heathergibbs6243@gmail.com",
         "Female",
         "United States",
         "Virginia",
         "Virginia Beach",
         734388,
         "Married"
        ],
        [
         2,
         "Herrod Petersen",
         "2024-02-19",
         "herrodpetersen@yahoomail.com",
         "Male",
         "United States",
         "Arizona",
         "Phoenix",
         113506,
         "Single"
        ],
        [
         3,
         "Ocean Workman",
         "2024-10-10",
         "oceanworkman2328@ymail.com",
         "Male",
         "United States",
         "Tennessee",
         "Clarksville",
         139985,
         "Married"
        ],
        [
         4,
         "Xaviera Maxwell",
         "2025-03-09",
         "xavieramaxwell@gmail.com",
         "Transgender",
         "United States",
         "Ohio",
         "Cleveland",
         511409,
         "Married"
        ]
       ],
       "datasetInfos": [],
       "dbfsResultPath": null,
       "isJsonSchema": true,
       "metadata": {},
       "overflow": false,
       "plotOptions": {
        "customPlotOptions": {},
        "displayType": "table",
        "pivotAggregation": null,
        "pivotColumns": null,
        "xColumns": null,
        "yColumns": null
       },
       "removedWidgets": [],
       "schema": [
        {
         "metadata": "{}",
         "name": "id",
         "type": "\"integer\""
        },
        {
         "metadata": "{}",
         "name": "name",
         "type": "\"string\""
        },
        {
         "metadata": "{\"__detected_date_formats\":\"yyyy-M-d\"}",
         "name": "dob",
         "type": "\"date\""
        },
        {
         "metadata": "{}",
         "name": "email",
         "type": "\"string\""
        },
        {
         "metadata": "{}",
         "name": "gender",
         "type": "\"string\""
        },
        {
         "metadata": "{}",
         "name": "country",
         "type": "\"string\""
        },
        {
         "metadata": "{}",
         "name": "region",
         "type": "\"string\""
        },
        {
         "metadata": "{}",
         "name": "city",
         "type": "\"string\""
        },
        {
         "metadata": "{}",
         "name": "asset",
         "type": "\"integer\""
        },
        {
         "metadata": "{}",
         "name": "marital_status",
         "type": "\"string\""
        }
       ],
       "type": "table"
      }
     },
     "output_type": "display_data"
    }
   ],
   "source": [
    "users_external_location = spark.sql(\"DESCRIBE EXTERNAL LOCATION `users_ext_location`\").select(\"url\").collect()[0][0]\n",
    "spark.read.csv(path=f\"{users_external_location}/raw/*.csv\",\n",
    "               header=True,\n",
    "               inferSchema=True).limit(4).display()"
   ]
  },
  {
   "cell_type": "markdown",
   "metadata": {
    "application/vnd.databricks.v1+cell": {
     "cellMetadata": {},
     "inputWidgets": {},
     "nuid": "9a046dee-1473-4ac2-a0a0-c893e5540ce1",
     "showTitle": false,
     "tableResultSettingsMap": {},
     "title": ""
    }
   },
   "source": [
    "## Create Catalog, Schema and Table"
   ]
  },
  {
   "cell_type": "code",
   "execution_count": 0,
   "metadata": {
    "application/vnd.databricks.v1+cell": {
     "cellMetadata": {
      "byteLimit": 2048000,
      "implicitDf": true,
      "rowLimit": 10000
     },
     "inputWidgets": {},
     "nuid": "7dc97119-6cee-4a70-817c-bc084c984250",
     "showTitle": false,
     "tableResultSettingsMap": {},
     "title": ""
    }
   },
   "outputs": [
    {
     "output_type": "display_data",
     "data": {
      "text/html": [
       "<style scoped>\n",
       "  .table-result-container {\n",
       "    max-height: 300px;\n",
       "    overflow: auto;\n",
       "  }\n",
       "  table, th, td {\n",
       "    border: 1px solid black;\n",
       "    border-collapse: collapse;\n",
       "  }\n",
       "  th, td {\n",
       "    padding: 5px;\n",
       "  }\n",
       "  th {\n",
       "    text-align: left;\n",
       "  }\n",
       "</style><div class='table-result-container'><table class='table-result'><thead style='background-color: white'><tr></tr></thead><tbody></tbody></table></div>"
      ]
     },
     "metadata": {
      "application/vnd.databricks.v1+output": {
       "addedWidgets": {},
       "aggData": [],
       "aggError": "",
       "aggOverflow": false,
       "aggSchema": [],
       "aggSeriesLimitReached": false,
       "aggType": "",
       "arguments": {},
       "columnCustomDisplayInfos": {},
       "data": [],
       "datasetInfos": [],
       "dbfsResultPath": null,
       "isJsonSchema": true,
       "metadata": {
        "dataframeName": null
       },
       "overflow": false,
       "plotOptions": {
        "customPlotOptions": {},
        "displayType": "table",
        "pivotAggregation": null,
        "pivotColumns": null,
        "xColumns": null,
        "yColumns": null
       },
       "removedWidgets": [],
       "schema": [],
       "type": "table"
      }
     },
     "output_type": "display_data"
    }
   ],
   "source": [
    "%sql\n",
    "-- Execute only for Azure Databricks\n",
    "DROP CATALOG IF EXISTS quickstart_catalog CASCADE;\n",
    "CREATE CATALOG IF NOT EXISTS quickstart_catalog;\n",
    "USE CATALOG quickstart_catalog;\n",
    "\n",
    "-- Azure Databricks + Databricks Community Edition\n",
    "CREATE SCHEMA IF NOT EXISTS quickstart_schema;\n",
    "CREATE TABLE quickstart_schema.users (\n",
    "  id INT,\n",
    "  name STRING,\n",
    "  dob DATE,\n",
    "  email STRING,\n",
    "  gender STRING,\n",
    "  country STRING,\n",
    "  region STRING,\n",
    "  city STRING,\n",
    "  asset INT,\n",
    "  marital_status STRING\n",
    ")"
   ]
  },
  {
   "cell_type": "code",
   "execution_count": 0,
   "metadata": {
    "application/vnd.databricks.v1+cell": {
     "cellMetadata": {
      "byteLimit": 2048000,
      "rowLimit": 10000
     },
     "inputWidgets": {},
     "nuid": "01734c25-5688-4735-a566-837eb072c73b",
     "showTitle": false,
     "tableResultSettingsMap": {},
     "title": ""
    }
   },
   "outputs": [
    {
     "output_type": "display_data",
     "data": {
      "text/plain": [
       "\u001B[0;31m---------------------------------------------------------------------------\u001B[0m\n",
       "\u001B[0;31mPySparkValueError\u001B[0m                         Traceback (most recent call last)\n",
       "File \u001B[0;32m<command-899214470609803>, line 1\u001B[0m\n",
       "\u001B[0;32m----> 1\u001B[0m ingest()\n",
       "\n",
       "File \u001B[0;32m<command-899214470609801>, line 17\u001B[0m, in \u001B[0;36mingest\u001B[0;34m()\u001B[0m\n",
       "\u001B[1;32m      1\u001B[0m \u001B[38;5;28;01mdef\u001B[39;00m \u001B[38;5;21mingest\u001B[39m():\n",
       "\u001B[1;32m      2\u001B[0m   source_df \u001B[38;5;241m=\u001B[39m (spark\u001B[38;5;241m.\u001B[39mreadStream\n",
       "\u001B[1;32m      3\u001B[0m                       \u001B[38;5;241m.\u001B[39mformat(\u001B[38;5;124m\"\u001B[39m\u001B[38;5;124mcloudFiles\u001B[39m\u001B[38;5;124m\"\u001B[39m)\n",
       "\u001B[1;32m      4\u001B[0m                       \u001B[38;5;241m.\u001B[39moption(\u001B[38;5;124m\"\u001B[39m\u001B[38;5;124mcloudFiles.format\u001B[39m\u001B[38;5;124m\"\u001B[39m, \u001B[38;5;124m\"\u001B[39m\u001B[38;5;124mcsv\u001B[39m\u001B[38;5;124m\"\u001B[39m)  \n",
       "\u001B[0;32m   (...)\u001B[0m\n",
       "\u001B[1;32m      9\u001B[0m                                             \u001B[38;5;241m.\u001B[39mload(\u001B[38;5;124mf\u001B[39m\u001B[38;5;124m\"\u001B[39m\u001B[38;5;132;01m{\u001B[39;00musers_external_location\u001B[38;5;132;01m}\u001B[39;00m\u001B[38;5;132;01m{\u001B[39;00musers_file_path\u001B[38;5;132;01m}\u001B[39;00m\u001B[38;5;124m\"\u001B[39m)\n",
       "\u001B[1;32m     10\u001B[0m   )\n",
       "\u001B[1;32m     12\u001B[0m   write_query \u001B[38;5;241m=\u001B[39m (source_df\u001B[38;5;241m.\u001B[39mwriteStream\n",
       "\u001B[1;32m     13\u001B[0m                           \u001B[38;5;241m.\u001B[39mformat(\u001B[38;5;124m\"\u001B[39m\u001B[38;5;124mdelta\u001B[39m\u001B[38;5;124m\"\u001B[39m)\n",
       "\u001B[1;32m     14\u001B[0m                           \u001B[38;5;241m.\u001B[39moption(\u001B[38;5;124m\"\u001B[39m\u001B[38;5;124mcheckpointLocation\u001B[39m\u001B[38;5;124m\"\u001B[39m, \u001B[38;5;124mf\u001B[39m\u001B[38;5;124m\"\u001B[39m\u001B[38;5;132;01m{\u001B[39;00musers_ext_location\u001B[38;5;132;01m}\u001B[39;00m\u001B[38;5;124m/chekpoint/\u001B[39m\u001B[38;5;124m\"\u001B[39m)\n",
       "\u001B[1;32m     15\u001B[0m                           \u001B[38;5;241m.\u001B[39moption(\u001B[38;5;124m\"\u001B[39m\u001B[38;5;124mmergeSchema\u001B[39m\u001B[38;5;124m\"\u001B[39m, \u001B[38;5;124m\"\u001B[39m\u001B[38;5;124mtrue\u001B[39m\u001B[38;5;124m\"\u001B[39m)\n",
       "\u001B[1;32m     16\u001B[0m                           \u001B[38;5;241m.\u001B[39moutputMode(\u001B[38;5;124m\"\u001B[39m\u001B[38;5;124mappend\u001B[39m\u001B[38;5;124m\"\u001B[39m)                          \n",
       "\u001B[0;32m---> 17\u001B[0m                           \u001B[38;5;241m.\u001B[39mtrigger()\n",
       "\u001B[1;32m     18\u001B[0m                           \u001B[38;5;241m.\u001B[39mtoTable(\u001B[38;5;124m\"\u001B[39m\u001B[38;5;124mquickstart_schema.users\u001B[39m\u001B[38;5;124m\"\u001B[39m)\n",
       "\u001B[1;32m     19\u001B[0m   )\n",
       "\n",
       "File \u001B[0;32m/databricks/spark/python/pyspark/sql/streaming/readwriter.py:1289\u001B[0m, in \u001B[0;36mDataStreamWriter.trigger\u001B[0;34m(self, processingTime, once, continuous, availableNow)\u001B[0m\n",
       "\u001B[1;32m   1286\u001B[0m params \u001B[38;5;241m=\u001B[39m [processingTime, once, continuous, availableNow]\n",
       "\u001B[1;32m   1288\u001B[0m \u001B[38;5;28;01mif\u001B[39;00m params\u001B[38;5;241m.\u001B[39mcount(\u001B[38;5;28;01mNone\u001B[39;00m) \u001B[38;5;241m==\u001B[39m \u001B[38;5;241m4\u001B[39m:\n",
       "\u001B[0;32m-> 1289\u001B[0m     \u001B[38;5;28;01mraise\u001B[39;00m PySparkValueError(\n",
       "\u001B[1;32m   1290\u001B[0m         error_class\u001B[38;5;241m=\u001B[39m\u001B[38;5;124m\"\u001B[39m\u001B[38;5;124mONLY_ALLOW_SINGLE_TRIGGER\u001B[39m\u001B[38;5;124m\"\u001B[39m,\n",
       "\u001B[1;32m   1291\u001B[0m         message_parameters\u001B[38;5;241m=\u001B[39m{},\n",
       "\u001B[1;32m   1292\u001B[0m     )\n",
       "\u001B[1;32m   1293\u001B[0m \u001B[38;5;28;01melif\u001B[39;00m params\u001B[38;5;241m.\u001B[39mcount(\u001B[38;5;28;01mNone\u001B[39;00m) \u001B[38;5;241m<\u001B[39m \u001B[38;5;241m3\u001B[39m:\n",
       "\u001B[1;32m   1294\u001B[0m     \u001B[38;5;28;01mraise\u001B[39;00m PySparkValueError(\n",
       "\u001B[1;32m   1295\u001B[0m         error_class\u001B[38;5;241m=\u001B[39m\u001B[38;5;124m\"\u001B[39m\u001B[38;5;124mONLY_ALLOW_SINGLE_TRIGGER\u001B[39m\u001B[38;5;124m\"\u001B[39m,\n",
       "\u001B[1;32m   1296\u001B[0m         message_parameters\u001B[38;5;241m=\u001B[39m{},\n",
       "\u001B[1;32m   1297\u001B[0m     )\n",
       "\n",
       "\u001B[0;31mPySparkValueError\u001B[0m: [ONLY_ALLOW_SINGLE_TRIGGER] Only a single trigger is allowed."
      ]
     },
     "metadata": {
      "application/vnd.databricks.v1+output": {
       "addedWidgets": {},
       "arguments": {},
       "datasetInfos": [],
       "jupyterProps": {
        "ename": "PySparkValueError",
        "evalue": "[ONLY_ALLOW_SINGLE_TRIGGER] Only a single trigger is allowed."
       },
       "metadata": {
        "errorSummary": "[ONLY_ALLOW_SINGLE_TRIGGER] Only a single trigger is allowed."
       },
       "removedWidgets": [],
       "sqlProps": {
        "errorClass": "ONLY_ALLOW_SINGLE_TRIGGER",
        "pysparkCallSite": "",
        "pysparkFragment": "",
        "sqlState": null,
        "stackTrace": null,
        "startIndex": null,
        "stopIndex": null
       },
       "stackFrames": [
        "\u001B[0;31m---------------------------------------------------------------------------\u001B[0m",
        "\u001B[0;31mPySparkValueError\u001B[0m                         Traceback (most recent call last)",
        "File \u001B[0;32m<command-899214470609803>, line 1\u001B[0m\n\u001B[0;32m----> 1\u001B[0m ingest()\n",
        "File \u001B[0;32m<command-899214470609801>, line 17\u001B[0m, in \u001B[0;36mingest\u001B[0;34m()\u001B[0m\n\u001B[1;32m      1\u001B[0m \u001B[38;5;28;01mdef\u001B[39;00m \u001B[38;5;21mingest\u001B[39m():\n\u001B[1;32m      2\u001B[0m   source_df \u001B[38;5;241m=\u001B[39m (spark\u001B[38;5;241m.\u001B[39mreadStream\n\u001B[1;32m      3\u001B[0m                       \u001B[38;5;241m.\u001B[39mformat(\u001B[38;5;124m\"\u001B[39m\u001B[38;5;124mcloudFiles\u001B[39m\u001B[38;5;124m\"\u001B[39m)\n\u001B[1;32m      4\u001B[0m                       \u001B[38;5;241m.\u001B[39moption(\u001B[38;5;124m\"\u001B[39m\u001B[38;5;124mcloudFiles.format\u001B[39m\u001B[38;5;124m\"\u001B[39m, \u001B[38;5;124m\"\u001B[39m\u001B[38;5;124mcsv\u001B[39m\u001B[38;5;124m\"\u001B[39m)  \n\u001B[0;32m   (...)\u001B[0m\n\u001B[1;32m      9\u001B[0m                                             \u001B[38;5;241m.\u001B[39mload(\u001B[38;5;124mf\u001B[39m\u001B[38;5;124m\"\u001B[39m\u001B[38;5;132;01m{\u001B[39;00musers_external_location\u001B[38;5;132;01m}\u001B[39;00m\u001B[38;5;132;01m{\u001B[39;00musers_file_path\u001B[38;5;132;01m}\u001B[39;00m\u001B[38;5;124m\"\u001B[39m)\n\u001B[1;32m     10\u001B[0m   )\n\u001B[1;32m     12\u001B[0m   write_query \u001B[38;5;241m=\u001B[39m (source_df\u001B[38;5;241m.\u001B[39mwriteStream\n\u001B[1;32m     13\u001B[0m                           \u001B[38;5;241m.\u001B[39mformat(\u001B[38;5;124m\"\u001B[39m\u001B[38;5;124mdelta\u001B[39m\u001B[38;5;124m\"\u001B[39m)\n\u001B[1;32m     14\u001B[0m                           \u001B[38;5;241m.\u001B[39moption(\u001B[38;5;124m\"\u001B[39m\u001B[38;5;124mcheckpointLocation\u001B[39m\u001B[38;5;124m\"\u001B[39m, \u001B[38;5;124mf\u001B[39m\u001B[38;5;124m\"\u001B[39m\u001B[38;5;132;01m{\u001B[39;00musers_ext_location\u001B[38;5;132;01m}\u001B[39;00m\u001B[38;5;124m/chekpoint/\u001B[39m\u001B[38;5;124m\"\u001B[39m)\n\u001B[1;32m     15\u001B[0m                           \u001B[38;5;241m.\u001B[39moption(\u001B[38;5;124m\"\u001B[39m\u001B[38;5;124mmergeSchema\u001B[39m\u001B[38;5;124m\"\u001B[39m, \u001B[38;5;124m\"\u001B[39m\u001B[38;5;124mtrue\u001B[39m\u001B[38;5;124m\"\u001B[39m)\n\u001B[1;32m     16\u001B[0m                           \u001B[38;5;241m.\u001B[39moutputMode(\u001B[38;5;124m\"\u001B[39m\u001B[38;5;124mappend\u001B[39m\u001B[38;5;124m\"\u001B[39m)                          \n\u001B[0;32m---> 17\u001B[0m                           \u001B[38;5;241m.\u001B[39mtrigger()\n\u001B[1;32m     18\u001B[0m                           \u001B[38;5;241m.\u001B[39mtoTable(\u001B[38;5;124m\"\u001B[39m\u001B[38;5;124mquickstart_schema.users\u001B[39m\u001B[38;5;124m\"\u001B[39m)\n\u001B[1;32m     19\u001B[0m   )\n",
        "File \u001B[0;32m/databricks/spark/python/pyspark/sql/streaming/readwriter.py:1289\u001B[0m, in \u001B[0;36mDataStreamWriter.trigger\u001B[0;34m(self, processingTime, once, continuous, availableNow)\u001B[0m\n\u001B[1;32m   1286\u001B[0m params \u001B[38;5;241m=\u001B[39m [processingTime, once, continuous, availableNow]\n\u001B[1;32m   1288\u001B[0m \u001B[38;5;28;01mif\u001B[39;00m params\u001B[38;5;241m.\u001B[39mcount(\u001B[38;5;28;01mNone\u001B[39;00m) \u001B[38;5;241m==\u001B[39m \u001B[38;5;241m4\u001B[39m:\n\u001B[0;32m-> 1289\u001B[0m     \u001B[38;5;28;01mraise\u001B[39;00m PySparkValueError(\n\u001B[1;32m   1290\u001B[0m         error_class\u001B[38;5;241m=\u001B[39m\u001B[38;5;124m\"\u001B[39m\u001B[38;5;124mONLY_ALLOW_SINGLE_TRIGGER\u001B[39m\u001B[38;5;124m\"\u001B[39m,\n\u001B[1;32m   1291\u001B[0m         message_parameters\u001B[38;5;241m=\u001B[39m{},\n\u001B[1;32m   1292\u001B[0m     )\n\u001B[1;32m   1293\u001B[0m \u001B[38;5;28;01melif\u001B[39;00m params\u001B[38;5;241m.\u001B[39mcount(\u001B[38;5;28;01mNone\u001B[39;00m) \u001B[38;5;241m<\u001B[39m \u001B[38;5;241m3\u001B[39m:\n\u001B[1;32m   1294\u001B[0m     \u001B[38;5;28;01mraise\u001B[39;00m PySparkValueError(\n\u001B[1;32m   1295\u001B[0m         error_class\u001B[38;5;241m=\u001B[39m\u001B[38;5;124m\"\u001B[39m\u001B[38;5;124mONLY_ALLOW_SINGLE_TRIGGER\u001B[39m\u001B[38;5;124m\"\u001B[39m,\n\u001B[1;32m   1296\u001B[0m         message_parameters\u001B[38;5;241m=\u001B[39m{},\n\u001B[1;32m   1297\u001B[0m     )\n",
        "\u001B[0;31mPySparkValueError\u001B[0m: [ONLY_ALLOW_SINGLE_TRIGGER] Only a single trigger is allowed."
       ],
       "type": "baseError"
      }
     },
     "output_type": "display_data"
    }
   ],
   "source": [
    "ingest()"
   ]
  },
  {
   "cell_type": "code",
   "execution_count": 0,
   "metadata": {
    "application/vnd.databricks.v1+cell": {
     "cellMetadata": {
      "byteLimit": 2048000,
      "implicitDf": true,
      "rowLimit": 10000
     },
     "inputWidgets": {},
     "nuid": "554585f7-3851-45a6-b6f9-c82a54b2a48a",
     "showTitle": false,
     "tableResultSettingsMap": {},
     "title": ""
    }
   },
   "outputs": [
    {
     "output_type": "display_data",
     "data": {
      "text/html": [
       "<style scoped>\n",
       "  .table-result-container {\n",
       "    max-height: 300px;\n",
       "    overflow: auto;\n",
       "  }\n",
       "  table, th, td {\n",
       "    border: 1px solid black;\n",
       "    border-collapse: collapse;\n",
       "  }\n",
       "  th, td {\n",
       "    padding: 5px;\n",
       "  }\n",
       "  th {\n",
       "    text-align: left;\n",
       "  }\n",
       "</style><div class='table-result-container'><table class='table-result'><thead style='background-color: white'><tr><th>id</th><th>name</th><th>dob</th><th>email</th><th>gender</th><th>country</th><th>region</th><th>city</th><th>asset</th><th>marital_status</th><th>_rescued_data</th><th>education</th></tr></thead><tbody><tr><td>5501</td><td>Chelsea Mcdowell</td><td>null</td><td>chelseamcdowell@ymail.com</td><td>Transgender</td><td>United States</td><td>Arkansas</td><td>Fort Smith</td><td>140903</td><td>Single</td><td>{\"dob\":\"###\",\"_file_path\":\"abfss://users@azurestgacctraining.dfs.core.windows.net/raw/users_012_datatype_mismatch_dob.csv\"}</td><td>Master's Degree</td></tr></tbody></table></div>"
      ]
     },
     "metadata": {
      "application/vnd.databricks.v1+output": {
       "addedWidgets": {},
       "aggData": [],
       "aggError": "",
       "aggOverflow": false,
       "aggSchema": [],
       "aggSeriesLimitReached": false,
       "aggType": "",
       "arguments": {},
       "columnCustomDisplayInfos": {},
       "data": [
        [
         5501,
         "Chelsea Mcdowell",
         null,
         "chelseamcdowell@ymail.com",
         "Transgender",
         "United States",
         "Arkansas",
         "Fort Smith",
         140903,
         "Single",
         "{\"dob\":\"###\",\"_file_path\":\"abfss://users@azurestgacctraining.dfs.core.windows.net/raw/users_012_datatype_mismatch_dob.csv\"}",
         "Master's Degree"
        ]
       ],
       "datasetInfos": [],
       "dbfsResultPath": null,
       "isJsonSchema": true,
       "metadata": {},
       "overflow": false,
       "plotOptions": {
        "customPlotOptions": {},
        "displayType": "table",
        "pivotAggregation": null,
        "pivotColumns": null,
        "xColumns": null,
        "yColumns": null
       },
       "removedWidgets": [],
       "schema": [
        {
         "metadata": "{}",
         "name": "id",
         "type": "\"integer\""
        },
        {
         "metadata": "{}",
         "name": "name",
         "type": "\"string\""
        },
        {
         "metadata": "{}",
         "name": "dob",
         "type": "\"date\""
        },
        {
         "metadata": "{}",
         "name": "email",
         "type": "\"string\""
        },
        {
         "metadata": "{}",
         "name": "gender",
         "type": "\"string\""
        },
        {
         "metadata": "{}",
         "name": "country",
         "type": "\"string\""
        },
        {
         "metadata": "{}",
         "name": "region",
         "type": "\"string\""
        },
        {
         "metadata": "{}",
         "name": "city",
         "type": "\"string\""
        },
        {
         "metadata": "{}",
         "name": "asset",
         "type": "\"integer\""
        },
        {
         "metadata": "{}",
         "name": "marital_status",
         "type": "\"string\""
        },
        {
         "metadata": "{}",
         "name": "_rescued_data",
         "type": "\"string\""
        },
        {
         "metadata": "{}",
         "name": "education",
         "type": "\"string\""
        }
       ],
       "type": "table"
      }
     },
     "output_type": "display_data"
    }
   ],
   "source": [
    "from pyspark.sql.functions import col\n",
    "spark.read.table(\"quickstart_schema.users\").filter(col(\"id\")>=5501).limit(4).display()"
   ]
  },
  {
   "cell_type": "markdown",
   "metadata": {
    "application/vnd.databricks.v1+cell": {
     "cellMetadata": {},
     "inputWidgets": {},
     "nuid": "4d5df3ed-865a-4a58-a0c9-c759efa70986",
     "showTitle": false,
     "tableResultSettingsMap": {},
     "title": ""
    }
   },
   "source": [
    "# Data Ingestion using Autoloader"
   ]
  },
  {
   "cell_type": "code",
   "execution_count": 0,
   "metadata": {
    "application/vnd.databricks.v1+cell": {
     "cellMetadata": {
      "byteLimit": 2048000,
      "rowLimit": 10000
     },
     "inputWidgets": {},
     "nuid": "21877278-15c5-4966-b48c-8a796f9d16db",
     "showTitle": false,
     "tableResultSettingsMap": {},
     "title": ""
    }
   },
   "outputs": [],
   "source": [
    "def ingest():\n",
    "  source_df = (spark.readStream\n",
    "                      .format(\"cloudFiles\")\n",
    "                      .option(\"cloudFiles.format\", \"csv\")  \n",
    "                      .option(\"header\", \"true\") \n",
    "                      .option(\"timestampFormat\",\"yyyy-MM-dd\")                  \n",
    "                      .option(\"cloudFiles.schemaLocation\", f\"{users_ext_location}/chekpoint/schema\")\n",
    "                      .option(\"cloudFiles.inferColumnTypes\", \"true\")\n",
    "                                            .load(f\"{users_external_location}{users_file_path}\")\n",
    "  )\n",
    "  write_query = (source_df.writeStream\n",
    "                          .format(\"delta\")\n",
    "                          .option(\"checkpointLocation\", f\"{users_ext_location}/chekpoint/\")\n",
    "                          .option(\"mergeSchema\", \"true\")\n",
    "                          .outputMode(\"append\")                          \n",
    "                          .trigger(processingTime = \"10 seconds\")\n",
    "                          .toTable(\"quickstart_schema.users\")\n",
    "  )"
   ]
  },
  {
   "cell_type": "markdown",
   "metadata": {
    "application/vnd.databricks.v1+cell": {
     "cellMetadata": {},
     "inputWidgets": {},
     "nuid": "03450ff8-ed9c-4232-91ca-fef4d6c479c9",
     "showTitle": false,
     "tableResultSettingsMap": {},
     "title": ""
    }
   },
   "source": [
    "## Scenario 01 - Ingesting Data"
   ]
  },
  {
   "cell_type": "code",
   "execution_count": 0,
   "metadata": {
    "application/vnd.databricks.v1+cell": {
     "cellMetadata": {
      "byteLimit": 2048000,
      "rowLimit": 10000
     },
     "inputWidgets": {},
     "nuid": "55c7dd0d-c3e5-49d5-bb69-acf01221383b",
     "showTitle": false,
     "tableResultSettingsMap": {},
     "title": ""
    }
   },
   "outputs": [],
   "source": [
    "ingest()"
   ]
  },
  {
   "cell_type": "markdown",
   "metadata": {
    "application/vnd.databricks.v1+cell": {
     "cellMetadata": {},
     "inputWidgets": {},
     "nuid": "7aea8659-bb3f-431a-9612-f07e78563635",
     "showTitle": false,
     "tableResultSettingsMap": {},
     "title": ""
    }
   },
   "source": [
    "## Read Table"
   ]
  },
  {
   "cell_type": "code",
   "execution_count": 0,
   "metadata": {
    "application/vnd.databricks.v1+cell": {
     "cellMetadata": {
      "byteLimit": 2048000,
      "rowLimit": 10000
     },
     "inputWidgets": {},
     "nuid": "7a849d0c-221d-48e7-9509-7ebec8f1ac30",
     "showTitle": false,
     "tableResultSettingsMap": {},
     "title": ""
    }
   },
   "outputs": [
    {
     "output_type": "display_data",
     "data": {
      "text/html": [
       "<style scoped>\n",
       "  .table-result-container {\n",
       "    max-height: 300px;\n",
       "    overflow: auto;\n",
       "  }\n",
       "  table, th, td {\n",
       "    border: 1px solid black;\n",
       "    border-collapse: collapse;\n",
       "  }\n",
       "  th, td {\n",
       "    padding: 5px;\n",
       "  }\n",
       "  th {\n",
       "    text-align: left;\n",
       "  }\n",
       "</style><div class='table-result-container'><table class='table-result'><thead style='background-color: white'><tr><th>id</th><th>name</th><th>dob</th><th>email</th><th>gender</th><th>country</th><th>region</th><th>city</th><th>asset</th><th>marital_status</th><th>_rescued_data</th><th>education</th></tr></thead><tbody><tr><td>5510</td><td>Chelsea Mcdowell</td><td>null</td><td>chelseamcdowell@ymail.com</td><td>Transgender</td><td>United States</td><td>Arkansas</td><td>Fort Smith</td><td>140903</td><td>Single</td><td>{\"dob\":\"###\",\"_file_path\":\"abfss://users@azurestgacctraining.dfs.core.windows.net/raw/users_013_datatype_mismatch_dob.csv\"}</td><td>Master's Degree</td></tr><tr><td>5511</td><td>Macy Holcomb</td><td>2024-10-20</td><td>macyholcomb@yahoomail.com</td><td>Transgender</td><td>India</td><td>Karnataka</td><td>Bidar</td><td>455582</td><td>Common Law</td><td>null</td><td>Bachelor's Degree</td></tr></tbody></table></div>"
      ]
     },
     "metadata": {
      "application/vnd.databricks.v1+output": {
       "addedWidgets": {},
       "aggData": [],
       "aggError": "",
       "aggOverflow": false,
       "aggSchema": [],
       "aggSeriesLimitReached": false,
       "aggType": "",
       "arguments": {},
       "columnCustomDisplayInfos": {},
       "data": [
        [
         5510,
         "Chelsea Mcdowell",
         null,
         "chelseamcdowell@ymail.com",
         "Transgender",
         "United States",
         "Arkansas",
         "Fort Smith",
         140903,
         "Single",
         "{\"dob\":\"###\",\"_file_path\":\"abfss://users@azurestgacctraining.dfs.core.windows.net/raw/users_013_datatype_mismatch_dob.csv\"}",
         "Master's Degree"
        ],
        [
         5511,
         "Macy Holcomb",
         "2024-10-20",
         "macyholcomb@yahoomail.com",
         "Transgender",
         "India",
         "Karnataka",
         "Bidar",
         455582,
         "Common Law",
         null,
         "Bachelor's Degree"
        ]
       ],
       "datasetInfos": [],
       "dbfsResultPath": null,
       "isJsonSchema": true,
       "metadata": {},
       "overflow": false,
       "plotOptions": {
        "customPlotOptions": {},
        "displayType": "table",
        "pivotAggregation": null,
        "pivotColumns": null,
        "xColumns": null,
        "yColumns": null
       },
       "removedWidgets": [],
       "schema": [
        {
         "metadata": "{}",
         "name": "id",
         "type": "\"integer\""
        },
        {
         "metadata": "{}",
         "name": "name",
         "type": "\"string\""
        },
        {
         "metadata": "{}",
         "name": "dob",
         "type": "\"date\""
        },
        {
         "metadata": "{}",
         "name": "email",
         "type": "\"string\""
        },
        {
         "metadata": "{}",
         "name": "gender",
         "type": "\"string\""
        },
        {
         "metadata": "{}",
         "name": "country",
         "type": "\"string\""
        },
        {
         "metadata": "{}",
         "name": "region",
         "type": "\"string\""
        },
        {
         "metadata": "{}",
         "name": "city",
         "type": "\"string\""
        },
        {
         "metadata": "{}",
         "name": "asset",
         "type": "\"integer\""
        },
        {
         "metadata": "{}",
         "name": "marital_status",
         "type": "\"string\""
        },
        {
         "metadata": "{}",
         "name": "_rescued_data",
         "type": "\"string\""
        },
        {
         "metadata": "{}",
         "name": "education",
         "type": "\"string\""
        }
       ],
       "type": "table"
      }
     },
     "output_type": "display_data"
    }
   ],
   "source": [
    "from pyspark.sql.functions import col\n",
    "spark.read.table(\"quickstart_schema.users\").filter(col(\"id\")>=5510).limit(4).display()"
   ]
  },
  {
   "cell_type": "code",
   "execution_count": 0,
   "metadata": {
    "application/vnd.databricks.v1+cell": {
     "cellMetadata": {
      "byteLimit": 2048000,
      "implicitDf": true,
      "rowLimit": 10000
     },
     "inputWidgets": {},
     "nuid": "a5757447-ec83-4fb8-8fe9-c73af4eddb03",
     "showTitle": false,
     "tableResultSettingsMap": {},
     "title": ""
    }
   },
   "outputs": [
    {
     "output_type": "display_data",
     "data": {
      "text/html": [
       "<style scoped>\n",
       "  .table-result-container {\n",
       "    max-height: 300px;\n",
       "    overflow: auto;\n",
       "  }\n",
       "  table, th, td {\n",
       "    border: 1px solid black;\n",
       "    border-collapse: collapse;\n",
       "  }\n",
       "  th, td {\n",
       "    padding: 5px;\n",
       "  }\n",
       "  th {\n",
       "    text-align: left;\n",
       "  }\n",
       "</style><div class='table-result-container'><table class='table-result'><thead style='background-color: white'><tr><th>id</th><th>name</th><th>dob</th><th>email</th><th>gender</th><th>country</th><th>region</th><th>city</th><th>asset</th><th>marital_status</th><th>_rescued_data</th><th>education</th></tr></thead><tbody><tr><td>5501</td><td>Chelsea Mcdowell</td><td>null</td><td>chelseamcdowell@ymail.com</td><td>Transgender</td><td>United States</td><td>Arkansas</td><td>Fort Smith</td><td>140903</td><td>Single</td><td>{\"dob\":\"###\",\"_file_path\":\"abfss://users@azurestgacctraining.dfs.core.windows.net/raw/users_013_datatype_mismatch_dob%20(2).csv\"}</td><td>Master's Degree</td></tr><tr><td>5501</td><td>Chelsea Mcdowell</td><td>null</td><td>chelseamcdowell@ymail.com</td><td>Transgender</td><td>United States</td><td>Arkansas</td><td>Fort Smith</td><td>140903</td><td>Single</td><td>{\"dob\":\"###\",\"_file_path\":\"abfss://users@azurestgacctraining.dfs.core.windows.net/raw/users_012_datatype_mismatch_dob.csv\"}</td><td>Master's Degree</td></tr><tr><td>5501</td><td>Chelsea Mcdowell</td><td>null</td><td>chelseamcdowell@ymail.com</td><td>Transgender</td><td>United States</td><td>Arkansas</td><td>Fort Smith</td><td>140903</td><td>Single</td><td>{\"dob\":\"###\",\"_file_path\":\"abfss://users@azurestgacctraining.dfs.core.windows.net/raw/users_012_datatype_mismatch_dob.csv\"}</td><td>Master's Degree</td></tr><tr><td>5510</td><td>Chelsea Mcdowell</td><td>null</td><td>chelseamcdowell@ymail.com</td><td>Transgender</td><td>United States</td><td>Arkansas</td><td>Fort Smith</td><td>140903</td><td>Single</td><td>{\"dob\":\"###\",\"_file_path\":\"abfss://users@azurestgacctraining.dfs.core.windows.net/raw/users_013_datatype_mismatch_dob.csv\"}</td><td>Master's Degree</td></tr></tbody></table></div>"
      ]
     },
     "metadata": {
      "application/vnd.databricks.v1+output": {
       "addedWidgets": {},
       "aggData": [],
       "aggError": "",
       "aggOverflow": false,
       "aggSchema": [],
       "aggSeriesLimitReached": false,
       "aggType": "",
       "arguments": {},
       "columnCustomDisplayInfos": {},
       "data": [
        [
         5501,
         "Chelsea Mcdowell",
         null,
         "chelseamcdowell@ymail.com",
         "Transgender",
         "United States",
         "Arkansas",
         "Fort Smith",
         140903,
         "Single",
         "{\"dob\":\"###\",\"_file_path\":\"abfss://users@azurestgacctraining.dfs.core.windows.net/raw/users_013_datatype_mismatch_dob%20(2).csv\"}",
         "Master's Degree"
        ],
        [
         5501,
         "Chelsea Mcdowell",
         null,
         "chelseamcdowell@ymail.com",
         "Transgender",
         "United States",
         "Arkansas",
         "Fort Smith",
         140903,
         "Single",
         "{\"dob\":\"###\",\"_file_path\":\"abfss://users@azurestgacctraining.dfs.core.windows.net/raw/users_012_datatype_mismatch_dob.csv\"}",
         "Master's Degree"
        ],
        [
         5501,
         "Chelsea Mcdowell",
         null,
         "chelseamcdowell@ymail.com",
         "Transgender",
         "United States",
         "Arkansas",
         "Fort Smith",
         140903,
         "Single",
         "{\"dob\":\"###\",\"_file_path\":\"abfss://users@azurestgacctraining.dfs.core.windows.net/raw/users_012_datatype_mismatch_dob.csv\"}",
         "Master's Degree"
        ],
        [
         5510,
         "Chelsea Mcdowell",
         null,
         "chelseamcdowell@ymail.com",
         "Transgender",
         "United States",
         "Arkansas",
         "Fort Smith",
         140903,
         "Single",
         "{\"dob\":\"###\",\"_file_path\":\"abfss://users@azurestgacctraining.dfs.core.windows.net/raw/users_013_datatype_mismatch_dob.csv\"}",
         "Master's Degree"
        ]
       ],
       "datasetInfos": [],
       "dbfsResultPath": null,
       "isJsonSchema": true,
       "metadata": {
        "createTempViewForImplicitDf": true,
        "dataframeName": "_sqldf",
        "executionCount": 35
       },
       "overflow": false,
       "plotOptions": {
        "customPlotOptions": {},
        "displayType": "table",
        "pivotAggregation": null,
        "pivotColumns": null,
        "xColumns": null,
        "yColumns": null
       },
       "removedWidgets": [],
       "schema": [
        {
         "metadata": "{}",
         "name": "id",
         "type": "\"integer\""
        },
        {
         "metadata": "{}",
         "name": "name",
         "type": "\"string\""
        },
        {
         "metadata": "{}",
         "name": "dob",
         "type": "\"date\""
        },
        {
         "metadata": "{}",
         "name": "email",
         "type": "\"string\""
        },
        {
         "metadata": "{}",
         "name": "gender",
         "type": "\"string\""
        },
        {
         "metadata": "{}",
         "name": "country",
         "type": "\"string\""
        },
        {
         "metadata": "{}",
         "name": "region",
         "type": "\"string\""
        },
        {
         "metadata": "{}",
         "name": "city",
         "type": "\"string\""
        },
        {
         "metadata": "{}",
         "name": "asset",
         "type": "\"integer\""
        },
        {
         "metadata": "{}",
         "name": "marital_status",
         "type": "\"string\""
        },
        {
         "metadata": "{}",
         "name": "_rescued_data",
         "type": "\"string\""
        },
        {
         "metadata": "{}",
         "name": "education",
         "type": "\"string\""
        }
       ],
       "type": "table"
      }
     },
     "output_type": "display_data"
    }
   ],
   "source": [
    "%sql\n",
    "\n",
    "SELECT * from quickstart_schema.users where _rescued_data is NOT NULL;"
   ]
  },
  {
   "cell_type": "markdown",
   "metadata": {
    "application/vnd.databricks.v1+cell": {
     "cellMetadata": {},
     "inputWidgets": {},
     "nuid": "d2d311a1-0b08-4ae1-a95f-d81896454ba7",
     "showTitle": false,
     "tableResultSettingsMap": {},
     "title": ""
    }
   },
   "source": [
    "## Scenario 02 - Ingesting data with additional columns"
   ]
  },
  {
   "cell_type": "code",
   "execution_count": 0,
   "metadata": {
    "application/vnd.databricks.v1+cell": {
     "cellMetadata": {},
     "inputWidgets": {},
     "nuid": "e9c0d007-a94f-4252-90eb-b0d735ac2e4c",
     "showTitle": false,
     "tableResultSettingsMap": {},
     "title": ""
    }
   },
   "outputs": [],
   "source": []
  },
  {
   "cell_type": "markdown",
   "metadata": {
    "application/vnd.databricks.v1+cell": {
     "cellMetadata": {},
     "inputWidgets": {},
     "nuid": "f570b760-2f66-4427-bd94-c9189fbc5a37",
     "showTitle": false,
     "tableResultSettingsMap": {},
     "title": ""
    }
   },
   "source": [
    "## Scenario 03 - Ingseting data with bad records"
   ]
  },
  {
   "cell_type": "code",
   "execution_count": 0,
   "metadata": {
    "application/vnd.databricks.v1+cell": {
     "cellMetadata": {},
     "inputWidgets": {},
     "nuid": "7c8af1fd-21fe-4a07-92e7-d1ecc38a03df",
     "showTitle": false,
     "tableResultSettingsMap": {},
     "title": ""
    }
   },
   "outputs": [],
   "source": []
  }
 ],
 "metadata": {
  "application/vnd.databricks.v1+notebook": {
   "computePreferences": null,
   "dashboards": [],
   "environmentMetadata": {
    "base_environment": "",
    "client": "1"
   },
   "language": "python",
   "notebookMetadata": {
    "mostRecentlyExecutedCommandWithImplicitDF": {
     "commandId": 899214470609823,
     "dataframes": [
      "_sqldf"
     ]
    },
    "pythonIndentUnit": 4
   },
   "notebookName": "12. Data Ingestion using Autloader",
   "widgets": {}
  },
  "language_info": {
   "name": "python"
  }
 },
 "nbformat": 4,
 "nbformat_minor": 0
}